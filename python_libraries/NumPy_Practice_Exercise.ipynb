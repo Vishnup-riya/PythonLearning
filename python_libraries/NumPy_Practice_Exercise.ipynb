{
 "cells": [
  {
   "cell_type": "markdown",
   "id": "59992066-b3ca-43a0-8979-87e02ac33197",
   "metadata": {},
   "source": [
    "Demonstrating how to create arrays in NumPy using the following functions:"
   ]
  },
  {
   "cell_type": "code",
   "execution_count": 5,
   "id": "8d857402-6cbb-4c7a-a944-c1e237f5b2fc",
   "metadata": {},
   "outputs": [
    {
     "name": "stdout",
     "output_type": "stream",
     "text": [
      "[1 3 5 7 2]\n",
      "------------------------------\n",
      "[[23 45 65 64]\n",
      " [28 45 87 56]]\n",
      "------------------------------\n",
      "[[2 3 5 6]\n",
      " [5 9 0 4]\n",
      " [5 8 7 4]\n",
      " [7 4 8 5]]\n"
     ]
    }
   ],
   "source": [
    "##importing numpy\n",
    "import numpy as np\n",
    "\n",
    "##`array()`\n",
    "array = np.array([1,3,5,7,2])\n",
    "print(array)\n",
    "\n",
    "print(\"-\" * 30)\n",
    "\n",
    "arr = np.array([[23,45,65,64],[28,45,87,56]])\n",
    "print(arr)\n",
    "\n",
    "print(\"-\" * 30)\n",
    "\n",
    "A = np.array([[2,3,5,6],[5,9,0,4],[5,8,7,4],[7,4,8,5]])\n",
    "print(A)"
   ]
  },
  {
   "cell_type": "code",
   "execution_count": 7,
   "id": "b5e5dc1a-fa94-46f3-9352-38c61d6f4977",
   "metadata": {},
   "outputs": [
    {
     "name": "stdout",
     "output_type": "stream",
     "text": [
      "[ 7  9 11 13]\n",
      "[ 1  6 11 16 21]\n"
     ]
    }
   ],
   "source": [
    "##`arange()` -It creates an array with evenly spaced values within a given range.\n",
    "\n",
    "print(np.arange(7,14,2))      ##[\"start\" = 7 , \"end\" =14 , \"step\" = 2]\n",
    "print(np.arange(1,25,5)) "
   ]
  },
  {
   "cell_type": "code",
   "execution_count": 11,
   "id": "546ace69-e365-4b09-ae35-5162eabf23da",
   "metadata": {},
   "outputs": [
    {
     "name": "stdout",
     "output_type": "stream",
     "text": [
      "[[0. 0. 0.]\n",
      " [0. 0. 0.]]\n",
      "------------------------------\n",
      "[[0 0 0 0 0]\n",
      " [0 0 0 0 0]\n",
      " [0 0 0 0 0]]\n",
      "------------------------------\n",
      "[[0. 0. 0.]\n",
      " [0. 0. 0.]\n",
      " [0. 0. 0.]\n",
      " [0. 0. 0.]]\n"
     ]
    }
   ],
   "source": [
    "##`zeros()`\n",
    "a = np.zeros([2,3])\n",
    "print(a)\n",
    "\n",
    "print(\"-\" * 30)\n",
    "\n",
    "b = np.zeros([3,5] , dtype = \"int32\")\n",
    "print(b) \n",
    "\n",
    "print(\"-\" * 30)\n",
    "\n",
    "c = np.zeros([4,3] , dtype = \"float64\")\n",
    "print(c)"
   ]
  },
  {
   "cell_type": "code",
   "execution_count": 12,
   "id": "47467655-730f-4ab0-9a47-443b6447d198",
   "metadata": {},
   "outputs": [
    {
     "name": "stdout",
     "output_type": "stream",
     "text": [
      "[[1. 1. 1.]\n",
      " [1. 1. 1.]]\n",
      "------------------------------\n",
      "[[1 1 1 1 1]\n",
      " [1 1 1 1 1]\n",
      " [1 1 1 1 1]]\n",
      "------------------------------\n",
      "[[1. 1. 1.]\n",
      " [1. 1. 1.]\n",
      " [1. 1. 1.]\n",
      " [1. 1. 1.]]\n"
     ]
    }
   ],
   "source": [
    "##`ones()`\n",
    "a = np.ones([2,3])\n",
    "print(a)\n",
    "\n",
    "print(\"-\" * 30)\n",
    "\n",
    "b = np.ones([3,5] , dtype = \"int32\")\n",
    "print(b) \n",
    "\n",
    "print(\"-\" * 30)\n",
    "\n",
    "c = np.ones([4,3] , dtype = \"float64\")\n",
    "print(c)"
   ]
  },
  {
   "cell_type": "code",
   "execution_count": 13,
   "id": "abcd7b4a-ad48-4ac3-850c-7737ceda2048",
   "metadata": {},
   "outputs": [
    {
     "name": "stdout",
     "output_type": "stream",
     "text": [
      "[[99 99 99]\n",
      " [99 99 99]]\n",
      "[[240 240 240 240 240]\n",
      " [240 240 240 240 240]\n",
      " [240 240 240 240 240]]\n"
     ]
    }
   ],
   "source": [
    "##`full()`\n",
    "a = np.full([2,3] ,99)\n",
    "print(a)\n",
    "\n",
    "b = np.full((3,5) ,240)\n",
    "print(b)"
   ]
  },
  {
   "cell_type": "code",
   "execution_count": 15,
   "id": "cbf940bf-4c20-403c-96c7-1116da6a8963",
   "metadata": {},
   "outputs": [
    {
     "name": "stdout",
     "output_type": "stream",
     "text": [
      "[[1. 0. 0.]\n",
      " [0. 1. 0.]\n",
      " [0. 0. 1.]]\n",
      "[[1. 0. 0.]\n",
      " [0. 1. 0.]\n",
      " [0. 0. 1.]]\n"
     ]
    }
   ],
   "source": [
    "##`eye()` - creates an identity matrix.\n",
    "c = np.eye(3)\n",
    "print(c)\n",
    "\n",
    "b = np.identity(3)\n",
    "print(b)"
   ]
  },
  {
   "cell_type": "code",
   "execution_count": 24,
   "id": "a48d2a49-60b2-4c39-8f64-0f1c12195aab",
   "metadata": {},
   "outputs": [
    {
     "name": "stdout",
     "output_type": "stream",
     "text": [
      "[[0.29973454 0.06491955 0.91002437 0.64891868]\n",
      " [0.28455946 0.71788705 0.81280023 0.19427567]\n",
      " [0.68616868 0.73067693 0.75409408 0.75860999]]\n",
      "[[3 5 5 6]\n",
      " [4 1 3 1]\n",
      " [4 6 6 2]]\n"
     ]
    }
   ],
   "source": [
    "##`random()`\n",
    "a = np.random.rand(3,4)   ## 3 x 4 matrix\n",
    "print(a)\n",
    "\n",
    "a = np.random.randint(1,7, size = (3,4))   ##number between 1 and 7 ,  3 x 4 matrix\n",
    "print(a)"
   ]
  },
  {
   "cell_type": "code",
   "execution_count": 26,
   "id": "08c86efa-ad3b-4acc-ba02-394051ba47f4",
   "metadata": {},
   "outputs": [
    {
     "name": "stdout",
     "output_type": "stream",
     "text": [
      "[2.         2.33333333 2.66666667 3.         3.33333333 3.66666667\n",
      " 4.         4.33333333 4.66666667 5.        ]\n",
      "[2. 5.]\n"
     ]
    }
   ],
   "source": [
    "##`linspace()` - create an array of evenly spaced numbers over a specified interval.\n",
    "b = np.linspace(2, 5, 10)  ##(starting value of the sequence, end value of the sequence,number of samples)\n",
    "print(b)\n",
    "\n",
    "b = np.linspace(2, 5, 2)  ##(starting value of the sequence, end value of the sequence,number of samples)\n",
    "print(b)"
   ]
  },
  {
   "cell_type": "markdown",
   "id": "bc0e5948-728c-43d8-b522-2d4f3f14738c",
   "metadata": {},
   "source": [
    "#### How to retrieve various attributes of NumPy arrays"
   ]
  },
  {
   "cell_type": "code",
   "execution_count": 31,
   "id": "b2fdbeb7-440d-4284-9d91-7a5662aeb0d7",
   "metadata": {},
   "outputs": [
    {
     "name": "stdout",
     "output_type": "stream",
     "text": [
      "[[3 3 3]\n",
      " [3 2 6]\n",
      " [6 2 1]]\n"
     ]
    }
   ],
   "source": [
    "a = np.random.randint(1,7, size = (3,3))  \n",
    "print(a)"
   ]
  },
  {
   "cell_type": "code",
   "execution_count": 37,
   "id": "3f644a72-46f2-4db6-8d3e-6cb96f226c24",
   "metadata": {},
   "outputs": [
    {
     "name": "stdout",
     "output_type": "stream",
     "text": [
      "Number of dimensions 2\n",
      "Shape of array (3, 3)\n",
      "Total count of elements 9\n",
      "Data type of elemts int32\n",
      "Memory size of elements 4\n",
      "Memory buffer of the data <memory at 0x0000020C8FFA5560>\n"
     ]
    }
   ],
   "source": [
    "##The number of dimensions\n",
    "print(f\"Number of dimensions {np.ndim(a)}\")\n",
    "a.ndim\n",
    "\n",
    "##The shape of the array \n",
    "print(f\"Shape of array {a.shape}\")\n",
    "\n",
    "##The total count of elements\n",
    "print(f\"Total count of elements {a.size}\")\n",
    "\n",
    "##The data type of the elements\n",
    "print(f\"Data type of elemts {a.dtype}\")\n",
    "\n",
    "##The memory size of each element\n",
    "print(f\"Memory size of elements {a.itemsize}\")\n",
    "\n",
    "##The raw data buffer - The underlying block of memory where all the array’s data values are stored, before any formatting is applied.\n",
    "print(f\"Memory buffer of the data {a.data}\")"
   ]
  },
  {
   "cell_type": "markdown",
   "id": "54d553a2-6b4e-492a-99c5-5817edf12c3d",
   "metadata": {},
   "source": [
    "#### How to access and modify specific elements within a NumPy array"
   ]
  },
  {
   "cell_type": "code",
   "execution_count": 39,
   "id": "f1880563-d0f1-4ed2-b2be-fdc69a93715c",
   "metadata": {},
   "outputs": [
    {
     "name": "stdout",
     "output_type": "stream",
     "text": [
      "[[ 3  5  4  7  8]\n",
      " [ 2  1  9  0 12]\n",
      " [24 36 48 54 60]]\n"
     ]
    }
   ],
   "source": [
    "A = np.array([[3,5,4,7,8],[2,1,9,0,12],[24,36,48,54,60]])\n",
    "print(A)"
   ]
  },
  {
   "cell_type": "code",
   "execution_count": 44,
   "id": "5248616a-663b-4633-8801-c8009226d1fb",
   "metadata": {},
   "outputs": [
    {
     "name": "stdout",
     "output_type": "stream",
     "text": [
      "0\n",
      "24\n",
      "[[  3   5 200   7   8]\n",
      " [  2   1   9   0  12]\n",
      " [ 24  36  48  54  60]]\n"
     ]
    }
   ],
   "source": [
    "##Access element value 0 from A\n",
    "print(A[1,3])\n",
    "\n",
    "##Access element value 24 from A\n",
    "print(A[2,0])\n",
    "\n",
    "##Modify 1st row third element(which is 4) as 200\n",
    "A[0,2] = 200\n",
    "print(A)"
   ]
  },
  {
   "cell_type": "markdown",
   "id": "1cb3416c-fd03-4f84-a87a-ae05f456c6c5",
   "metadata": {},
   "source": [
    "#### Slice arrays to extract subarrays from a larger array , demonstrate how these subarrays can be modified."
   ]
  },
  {
   "cell_type": "code",
   "execution_count": 45,
   "id": "b96305a8-ccab-458b-809b-358d0a6b6902",
   "metadata": {},
   "outputs": [
    {
     "name": "stdout",
     "output_type": "stream",
     "text": [
      "[[22 44 51 34 46]\n",
      " [23 45 56 25 46]\n",
      " [35 37 69 44 69]\n",
      " [46 54 28 34 34]\n",
      " [35 37 56 25 69]]\n"
     ]
    }
   ],
   "source": [
    "A = np.array([[22,44,51,34,46],\n",
    "              [23,45,56,25,46],\n",
    "              [35,37,69,44,69],\n",
    "              [46,54,28,34,34],\n",
    "              [35,37,56,25,69]])\n",
    "print(A)"
   ]
  },
  {
   "cell_type": "code",
   "execution_count": 48,
   "id": "44cad2a2-1c15-4446-981e-983ec815647d",
   "metadata": {},
   "outputs": [
    {
     "name": "stdout",
     "output_type": "stream",
     "text": [
      "[[45 56 25]\n",
      " [37 69 44]]\n"
     ]
    },
    {
     "data": {
      "text/plain": [
       "array([[45, 34, 25],\n",
       "       [37, 69, 44]])"
      ]
     },
     "execution_count": 48,
     "metadata": {},
     "output_type": "execute_result"
    }
   ],
   "source": [
    "##Slicing to get the subarray\n",
    "B = A[1:3 , 1:4]  ##take 2nd row and 3rd row (1:3) , then from columns 2nd column to 4th column (1:4)\n",
    "print(B)\n",
    "\n",
    "##Modifying the subarrays - change 56 to 34\n",
    "B[0,1] = 34\n",
    "B"
   ]
  },
  {
   "cell_type": "markdown",
   "id": "6e390fa9-67c0-4d01-a8be-3851bbc4211e",
   "metadata": {},
   "source": [
    "#### Demonstrate how to alter the structure of an array using the `reshape()` function."
   ]
  },
  {
   "cell_type": "code",
   "execution_count": 4,
   "id": "3d0beb99-49ef-4837-9153-c336ecd907bb",
   "metadata": {},
   "outputs": [
    {
     "name": "stdout",
     "output_type": "stream",
     "text": [
      "[[0.75518535 0.54139115 0.59767377]\n",
      " [0.56239075 0.9197612  0.18425429]\n",
      " [0.48505349 0.45815779 0.30906186]\n",
      " [0.13544653 0.86325011 0.85775437]]\n"
     ]
    }
   ],
   "source": [
    "before = np.random.rand(4,3)\n",
    "print(before)"
   ]
  },
  {
   "cell_type": "code",
   "execution_count": 7,
   "id": "1d927428-688a-4198-b00a-38a5fa282a0b",
   "metadata": {},
   "outputs": [
    {
     "name": "stdout",
     "output_type": "stream",
     "text": [
      "[[0.75518535 0.54139115 0.59767377 0.56239075 0.9197612  0.18425429]\n",
      " [0.48505349 0.45815779 0.30906186 0.13544653 0.86325011 0.85775437]]\n",
      "[[0.75518535 0.54139115 0.59767377 0.56239075]\n",
      " [0.9197612  0.18425429 0.48505349 0.45815779]\n",
      " [0.30906186 0.13544653 0.86325011 0.85775437]]\n",
      "[[0.75518535 0.54139115]\n",
      " [0.59767377 0.56239075]\n",
      " [0.9197612  0.18425429]\n",
      " [0.48505349 0.45815779]\n",
      " [0.30906186 0.13544653]\n",
      " [0.86325011 0.85775437]]\n"
     ]
    }
   ],
   "source": [
    "after = before.reshape(2, 6)\n",
    "print(after)\n",
    "\n",
    "after = before.reshape(3,4)\n",
    "print(after)\n",
    "\n",
    "after = before.reshape(6,2)\n",
    "print(after)"
   ]
  },
  {
   "cell_type": "markdown",
   "id": "3bd5f596-7613-4e54-ba09-e24ddfe28271",
   "metadata": {},
   "source": [
    "#### The use of the following NumPy functions with examples:"
   ]
  },
  {
   "cell_type": "markdown",
   "id": "0e059fe8-585a-4875-8c3a-c8c586d10b1c",
   "metadata": {},
   "source": [
    "(a) Arithmetic Operations:\n",
    "`np.add`, `np.subtract`, `np.multiply`, `np.divide`, `np.floor_divide`, `np.power`, and\n",
    "`np.mod`."
   ]
  },
  {
   "cell_type": "code",
   "execution_count": 16,
   "id": "8d9b69cd-006f-4d79-ac29-3c1da19134ba",
   "metadata": {},
   "outputs": [
    {
     "name": "stdout",
     "output_type": "stream",
     "text": [
      "The addition of two arrays are [12 25 36 48]\n",
      "The difference of two arrays are [ 8 15 24 32]\n",
      "The product of two arrays are [ 20 100 180 320]\n",
      "The division of two arrays are [5. 4. 5. 5.]\n",
      "The floor division [5 4 5 5]\n",
      "The power [          100       3200000     729000000 6553600000000]\n",
      "The mod [0 0 0 0]\n"
     ]
    }
   ],
   "source": [
    "array_1 = np.array([10, 20, 30, 40])\n",
    "array_2 = np.array([2, 5, 6, 8])\n",
    "\n",
    "add = np.add(array_1 , array_2)\n",
    "print(f\"The addition of two arrays are {add}\")\n",
    "\n",
    "subtract = np.subtract(array_1 , array_2)\n",
    "print(f\"The difference of two arrays are {subtract}\")\n",
    "\n",
    "multiply = np.multiply(array_1 , array_2)\n",
    "print(f\"The product of two arrays are {multiply}\")\n",
    "\n",
    "division = np.divide(array_1 , array_2)\n",
    "print(f\"The division of two arrays are {division}\")\n",
    "\n",
    "floor_division = np.floor_divide(array_1 , array_2)\n",
    "print(f\"The floor division {floor_division}\")\n",
    "\n",
    "power = np.power(array_1 , array_2)\n",
    "print(f\"The power {power}\")\n",
    "\n",
    "mod = np.mod(array_1 ,array_2)\n",
    "print(f\"The mod {mod}\")\n"
   ]
  },
  {
   "cell_type": "markdown",
   "id": "e9895c2d-a963-4f40-8d39-f7f64af894b6",
   "metadata": {},
   "source": [
    "(b) Exponential and Logarithmic Functions:**\n",
    "`np.exp`, `np.exp2`, `np.log`, `np.log2`, and `np.log10`."
   ]
  },
  {
   "cell_type": "code",
   "execution_count": 17,
   "id": "e6d3448e-3eb6-4541-b0a4-9325adfab081",
   "metadata": {},
   "outputs": [
    {
     "name": "stdout",
     "output_type": "stream",
     "text": [
      "exp(arr):[2.71828183e+00 7.38905610e+00 2.98095799e+03 2.20264658e+04]\n",
      "exp2(arr):[   2.    4.  256. 1024.]\n",
      "log(arr):[0.         0.69314718 2.07944154 2.30258509]\n",
      "log2(arr):[0.         1.         3.         3.32192809]\n",
      "log10(arr):[0.         0.30103    0.90308999 1.        ]\n"
     ]
    }
   ],
   "source": [
    "arr = np.array([1, 2, 8, 10])\n",
    "\n",
    "exp = np.exp(arr)\n",
    "print(f\"exp(arr):{exp}\")\n",
    "\n",
    "exp2 = np.exp2(arr)\n",
    "print(f\"exp2(arr):{exp2}\")\n",
    "\n",
    "log = np.log(arr)\n",
    "print(f\"log(arr):{log}\")\n",
    "\n",
    "log2 = np.log2(arr)\n",
    "print(f\"log2(arr):{log2}\")\n",
    "\n",
    "log10 = np.log10(arr)\n",
    "print(f\"log10(arr):{log10}\")"
   ]
  },
  {
   "cell_type": "markdown",
   "id": "1280699b-bbfb-40e9-ba1e-80777f0a92b4",
   "metadata": {},
   "source": [
    "(c) Aggregate Functions:\n",
    "`np.sum`, `np.prod`, `np.mean`, `np.std`, `np.var`, `np.min`, `np.max`, `np.argmin`,\n",
    "`np.argmax`, `np.median`, `np.percentile`, `np.any`, and `np.all`."
   ]
  },
  {
   "cell_type": "code",
   "execution_count": 24,
   "id": "65ad2c00-2935-4b29-bee7-c83ba83fb525",
   "metadata": {},
   "outputs": [
    {
     "name": "stdout",
     "output_type": "stream",
     "text": [
      "the sum of array 1 : 114\n",
      "the prod of array 1 : 11520000\n",
      "the mean of array 1 : 14.25\n",
      "the std of array 1 : 13.47915056670857\n",
      "the var of array 1 : 181.6875\n",
      "the min of array 1 : 1\n",
      "the max of array 1 : 40\n",
      "the index of the minimum of array 1 : 7\n",
      "the index of the maximum of array 1 : 3\n",
      "the median of array 1 : 9.0\n",
      "the percentile of array 1 : 2.75\n",
      "True\n",
      "[ True  True  True  True]\n",
      "[ True False]\n",
      "False\n"
     ]
    }
   ],
   "source": [
    "array_1 = np.array([[10, 20, 30, 40], [3, 8, 2,1]])\n",
    "\n",
    "print(f\"the sum of array 1 : {np.sum(array_1)}\")\n",
    "print(f\"the prod of array 1 : {np.prod(array_1)}\")\n",
    "print(f\"the mean of array 1 : {np.mean(array_1)}\")\n",
    "print(f\"the std of array 1 : {np.std(array_1)}\")\n",
    "print(f\"the var of array 1 : {np.var(array_1)}\")\n",
    "print(f\"the min of array 1 : {np.min(array_1)}\")\n",
    "print(f\"the max of array 1 : {np.max(array_1)}\")\n",
    "print(f\"the index of the minimum of array 1 : {np.argmin(array_1)}\")\n",
    "print(f\"the index of the maximum of array 1 : {np.argmax(array_1)}\")\n",
    "print(f\"the median of array 1 : {np.median(array_1)}\")\n",
    "print(f\"the percentile of array 1 : {np.percentile(array_1 , 25)}\")\n",
    "\n",
    "print(np.any(array_1 > 25))\n",
    "print(np.any(array_1 < 50, axis = 0))\n",
    "print(np.any(array_1 > 25, axis = 1))\n",
    "\n",
    "print(np.all(array_1 % 5 == 0))"
   ]
  },
  {
   "cell_type": "markdown",
   "id": "58ea7bea-95a0-444f-8152-79fa6228aae0",
   "metadata": {},
   "source": [
    "\n",
    "a) Create a 2D NumPy array (4x5) with random integers between 10 and 99.\n"
   ]
  },
  {
   "cell_type": "code",
   "execution_count": 27,
   "id": "e1a97b05-ae70-45e5-84a5-dc77968fd387",
   "metadata": {},
   "outputs": [
    {
     "name": "stdout",
     "output_type": "stream",
     "text": [
      "[[65 95 16 32 99]\n",
      " [43 14 13 20 54]\n",
      " [98 65 18 70 17]\n",
      " [45 49 40 45 36]]\n"
     ]
    }
   ],
   "source": [
    "array = np.random.randint(10,100, size = (4,5))\n",
    "print(array)"
   ]
  },
  {
   "cell_type": "markdown",
   "id": "5ff1f5cc-e85b-415f-85af-626ac769d45e",
   "metadata": {},
   "source": [
    "b) Make a deep copy of the array and demonstrate that modifying the copy does not\n",
    "affect the original."
   ]
  },
  {
   "cell_type": "code",
   "execution_count": 36,
   "id": "09699ea6-c35a-4bdc-9d6a-0e2c7027030e",
   "metadata": {},
   "outputs": [
    {
     "name": "stdout",
     "output_type": "stream",
     "text": [
      "The orginal array:\n",
      " [[65 95 16 32 99]\n",
      " [43 14 13 20 54]\n",
      " [98 65 18 70 17]\n",
      " [45 49 40 45 36]]\n",
      "The Modified copied array:\n",
      " [[65 95 16 32 99]\n",
      " [89 89 89 20 54]\n",
      " [98 65 18 70 17]\n",
      " [45 49 40 45 36]]\n"
     ]
    }
   ],
   "source": [
    "copy_array = array.copy()\n",
    "\n",
    "copy_array[1,0:3] = 89\n",
    "print(f\"The orginal array:\\n {array}\")\n",
    "print(f\"The Modified copied array:\\n {copy_array}\")\n"
   ]
  },
  {
   "cell_type": "markdown",
   "id": "adb8337a-6cf3-4f10-bf29-f759a650438f",
   "metadata": {},
   "source": [
    "c) Sort the copied array:\n",
    "  First, sort each row in ascending order.\n",
    "  Then, sort each column in ascending order (based on the sorted rows)."
   ]
  },
  {
   "cell_type": "code",
   "execution_count": 41,
   "id": "fa5e4643-b369-441f-b788-741b2d3c8a88",
   "metadata": {},
   "outputs": [
    {
     "name": "stdout",
     "output_type": "stream",
     "text": [
      "[[16 32 65 95 99]\n",
      " [20 54 89 89 89]\n",
      " [17 18 65 70 98]\n",
      " [36 40 45 45 49]]\n",
      "[[16 18 45 45 49]\n",
      " [17 32 65 70 89]\n",
      " [20 40 65 89 98]\n",
      " [36 54 89 95 99]]\n"
     ]
    }
   ],
   "source": [
    "row_sort = np.sort(copy_array , axis = 1)\n",
    "print(row_sort)\n",
    "\n",
    "row_column_sort = np.sort(row_sort , axis = 0)\n",
    "print(row_column_sort)"
   ]
  },
  {
   "cell_type": "markdown",
   "id": "adf85d96-e452-40b4-88e1-ab170b4b2545",
   "metadata": {},
   "source": [
    "d) Display the following:\n",
    "(i) The original array (unchanged).\n",
    "(ii) The row-sorted array.\n",
    "(iii) The final row-and-column sorted array."
   ]
  },
  {
   "cell_type": "code",
   "execution_count": 43,
   "id": "16ad10a2-3fba-4bd7-8cff-f45fdc7caf72",
   "metadata": {},
   "outputs": [
    {
     "name": "stdout",
     "output_type": "stream",
     "text": [
      "The orginal array:\n",
      " [[65 95 16 32 99]\n",
      " [43 14 13 20 54]\n",
      " [98 65 18 70 17]\n",
      " [45 49 40 45 36]]\n",
      "The row sorted array:\n",
      " [[16 32 65 95 99]\n",
      " [20 54 89 89 89]\n",
      " [17 18 65 70 98]\n",
      " [36 40 45 45 49]]\n",
      "The final row-and-column sorted array:\n",
      " [[16 18 45 45 49]\n",
      " [17 32 65 70 89]\n",
      " [20 40 65 89 98]\n",
      " [36 54 89 95 99]]\n"
     ]
    }
   ],
   "source": [
    "print(f\"The orginal array:\\n {array}\")\n",
    "print(f\"The row sorted array:\\n {row_sort}\")\n",
    "print(f\"The final row-and-column sorted array:\\n {row_column_sort}\")"
   ]
  },
  {
   "cell_type": "markdown",
   "id": "f8cad9cb-6d7a-470c-9ea4-61390d50bd66",
   "metadata": {},
   "source": [
    "e) Verify that the original array is not modified."
   ]
  },
  {
   "cell_type": "code",
   "execution_count": 50,
   "id": "fe734e61-455c-4970-887b-6c7472d1e969",
   "metadata": {},
   "outputs": [
    {
     "name": "stdout",
     "output_type": "stream",
     "text": [
      "[[65 95 16 32 99]\n",
      " [43 14 13 20 54]\n",
      " [98 65 18 70 17]\n",
      " [45 49 40 45 36]]\n",
      "Original is unchanged.\n"
     ]
    }
   ],
   "source": [
    "print(array)\n",
    "\n",
    "##or\n",
    "\n",
    "if np.array_equal(array, row_column_sort):\n",
    "    print(\"Original got modified!\")\n",
    "else:\n",
    "    print(\"Original is unchanged.\")"
   ]
  },
  {
   "cell_type": "markdown",
   "id": "e1150326-ca9a-470a-a565-6158427f0712",
   "metadata": {},
   "source": [
    "#### Advanced use cases of fancy indexing:"
   ]
  },
  {
   "cell_type": "markdown",
   "id": "b693c2d2-bd16-4e54-9918-4bc79e367e3f",
   "metadata": {},
   "source": [
    "Extract all even numbers from a given 2D array."
   ]
  },
  {
   "cell_type": "code",
   "execution_count": 15,
   "id": "0f5c73d3-056e-4b67-9f5d-117a610de64a",
   "metadata": {},
   "outputs": [
    {
     "name": "stdout",
     "output_type": "stream",
     "text": [
      "[[62 66 24 45 46 23]\n",
      " [52 29 36 39 10 43]\n",
      " [28 33 30 39 12 23]\n",
      " [40 50 18 39 69 14]\n",
      " [67 51 27 65 64 53]]\n",
      "[[ True  True  True False  True False]\n",
      " [ True False  True False  True False]\n",
      " [ True False  True False  True False]\n",
      " [ True  True  True False False  True]\n",
      " [False False False False  True False]]\n"
     ]
    },
    {
     "data": {
      "text/plain": [
       "array([62, 66, 24, 46, 52, 36, 10, 28, 30, 12, 40, 50, 18, 14, 64],\n",
       "      dtype=int32)"
      ]
     },
     "execution_count": 15,
     "metadata": {},
     "output_type": "execute_result"
    }
   ],
   "source": [
    "import numpy as np\n",
    "numbers = np.random.randint(10,70, size = (5,6))  \n",
    "print(numbers)\n",
    "\n",
    "even_numbers = numbers%2==0\n",
    "print(even_numbers)\n",
    "\n",
    "numbers[even_numbers]"
   ]
  },
  {
   "cell_type": "markdown",
   "id": "a34a31e8-e913-4239-9e3d-3a6213a7e2ad",
   "metadata": {},
   "source": [
    "Select every alternate row from a 2D array using an index array."
   ]
  },
  {
   "cell_type": "code",
   "execution_count": 18,
   "id": "a717ef5c-9db4-458f-bc3e-b964023a7822",
   "metadata": {},
   "outputs": [
    {
     "data": {
      "text/plain": [
       "array([[62, 66, 24, 45, 46, 23],\n",
       "       [28, 33, 30, 39, 12, 23],\n",
       "       [67, 51, 27, 65, 64, 53]], dtype=int32)"
      ]
     },
     "execution_count": 18,
     "metadata": {},
     "output_type": "execute_result"
    }
   ],
   "source": [
    "alternate_rows = np.array([0,2,4])\n",
    "numbers[alternate_rows]"
   ]
  },
  {
   "cell_type": "markdown",
   "id": "f81d9d41-bab8-45ed-9100-a68507583ab2",
   "metadata": {},
   "source": [
    "Use two arrays of indices to extract elements from specific row-column positions in a\n",
    "matrix."
   ]
  },
  {
   "cell_type": "code",
   "execution_count": 19,
   "id": "fa13db95-4734-4587-bbd9-fb7844de6499",
   "metadata": {},
   "outputs": [
    {
     "data": {
      "text/plain": [
       "array([62, 36, 39], dtype=int32)"
      ]
     },
     "execution_count": 19,
     "metadata": {},
     "output_type": "execute_result"
    }
   ],
   "source": [
    "row_indices = np.array([0,1,2])\n",
    "column_indices = np.array([0,2,3])\n",
    "numbers[row_indices , column_indices]"
   ]
  },
  {
   "cell_type": "markdown",
   "id": "e01164c5-55b3-45ed-b387-23a5b2e1a7c5",
   "metadata": {},
   "source": [
    "#### Illustrate various sorting techniques"
   ]
  },
  {
   "cell_type": "markdown",
   "id": "f00a69b5-fd54-4952-b7b6-f2d0f090b787",
   "metadata": {},
   "source": [
    "Sort a 1D array in descending order.\n",
    "Sort a 2D array along columns and then along rows, and observe the results."
   ]
  },
  {
   "cell_type": "code",
   "execution_count": 27,
   "id": "6a853dae-e198-4840-bc54-9790129e810a",
   "metadata": {},
   "outputs": [
    {
     "name": "stdout",
     "output_type": "stream",
     "text": [
      "[29 30 37 29 62]\n",
      "Sort of 1D array [29 29 30 37 62]\n",
      "\n",
      "[[46 39 77 32]\n",
      " [56 39 64 59]\n",
      " [65 39 47 24]\n",
      " [25 56 44 55]]\n",
      "Sort of 2D array along columns [[25 39 44 24]\n",
      " [46 39 47 32]\n",
      " [56 39 64 55]\n",
      " [65 56 77 59]]\n",
      "\n",
      "Sort of 2D array along rows [[32 39 46 77]\n",
      " [39 56 59 64]\n",
      " [24 39 47 65]\n",
      " [25 44 55 56]]\n",
      "\n"
     ]
    }
   ],
   "source": [
    "array_1 = np.random.randint(10,70, size = (5,)) \n",
    "print(array_1)\n",
    "\n",
    "print(f\"Sort of 1D array {np.sort(array_1)}\\n\")\n",
    "\n",
    "array_2 = np.random.randint(20,80, size = (4,4)) \n",
    "print(array_2)\n",
    "\n",
    "columns_sort = np.sort(array_2 , axis = 0)\n",
    "print(f\"Sort of 2D array along columns {columns_sort}\\n\") \n",
    "\n",
    "rows_sort = np.sort(array_2 , axis = 1)\n",
    "print(f\"Sort of 2D array along rows {rows_sort}\\n\") \n"
   ]
  },
  {
   "cell_type": "markdown",
   "id": "4124d9d1-9a4d-428e-8ef3-2e6578e8fe1a",
   "metadata": {},
   "source": [
    "Use `argsort()` to sort one array based on the sorted order of another array (e.g.,\n",
    "sorting student names based on their marks)."
   ]
  },
  {
   "cell_type": "code",
   "execution_count": 29,
   "id": "547c60f9-88fd-43bd-b0bb-03cc4ccabb3e",
   "metadata": {},
   "outputs": [
    {
     "name": "stdout",
     "output_type": "stream",
     "text": [
      "['Charlie' 'Bob' 'Eve' 'Alice' 'David']\n",
      "[78 85 88 92 95]\n"
     ]
    }
   ],
   "source": [
    "marks = np.array([85, 92, 78, 95, 88])\n",
    "student_names = np.array(['Bob', 'Alice', 'Charlie', 'David', 'Eve'])\n",
    "\n",
    "sort = np.argsort(marks)\n",
    "\n",
    "print(student_names[sort])\n",
    "print(marks[sort])"
   ]
  },
  {
   "cell_type": "markdown",
   "id": "c38d4b34-27ce-4229-b3bb-521dc80bd563",
   "metadata": {},
   "source": [
    "#### Demonstrate the concept of array partitioning:"
   ]
  },
  {
   "cell_type": "markdown",
   "id": "eaf48b89-6679-4c15-9975-21cec756d48f",
   "metadata": {},
   "source": [
    "Partition a 1D array to bring the smallest `k` elements to the front without full sorting."
   ]
  },
  {
   "cell_type": "code",
   "execution_count": 35,
   "id": "398a3364-5e40-4f49-b9e7-064d678b1ad8",
   "metadata": {},
   "outputs": [
    {
     "name": "stdout",
     "output_type": "stream",
     "text": [
      "[ 1  2  3  4  5  6  7  8  9 10]\n"
     ]
    },
    {
     "data": {
      "text/plain": [
       "array([ 1,  2,  3,  4,  5,  6,  7,  8,  9, 10])"
      ]
     },
     "execution_count": 35,
     "metadata": {},
     "output_type": "execute_result"
    }
   ],
   "source": [
    "arr = np.array([9, 4, 7, 2, 10, 5, 8, 1, 6, 3])\n",
    "\n",
    "partition = np.partition(arr , 4)\n",
    "print(partition)\n",
    "\n",
    "partition = np.partition(arr , 3)\n",
    "partition"
   ]
  },
  {
   "cell_type": "markdown",
   "id": "e53d819c-fb58-4154-ad22-9fa1eaf5ec4a",
   "metadata": {},
   "source": [
    "Apply partitioning to a 2D array to isolate the top 3 smallest values in each row.\n"
   ]
  },
  {
   "cell_type": "code",
   "execution_count": 55,
   "id": "5eea1da1-d902-4a77-bc54-16df419a3b57",
   "metadata": {},
   "outputs": [
    {
     "name": "stdout",
     "output_type": "stream",
     "text": [
      "[[10 20 50 60 90]\n",
      " [15 25 35 55 85]\n",
      " [11 22 44 77 99]]\n",
      "[[10 20 50]\n",
      " [15 25 35]\n",
      " [11 22 44]]\n"
     ]
    }
   ],
   "source": [
    "arr_2d = np.array([[10, 50, 20, 90, 60],[35, 15, 85, 25, 55],[77, 44, 99, 11, 22]])\n",
    "\n",
    "partition = np.partition(arr_2d , \"k\" == 3 , axis = 1)\n",
    "print(partition)\n",
    "\n",
    "## top 3 smallest values in each row.\n",
    "print(partition[:, :3])"
   ]
  },
  {
   "cell_type": "markdown",
   "id": "b0fa140d-f2f0-4611-9199-1811f26cd7c0",
   "metadata": {},
   "source": [
    "Compare the difference between `partition()` and `sort()` with suitable examples."
   ]
  },
  {
   "cell_type": "code",
   "execution_count": 56,
   "id": "0ea6d2e6-5a29-4db3-9f67-0d755f0abe0f",
   "metadata": {},
   "outputs": [
    {
     "name": "stdout",
     "output_type": "stream",
     "text": [
      "[[10 20 50 60 90]\n",
      " [15 25 35 55 85]\n",
      " [11 22 44 77 99]]\n",
      "[[10 20 50 60 90]\n",
      " [15 25 35 55 85]\n",
      " [11 22 44 77 99]]\n"
     ]
    }
   ],
   "source": [
    "print(partition)\n",
    "print(np.sort(arr_2d))"
   ]
  }
 ],
 "metadata": {
  "kernelspec": {
   "display_name": "Python 3 (ipykernel)",
   "language": "python",
   "name": "python3"
  },
  "language_info": {
   "codemirror_mode": {
    "name": "ipython",
    "version": 3
   },
   "file_extension": ".py",
   "mimetype": "text/x-python",
   "name": "python",
   "nbconvert_exporter": "python",
   "pygments_lexer": "ipython3",
   "version": "3.13.5"
  }
 },
 "nbformat": 4,
 "nbformat_minor": 5
}
