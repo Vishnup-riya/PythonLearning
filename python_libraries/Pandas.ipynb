{
 "cells": [
  {
   "cell_type": "code",
   "execution_count": 2,
   "id": "9ed70351-e0fc-484e-b0cf-e9a765d01740",
   "metadata": {},
   "outputs": [],
   "source": [
    "## importing the pandas\n",
    "import pandas as pd"
   ]
  },
  {
   "cell_type": "code",
   "execution_count": 3,
   "id": "0a3d1eb1-6b53-499b-b816-1efcf27cc3bd",
   "metadata": {},
   "outputs": [
    {
     "name": "stdout",
     "output_type": "stream",
     "text": [
      "   0  1  2\n",
      "0  1  2  3\n",
      "1  4  5  6\n",
      "2  8  5  9\n",
      "------------------------------\n",
      "   a  b  c\n",
      "0  1  2  3\n",
      "1  4  5  6\n",
      "2  8  5  9\n",
      "------------------------------\n"
     ]
    },
    {
     "ename": "TypeError",
     "evalue": "DataFrame.__init__() got an unexpected keyword argument 'rows'",
     "output_type": "error",
     "traceback": [
      "\u001b[1;31m---------------------------------------------------------------------------\u001b[0m",
      "\u001b[1;31mTypeError\u001b[0m                                 Traceback (most recent call last)",
      "Cell \u001b[1;32mIn[3], line 12\u001b[0m\n\u001b[0;32m      8\u001b[0m \u001b[38;5;28mprint\u001b[39m(df\u001b[38;5;241m.\u001b[39mhead())\n\u001b[0;32m     10\u001b[0m \u001b[38;5;28mprint\u001b[39m(\u001b[38;5;124m\"\u001b[39m\u001b[38;5;124m-\u001b[39m\u001b[38;5;124m\"\u001b[39m\u001b[38;5;241m*\u001b[39m\u001b[38;5;241m30\u001b[39m)\n\u001b[1;32m---> 12\u001b[0m df \u001b[38;5;241m=\u001b[39m pd\u001b[38;5;241m.\u001b[39mDataFrame([[\u001b[38;5;241m1\u001b[39m,\u001b[38;5;241m2\u001b[39m,\u001b[38;5;241m3\u001b[39m],[\u001b[38;5;241m4\u001b[39m,\u001b[38;5;241m5\u001b[39m,\u001b[38;5;241m6\u001b[39m],[\u001b[38;5;241m8\u001b[39m,\u001b[38;5;241m5\u001b[39m,\u001b[38;5;241m9\u001b[39m]], columns \u001b[38;5;241m=\u001b[39m [\u001b[38;5;124m\"\u001b[39m\u001b[38;5;124ma\u001b[39m\u001b[38;5;124m\"\u001b[39m,\u001b[38;5;124m\"\u001b[39m\u001b[38;5;124mb\u001b[39m\u001b[38;5;124m\"\u001b[39m,\u001b[38;5;124m\"\u001b[39m\u001b[38;5;124mc\u001b[39m\u001b[38;5;124m\"\u001b[39m], rows \u001b[38;5;241m=\u001b[39m [\u001b[38;5;124m\"\u001b[39m\u001b[38;5;124mA\u001b[39m\u001b[38;5;124m\"\u001b[39m,\u001b[38;5;124m\"\u001b[39m\u001b[38;5;124mB\u001b[39m\u001b[38;5;124m\"\u001b[39m,\u001b[38;5;124m\"\u001b[39m\u001b[38;5;124mC\u001b[39m\u001b[38;5;124m\"\u001b[39m])  \u001b[38;5;66;03m## In pandas, the argument is not row — it should be index\u001b[39;00m\n\u001b[0;32m     13\u001b[0m \u001b[38;5;28mprint\u001b[39m(df\u001b[38;5;241m.\u001b[39mhead())\n",
      "\u001b[1;31mTypeError\u001b[0m: DataFrame.__init__() got an unexpected keyword argument 'rows'"
     ]
    }
   ],
   "source": [
    "## creating data frames from scratch\n",
    "df = pd.DataFrame([[1,2,3],[4,5,6],[8,5,9]])\n",
    "print(df.head())\n",
    "\n",
    "print(\"-\"*30)\n",
    "\n",
    "df = pd.DataFrame([[1,2,3],[4,5,6],[8,5,9]], columns = [\"a\",\"b\",\"c\"])\n",
    "print(df.head())\n",
    "\n",
    "print(\"-\"*30)\n",
    "\n",
    "df = pd.DataFrame([[1,2,3],[4,5,6],[8,5,9]], columns = [\"a\",\"b\",\"c\"], rows = [\"A\",\"B\",\"C\"])  ## In pandas, the argument is not row — it should be index\n",
    "print(df.head())"
   ]
  },
  {
   "cell_type": "code",
   "execution_count": null,
   "id": "41cd304f-a8e2-49da-b042-64434ccfc311",
   "metadata": {},
   "outputs": [],
   "source": [
    "df = pd.DataFrame([[1,2,3],[4,5,6],[8,5,9]], columns = [\"a\",\"b\",\"c\"], index = [\"A\",\"B\",\"C\"])\n",
    "df.head()"
   ]
  },
  {
   "cell_type": "code",
   "execution_count": null,
   "id": "2b9832c7-33e2-4a01-9992-9332982397cb",
   "metadata": {},
   "outputs": [],
   "source": [
    "print(df.head(2))\n",
    "print(df.tail(2))       ##get the last two rows\n",
    "print(df.columns)\n",
    "print(df.index)         \n",
    "print(df.index.tolist())"
   ]
  },
  {
   "cell_type": "code",
   "execution_count": 4,
   "id": "b92e4643-514c-4786-b2a0-d5478a03dbfb",
   "metadata": {},
   "outputs": [
    {
     "name": "stdout",
     "output_type": "stream",
     "text": [
      "<class 'pandas.core.frame.DataFrame'>\n",
      "RangeIndex: 3 entries, 0 to 2\n",
      "Data columns (total 3 columns):\n",
      " #   Column  Non-Null Count  Dtype\n",
      "---  ------  --------------  -----\n",
      " 0   a       3 non-null      int64\n",
      " 1   b       3 non-null      int64\n",
      " 2   c       3 non-null      int64\n",
      "dtypes: int64(3)\n",
      "memory usage: 204.0 bytes\n",
      "None \n",
      "\n"
     ]
    },
    {
     "data": {
      "text/html": [
       "<div>\n",
       "<style scoped>\n",
       "    .dataframe tbody tr th:only-of-type {\n",
       "        vertical-align: middle;\n",
       "    }\n",
       "\n",
       "    .dataframe tbody tr th {\n",
       "        vertical-align: top;\n",
       "    }\n",
       "\n",
       "    .dataframe thead th {\n",
       "        text-align: right;\n",
       "    }\n",
       "</style>\n",
       "<table border=\"1\" class=\"dataframe\">\n",
       "  <thead>\n",
       "    <tr style=\"text-align: right;\">\n",
       "      <th></th>\n",
       "      <th>a</th>\n",
       "      <th>b</th>\n",
       "      <th>c</th>\n",
       "    </tr>\n",
       "  </thead>\n",
       "  <tbody>\n",
       "    <tr>\n",
       "      <th>count</th>\n",
       "      <td>3.000000</td>\n",
       "      <td>3.000000</td>\n",
       "      <td>3.0</td>\n",
       "    </tr>\n",
       "    <tr>\n",
       "      <th>mean</th>\n",
       "      <td>4.333333</td>\n",
       "      <td>4.000000</td>\n",
       "      <td>6.0</td>\n",
       "    </tr>\n",
       "    <tr>\n",
       "      <th>std</th>\n",
       "      <td>3.511885</td>\n",
       "      <td>1.732051</td>\n",
       "      <td>3.0</td>\n",
       "    </tr>\n",
       "    <tr>\n",
       "      <th>min</th>\n",
       "      <td>1.000000</td>\n",
       "      <td>2.000000</td>\n",
       "      <td>3.0</td>\n",
       "    </tr>\n",
       "    <tr>\n",
       "      <th>25%</th>\n",
       "      <td>2.500000</td>\n",
       "      <td>3.500000</td>\n",
       "      <td>4.5</td>\n",
       "    </tr>\n",
       "    <tr>\n",
       "      <th>50%</th>\n",
       "      <td>4.000000</td>\n",
       "      <td>5.000000</td>\n",
       "      <td>6.0</td>\n",
       "    </tr>\n",
       "    <tr>\n",
       "      <th>75%</th>\n",
       "      <td>6.000000</td>\n",
       "      <td>5.000000</td>\n",
       "      <td>7.5</td>\n",
       "    </tr>\n",
       "    <tr>\n",
       "      <th>max</th>\n",
       "      <td>8.000000</td>\n",
       "      <td>5.000000</td>\n",
       "      <td>9.0</td>\n",
       "    </tr>\n",
       "  </tbody>\n",
       "</table>\n",
       "</div>"
      ],
      "text/plain": [
       "              a         b    c\n",
       "count  3.000000  3.000000  3.0\n",
       "mean   4.333333  4.000000  6.0\n",
       "std    3.511885  1.732051  3.0\n",
       "min    1.000000  2.000000  3.0\n",
       "25%    2.500000  3.500000  4.5\n",
       "50%    4.000000  5.000000  6.0\n",
       "75%    6.000000  5.000000  7.5\n",
       "max    8.000000  5.000000  9.0"
      ]
     },
     "execution_count": 4,
     "metadata": {},
     "output_type": "execute_result"
    }
   ],
   "source": [
    "print(f\"{df.info()} \\n\")\n",
    "\n",
    "## summary\n",
    "df.describe()"
   ]
  },
  {
   "cell_type": "markdown",
   "id": "91acaa76-7062-4eee-9952-d6afa57e47a1",
   "metadata": {},
   "source": [
    "#### Series as specialized dictionary"
   ]
  },
  {
   "cell_type": "code",
   "execution_count": 5,
   "id": "17680457-f9b8-4ef1-8ecb-c3d559dd3e41",
   "metadata": {},
   "outputs": [
    {
     "data": {
      "text/plain": [
       "Maths               56\n",
       "Statistics          78\n",
       "Data science        56\n",
       "Machine learning    87\n",
       "dtype: object"
      ]
     },
     "execution_count": 5,
     "metadata": {},
     "output_type": "execute_result"
    }
   ],
   "source": [
    "dictionaries = {\"Maths\":\"56\", \n",
    "                \"Statistics\":\"78\", \n",
    "                \"Data science\":\"56\", \n",
    "                \"Machine learning\":\"87\"}\n",
    "subject_code = pd.Series(dictionaries)\n",
    "subject_code"
   ]
  },
  {
   "cell_type": "code",
   "execution_count": 6,
   "id": "c5467827-5a2c-42d8-a16b-b16b2de2baa0",
   "metadata": {},
   "outputs": [
    {
     "name": "stdout",
     "output_type": "stream",
     "text": [
      "0    [23, 25, 45, 67]\n",
      "1    [65, 76, 87, 22]\n",
      "2    [98, 56, 49, 45]\n",
      "dtype: object \n",
      "\n",
      "0    23\n",
      "1    25\n",
      "2    45\n",
      "3    67\n",
      "dtype: int64\n"
     ]
    }
   ],
   "source": [
    "lists = ([[23,25,45,67],\n",
    "         [65,76,87,22],\n",
    "         [98,56,49,45]])\n",
    "print(f\"{pd.Series(lists)} \\n\")\n",
    "\n",
    "lists = ([23,25,45,67])\n",
    "print(f\"{pd.Series(lists)}\")"
   ]
  },
  {
   "cell_type": "code",
   "execution_count": 7,
   "id": "ad420223-04a0-460a-89f8-7b6a2b8e16f3",
   "metadata": {},
   "outputs": [
    {
     "name": "stdout",
     "output_type": "stream",
     "text": [
      "1       English\n",
      "2    Statistics\n",
      "3         Maths\n",
      "dtype: object\n"
     ]
    },
    {
     "data": {
      "text/plain": [
       "2    a\n",
       "1    b\n",
       "3    c\n",
       "dtype: object"
      ]
     },
     "execution_count": 7,
     "metadata": {},
     "output_type": "execute_result"
    }
   ],
   "source": [
    "## index defaults to the sorted dictionary keys\n",
    "\n",
    "data = pd.Series(({2:\"Statistics\" , 3:\"Maths\" , 1:\"English\"}), index=[1,2,3])\n",
    "print(data)\n",
    "pd.Series({2:'a', 1:'b', 3:'c'})"
   ]
  },
  {
   "cell_type": "code",
   "execution_count": 8,
   "id": "9a7183b1-ac99-4a6b-b12e-828d9e35b323",
   "metadata": {},
   "outputs": [
    {
     "data": {
      "text/plain": [
       "name                                       Alice\n",
       "age                                           20\n",
       "major                           Computer Science\n",
       "courses    [Python, Data Structures, Algorithms]\n",
       "dtype: object"
      ]
     },
     "execution_count": 8,
     "metadata": {},
     "output_type": "execute_result"
    }
   ],
   "source": [
    "student_info = {\"name\": \"Alice\",\n",
    "                \"age\": 20,\n",
    "                \"major\": \"Computer Science\",\n",
    "                \"courses\": [\"Python\", \"Data Structures\", \"Algorithms\"]}\n",
    "\n",
    "info = pd.Series(student_info)\n",
    "info"
   ]
  },
  {
   "cell_type": "code",
   "execution_count": 9,
   "id": "0aa06bc0-9640-4f25-8495-0658deca7d9e",
   "metadata": {},
   "outputs": [
    {
     "name": "stdout",
     "output_type": "stream",
     "text": [
      "Alice\n",
      "['Python', 'Data Structures', 'Algorithms']\n",
      "20\n",
      "Maths           56\n",
      "Statistics      78\n",
      "Data science    56\n",
      "dtype: object\n"
     ]
    }
   ],
   "source": [
    "### accessing \n",
    "print(info[\"name\"])\n",
    "print(info[\"courses\"])\n",
    "print(info[\"age\"])\n",
    "\n",
    "print(subject_code[\"Maths\":\"Data science\"])"
   ]
  },
  {
   "cell_type": "markdown",
   "id": "13c8b979-87be-4ea6-878a-694411052a8a",
   "metadata": {},
   "source": [
    "### The Pandas DataFrame Object"
   ]
  },
  {
   "cell_type": "markdown",
   "id": "15b7818b-4d14-4f30-977c-2d700f3daa92",
   "metadata": {},
   "source": [
    "#### DataFrame as a generalized NumPy array"
   ]
  },
  {
   "cell_type": "code",
   "execution_count": 10,
   "id": "00b44541-92d9-411c-aa5a-5f96fc7eabab",
   "metadata": {},
   "outputs": [
    {
     "name": "stdout",
     "output_type": "stream",
     "text": [
      " Maths               45\n",
      "Statistics          69\n",
      "Data science        89\n",
      "Machine learning    78\n",
      "dtype: object \n",
      "\n",
      "     name  marks           subject  percentage\n",
      "1   John     45             Maths       45.23\n",
      "2  Kavin     69        Statistics       68.99\n",
      "3  Padma     89      Data science       89.34\n",
      "4   Sree     78  Machine learning       77.99  \n",
      "\n",
      "        marks           subject  percentage\n",
      "John      45             Maths       45.23\n",
      "Kavin     69        Statistics       68.99\n",
      "Padma     89      Data science       89.34\n",
      "Sree      78  Machine learning       77.99  \n",
      "\n",
      "\n",
      " name                                 [John, Kavin, Padma, Sree]\n",
      "marks                                          [45, 69, 89, 78]\n",
      "subject       [Maths, Statistics, Data science, Machine lear...\n",
      "percentage                         [45.23, 68.99, 89.34, 77.99]\n",
      "dtype: object \n",
      "\n"
     ]
    }
   ],
   "source": [
    "dictionaries = {\"Maths\":\"45\", \n",
    "                \"Statistics\":\"69\", \n",
    "                \"Data science\":\"89\", \n",
    "                \"Machine learning\":\"78\"}\n",
    "print(f\" {pd.Series(dictionaries)} \\n\") \n",
    "\n",
    "## Suppose you want to add a name before the subjects, and a percentage after marks\n",
    "name = [\"John\", \"Kavin\", \"Padma\",\"Sree\"]\n",
    "marks = [45,69,89,78]\n",
    "overall_percentage = [45.23,68.99,89.34,77.99]\n",
    "subjects = [\"Maths\" , \"Statistics\" , \"Data science\" , \"Machine learning\"]\n",
    "\n",
    "### DataFrame is a two-dimensional array with both flexible row indices and flexible column names\n",
    "info = pd.DataFrame({\"name\" : name , \"marks\" : marks , \"subject\":subjects , \"percentage\":overall_percentage} , index =[\"1\",\"2\",\"3\",\"4\"])\n",
    "print(f\" {info}  \\n\")\n",
    "\n",
    "info = pd.DataFrame({\"marks\" : marks , \"subject\":subjects , \"percentage\":overall_percentage} , index =[\"John\", \"Kavin\", \"Padma\",\"Sree\"])\n",
    "print(f\" {info}  \\n\")\n",
    "\n",
    "### Series is of a one-dimensional array with flexible indices\n",
    "infor = pd.Series({\"name\" : name , \"marks\" : marks , \"subject\":subjects , \"percentage\":overall_percentage})\n",
    "print(f\"\\n {infor} \\n\")  \n"
   ]
  },
  {
   "cell_type": "code",
   "execution_count": 11,
   "id": "e0e6d5f2-4009-439f-972f-7335399fa934",
   "metadata": {},
   "outputs": [
    {
     "name": "stdout",
     "output_type": "stream",
     "text": [
      "Index(['John', 'Kavin', 'Padma', 'Sree'], dtype='object')\n",
      "Index(['marks', 'subject', 'percentage'], dtype='object')\n"
     ]
    }
   ],
   "source": [
    "print(info.index)\n",
    "print(info.columns)"
   ]
  },
  {
   "cell_type": "code",
   "execution_count": 12,
   "id": "93f1d6cb-e864-4a24-9637-6cc5bf055ba1",
   "metadata": {},
   "outputs": [
    {
     "name": "stdout",
     "output_type": "stream",
     "text": [
      "John     45\n",
      "Kavin    69\n",
      "Padma    89\n",
      "Sree     78\n",
      "Name: marks, dtype: int64\n",
      "                subject  percentage\n",
      "John              Maths       45.23\n",
      "Kavin        Statistics       68.99\n",
      "Padma      Data science       89.34\n",
      "Sree   Machine learning       77.99\n"
     ]
    },
    {
     "ename": "KeyError",
     "evalue": "('subject', 'percentage')",
     "output_type": "error",
     "traceback": [
      "\u001b[1;31m---------------------------------------------------------------------------\u001b[0m",
      "\u001b[1;31mKeyError\u001b[0m                                  Traceback (most recent call last)",
      "File \u001b[1;32m~\\anaconda3\\Lib\\site-packages\\pandas\\core\\indexes\\base.py:3805\u001b[0m, in \u001b[0;36mIndex.get_loc\u001b[1;34m(self, key)\u001b[0m\n\u001b[0;32m   3804\u001b[0m \u001b[38;5;28;01mtry\u001b[39;00m:\n\u001b[1;32m-> 3805\u001b[0m     \u001b[38;5;28;01mreturn\u001b[39;00m \u001b[38;5;28mself\u001b[39m\u001b[38;5;241m.\u001b[39m_engine\u001b[38;5;241m.\u001b[39mget_loc(casted_key)\n\u001b[0;32m   3806\u001b[0m \u001b[38;5;28;01mexcept\u001b[39;00m \u001b[38;5;167;01mKeyError\u001b[39;00m \u001b[38;5;28;01mas\u001b[39;00m err:\n",
      "File \u001b[1;32mindex.pyx:167\u001b[0m, in \u001b[0;36mpandas._libs.index.IndexEngine.get_loc\u001b[1;34m()\u001b[0m\n",
      "File \u001b[1;32mindex.pyx:196\u001b[0m, in \u001b[0;36mpandas._libs.index.IndexEngine.get_loc\u001b[1;34m()\u001b[0m\n",
      "File \u001b[1;32mpandas\\\\_libs\\\\hashtable_class_helper.pxi:7081\u001b[0m, in \u001b[0;36mpandas._libs.hashtable.PyObjectHashTable.get_item\u001b[1;34m()\u001b[0m\n",
      "File \u001b[1;32mpandas\\\\_libs\\\\hashtable_class_helper.pxi:7089\u001b[0m, in \u001b[0;36mpandas._libs.hashtable.PyObjectHashTable.get_item\u001b[1;34m()\u001b[0m\n",
      "\u001b[1;31mKeyError\u001b[0m: ('subject', 'percentage')",
      "\nThe above exception was the direct cause of the following exception:\n",
      "\u001b[1;31mKeyError\u001b[0m                                  Traceback (most recent call last)",
      "Cell \u001b[1;32mIn[12], line 3\u001b[0m\n\u001b[0;32m      1\u001b[0m \u001b[38;5;28mprint\u001b[39m(info[\u001b[38;5;124m\"\u001b[39m\u001b[38;5;124mmarks\u001b[39m\u001b[38;5;124m\"\u001b[39m])\n\u001b[0;32m      2\u001b[0m \u001b[38;5;28mprint\u001b[39m(info[[\u001b[38;5;124m\"\u001b[39m\u001b[38;5;124msubject\u001b[39m\u001b[38;5;124m\"\u001b[39m , \u001b[38;5;124m\"\u001b[39m\u001b[38;5;124mpercentage\u001b[39m\u001b[38;5;124m\"\u001b[39m]])\n\u001b[1;32m----> 3\u001b[0m \u001b[38;5;28mprint\u001b[39m(info[\u001b[38;5;124m\"\u001b[39m\u001b[38;5;124msubject\u001b[39m\u001b[38;5;124m\"\u001b[39m , \u001b[38;5;124m\"\u001b[39m\u001b[38;5;124mpercentage\u001b[39m\u001b[38;5;124m\"\u001b[39m])\n",
      "File \u001b[1;32m~\\anaconda3\\Lib\\site-packages\\pandas\\core\\frame.py:4102\u001b[0m, in \u001b[0;36mDataFrame.__getitem__\u001b[1;34m(self, key)\u001b[0m\n\u001b[0;32m   4100\u001b[0m \u001b[38;5;28;01mif\u001b[39;00m \u001b[38;5;28mself\u001b[39m\u001b[38;5;241m.\u001b[39mcolumns\u001b[38;5;241m.\u001b[39mnlevels \u001b[38;5;241m>\u001b[39m \u001b[38;5;241m1\u001b[39m:\n\u001b[0;32m   4101\u001b[0m     \u001b[38;5;28;01mreturn\u001b[39;00m \u001b[38;5;28mself\u001b[39m\u001b[38;5;241m.\u001b[39m_getitem_multilevel(key)\n\u001b[1;32m-> 4102\u001b[0m indexer \u001b[38;5;241m=\u001b[39m \u001b[38;5;28mself\u001b[39m\u001b[38;5;241m.\u001b[39mcolumns\u001b[38;5;241m.\u001b[39mget_loc(key)\n\u001b[0;32m   4103\u001b[0m \u001b[38;5;28;01mif\u001b[39;00m is_integer(indexer):\n\u001b[0;32m   4104\u001b[0m     indexer \u001b[38;5;241m=\u001b[39m [indexer]\n",
      "File \u001b[1;32m~\\anaconda3\\Lib\\site-packages\\pandas\\core\\indexes\\base.py:3812\u001b[0m, in \u001b[0;36mIndex.get_loc\u001b[1;34m(self, key)\u001b[0m\n\u001b[0;32m   3807\u001b[0m     \u001b[38;5;28;01mif\u001b[39;00m \u001b[38;5;28misinstance\u001b[39m(casted_key, \u001b[38;5;28mslice\u001b[39m) \u001b[38;5;129;01mor\u001b[39;00m (\n\u001b[0;32m   3808\u001b[0m         \u001b[38;5;28misinstance\u001b[39m(casted_key, abc\u001b[38;5;241m.\u001b[39mIterable)\n\u001b[0;32m   3809\u001b[0m         \u001b[38;5;129;01mand\u001b[39;00m \u001b[38;5;28many\u001b[39m(\u001b[38;5;28misinstance\u001b[39m(x, \u001b[38;5;28mslice\u001b[39m) \u001b[38;5;28;01mfor\u001b[39;00m x \u001b[38;5;129;01min\u001b[39;00m casted_key)\n\u001b[0;32m   3810\u001b[0m     ):\n\u001b[0;32m   3811\u001b[0m         \u001b[38;5;28;01mraise\u001b[39;00m InvalidIndexError(key)\n\u001b[1;32m-> 3812\u001b[0m     \u001b[38;5;28;01mraise\u001b[39;00m \u001b[38;5;167;01mKeyError\u001b[39;00m(key) \u001b[38;5;28;01mfrom\u001b[39;00m\u001b[38;5;250m \u001b[39m\u001b[38;5;21;01merr\u001b[39;00m\n\u001b[0;32m   3813\u001b[0m \u001b[38;5;28;01mexcept\u001b[39;00m \u001b[38;5;167;01mTypeError\u001b[39;00m:\n\u001b[0;32m   3814\u001b[0m     \u001b[38;5;66;03m# If we have a listlike key, _check_indexing_error will raise\u001b[39;00m\n\u001b[0;32m   3815\u001b[0m     \u001b[38;5;66;03m#  InvalidIndexError. Otherwise we fall through and re-raise\u001b[39;00m\n\u001b[0;32m   3816\u001b[0m     \u001b[38;5;66;03m#  the TypeError.\u001b[39;00m\n\u001b[0;32m   3817\u001b[0m     \u001b[38;5;28mself\u001b[39m\u001b[38;5;241m.\u001b[39m_check_indexing_error(key)\n",
      "\u001b[1;31mKeyError\u001b[0m: ('subject', 'percentage')"
     ]
    }
   ],
   "source": [
    "print(info[\"marks\"])\n",
    "print(info[[\"subject\" , \"percentage\"]])\n",
    "print(info[\"subject\" , \"percentage\"])  ## # This is interpreted as a single tuple key"
   ]
  },
  {
   "cell_type": "code",
   "execution_count": null,
   "id": "5b10c00e-db26-41a5-bb70-d70e1880ad61",
   "metadata": {},
   "outputs": [],
   "source": [
    "print(f\" {pd.DataFrame(info , columns = [\"marks\"])} \\n\")\n",
    "print(f\" {pd.DataFrame(info , columns = [\"percentage\"])} \\n\")"
   ]
  },
  {
   "cell_type": "code",
   "execution_count": null,
   "id": "cff46708-5113-4c5c-9414-466525946941",
   "metadata": {},
   "outputs": [],
   "source": [
    "pd.DataFrame([{\"Abhi\":250 , \"Hema\":350},{\"Hema\":467 , \"Sree\":897}])  ## even if dictionaries are missing, Pandas will fill them in with NaN"
   ]
  },
  {
   "cell_type": "code",
   "execution_count": null,
   "id": "764a4f27-53cd-45c9-aca3-0157a1608969",
   "metadata": {},
   "outputs": [],
   "source": [
    "## two-dimensional NumPy array\n",
    "import numpy as np\n",
    "\n",
    "a = pd.DataFrame(np.random.randint(10,20 ,(4,5)) , index = [\"1\",\"2\",\"3\",\"4\"] , columns = [\"A\",\"B\",\"C\",\"D\",\"E\"])\n",
    "a\n"
   ]
  },
  {
   "cell_type": "code",
   "execution_count": 64,
   "id": "0f8e59fd-7104-4184-891a-b7c7c24c036d",
   "metadata": {},
   "outputs": [
    {
     "name": "stdout",
     "output_type": "stream",
     "text": [
      " [('John', 45, 45.23) ('Kavin', 69, 68.99) ('Leo Das', 89, 89.34)\n",
      " ('Padma', 27, 26.55) ('Sree', 78, 77.99)] \n",
      "\n",
      "\n",
      "       name  marks  overall_percentage\n",
      "0     John     45               45.23\n",
      "1    Kavin     69               68.99\n",
      "2  Leo Das     89               89.34\n",
      "3    Padma     27               26.55\n",
      "4     Sree     78               77.99 \n",
      "\n"
     ]
    }
   ],
   "source": [
    "##  NumPy structured array\n",
    "data = np.zeros(5, dtype = [(\"name\",\"U10\"),(\"marks\",\"i4\"),(\"overall_percentage\",\"f8\")])\n",
    "name = [\"John\", \"Kavin\", \"Leo Das\", \"Padma\",\"Sree\"]\n",
    "marks = [45,69,89,27,78]\n",
    "overall_percentage = [45.23,68.99,89.34,26.55,77.99]\n",
    "\n",
    "data[\"name\"] = name\n",
    "data[\"marks\"] = marks\n",
    "data[\"overall_percentage\"] = overall_percentage\n",
    "\n",
    "print(f\" {data} \\n\")\n",
    "print(f\"\\n {pd.DataFrame(data)} \\n\")"
   ]
  },
  {
   "cell_type": "code",
   "execution_count": 69,
   "id": "bf7dda96-cb86-4cc4-a45f-28ded9595f18",
   "metadata": {},
   "outputs": [
    {
     "data": {
      "text/plain": [
       "Index([2, 3, 5, 7, 11], dtype='int64')"
      ]
     },
     "execution_count": 69,
     "metadata": {},
     "output_type": "execute_result"
    }
   ],
   "source": [
    "## Index Object\n",
    "inde = pd.Index([2, 3, 5, 7, 11])  ## Index object can be thought of either as an Immutable array or as an ordered set \n",
    "inde"
   ]
  },
  {
   "cell_type": "code",
   "execution_count": 71,
   "id": "af072d8d-bb4e-4b00-a823-b7e355822cdb",
   "metadata": {},
   "outputs": [
    {
     "name": "stdout",
     "output_type": "stream",
     "text": [
      "5 (5,) 1 int64\n"
     ]
    }
   ],
   "source": [
    "print(inde.size, inde.shape, inde.ndim, inde.dtype)"
   ]
  },
  {
   "cell_type": "code",
   "execution_count": 78,
   "id": "6055f448-241c-4d60-8bc8-0bc7ae43ebf7",
   "metadata": {},
   "outputs": [
    {
     "name": "stdout",
     "output_type": "stream",
     "text": [
      " [ 2  3  5  7 11] \n",
      "\n",
      " Index([2, 3, 5, 7, 11], dtype='int64') \n",
      "\n",
      " [99  3  5  7 11] \n",
      "\n"
     ]
    },
    {
     "ename": "TypeError",
     "evalue": "Index does not support mutable operations",
     "output_type": "error",
     "traceback": [
      "\u001b[1;31m---------------------------------------------------------------------------\u001b[0m",
      "\u001b[1;31mTypeError\u001b[0m                                 Traceback (most recent call last)",
      "Cell \u001b[1;32mIn[78], line 11\u001b[0m\n\u001b[0;32m      8\u001b[0m numpy[\u001b[38;5;241m0\u001b[39m] \u001b[38;5;241m=\u001b[39m \u001b[38;5;241m99\u001b[39m\n\u001b[0;32m      9\u001b[0m \u001b[38;5;28mprint\u001b[39m(\u001b[38;5;124mf\u001b[39m\u001b[38;5;124m\"\u001b[39m\u001b[38;5;124m \u001b[39m\u001b[38;5;132;01m{\u001b[39;00mnumpy\u001b[38;5;132;01m}\u001b[39;00m\u001b[38;5;124m \u001b[39m\u001b[38;5;130;01m\\n\u001b[39;00m\u001b[38;5;124m\"\u001b[39m) \u001b[38;5;66;03m##mutable\u001b[39;00m\n\u001b[1;32m---> 11\u001b[0m index_obj[\u001b[38;5;241m0\u001b[39m] \u001b[38;5;241m=\u001b[39m \u001b[38;5;241m99\u001b[39m \u001b[38;5;66;03m##immutable\u001b[39;00m\n\u001b[0;32m     12\u001b[0m \u001b[38;5;28mprint\u001b[39m(\u001b[38;5;124mf\u001b[39m\u001b[38;5;124m\"\u001b[39m\u001b[38;5;124m \u001b[39m\u001b[38;5;132;01m{\u001b[39;00mindex_obj\u001b[38;5;132;01m}\u001b[39;00m\u001b[38;5;124m \u001b[39m\u001b[38;5;130;01m\\n\u001b[39;00m\u001b[38;5;124m\"\u001b[39m)\n",
      "File \u001b[1;32m~\\anaconda3\\Lib\\site-packages\\pandas\\core\\indexes\\base.py:5371\u001b[0m, in \u001b[0;36mIndex.__setitem__\u001b[1;34m(self, key, value)\u001b[0m\n\u001b[0;32m   5369\u001b[0m \u001b[38;5;129m@final\u001b[39m\n\u001b[0;32m   5370\u001b[0m \u001b[38;5;28;01mdef\u001b[39;00m\u001b[38;5;250m \u001b[39m\u001b[38;5;21m__setitem__\u001b[39m(\u001b[38;5;28mself\u001b[39m, key, value) \u001b[38;5;241m-\u001b[39m\u001b[38;5;241m>\u001b[39m \u001b[38;5;28;01mNone\u001b[39;00m:\n\u001b[1;32m-> 5371\u001b[0m     \u001b[38;5;28;01mraise\u001b[39;00m \u001b[38;5;167;01mTypeError\u001b[39;00m(\u001b[38;5;124m\"\u001b[39m\u001b[38;5;124mIndex does not support mutable operations\u001b[39m\u001b[38;5;124m\"\u001b[39m)\n",
      "\u001b[1;31mTypeError\u001b[0m: Index does not support mutable operations"
     ]
    }
   ],
   "source": [
    "numpy = np.array([2, 3, 5, 7, 11])\n",
    "print(f\" {numpy} \\n\")\n",
    "\n",
    "index_obj = pd.Index([2, 3, 5, 7, 11])\n",
    "print(f\" {index_obj} \\n\")\n",
    "\n",
    "## difference between numpy and index\n",
    "numpy[0] = 99\n",
    "print(f\" {numpy} \\n\") ##mutable\n",
    "\n",
    "index_obj[0] = 99 ##immutable\n",
    "print(f\" {index_obj} \\n\")\n"
   ]
  },
  {
   "cell_type": "markdown",
   "id": "fee8f0a3-42e8-42fb-96c5-9d1d693580db",
   "metadata": {},
   "source": [
    "#### Data Indexing and Selection"
   ]
  },
  {
   "cell_type": "code",
   "execution_count": 16,
   "id": "e643f390-ef2f-4fbe-a98f-d6ded0938df5",
   "metadata": {},
   "outputs": [
    {
     "data": {
      "text/html": [
       "<div>\n",
       "<style scoped>\n",
       "    .dataframe tbody tr th:only-of-type {\n",
       "        vertical-align: middle;\n",
       "    }\n",
       "\n",
       "    .dataframe tbody tr th {\n",
       "        vertical-align: top;\n",
       "    }\n",
       "\n",
       "    .dataframe thead th {\n",
       "        text-align: right;\n",
       "    }\n",
       "</style>\n",
       "<table border=\"1\" class=\"dataframe\">\n",
       "  <thead>\n",
       "    <tr style=\"text-align: right;\">\n",
       "      <th></th>\n",
       "      <th>marks</th>\n",
       "      <th>subject</th>\n",
       "    </tr>\n",
       "  </thead>\n",
       "  <tbody>\n",
       "    <tr>\n",
       "      <th>John</th>\n",
       "      <td>55.54</td>\n",
       "      <td>Statistics</td>\n",
       "    </tr>\n",
       "    <tr>\n",
       "      <th>Kavin</th>\n",
       "      <td>65.22</td>\n",
       "      <td>Mathematics</td>\n",
       "    </tr>\n",
       "    <tr>\n",
       "      <th>Padma</th>\n",
       "      <td>45.44</td>\n",
       "      <td>Chemistry</td>\n",
       "    </tr>\n",
       "    <tr>\n",
       "      <th>Suresh</th>\n",
       "      <td>87.34</td>\n",
       "      <td>Physics</td>\n",
       "    </tr>\n",
       "    <tr>\n",
       "      <th>Dev</th>\n",
       "      <td>34.65</td>\n",
       "      <td>Biotechnology</td>\n",
       "    </tr>\n",
       "  </tbody>\n",
       "</table>\n",
       "</div>"
      ],
      "text/plain": [
       "        marks        subject\n",
       "John    55.54     Statistics\n",
       "Kavin   65.22    Mathematics\n",
       "Padma   45.44      Chemistry\n",
       "Suresh  87.34        Physics\n",
       "Dev     34.65  Biotechnology"
      ]
     },
     "execution_count": 16,
     "metadata": {},
     "output_type": "execute_result"
    }
   ],
   "source": [
    "import pandas as pd\n",
    "\n",
    "students = ({\"John\" : 55.54 , \"Kavin\":65.22 , \"Padma\" : 45.44 , \"Suresh\":87.34 , \"Dev\":34.65})\n",
    "subject = ({\"John\" : \"Statistics\" , \"Kavin\":\"Mathematics\" , \"Padma\" : \"Chemistry\" , \"Suresh\":\"Physics\" , \"Dev\":\"Biotechnology\"})\n",
    "data = pd.DataFrame({\"marks\":students , \"subject\":subject})\n",
    "data"
   ]
  },
  {
   "cell_type": "code",
   "execution_count": 17,
   "id": "dbfa5c88-300e-4178-8af7-fb22e3b4ec9a",
   "metadata": {},
   "outputs": [
    {
     "name": "stdout",
     "output_type": "stream",
     "text": [
      "John         Statistics\n",
      "Kavin       Mathematics\n",
      "Padma         Chemistry\n",
      "Suresh          Physics\n",
      "Dev       Biotechnology\n",
      "Name: subject, dtype: object\n"
     ]
    },
    {
     "data": {
      "text/plain": [
       "John      55.54\n",
       "Kavin     65.22\n",
       "Padma     45.44\n",
       "Suresh    87.34\n",
       "Dev       34.65\n",
       "Name: marks, dtype: float64"
      ]
     },
     "execution_count": 17,
     "metadata": {},
     "output_type": "execute_result"
    }
   ],
   "source": [
    "print(data[\"subject\"])\n",
    "data.marks"
   ]
  },
  {
   "cell_type": "code",
   "execution_count": 18,
   "id": "6575b788-82cb-4acf-b23d-048ada705ba3",
   "metadata": {},
   "outputs": [
    {
     "data": {
      "text/html": [
       "<div>\n",
       "<style scoped>\n",
       "    .dataframe tbody tr th:only-of-type {\n",
       "        vertical-align: middle;\n",
       "    }\n",
       "\n",
       "    .dataframe tbody tr th {\n",
       "        vertical-align: top;\n",
       "    }\n",
       "\n",
       "    .dataframe thead th {\n",
       "        text-align: right;\n",
       "    }\n",
       "</style>\n",
       "<table border=\"1\" class=\"dataframe\">\n",
       "  <thead>\n",
       "    <tr style=\"text-align: right;\">\n",
       "      <th></th>\n",
       "      <th>marks</th>\n",
       "      <th>subject</th>\n",
       "      <th>percentage</th>\n",
       "    </tr>\n",
       "  </thead>\n",
       "  <tbody>\n",
       "    <tr>\n",
       "      <th>John</th>\n",
       "      <td>55.54</td>\n",
       "      <td>Statistics</td>\n",
       "      <td>55.54</td>\n",
       "    </tr>\n",
       "    <tr>\n",
       "      <th>Kavin</th>\n",
       "      <td>65.22</td>\n",
       "      <td>Mathematics</td>\n",
       "      <td>65.22</td>\n",
       "    </tr>\n",
       "    <tr>\n",
       "      <th>Padma</th>\n",
       "      <td>45.44</td>\n",
       "      <td>Chemistry</td>\n",
       "      <td>45.44</td>\n",
       "    </tr>\n",
       "    <tr>\n",
       "      <th>Suresh</th>\n",
       "      <td>87.34</td>\n",
       "      <td>Physics</td>\n",
       "      <td>87.34</td>\n",
       "    </tr>\n",
       "    <tr>\n",
       "      <th>Dev</th>\n",
       "      <td>34.65</td>\n",
       "      <td>Biotechnology</td>\n",
       "      <td>34.65</td>\n",
       "    </tr>\n",
       "  </tbody>\n",
       "</table>\n",
       "</div>"
      ],
      "text/plain": [
       "        marks        subject  percentage\n",
       "John    55.54     Statistics       55.54\n",
       "Kavin   65.22    Mathematics       65.22\n",
       "Padma   45.44      Chemistry       45.44\n",
       "Suresh  87.34        Physics       87.34\n",
       "Dev     34.65  Biotechnology       34.65"
      ]
     },
     "execution_count": 18,
     "metadata": {},
     "output_type": "execute_result"
    }
   ],
   "source": [
    "## adding a new column\n",
    "data[\"percentage\"] = (data[\"marks\"]/100) * 100\n",
    "data"
   ]
  },
  {
   "cell_type": "code",
   "execution_count": 19,
   "id": "c64d102a-f77f-4863-b1a1-688bb59a4008",
   "metadata": {},
   "outputs": [
    {
     "data": {
      "text/html": [
       "<div>\n",
       "<style scoped>\n",
       "    .dataframe tbody tr th:only-of-type {\n",
       "        vertical-align: middle;\n",
       "    }\n",
       "\n",
       "    .dataframe tbody tr th {\n",
       "        vertical-align: top;\n",
       "    }\n",
       "\n",
       "    .dataframe thead th {\n",
       "        text-align: right;\n",
       "    }\n",
       "</style>\n",
       "<table border=\"1\" class=\"dataframe\">\n",
       "  <thead>\n",
       "    <tr style=\"text-align: right;\">\n",
       "      <th></th>\n",
       "      <th>John</th>\n",
       "      <th>Kavin</th>\n",
       "      <th>Padma</th>\n",
       "      <th>Suresh</th>\n",
       "      <th>Dev</th>\n",
       "    </tr>\n",
       "  </thead>\n",
       "  <tbody>\n",
       "    <tr>\n",
       "      <th>marks</th>\n",
       "      <td>55.54</td>\n",
       "      <td>65.22</td>\n",
       "      <td>45.44</td>\n",
       "      <td>87.34</td>\n",
       "      <td>34.65</td>\n",
       "    </tr>\n",
       "    <tr>\n",
       "      <th>subject</th>\n",
       "      <td>Statistics</td>\n",
       "      <td>Mathematics</td>\n",
       "      <td>Chemistry</td>\n",
       "      <td>Physics</td>\n",
       "      <td>Biotechnology</td>\n",
       "    </tr>\n",
       "    <tr>\n",
       "      <th>percentage</th>\n",
       "      <td>55.54</td>\n",
       "      <td>65.22</td>\n",
       "      <td>45.44</td>\n",
       "      <td>87.34</td>\n",
       "      <td>34.65</td>\n",
       "    </tr>\n",
       "  </tbody>\n",
       "</table>\n",
       "</div>"
      ],
      "text/plain": [
       "                  John        Kavin      Padma   Suresh            Dev\n",
       "marks            55.54        65.22      45.44    87.34          34.65\n",
       "subject     Statistics  Mathematics  Chemistry  Physics  Biotechnology\n",
       "percentage       55.54        65.22      45.44    87.34          34.65"
      ]
     },
     "execution_count": 19,
     "metadata": {},
     "output_type": "execute_result"
    }
   ],
   "source": [
    "### transpose the full DataFrame to swap rows and columns\n",
    "data.T\n"
   ]
  },
  {
   "cell_type": "code",
   "execution_count": 23,
   "id": "fd065c4b-f8f3-4d56-aad1-ca429e311a21",
   "metadata": {},
   "outputs": [
    {
     "name": "stdout",
     "output_type": "stream",
     "text": [
      "55.54\n",
      "Statistics\n"
     ]
    }
   ],
   "source": [
    "print(data.marks[\"John\"])\n",
    "print(data.subject[\"John\"])"
   ]
  },
  {
   "cell_type": "code",
   "execution_count": 47,
   "id": "119a2468-6f79-4f21-ac21-91dd80852dd9",
   "metadata": {},
   "outputs": [
    {
     "data": {
      "text/html": [
       "<div>\n",
       "<style scoped>\n",
       "    .dataframe tbody tr th:only-of-type {\n",
       "        vertical-align: middle;\n",
       "    }\n",
       "\n",
       "    .dataframe tbody tr th {\n",
       "        vertical-align: top;\n",
       "    }\n",
       "\n",
       "    .dataframe thead th {\n",
       "        text-align: right;\n",
       "    }\n",
       "</style>\n",
       "<table border=\"1\" class=\"dataframe\">\n",
       "  <thead>\n",
       "    <tr style=\"text-align: right;\">\n",
       "      <th></th>\n",
       "      <th>subject</th>\n",
       "      <th>marks</th>\n",
       "    </tr>\n",
       "  </thead>\n",
       "  <tbody>\n",
       "    <tr>\n",
       "      <th>John</th>\n",
       "      <td>Statistics</td>\n",
       "      <td>55.54</td>\n",
       "    </tr>\n",
       "    <tr>\n",
       "      <th>Kavin</th>\n",
       "      <td>Mathematics</td>\n",
       "      <td>65.22</td>\n",
       "    </tr>\n",
       "    <tr>\n",
       "      <th>Padma</th>\n",
       "      <td>Chemistry</td>\n",
       "      <td>45.44</td>\n",
       "    </tr>\n",
       "    <tr>\n",
       "      <th>Suresh</th>\n",
       "      <td>Physics</td>\n",
       "      <td>87.34</td>\n",
       "    </tr>\n",
       "    <tr>\n",
       "      <th>Dev</th>\n",
       "      <td>Biotechnology</td>\n",
       "      <td>34.65</td>\n",
       "    </tr>\n",
       "    <tr>\n",
       "      <th>Sree</th>\n",
       "      <td>Computer science</td>\n",
       "      <td>57.98</td>\n",
       "    </tr>\n",
       "    <tr>\n",
       "      <th>Mathew</th>\n",
       "      <td>Data science</td>\n",
       "      <td>76.87</td>\n",
       "    </tr>\n",
       "    <tr>\n",
       "      <th>Sachin</th>\n",
       "      <td>AI ML</td>\n",
       "      <td>65.33</td>\n",
       "    </tr>\n",
       "  </tbody>\n",
       "</table>\n",
       "</div>"
      ],
      "text/plain": [
       "                 subject  marks\n",
       "John          Statistics  55.54\n",
       "Kavin        Mathematics  65.22\n",
       "Padma          Chemistry  45.44\n",
       "Suresh           Physics  87.34\n",
       "Dev        Biotechnology  34.65\n",
       "Sree    Computer science  57.98\n",
       "Mathew      Data science  76.87\n",
       "Sachin             AI ML  65.33"
      ]
     },
     "execution_count": 47,
     "metadata": {},
     "output_type": "execute_result"
    }
   ],
   "source": [
    "### uses of loc, iloc, and ix indexers\n",
    "students = ({\"John\" : 55.54 , \n",
    "             \"Kavin\":65.22 , \n",
    "             \"Padma\" : 45.44 , \n",
    "             \"Suresh\":87.34 , \n",
    "             \"Dev\":34.65 , \n",
    "             \"Sree\":57.98 ,\n",
    "             \"Mathew\":76.87 ,\n",
    "             \"Sachin\":65.33})\n",
    "subject = ({\"John\" : \"Statistics\" ,\n",
    "            \"Kavin\":\"Mathematics\" , \n",
    "            \"Padma\" : \"Chemistry\" , \n",
    "            \"Suresh\":\"Physics\" , \n",
    "            \"Dev\":\"Biotechnology\",\n",
    "            \"Sree\":\"Computer science\" ,\n",
    "            \"Mathew\":\"Data science\" ,\n",
    "            \"Sachin\":\"AI ML\"})\n",
    "data = pd.DataFrame({\"subject\":subject , \"marks\":students })\n",
    "data\n"
   ]
  },
  {
   "cell_type": "code",
   "execution_count": 48,
   "id": "b3983a5d-d67d-4b7c-8192-0939ae30d96f",
   "metadata": {},
   "outputs": [
    {
     "name": "stdout",
     "output_type": "stream",
     "text": [
      "John      55.54\n",
      "Kavin     65.22\n",
      "Padma     45.44\n",
      "Suresh    87.34\n",
      "Dev       34.65\n",
      "Sree      57.98\n",
      "Mathew    76.87\n",
      "Sachin    65.33\n",
      "Name: marks, dtype: float64\n",
      "           subject  marks\n",
      "John    Statistics  55.54\n",
      "Kavin  Mathematics  65.22\n",
      "Padma    Chemistry  45.44\n",
      "                 subject  marks\n",
      "Padma          Chemistry  45.44\n",
      "Suresh           Physics  87.34\n",
      "Dev        Biotechnology  34.65\n",
      "Sree    Computer science  57.98\n",
      "Mathew      Data science  76.87\n",
      "              subject  marks\n",
      "Kavin     Mathematics  65.22\n",
      "Padma       Chemistry  45.44\n",
      "Suresh        Physics  87.34\n",
      "Dev     Biotechnology  34.65\n"
     ]
    }
   ],
   "source": [
    "print(data.marks)\n",
    "\n",
    "## If you want to select specific students, you can use slicing (iloc,loc)\n",
    "print(data.iloc[:3, :2])   ##select first 3 rows,select first 2 columns\n",
    "print(data.iloc[2:7, 0:2])\n",
    "\n",
    "print(data.loc[\"Kavin\":\"Dev\",\"subject\":\"marks\"])\n"
   ]
  },
  {
   "cell_type": "code",
   "execution_count": 49,
   "id": "b9e41e71-0648-4181-8369-609cd067c6e4",
   "metadata": {},
   "outputs": [
    {
     "data": {
      "text/html": [
       "<div>\n",
       "<style scoped>\n",
       "    .dataframe tbody tr th:only-of-type {\n",
       "        vertical-align: middle;\n",
       "    }\n",
       "\n",
       "    .dataframe tbody tr th {\n",
       "        vertical-align: top;\n",
       "    }\n",
       "\n",
       "    .dataframe thead th {\n",
       "        text-align: right;\n",
       "    }\n",
       "</style>\n",
       "<table border=\"1\" class=\"dataframe\">\n",
       "  <thead>\n",
       "    <tr style=\"text-align: right;\">\n",
       "      <th></th>\n",
       "      <th>subject</th>\n",
       "      <th>marks</th>\n",
       "    </tr>\n",
       "  </thead>\n",
       "  <tbody>\n",
       "    <tr>\n",
       "      <th>John</th>\n",
       "      <td>Statistics</td>\n",
       "      <td>55.54</td>\n",
       "    </tr>\n",
       "    <tr>\n",
       "      <th>Kavin</th>\n",
       "      <td>Mathematics</td>\n",
       "      <td>65.22</td>\n",
       "    </tr>\n",
       "    <tr>\n",
       "      <th>Suresh</th>\n",
       "      <td>Physics</td>\n",
       "      <td>87.34</td>\n",
       "    </tr>\n",
       "    <tr>\n",
       "      <th>Sree</th>\n",
       "      <td>Computer science</td>\n",
       "      <td>57.98</td>\n",
       "    </tr>\n",
       "    <tr>\n",
       "      <th>Mathew</th>\n",
       "      <td>Data science</td>\n",
       "      <td>76.87</td>\n",
       "    </tr>\n",
       "    <tr>\n",
       "      <th>Sachin</th>\n",
       "      <td>AI ML</td>\n",
       "      <td>65.33</td>\n",
       "    </tr>\n",
       "  </tbody>\n",
       "</table>\n",
       "</div>"
      ],
      "text/plain": [
       "                 subject  marks\n",
       "John          Statistics  55.54\n",
       "Kavin        Mathematics  65.22\n",
       "Suresh           Physics  87.34\n",
       "Sree    Computer science  57.98\n",
       "Mathew      Data science  76.87\n",
       "Sachin             AI ML  65.33"
      ]
     },
     "execution_count": 49,
     "metadata": {},
     "output_type": "execute_result"
    }
   ],
   "source": [
    "## masking\n",
    "data.loc[data.marks > 50 , [\"subject\",\"marks\"]]"
   ]
  },
  {
   "cell_type": "code",
   "execution_count": 52,
   "id": "c8aa0b2b-eaf0-4412-b412-abe87a2cb527",
   "metadata": {},
   "outputs": [
    {
     "data": {
      "text/html": [
       "<div>\n",
       "<style scoped>\n",
       "    .dataframe tbody tr th:only-of-type {\n",
       "        vertical-align: middle;\n",
       "    }\n",
       "\n",
       "    .dataframe tbody tr th {\n",
       "        vertical-align: top;\n",
       "    }\n",
       "\n",
       "    .dataframe thead th {\n",
       "        text-align: right;\n",
       "    }\n",
       "</style>\n",
       "<table border=\"1\" class=\"dataframe\">\n",
       "  <thead>\n",
       "    <tr style=\"text-align: right;\">\n",
       "      <th></th>\n",
       "      <th>marks</th>\n",
       "    </tr>\n",
       "  </thead>\n",
       "  <tbody>\n",
       "    <tr>\n",
       "      <th>John</th>\n",
       "      <td>55.54</td>\n",
       "    </tr>\n",
       "    <tr>\n",
       "      <th>Kavin</th>\n",
       "      <td>98.00</td>\n",
       "    </tr>\n",
       "    <tr>\n",
       "      <th>Suresh</th>\n",
       "      <td>87.34</td>\n",
       "    </tr>\n",
       "    <tr>\n",
       "      <th>Sree</th>\n",
       "      <td>57.98</td>\n",
       "    </tr>\n",
       "    <tr>\n",
       "      <th>Mathew</th>\n",
       "      <td>76.87</td>\n",
       "    </tr>\n",
       "    <tr>\n",
       "      <th>Sachin</th>\n",
       "      <td>65.33</td>\n",
       "    </tr>\n",
       "  </tbody>\n",
       "</table>\n",
       "</div>"
      ],
      "text/plain": [
       "        marks\n",
       "John    55.54\n",
       "Kavin   98.00\n",
       "Suresh  87.34\n",
       "Sree    57.98\n",
       "Mathew  76.87\n",
       "Sachin  65.33"
      ]
     },
     "execution_count": 52,
     "metadata": {},
     "output_type": "execute_result"
    }
   ],
   "source": [
    "data.loc[data.marks > 50 , [\"marks\"]]"
   ]
  },
  {
   "cell_type": "code",
   "execution_count": 55,
   "id": "ffb9cd21-a170-4c1d-bafb-d762bf47477c",
   "metadata": {},
   "outputs": [
    {
     "data": {
      "text/html": [
       "<div>\n",
       "<style scoped>\n",
       "    .dataframe tbody tr th:only-of-type {\n",
       "        vertical-align: middle;\n",
       "    }\n",
       "\n",
       "    .dataframe tbody tr th {\n",
       "        vertical-align: top;\n",
       "    }\n",
       "\n",
       "    .dataframe thead th {\n",
       "        text-align: right;\n",
       "    }\n",
       "</style>\n",
       "<table border=\"1\" class=\"dataframe\">\n",
       "  <thead>\n",
       "    <tr style=\"text-align: right;\">\n",
       "      <th></th>\n",
       "      <th>subject</th>\n",
       "      <th>marks</th>\n",
       "    </tr>\n",
       "  </thead>\n",
       "  <tbody>\n",
       "    <tr>\n",
       "      <th>John</th>\n",
       "      <td>Statistics</td>\n",
       "      <td>55.54</td>\n",
       "    </tr>\n",
       "    <tr>\n",
       "      <th>Kavin</th>\n",
       "      <td>Mathematics</td>\n",
       "      <td>98.00</td>\n",
       "    </tr>\n",
       "    <tr>\n",
       "      <th>Padma</th>\n",
       "      <td>Chemistry</td>\n",
       "      <td>45.44</td>\n",
       "    </tr>\n",
       "    <tr>\n",
       "      <th>Suresh</th>\n",
       "      <td>Physics</td>\n",
       "      <td>87.34</td>\n",
       "    </tr>\n",
       "    <tr>\n",
       "      <th>Dev</th>\n",
       "      <td>Biotechnology</td>\n",
       "      <td>34.65</td>\n",
       "    </tr>\n",
       "    <tr>\n",
       "      <th>Sree</th>\n",
       "      <td>Computer science</td>\n",
       "      <td>57.98</td>\n",
       "    </tr>\n",
       "    <tr>\n",
       "      <th>Mathew</th>\n",
       "      <td>Data science</td>\n",
       "      <td>76.87</td>\n",
       "    </tr>\n",
       "    <tr>\n",
       "      <th>Sachin</th>\n",
       "      <td>AI ML</td>\n",
       "      <td>65.33</td>\n",
       "    </tr>\n",
       "  </tbody>\n",
       "</table>\n",
       "</div>"
      ],
      "text/plain": [
       "                 subject  marks\n",
       "John          Statistics  55.54\n",
       "Kavin        Mathematics  98.00\n",
       "Padma          Chemistry  45.44\n",
       "Suresh           Physics  87.34\n",
       "Dev        Biotechnology  34.65\n",
       "Sree    Computer science  57.98\n",
       "Mathew      Data science  76.87\n",
       "Sachin             AI ML  65.33"
      ]
     },
     "execution_count": 55,
     "metadata": {},
     "output_type": "execute_result"
    }
   ],
   "source": [
    "##  set or modify values\n",
    "data.iloc[1,1] = 98\n",
    "data"
   ]
  },
  {
   "cell_type": "markdown",
   "id": "d0765154-f0d2-45ac-a029-88ac893ff8c3",
   "metadata": {},
   "source": [
    "#### Operating on Data in Pandas"
   ]
  },
  {
   "cell_type": "code",
   "execution_count": 60,
   "id": "3b39ee9a-658e-4911-8432-92902c1d6525",
   "metadata": {},
   "outputs": [
    {
     "name": "stdout",
     "output_type": "stream",
     "text": [
      "John      3084.6916\n",
      "Kavin     4253.6484\n",
      "Padma     2064.7936\n",
      "Suresh    7628.2756\n",
      "Dev       1200.6225\n",
      "dtype: float64\n",
      "John      55.54\n",
      "Kavin     65.22\n",
      "Padma     45.44\n",
      "Suresh    87.34\n",
      "Dev       34.65\n",
      "dtype: float64\n"
     ]
    }
   ],
   "source": [
    "### Ufuncs: Index Preservation - Universal functions are vectorized functions that operate element-wise on arrays\n",
    "import numpy as np\n",
    "import pandas as pd\n",
    "\n",
    "students = ({\"John\" : 55.54 , \"Kavin\":65.22 , \"Padma\" : 45.44 , \"Suresh\":87.34 , \"Dev\":34.65})\n",
    "student = pd.Series(students)\n",
    "\n",
    "stu = np.square(student)\n",
    "print(stu)\n",
    "\n",
    "stu = np.sqrt(stu)\n",
    "print(stu)"
   ]
  },
  {
   "cell_type": "code",
   "execution_count": 63,
   "id": "841ce52d-2d79-4729-b17f-1ac41c96a820",
   "metadata": {},
   "outputs": [
    {
     "name": "stdout",
     "output_type": "stream",
     "text": [
      "   A  B  C  D\n",
      "0  0  2  1  3\n",
      "1  4  2  8  1\n",
      "2  0  0  6  6\n",
      "          A         B         C         D\n",
      "0  0.000000  0.909297  0.841471  0.141120\n",
      "1 -0.756802  0.909297  0.989358  0.841471\n",
      "2  0.000000  0.000000 -0.279415 -0.279415\n"
     ]
    },
    {
     "data": {
      "text/html": [
       "<div>\n",
       "<style scoped>\n",
       "    .dataframe tbody tr th:only-of-type {\n",
       "        vertical-align: middle;\n",
       "    }\n",
       "\n",
       "    .dataframe tbody tr th {\n",
       "        vertical-align: top;\n",
       "    }\n",
       "\n",
       "    .dataframe thead th {\n",
       "        text-align: right;\n",
       "    }\n",
       "</style>\n",
       "<table border=\"1\" class=\"dataframe\">\n",
       "  <thead>\n",
       "    <tr style=\"text-align: right;\">\n",
       "      <th></th>\n",
       "      <th>A</th>\n",
       "      <th>B</th>\n",
       "      <th>C</th>\n",
       "      <th>D</th>\n",
       "    </tr>\n",
       "  </thead>\n",
       "  <tbody>\n",
       "    <tr>\n",
       "      <th>0</th>\n",
       "      <td>0.000000e+00</td>\n",
       "      <td>1.0</td>\n",
       "      <td>7.071068e-01</td>\n",
       "      <td>0.707107</td>\n",
       "    </tr>\n",
       "    <tr>\n",
       "      <th>1</th>\n",
       "      <td>1.224647e-16</td>\n",
       "      <td>1.0</td>\n",
       "      <td>-2.449294e-16</td>\n",
       "      <td>0.707107</td>\n",
       "    </tr>\n",
       "    <tr>\n",
       "      <th>2</th>\n",
       "      <td>0.000000e+00</td>\n",
       "      <td>0.0</td>\n",
       "      <td>-1.000000e+00</td>\n",
       "      <td>-1.000000</td>\n",
       "    </tr>\n",
       "  </tbody>\n",
       "</table>\n",
       "</div>"
      ],
      "text/plain": [
       "              A    B             C         D\n",
       "0  0.000000e+00  1.0  7.071068e-01  0.707107\n",
       "1  1.224647e-16  1.0 -2.449294e-16  0.707107\n",
       "2  0.000000e+00  0.0 -1.000000e+00 -1.000000"
      ]
     },
     "execution_count": 63,
     "metadata": {},
     "output_type": "execute_result"
    }
   ],
   "source": [
    "df = pd.DataFrame(np.random.randint(0, 10, (3, 4)),\n",
    "                  columns=['A', 'B', 'C', 'D'])\n",
    "print(df)\n",
    "print(np.sin(df))\n",
    "np.sin(df * np.pi / 4)"
   ]
  },
  {
   "cell_type": "code",
   "execution_count": 66,
   "id": "dcdbc230-a520-4d2e-80bd-80c77e8ffac1",
   "metadata": {},
   "outputs": [
    {
     "name": "stdout",
     "output_type": "stream",
     "text": [
      "0    1\n",
      "1    4\n",
      "2    3\n",
      "dtype: int64\n",
      "0    5\n",
      "3    6\n",
      "2    7\n",
      "dtype: int64\n"
     ]
    }
   ],
   "source": [
    "### Index Alignment - binary operations on two Series or DataFrame objects\n",
    "A = pd.Series([1,4,3] , index=[0,1,2])\n",
    "B = pd.Series([5,6,7] , index=[0,3,2])\n",
    "print(A)\n",
    "print(B)"
   ]
  },
  {
   "cell_type": "code",
   "execution_count": 68,
   "id": "a23f8ef5-d59b-4670-a59b-77fde8f2dd7f",
   "metadata": {},
   "outputs": [
    {
     "name": "stdout",
     "output_type": "stream",
     "text": [
      "0     6.0\n",
      "1     NaN\n",
      "2    10.0\n",
      "3     NaN\n",
      "dtype: float64\n",
      "0     6.0\n",
      "1     NaN\n",
      "2    10.0\n",
      "3     NaN\n",
      "dtype: float64\n"
     ]
    }
   ],
   "source": [
    "print(A+B)\n",
    "print(A.add(B))"
   ]
  },
  {
   "cell_type": "code",
   "execution_count": 69,
   "id": "c145296d-20bc-4a80-94f9-52ce4f3d25e3",
   "metadata": {},
   "outputs": [
    {
     "data": {
      "text/plain": [
       "0     6.0\n",
       "1     4.0\n",
       "2    10.0\n",
       "3     6.0\n",
       "dtype: float64"
      ]
     },
     "execution_count": 69,
     "metadata": {},
     "output_type": "execute_result"
    }
   ],
   "source": [
    "A.add(B, fill_value=0) "
   ]
  },
  {
   "cell_type": "markdown",
   "id": "7b87b972-ea5a-4d6e-a5db-6512e6659f8f",
   "metadata": {},
   "source": [
    "6.0   # (1+5)\n",
    "\n",
    "4.0   # (4+0, since index=1 not in B → fill with 0)\n",
    "\n",
    "10.0   # (3+7)\n",
    "\n",
    "6.0   # (0+6, since index=3 not in A → fill with 0)"
   ]
  },
  {
   "cell_type": "code",
   "execution_count": 70,
   "id": "10a7579f-5a91-457a-931f-1a0174adfe7a",
   "metadata": {},
   "outputs": [
    {
     "data": {
      "text/plain": [
       "0     6.0\n",
       "1     6.0\n",
       "2    10.0\n",
       "3     8.0\n",
       "dtype: float64"
      ]
     },
     "execution_count": 70,
     "metadata": {},
     "output_type": "execute_result"
    }
   ],
   "source": [
    "A.add(B, fill_value=2) "
   ]
  },
  {
   "cell_type": "markdown",
   "id": "7aafa436-e588-4db6-ba5f-cc60bbfbfb51",
   "metadata": {},
   "source": [
    "##### Index alignment in DataFrame"
   ]
  },
  {
   "cell_type": "code",
   "execution_count": 74,
   "id": "d5d1b912-baba-44f0-8cca-b8660c9e1cf6",
   "metadata": {},
   "outputs": [
    {
     "name": "stdout",
     "output_type": "stream",
     "text": [
      "    A   B   C   D\n",
      "0  10  27  15  27\n",
      "1  21  12  20  16\n",
      "2  27  28  22  11\n",
      "3  20  22  25  25\n",
      "    A   C   B\n",
      "0  47  25  21\n",
      "1  34  24  38\n",
      "2  44  23  34\n"
     ]
    }
   ],
   "source": [
    "A = pd.DataFrame(np.random.randint(10,30 , size= (4,4)) , columns = list(\"ABCD\"))\n",
    "print(A)\n",
    "B = pd.DataFrame(np.random.randint(20,50 , size= (3,3)) , columns = [\"A\",\"C\",\"B\"])\n",
    "print(B)"
   ]
  },
  {
   "cell_type": "code",
   "execution_count": 75,
   "id": "de9cd850-1c01-4070-9e26-127d0e795fbf",
   "metadata": {},
   "outputs": [
    {
     "data": {
      "text/html": [
       "<div>\n",
       "<style scoped>\n",
       "    .dataframe tbody tr th:only-of-type {\n",
       "        vertical-align: middle;\n",
       "    }\n",
       "\n",
       "    .dataframe tbody tr th {\n",
       "        vertical-align: top;\n",
       "    }\n",
       "\n",
       "    .dataframe thead th {\n",
       "        text-align: right;\n",
       "    }\n",
       "</style>\n",
       "<table border=\"1\" class=\"dataframe\">\n",
       "  <thead>\n",
       "    <tr style=\"text-align: right;\">\n",
       "      <th></th>\n",
       "      <th>A</th>\n",
       "      <th>B</th>\n",
       "      <th>C</th>\n",
       "      <th>D</th>\n",
       "    </tr>\n",
       "  </thead>\n",
       "  <tbody>\n",
       "    <tr>\n",
       "      <th>0</th>\n",
       "      <td>57.0</td>\n",
       "      <td>48.0</td>\n",
       "      <td>40.0</td>\n",
       "      <td>NaN</td>\n",
       "    </tr>\n",
       "    <tr>\n",
       "      <th>1</th>\n",
       "      <td>55.0</td>\n",
       "      <td>50.0</td>\n",
       "      <td>44.0</td>\n",
       "      <td>NaN</td>\n",
       "    </tr>\n",
       "    <tr>\n",
       "      <th>2</th>\n",
       "      <td>71.0</td>\n",
       "      <td>62.0</td>\n",
       "      <td>45.0</td>\n",
       "      <td>NaN</td>\n",
       "    </tr>\n",
       "    <tr>\n",
       "      <th>3</th>\n",
       "      <td>NaN</td>\n",
       "      <td>NaN</td>\n",
       "      <td>NaN</td>\n",
       "      <td>NaN</td>\n",
       "    </tr>\n",
       "  </tbody>\n",
       "</table>\n",
       "</div>"
      ],
      "text/plain": [
       "      A     B     C   D\n",
       "0  57.0  48.0  40.0 NaN\n",
       "1  55.0  50.0  44.0 NaN\n",
       "2  71.0  62.0  45.0 NaN\n",
       "3   NaN   NaN   NaN NaN"
      ]
     },
     "execution_count": 75,
     "metadata": {},
     "output_type": "execute_result"
    }
   ],
   "source": [
    "A+B\n",
    "A.add(B)"
   ]
  },
  {
   "cell_type": "code",
   "execution_count": 77,
   "id": "d8140850-2869-4f9e-8cbb-80dcc8ab9d90",
   "metadata": {},
   "outputs": [
    {
     "data": {
      "text/html": [
       "<div>\n",
       "<style scoped>\n",
       "    .dataframe tbody tr th:only-of-type {\n",
       "        vertical-align: middle;\n",
       "    }\n",
       "\n",
       "    .dataframe tbody tr th {\n",
       "        vertical-align: top;\n",
       "    }\n",
       "\n",
       "    .dataframe thead th {\n",
       "        text-align: right;\n",
       "    }\n",
       "</style>\n",
       "<table border=\"1\" class=\"dataframe\">\n",
       "  <thead>\n",
       "    <tr style=\"text-align: right;\">\n",
       "      <th></th>\n",
       "      <th>A</th>\n",
       "      <th>B</th>\n",
       "      <th>C</th>\n",
       "      <th>D</th>\n",
       "    </tr>\n",
       "  </thead>\n",
       "  <tbody>\n",
       "    <tr>\n",
       "      <th>0</th>\n",
       "      <td>57.0</td>\n",
       "      <td>48.0</td>\n",
       "      <td>40.0</td>\n",
       "      <td>27.0</td>\n",
       "    </tr>\n",
       "    <tr>\n",
       "      <th>1</th>\n",
       "      <td>55.0</td>\n",
       "      <td>50.0</td>\n",
       "      <td>44.0</td>\n",
       "      <td>16.0</td>\n",
       "    </tr>\n",
       "    <tr>\n",
       "      <th>2</th>\n",
       "      <td>71.0</td>\n",
       "      <td>62.0</td>\n",
       "      <td>45.0</td>\n",
       "      <td>11.0</td>\n",
       "    </tr>\n",
       "    <tr>\n",
       "      <th>3</th>\n",
       "      <td>20.0</td>\n",
       "      <td>22.0</td>\n",
       "      <td>25.0</td>\n",
       "      <td>25.0</td>\n",
       "    </tr>\n",
       "  </tbody>\n",
       "</table>\n",
       "</div>"
      ],
      "text/plain": [
       "      A     B     C     D\n",
       "0  57.0  48.0  40.0  27.0\n",
       "1  55.0  50.0  44.0  16.0\n",
       "2  71.0  62.0  45.0  11.0\n",
       "3  20.0  22.0  25.0  25.0"
      ]
     },
     "execution_count": 77,
     "metadata": {},
     "output_type": "execute_result"
    }
   ],
   "source": [
    "A.add(B , fill_value = 0)"
   ]
  },
  {
   "cell_type": "code",
   "execution_count": 87,
   "id": "05317842-4843-4869-a9bc-e9d986871449",
   "metadata": {},
   "outputs": [
    {
     "name": "stdout",
     "output_type": "stream",
     "text": [
      "20.5\n",
      "34.0\n"
     ]
    }
   ],
   "source": [
    " \n",
    "fill = A.stack().mean()  ##average of all values in A\n",
    "print(fill)\n",
    "\n",
    "fill_ = B.stack().median() ##average of all values in B\n",
    "print(fill_)"
   ]
  },
  {
   "cell_type": "code",
   "execution_count": 88,
   "id": "83be572b-a124-41f3-8acc-8c0ba3060861",
   "metadata": {},
   "outputs": [
    {
     "name": "stdout",
     "output_type": "stream",
     "text": [
      "      A     B     C     D\n",
      "0  57.0  48.0  40.0  47.5\n",
      "1  55.0  50.0  44.0  36.5\n",
      "2  71.0  62.0  45.0  31.5\n",
      "3  40.5  42.5  45.5  45.5\n",
      "      A     B     C     D\n",
      "0  57.0  48.0  40.0  61.0\n",
      "1  55.0  50.0  44.0  50.0\n",
      "2  71.0  62.0  45.0  45.0\n",
      "3  54.0  56.0  59.0  59.0\n"
     ]
    }
   ],
   "source": [
    "print(A.add(B , fill_value = fill))\n",
    "print(A.add(B , fill_value = fill_))"
   ]
  },
  {
   "cell_type": "markdown",
   "id": "bdac1858-334f-4a94-82e3-b9c57b6129d1",
   "metadata": {},
   "source": [
    "both A and B had values (same row index + column), they’re added\n",
    "\n",
    "Where only one existed, the other is treated as fill (mean of A OR B)\n"
   ]
  },
  {
   "cell_type": "code",
   "execution_count": 89,
   "id": "b9083f66-19d5-4fd4-a05c-fa8b68315e16",
   "metadata": {},
   "outputs": [
    {
     "data": {
      "text/html": [
       "<div>\n",
       "<style scoped>\n",
       "    .dataframe tbody tr th:only-of-type {\n",
       "        vertical-align: middle;\n",
       "    }\n",
       "\n",
       "    .dataframe tbody tr th {\n",
       "        vertical-align: top;\n",
       "    }\n",
       "\n",
       "    .dataframe thead th {\n",
       "        text-align: right;\n",
       "    }\n",
       "</style>\n",
       "<table border=\"1\" class=\"dataframe\">\n",
       "  <thead>\n",
       "    <tr style=\"text-align: right;\">\n",
       "      <th></th>\n",
       "      <th>A</th>\n",
       "      <th>B</th>\n",
       "      <th>C</th>\n",
       "      <th>D</th>\n",
       "    </tr>\n",
       "  </thead>\n",
       "  <tbody>\n",
       "    <tr>\n",
       "      <th>0</th>\n",
       "      <td>-37.0</td>\n",
       "      <td>6.0</td>\n",
       "      <td>-10.0</td>\n",
       "      <td>NaN</td>\n",
       "    </tr>\n",
       "    <tr>\n",
       "      <th>1</th>\n",
       "      <td>-13.0</td>\n",
       "      <td>-26.0</td>\n",
       "      <td>-4.0</td>\n",
       "      <td>NaN</td>\n",
       "    </tr>\n",
       "    <tr>\n",
       "      <th>2</th>\n",
       "      <td>-17.0</td>\n",
       "      <td>-6.0</td>\n",
       "      <td>-1.0</td>\n",
       "      <td>NaN</td>\n",
       "    </tr>\n",
       "    <tr>\n",
       "      <th>3</th>\n",
       "      <td>NaN</td>\n",
       "      <td>NaN</td>\n",
       "      <td>NaN</td>\n",
       "      <td>NaN</td>\n",
       "    </tr>\n",
       "  </tbody>\n",
       "</table>\n",
       "</div>"
      ],
      "text/plain": [
       "      A     B     C   D\n",
       "0 -37.0   6.0 -10.0 NaN\n",
       "1 -13.0 -26.0  -4.0 NaN\n",
       "2 -17.0  -6.0  -1.0 NaN\n",
       "3   NaN   NaN   NaN NaN"
      ]
     },
     "execution_count": 89,
     "metadata": {},
     "output_type": "execute_result"
    }
   ],
   "source": [
    "A.subtract(B)"
   ]
  },
  {
   "cell_type": "code",
   "execution_count": 90,
   "id": "9dfd7a64-282b-45a0-87d0-b48b7c6ad1b9",
   "metadata": {},
   "outputs": [
    {
     "data": {
      "text/html": [
       "<div>\n",
       "<style scoped>\n",
       "    .dataframe tbody tr th:only-of-type {\n",
       "        vertical-align: middle;\n",
       "    }\n",
       "\n",
       "    .dataframe tbody tr th {\n",
       "        vertical-align: top;\n",
       "    }\n",
       "\n",
       "    .dataframe thead th {\n",
       "        text-align: right;\n",
       "    }\n",
       "</style>\n",
       "<table border=\"1\" class=\"dataframe\">\n",
       "  <thead>\n",
       "    <tr style=\"text-align: right;\">\n",
       "      <th></th>\n",
       "      <th>A</th>\n",
       "      <th>B</th>\n",
       "      <th>C</th>\n",
       "      <th>D</th>\n",
       "    </tr>\n",
       "  </thead>\n",
       "  <tbody>\n",
       "    <tr>\n",
       "      <th>0</th>\n",
       "      <td>470.0</td>\n",
       "      <td>567.0</td>\n",
       "      <td>375.0</td>\n",
       "      <td>0.0</td>\n",
       "    </tr>\n",
       "    <tr>\n",
       "      <th>1</th>\n",
       "      <td>714.0</td>\n",
       "      <td>456.0</td>\n",
       "      <td>480.0</td>\n",
       "      <td>0.0</td>\n",
       "    </tr>\n",
       "    <tr>\n",
       "      <th>2</th>\n",
       "      <td>1188.0</td>\n",
       "      <td>952.0</td>\n",
       "      <td>506.0</td>\n",
       "      <td>0.0</td>\n",
       "    </tr>\n",
       "    <tr>\n",
       "      <th>3</th>\n",
       "      <td>0.0</td>\n",
       "      <td>0.0</td>\n",
       "      <td>0.0</td>\n",
       "      <td>0.0</td>\n",
       "    </tr>\n",
       "  </tbody>\n",
       "</table>\n",
       "</div>"
      ],
      "text/plain": [
       "        A      B      C    D\n",
       "0   470.0  567.0  375.0  0.0\n",
       "1   714.0  456.0  480.0  0.0\n",
       "2  1188.0  952.0  506.0  0.0\n",
       "3     0.0    0.0    0.0  0.0"
      ]
     },
     "execution_count": 90,
     "metadata": {},
     "output_type": "execute_result"
    }
   ],
   "source": [
    "A.multiply(B , fill_value = 0)"
   ]
  },
  {
   "cell_type": "code",
   "execution_count": 91,
   "id": "faf9c35c-f1cc-4de0-8267-d15027f6e5f0",
   "metadata": {},
   "outputs": [
    {
     "data": {
      "text/html": [
       "<div>\n",
       "<style scoped>\n",
       "    .dataframe tbody tr th:only-of-type {\n",
       "        vertical-align: middle;\n",
       "    }\n",
       "\n",
       "    .dataframe tbody tr th {\n",
       "        vertical-align: top;\n",
       "    }\n",
       "\n",
       "    .dataframe thead th {\n",
       "        text-align: right;\n",
       "    }\n",
       "</style>\n",
       "<table border=\"1\" class=\"dataframe\">\n",
       "  <thead>\n",
       "    <tr style=\"text-align: right;\">\n",
       "      <th></th>\n",
       "      <th>A</th>\n",
       "      <th>B</th>\n",
       "      <th>C</th>\n",
       "      <th>D</th>\n",
       "    </tr>\n",
       "  </thead>\n",
       "  <tbody>\n",
       "    <tr>\n",
       "      <th>0</th>\n",
       "      <td>5.259913e+16</td>\n",
       "      <td>5.010960e+35</td>\n",
       "      <td>9.313226e+20</td>\n",
       "      <td>NaN</td>\n",
       "    </tr>\n",
       "    <tr>\n",
       "      <th>1</th>\n",
       "      <td>1.448963e+32</td>\n",
       "      <td>9.065738e+18</td>\n",
       "      <td>4.019989e+27</td>\n",
       "      <td>NaN</td>\n",
       "    </tr>\n",
       "    <tr>\n",
       "      <th>2</th>\n",
       "      <td>2.361687e+44</td>\n",
       "      <td>7.610438e+42</td>\n",
       "      <td>9.078464e+29</td>\n",
       "      <td>NaN</td>\n",
       "    </tr>\n",
       "    <tr>\n",
       "      <th>3</th>\n",
       "      <td>NaN</td>\n",
       "      <td>NaN</td>\n",
       "      <td>NaN</td>\n",
       "      <td>NaN</td>\n",
       "    </tr>\n",
       "  </tbody>\n",
       "</table>\n",
       "</div>"
      ],
      "text/plain": [
       "              A             B             C   D\n",
       "0  5.259913e+16  5.010960e+35  9.313226e+20 NaN\n",
       "1  1.448963e+32  9.065738e+18  4.019989e+27 NaN\n",
       "2  2.361687e+44  7.610438e+42  9.078464e+29 NaN\n",
       "3           NaN           NaN           NaN NaN"
      ]
     },
     "execution_count": 91,
     "metadata": {},
     "output_type": "execute_result"
    }
   ],
   "source": [
    "B.pow(A)"
   ]
  },
  {
   "cell_type": "code",
   "execution_count": 86,
   "id": "53c8782f-8ffe-4d47-8f8a-2f7110de71ac",
   "metadata": {},
   "outputs": [
    {
     "data": {
      "text/html": [
       "<div>\n",
       "<style scoped>\n",
       "    .dataframe tbody tr th:only-of-type {\n",
       "        vertical-align: middle;\n",
       "    }\n",
       "\n",
       "    .dataframe tbody tr th {\n",
       "        vertical-align: top;\n",
       "    }\n",
       "\n",
       "    .dataframe thead th {\n",
       "        text-align: right;\n",
       "    }\n",
       "</style>\n",
       "<table border=\"1\" class=\"dataframe\">\n",
       "  <thead>\n",
       "    <tr style=\"text-align: right;\">\n",
       "      <th></th>\n",
       "      <th>A</th>\n",
       "      <th>B</th>\n",
       "      <th>C</th>\n",
       "      <th>D</th>\n",
       "    </tr>\n",
       "  </thead>\n",
       "  <tbody>\n",
       "    <tr>\n",
       "      <th>0</th>\n",
       "      <td>5.259913e+16</td>\n",
       "      <td>5.010960e+35</td>\n",
       "      <td>9.313226e+20</td>\n",
       "      <td>5.250470e+40</td>\n",
       "    </tr>\n",
       "    <tr>\n",
       "      <th>1</th>\n",
       "      <td>1.448963e+32</td>\n",
       "      <td>9.065738e+18</td>\n",
       "      <td>4.019989e+27</td>\n",
       "      <td>1.350479e+24</td>\n",
       "    </tr>\n",
       "    <tr>\n",
       "      <th>2</th>\n",
       "      <td>2.361687e+44</td>\n",
       "      <td>7.610438e+42</td>\n",
       "      <td>9.078464e+29</td>\n",
       "      <td>3.887858e+16</td>\n",
       "    </tr>\n",
       "    <tr>\n",
       "      <th>3</th>\n",
       "      <td>1.455827e+30</td>\n",
       "      <td>1.511544e+33</td>\n",
       "      <td>5.056933e+37</td>\n",
       "      <td>5.056933e+37</td>\n",
       "    </tr>\n",
       "  </tbody>\n",
       "</table>\n",
       "</div>"
      ],
      "text/plain": [
       "              A             B             C             D\n",
       "0  5.259913e+16  5.010960e+35  9.313226e+20  5.250470e+40\n",
       "1  1.448963e+32  9.065738e+18  4.019989e+27  1.350479e+24\n",
       "2  2.361687e+44  7.610438e+42  9.078464e+29  3.887858e+16\n",
       "3  1.455827e+30  1.511544e+33  5.056933e+37  5.056933e+37"
      ]
     },
     "execution_count": 86,
     "metadata": {},
     "output_type": "execute_result"
    }
   ],
   "source": [
    "B.pow(A , fill_value = fill_)"
   ]
  },
  {
   "cell_type": "markdown",
   "id": "242b89b3-c550-48fc-b741-a04348b4e18c",
   "metadata": {},
   "source": [
    "##### Operations Between DataFrame "
   ]
  },
  {
   "cell_type": "code",
   "execution_count": 118,
   "id": "2f93f98e-a8de-48ea-8642-575858c05a8b",
   "metadata": {},
   "outputs": [
    {
     "name": "stdout",
     "output_type": "stream",
     "text": [
      "    A   B   C   D\n",
      "0  25  16  13  21\n",
      "1  12  29  21  25\n",
      "2  10  29  17  13\n"
     ]
    }
   ],
   "source": [
    "a = pd.DataFrame(np.random.randint(10,30 , size= (3,4)) , columns = list(\"ABCD\"))\n",
    "print(a)\n",
    "\n"
   ]
  },
  {
   "cell_type": "code",
   "execution_count": 119,
   "id": "bee688b6-563a-4a51-93f8-58b36c1a4935",
   "metadata": {},
   "outputs": [
    {
     "data": {
      "text/html": [
       "<div>\n",
       "<style scoped>\n",
       "    .dataframe tbody tr th:only-of-type {\n",
       "        vertical-align: middle;\n",
       "    }\n",
       "\n",
       "    .dataframe tbody tr th {\n",
       "        vertical-align: top;\n",
       "    }\n",
       "\n",
       "    .dataframe thead th {\n",
       "        text-align: right;\n",
       "    }\n",
       "</style>\n",
       "<table border=\"1\" class=\"dataframe\">\n",
       "  <thead>\n",
       "    <tr style=\"text-align: right;\">\n",
       "      <th></th>\n",
       "      <th>A</th>\n",
       "      <th>B</th>\n",
       "      <th>C</th>\n",
       "      <th>D</th>\n",
       "    </tr>\n",
       "  </thead>\n",
       "  <tbody>\n",
       "    <tr>\n",
       "      <th>0</th>\n",
       "      <td>0</td>\n",
       "      <td>0</td>\n",
       "      <td>0</td>\n",
       "      <td>0</td>\n",
       "    </tr>\n",
       "    <tr>\n",
       "      <th>1</th>\n",
       "      <td>-13</td>\n",
       "      <td>13</td>\n",
       "      <td>8</td>\n",
       "      <td>4</td>\n",
       "    </tr>\n",
       "    <tr>\n",
       "      <th>2</th>\n",
       "      <td>-15</td>\n",
       "      <td>13</td>\n",
       "      <td>4</td>\n",
       "      <td>-8</td>\n",
       "    </tr>\n",
       "  </tbody>\n",
       "</table>\n",
       "</div>"
      ],
      "text/plain": [
       "    A   B  C  D\n",
       "0   0   0  0  0\n",
       "1 -13  13  8  4\n",
       "2 -15  13  4 -8"
      ]
     },
     "execution_count": 119,
     "metadata": {},
     "output_type": "execute_result"
    }
   ],
   "source": [
    "a - a.iloc[0]  ##subtract a row Series from a DataFrame, Pandas broadcasts it row-wise"
   ]
  },
  {
   "cell_type": "code",
   "execution_count": 120,
   "id": "bcdb57fa-b286-457c-8bd7-a0fde78ca037",
   "metadata": {},
   "outputs": [
    {
     "data": {
      "text/html": [
       "<div>\n",
       "<style scoped>\n",
       "    .dataframe tbody tr th:only-of-type {\n",
       "        vertical-align: middle;\n",
       "    }\n",
       "\n",
       "    .dataframe tbody tr th {\n",
       "        vertical-align: top;\n",
       "    }\n",
       "\n",
       "    .dataframe thead th {\n",
       "        text-align: right;\n",
       "    }\n",
       "</style>\n",
       "<table border=\"1\" class=\"dataframe\">\n",
       "  <thead>\n",
       "    <tr style=\"text-align: right;\">\n",
       "      <th></th>\n",
       "      <th>A</th>\n",
       "      <th>B</th>\n",
       "      <th>C</th>\n",
       "      <th>D</th>\n",
       "    </tr>\n",
       "  </thead>\n",
       "  <tbody>\n",
       "    <tr>\n",
       "      <th>0</th>\n",
       "      <td>13</td>\n",
       "      <td>-13</td>\n",
       "      <td>-8</td>\n",
       "      <td>-4</td>\n",
       "    </tr>\n",
       "    <tr>\n",
       "      <th>1</th>\n",
       "      <td>0</td>\n",
       "      <td>0</td>\n",
       "      <td>0</td>\n",
       "      <td>0</td>\n",
       "    </tr>\n",
       "    <tr>\n",
       "      <th>2</th>\n",
       "      <td>-2</td>\n",
       "      <td>0</td>\n",
       "      <td>-4</td>\n",
       "      <td>-12</td>\n",
       "    </tr>\n",
       "  </tbody>\n",
       "</table>\n",
       "</div>"
      ],
      "text/plain": [
       "    A   B  C   D\n",
       "0  13 -13 -8  -4\n",
       "1   0   0  0   0\n",
       "2  -2   0 -4 -12"
      ]
     },
     "execution_count": 120,
     "metadata": {},
     "output_type": "execute_result"
    }
   ],
   "source": [
    "a - a.iloc[1]"
   ]
  },
  {
   "cell_type": "code",
   "execution_count": 110,
   "id": "b6435e7a-bc07-44d3-8d84-e32abb7c0156",
   "metadata": {},
   "outputs": [
    {
     "data": {
      "text/html": [
       "<div>\n",
       "<style scoped>\n",
       "    .dataframe tbody tr th:only-of-type {\n",
       "        vertical-align: middle;\n",
       "    }\n",
       "\n",
       "    .dataframe tbody tr th {\n",
       "        vertical-align: top;\n",
       "    }\n",
       "\n",
       "    .dataframe thead th {\n",
       "        text-align: right;\n",
       "    }\n",
       "</style>\n",
       "<table border=\"1\" class=\"dataframe\">\n",
       "  <thead>\n",
       "    <tr style=\"text-align: right;\">\n",
       "      <th></th>\n",
       "      <th>A</th>\n",
       "      <th>B</th>\n",
       "      <th>C</th>\n",
       "      <th>D</th>\n",
       "    </tr>\n",
       "  </thead>\n",
       "  <tbody>\n",
       "    <tr>\n",
       "      <th>0</th>\n",
       "      <td>0</td>\n",
       "      <td>-9</td>\n",
       "      <td>0</td>\n",
       "      <td>-10</td>\n",
       "    </tr>\n",
       "    <tr>\n",
       "      <th>1</th>\n",
       "      <td>0</td>\n",
       "      <td>-3</td>\n",
       "      <td>-9</td>\n",
       "      <td>-1</td>\n",
       "    </tr>\n",
       "    <tr>\n",
       "      <th>2</th>\n",
       "      <td>0</td>\n",
       "      <td>6</td>\n",
       "      <td>6</td>\n",
       "      <td>-3</td>\n",
       "    </tr>\n",
       "  </tbody>\n",
       "</table>\n",
       "</div>"
      ],
      "text/plain": [
       "   A  B  C   D\n",
       "0  0 -9  0 -10\n",
       "1  0 -3 -9  -1\n",
       "2  0  6  6  -3"
      ]
     },
     "execution_count": 110,
     "metadata": {},
     "output_type": "execute_result"
    }
   ],
   "source": [
    "## operate column-wise\n",
    "A.subtract(A[\"A\"], axis=0)"
   ]
  },
  {
   "cell_type": "code",
   "execution_count": 121,
   "id": "8d050c2f-de9f-4ff6-9f60-de54547c8195",
   "metadata": {},
   "outputs": [
    {
     "data": {
      "text/html": [
       "<div>\n",
       "<style scoped>\n",
       "    .dataframe tbody tr th:only-of-type {\n",
       "        vertical-align: middle;\n",
       "    }\n",
       "\n",
       "    .dataframe tbody tr th {\n",
       "        vertical-align: top;\n",
       "    }\n",
       "\n",
       "    .dataframe thead th {\n",
       "        text-align: right;\n",
       "    }\n",
       "</style>\n",
       "<table border=\"1\" class=\"dataframe\">\n",
       "  <thead>\n",
       "    <tr style=\"text-align: right;\">\n",
       "      <th></th>\n",
       "      <th>A</th>\n",
       "      <th>B</th>\n",
       "      <th>C</th>\n",
       "      <th>D</th>\n",
       "    </tr>\n",
       "  </thead>\n",
       "  <tbody>\n",
       "    <tr>\n",
       "      <th>0</th>\n",
       "      <td>0</td>\n",
       "      <td>NaN</td>\n",
       "      <td>NaN</td>\n",
       "      <td>NaN</td>\n",
       "    </tr>\n",
       "    <tr>\n",
       "      <th>1</th>\n",
       "      <td>0</td>\n",
       "      <td>NaN</td>\n",
       "      <td>NaN</td>\n",
       "      <td>NaN</td>\n",
       "    </tr>\n",
       "    <tr>\n",
       "      <th>2</th>\n",
       "      <td>0</td>\n",
       "      <td>NaN</td>\n",
       "      <td>NaN</td>\n",
       "      <td>NaN</td>\n",
       "    </tr>\n",
       "  </tbody>\n",
       "</table>\n",
       "</div>"
      ],
      "text/plain": [
       "   A   B   C   D\n",
       "0  0 NaN NaN NaN\n",
       "1  0 NaN NaN NaN\n",
       "2  0 NaN NaN NaN"
      ]
     },
     "execution_count": 121,
     "metadata": {},
     "output_type": "execute_result"
    }
   ],
   "source": [
    "sub = a.iloc[0:3,:1]\n",
    "a - sub\n",
    "\n",
    "## sub has only column A, so only column A in 'a' will be subtracted.\n",
    "## Columns B and C in 'a' don’t exist in the sub - result will be NaN there."
   ]
  },
  {
   "cell_type": "code",
   "execution_count": 141,
   "id": "9de14441-4459-4e09-b306-bdcc4fd7cfeb",
   "metadata": {},
   "outputs": [
    {
     "name": "stdout",
     "output_type": "stream",
     "text": [
      "     A    B    C    D\n",
      "0  250  464  221  273\n",
      "1  120  841  357  325\n",
      "2  100  841  289  169\n",
      "     A    B    C    D\n",
      "0  250  464  221  273\n",
      "1  120  841  357  325\n",
      "2  100  841  289  169\n",
      "     A    B    C    D\n",
      "0  400  256  208  336\n",
      "1  348  841  609  725\n",
      "2  290  841  493  377\n"
     ]
    }
   ],
   "source": [
    "print(a * a.iloc[2]) \n",
    "print(a.multiply(a.iloc[2], axis=1))\n",
    "print(a.multiply(a[\"B\"], axis=0))"
   ]
  },
  {
   "cell_type": "markdown",
   "id": "935f5225-7b02-48e6-a8e7-5ffff3dc81e6",
   "metadata": {},
   "source": [
    "#### Handling Missing Data"
   ]
  },
  {
   "cell_type": "code",
   "execution_count": 3,
   "id": "efb1e469-a73e-4625-be74-9b363d73d507",
   "metadata": {},
   "outputs": [],
   "source": [
    "import numpy as np\n",
    "import pandas as pd"
   ]
  },
  {
   "cell_type": "code",
   "execution_count": 7,
   "id": "814dd634-c3f8-4da6-bf43-ff95992af675",
   "metadata": {},
   "outputs": [
    {
     "data": {
      "text/plain": [
       "array([[5.23, 4.65, 7.88, None],\n",
       "       [6.77, 3.22, 4.55, 6.43],\n",
       "       [None, 7.88, None, 8.33]], dtype=object)"
      ]
     },
     "execution_count": 7,
     "metadata": {},
     "output_type": "execute_result"
    }
   ],
   "source": [
    "## None: Pythonic missing data\n",
    "data = np.array([[5.23,4.65,7.88 ,None],\n",
    "                 [6.77,3.22,4.55,6.43],\n",
    "                 [None,7.88,None,8.33]])\n",
    "data"
   ]
  },
  {
   "cell_type": "code",
   "execution_count": 8,
   "id": "aa7054ed-6b69-4514-8483-e525fe1ccbab",
   "metadata": {},
   "outputs": [
    {
     "ename": "TypeError",
     "evalue": "unsupported operand type(s) for +: 'float' and 'NoneType'",
     "output_type": "error",
     "traceback": [
      "\u001b[1;31m---------------------------------------------------------------------------\u001b[0m",
      "\u001b[1;31mTypeError\u001b[0m                                 Traceback (most recent call last)",
      "Cell \u001b[1;32mIn[8], line 2\u001b[0m\n\u001b[0;32m      1\u001b[0m \u001b[38;5;66;03m## if you perform aggregations like sum() or min() across an array with a None value, you will generally get an error:\u001b[39;00m\n\u001b[1;32m----> 2\u001b[0m data\u001b[38;5;241m.\u001b[39msum()\n",
      "File \u001b[1;32m~\\anaconda3\\Lib\\site-packages\\numpy\\_core\\_methods.py:53\u001b[0m, in \u001b[0;36m_sum\u001b[1;34m(a, axis, dtype, out, keepdims, initial, where)\u001b[0m\n\u001b[0;32m     51\u001b[0m \u001b[38;5;28;01mdef\u001b[39;00m\u001b[38;5;250m \u001b[39m\u001b[38;5;21m_sum\u001b[39m(a, axis\u001b[38;5;241m=\u001b[39m\u001b[38;5;28;01mNone\u001b[39;00m, dtype\u001b[38;5;241m=\u001b[39m\u001b[38;5;28;01mNone\u001b[39;00m, out\u001b[38;5;241m=\u001b[39m\u001b[38;5;28;01mNone\u001b[39;00m, keepdims\u001b[38;5;241m=\u001b[39m\u001b[38;5;28;01mFalse\u001b[39;00m,\n\u001b[0;32m     52\u001b[0m          initial\u001b[38;5;241m=\u001b[39m_NoValue, where\u001b[38;5;241m=\u001b[39m\u001b[38;5;28;01mTrue\u001b[39;00m):\n\u001b[1;32m---> 53\u001b[0m     \u001b[38;5;28;01mreturn\u001b[39;00m umr_sum(a, axis, dtype, out, keepdims, initial, where)\n",
      "\u001b[1;31mTypeError\u001b[0m: unsupported operand type(s) for +: 'float' and 'NoneType'"
     ]
    }
   ],
   "source": [
    "## if you perform aggregations like sum() or min() across an array with a None value, you will generally get an error:\n",
    "data.sum()"
   ]
  },
  {
   "cell_type": "code",
   "execution_count": 21,
   "id": "fcd1de3d-e3a0-4545-96c9-16fb74c30a0b",
   "metadata": {},
   "outputs": [
    {
     "data": {
      "text/plain": [
       "dtype('float64')"
      ]
     },
     "execution_count": 21,
     "metadata": {},
     "output_type": "execute_result"
    }
   ],
   "source": [
    "##NaN: Missing numerical data\n",
    "data = np.array([1, np.nan, 3, 4])\n",
    "data.dtype"
   ]
  },
  {
   "cell_type": "code",
   "execution_count": 16,
   "id": "c9f29d1f-3efa-485e-82d2-4fcb4405c484",
   "metadata": {},
   "outputs": [
    {
     "name": "stdout",
     "output_type": "stream",
     "text": [
      "nan\n"
     ]
    },
    {
     "data": {
      "text/plain": [
       "nan"
      ]
     },
     "execution_count": 16,
     "metadata": {},
     "output_type": "execute_result"
    }
   ],
   "source": [
    "a = 1 + np.nan\n",
    "print(a) \n",
    "\n",
    "b = 0 * np.nan\n",
    "b\n",
    "\n",
    "##  Regardless of the operation, the result of arithmetic with NaN will be another NaN"
   ]
  },
  {
   "cell_type": "code",
   "execution_count": 25,
   "id": "95ae200d-66e5-4dac-ab70-704c14d2fa61",
   "metadata": {},
   "outputs": [
    {
     "data": {
      "text/plain": [
       "(np.float64(nan), <function ndarray.min>, <function ndarray.sum>)"
      ]
     },
     "execution_count": 25,
     "metadata": {},
     "output_type": "execute_result"
    }
   ],
   "source": [
    "data.max() , data.min , data.sum"
   ]
  },
  {
   "cell_type": "code",
   "execution_count": 27,
   "id": "2ffa2ced-19fc-45a8-84e8-34541e168b08",
   "metadata": {},
   "outputs": [
    {
     "name": "stdout",
     "output_type": "stream",
     "text": [
      "8.0\n",
      "1.0\n"
     ]
    }
   ],
   "source": [
    "## some special aggregations that will ignore these missing values:\n",
    "a = np.nansum(data) \n",
    "b = np.nanmin(data)\n",
    "print(a)\n",
    "print(b)"
   ]
  },
  {
   "cell_type": "markdown",
   "id": "83bbd5e1-862b-446c-b202-96628097ed1e",
   "metadata": {},
   "source": [
    "#### NaN and None in Pandas"
   ]
  },
  {
   "cell_type": "code",
   "execution_count": 29,
   "id": "2478599b-2852-48ad-b449-683b5bdd6b05",
   "metadata": {},
   "outputs": [
    {
     "data": {
      "text/plain": [
       "0    1.0\n",
       "1    NaN\n",
       "2    3.0\n",
       "3    4.0\n",
       "dtype: float64"
      ]
     },
     "execution_count": 29,
     "metadata": {},
     "output_type": "execute_result"
    }
   ],
   "source": [
    "pd.Series([1, np.nan, 3, 4])"
   ]
  },
  {
   "cell_type": "code",
   "execution_count": 32,
   "id": "d8553894-d623-49ac-8af7-3019205201a5",
   "metadata": {},
   "outputs": [
    {
     "data": {
      "text/plain": [
       "0    0\n",
       "1    1\n",
       "dtype: int64"
      ]
     },
     "execution_count": 32,
     "metadata": {},
     "output_type": "execute_result"
    }
   ],
   "source": [
    "a = pd.Series(range(2) , dtype = int)\n",
    "a"
   ]
  },
  {
   "cell_type": "code",
   "execution_count": 34,
   "id": "55b94de8-5239-4323-9321-ab8a533d94e7",
   "metadata": {},
   "outputs": [
    {
     "data": {
      "text/plain": [
       "0    NaN\n",
       "1    1.0\n",
       "dtype: float64"
      ]
     },
     "execution_count": 34,
     "metadata": {},
     "output_type": "execute_result"
    }
   ],
   "source": [
    "a[0] = None\n",
    "a              ## Pandas automatically converts the None to a NaN value"
   ]
  },
  {
   "cell_type": "markdown",
   "id": "5e4f03a6-2be1-4566-9913-9bace068233e",
   "metadata": {},
   "source": [
    "#### Operating on Null Values"
   ]
  },
  {
   "cell_type": "markdown",
   "id": "d95c668b-b7c9-4d33-b330-0a943ccaaeea",
   "metadata": {},
   "source": [
    "##### Detecting null values"
   ]
  },
  {
   "cell_type": "code",
   "execution_count": 36,
   "id": "d054ce68-b325-4b99-8d31-0fa40b5a2957",
   "metadata": {},
   "outputs": [
    {
     "data": {
      "text/plain": [
       "0    False\n",
       "1     True\n",
       "2    False\n",
       "3     True\n",
       "dtype: bool"
      ]
     },
     "execution_count": 36,
     "metadata": {},
     "output_type": "execute_result"
    }
   ],
   "source": [
    "data = pd.Series([1, np.nan, 'hello', None])\n",
    "data.isnull()\n",
    "\n",
    "## return the boolean value  -  indicating the missing values(note - numbers) as True"
   ]
  },
  {
   "cell_type": "code",
   "execution_count": 41,
   "id": "b0041616-756a-4c71-ac53-6b62fa885a90",
   "metadata": {},
   "outputs": [
    {
     "name": "stdout",
     "output_type": "stream",
     "text": [
      "0     True\n",
      "1    False\n",
      "2     True\n",
      "3    False\n",
      "dtype: bool\n"
     ]
    },
    {
     "data": {
      "text/plain": [
       "0        1\n",
       "2    hello\n",
       "dtype: object"
      ]
     },
     "execution_count": 41,
     "metadata": {},
     "output_type": "execute_result"
    }
   ],
   "source": [
    "print(data.notnull())   ##  Opposite of isnull()\n",
    "data[data.notnull()]    ## returns the non missing values"
   ]
  },
  {
   "cell_type": "code",
   "execution_count": 43,
   "id": "30a82051-0df4-4f2f-ba54-eb80c1d5ac2c",
   "metadata": {},
   "outputs": [
    {
     "data": {
      "text/plain": [
       "0        1\n",
       "2    hello\n",
       "dtype: object"
      ]
     },
     "execution_count": 43,
     "metadata": {},
     "output_type": "execute_result"
    }
   ],
   "source": [
    "data.dropna()    ## drops the missing values"
   ]
  },
  {
   "cell_type": "code",
   "execution_count": 44,
   "id": "20cfffa1-74e3-48b7-8ac6-44f0b8976c5f",
   "metadata": {},
   "outputs": [
    {
     "data": {
      "text/html": [
       "<div>\n",
       "<style scoped>\n",
       "    .dataframe tbody tr th:only-of-type {\n",
       "        vertical-align: middle;\n",
       "    }\n",
       "\n",
       "    .dataframe tbody tr th {\n",
       "        vertical-align: top;\n",
       "    }\n",
       "\n",
       "    .dataframe thead th {\n",
       "        text-align: right;\n",
       "    }\n",
       "</style>\n",
       "<table border=\"1\" class=\"dataframe\">\n",
       "  <thead>\n",
       "    <tr style=\"text-align: right;\">\n",
       "      <th></th>\n",
       "      <th>0</th>\n",
       "      <th>1</th>\n",
       "      <th>2</th>\n",
       "    </tr>\n",
       "  </thead>\n",
       "  <tbody>\n",
       "    <tr>\n",
       "      <th>0</th>\n",
       "      <td>1.0</td>\n",
       "      <td>NaN</td>\n",
       "      <td>2</td>\n",
       "    </tr>\n",
       "    <tr>\n",
       "      <th>1</th>\n",
       "      <td>2.0</td>\n",
       "      <td>3.0</td>\n",
       "      <td>5</td>\n",
       "    </tr>\n",
       "    <tr>\n",
       "      <th>2</th>\n",
       "      <td>NaN</td>\n",
       "      <td>4.0</td>\n",
       "      <td>6</td>\n",
       "    </tr>\n",
       "  </tbody>\n",
       "</table>\n",
       "</div>"
      ],
      "text/plain": [
       "     0    1  2\n",
       "0  1.0  NaN  2\n",
       "1  2.0  3.0  5\n",
       "2  NaN  4.0  6"
      ]
     },
     "execution_count": 44,
     "metadata": {},
     "output_type": "execute_result"
    }
   ],
   "source": [
    "df = pd.DataFrame([[1,      np.nan, 2],\n",
    "                   [2,      3,      5],\n",
    "                   [np.nan, 4,      6]])\n",
    "df"
   ]
  },
  {
   "cell_type": "code",
   "execution_count": 45,
   "id": "430dfb0a-4c3d-406d-b941-431a3e495459",
   "metadata": {},
   "outputs": [
    {
     "name": "stdout",
     "output_type": "stream",
     "text": [
      "       0      1      2\n",
      "0  False   True  False\n",
      "1  False  False  False\n",
      "2   True  False  False\n",
      "       0      1     2\n",
      "0   True  False  True\n",
      "1   True   True  True\n",
      "2  False   True  True\n",
      "     0    1  2\n",
      "1  2.0  3.0  5\n",
      "     0    1  2\n",
      "0  1.0  0.0  2\n",
      "1  2.0  3.0  5\n",
      "2  0.0  4.0  6\n"
     ]
    }
   ],
   "source": [
    "print(df.isnull())\n",
    "print(df.notnull())\n",
    "print(df.dropna())\n",
    "print(df.fillna(0))"
   ]
  },
  {
   "cell_type": "code",
   "execution_count": 47,
   "id": "6f2b690f-38fb-49ff-90e1-8e4da31ea423",
   "metadata": {},
   "outputs": [
    {
     "data": {
      "text/html": [
       "<div>\n",
       "<style scoped>\n",
       "    .dataframe tbody tr th:only-of-type {\n",
       "        vertical-align: middle;\n",
       "    }\n",
       "\n",
       "    .dataframe tbody tr th {\n",
       "        vertical-align: top;\n",
       "    }\n",
       "\n",
       "    .dataframe thead th {\n",
       "        text-align: right;\n",
       "    }\n",
       "</style>\n",
       "<table border=\"1\" class=\"dataframe\">\n",
       "  <thead>\n",
       "    <tr style=\"text-align: right;\">\n",
       "      <th></th>\n",
       "      <th>2</th>\n",
       "    </tr>\n",
       "  </thead>\n",
       "  <tbody>\n",
       "    <tr>\n",
       "      <th>0</th>\n",
       "      <td>2</td>\n",
       "    </tr>\n",
       "    <tr>\n",
       "      <th>1</th>\n",
       "      <td>5</td>\n",
       "    </tr>\n",
       "    <tr>\n",
       "      <th>2</th>\n",
       "      <td>6</td>\n",
       "    </tr>\n",
       "  </tbody>\n",
       "</table>\n",
       "</div>"
      ],
      "text/plain": [
       "   2\n",
       "0  2\n",
       "1  5\n",
       "2  6"
      ]
     },
     "execution_count": 47,
     "metadata": {},
     "output_type": "execute_result"
    }
   ],
   "source": [
    "## Alternatively, you can drop NA values along a different axis\n",
    "df.dropna(axis = 1)   ## drops all the columns which as null values"
   ]
  },
  {
   "cell_type": "code",
   "execution_count": 48,
   "id": "6b50e98a-f24c-46b6-a5f2-41a067ad75e2",
   "metadata": {},
   "outputs": [
    {
     "data": {
      "text/html": [
       "<div>\n",
       "<style scoped>\n",
       "    .dataframe tbody tr th:only-of-type {\n",
       "        vertical-align: middle;\n",
       "    }\n",
       "\n",
       "    .dataframe tbody tr th {\n",
       "        vertical-align: top;\n",
       "    }\n",
       "\n",
       "    .dataframe thead th {\n",
       "        text-align: right;\n",
       "    }\n",
       "</style>\n",
       "<table border=\"1\" class=\"dataframe\">\n",
       "  <thead>\n",
       "    <tr style=\"text-align: right;\">\n",
       "      <th></th>\n",
       "      <th>0</th>\n",
       "      <th>1</th>\n",
       "      <th>2</th>\n",
       "    </tr>\n",
       "  </thead>\n",
       "  <tbody>\n",
       "    <tr>\n",
       "      <th>1</th>\n",
       "      <td>2.0</td>\n",
       "      <td>3.0</td>\n",
       "      <td>5</td>\n",
       "    </tr>\n",
       "  </tbody>\n",
       "</table>\n",
       "</div>"
      ],
      "text/plain": [
       "     0    1  2\n",
       "1  2.0  3.0  5"
      ]
     },
     "execution_count": 48,
     "metadata": {},
     "output_type": "execute_result"
    }
   ],
   "source": [
    "df.dropna(axis = 0)"
   ]
  },
  {
   "cell_type": "code",
   "execution_count": 58,
   "id": "d5be8d94-ba7e-4aea-b50b-d10f959f8626",
   "metadata": {},
   "outputs": [
    {
     "name": "stdout",
     "output_type": "stream",
     "text": [
      "     0    1    2\n",
      "0  1.0  NaN  2.0\n",
      "1  2.0  3.0  5.0\n",
      "2  NaN  4.0  6.0\n",
      "3  NaN  NaN  NaN\n"
     ]
    },
    {
     "data": {
      "text/html": [
       "<div>\n",
       "<style scoped>\n",
       "    .dataframe tbody tr th:only-of-type {\n",
       "        vertical-align: middle;\n",
       "    }\n",
       "\n",
       "    .dataframe tbody tr th {\n",
       "        vertical-align: top;\n",
       "    }\n",
       "\n",
       "    .dataframe thead th {\n",
       "        text-align: right;\n",
       "    }\n",
       "</style>\n",
       "<table border=\"1\" class=\"dataframe\">\n",
       "  <thead>\n",
       "    <tr style=\"text-align: right;\">\n",
       "      <th></th>\n",
       "      <th>0</th>\n",
       "      <th>1</th>\n",
       "      <th>2</th>\n",
       "    </tr>\n",
       "  </thead>\n",
       "  <tbody>\n",
       "    <tr>\n",
       "      <th>0</th>\n",
       "      <td>1.0</td>\n",
       "      <td>NaN</td>\n",
       "      <td>2.0</td>\n",
       "    </tr>\n",
       "    <tr>\n",
       "      <th>1</th>\n",
       "      <td>2.0</td>\n",
       "      <td>3.0</td>\n",
       "      <td>5.0</td>\n",
       "    </tr>\n",
       "    <tr>\n",
       "      <th>2</th>\n",
       "      <td>NaN</td>\n",
       "      <td>4.0</td>\n",
       "      <td>6.0</td>\n",
       "    </tr>\n",
       "  </tbody>\n",
       "</table>\n",
       "</div>"
      ],
      "text/plain": [
       "     0    1    2\n",
       "0  1.0  NaN  2.0\n",
       "1  2.0  3.0  5.0\n",
       "2  NaN  4.0  6.0"
      ]
     },
     "execution_count": 58,
     "metadata": {},
     "output_type": "execute_result"
    }
   ],
   "source": [
    "## specify which will only drop rows/columns that are all null values\n",
    "df = pd.DataFrame([[1,      np.nan, 2],\n",
    "                   [2,      3,      5],\n",
    "                   [np.nan, 4,      6],\n",
    "                  [np.nan,np.nan,np.nan]])\n",
    "print(df)\n",
    "\n",
    "df.dropna(axis= 0, how='all')\n"
   ]
  },
  {
   "cell_type": "code",
   "execution_count": 62,
   "id": "fda9b7bb-1109-4387-bbca-45c3802bfe44",
   "metadata": {},
   "outputs": [
    {
     "data": {
      "text/html": [
       "<div>\n",
       "<style scoped>\n",
       "    .dataframe tbody tr th:only-of-type {\n",
       "        vertical-align: middle;\n",
       "    }\n",
       "\n",
       "    .dataframe tbody tr th {\n",
       "        vertical-align: top;\n",
       "    }\n",
       "\n",
       "    .dataframe thead th {\n",
       "        text-align: right;\n",
       "    }\n",
       "</style>\n",
       "<table border=\"1\" class=\"dataframe\">\n",
       "  <thead>\n",
       "    <tr style=\"text-align: right;\">\n",
       "      <th></th>\n",
       "      <th>2</th>\n",
       "    </tr>\n",
       "  </thead>\n",
       "  <tbody>\n",
       "    <tr>\n",
       "      <th>0</th>\n",
       "      <td>2.0</td>\n",
       "    </tr>\n",
       "    <tr>\n",
       "      <th>1</th>\n",
       "      <td>5.0</td>\n",
       "    </tr>\n",
       "    <tr>\n",
       "      <th>2</th>\n",
       "      <td>6.0</td>\n",
       "    </tr>\n",
       "    <tr>\n",
       "      <th>3</th>\n",
       "      <td>NaN</td>\n",
       "    </tr>\n",
       "  </tbody>\n",
       "</table>\n",
       "</div>"
      ],
      "text/plain": [
       "     2\n",
       "0  2.0\n",
       "1  5.0\n",
       "2  6.0\n",
       "3  NaN"
      ]
     },
     "execution_count": 62,
     "metadata": {},
     "output_type": "execute_result"
    }
   ],
   "source": [
    "## specify a minimum number of non-null values for the row/column to be kept\n",
    "df.dropna(axis= 1, thresh=3)"
   ]
  },
  {
   "cell_type": "code",
   "execution_count": 70,
   "id": "7f9f363f-5d75-437e-8036-87d25905d767",
   "metadata": {},
   "outputs": [
    {
     "name": "stderr",
     "output_type": "stream",
     "text": [
      "C:\\Users\\vishnu\\AppData\\Local\\Temp\\ipykernel_14752\\1178501377.py:4: FutureWarning: Series.fillna with 'method' is deprecated and will raise in a future version. Use obj.ffill() or obj.bfill() instead.\n",
      "  data.fillna(method = \"bfill\")\n"
     ]
    },
    {
     "data": {
      "text/plain": [
       "0    1.0\n",
       "1    2.0\n",
       "2    2.0\n",
       "3    3.0\n",
       "4    3.0\n",
       "dtype: float64"
      ]
     },
     "execution_count": 70,
     "metadata": {},
     "output_type": "execute_result"
    }
   ],
   "source": [
    "## forward-fill and backward fill\n",
    "\n",
    "data = pd.Series([1, np.nan, 2, None, 3])\n",
    "data.fillna(method = \"bfill\")"
   ]
  },
  {
   "cell_type": "code",
   "execution_count": 71,
   "id": "0a4639ac-fe3b-4e5a-9b15-51b865a6df63",
   "metadata": {},
   "outputs": [
    {
     "name": "stderr",
     "output_type": "stream",
     "text": [
      "C:\\Users\\vishnu\\AppData\\Local\\Temp\\ipykernel_14752\\2484889564.py:2: FutureWarning: Series.fillna with 'method' is deprecated and will raise in a future version. Use obj.ffill() or obj.bfill() instead.\n",
      "  data.fillna(method = \"ffill\")\n"
     ]
    },
    {
     "data": {
      "text/plain": [
       "0    1.0\n",
       "1    1.0\n",
       "2    2.0\n",
       "3    2.0\n",
       "4    3.0\n",
       "dtype: float64"
      ]
     },
     "execution_count": 71,
     "metadata": {},
     "output_type": "execute_result"
    }
   ],
   "source": [
    "data = pd.Series([1, np.nan, 2, None, 3])\n",
    "data.fillna(method = \"ffill\")"
   ]
  },
  {
   "cell_type": "code",
   "execution_count": 73,
   "id": "671cfc12-998e-4184-a334-67535b30eb8c",
   "metadata": {},
   "outputs": [
    {
     "name": "stdout",
     "output_type": "stream",
     "text": [
      "     0    1    2\n",
      "0  1.0  NaN  2.0\n",
      "1  2.0  3.0  5.0\n",
      "2  NaN  4.0  6.0\n",
      "3  NaN  NaN  NaN\n"
     ]
    },
    {
     "name": "stderr",
     "output_type": "stream",
     "text": [
      "C:\\Users\\vishnu\\AppData\\Local\\Temp\\ipykernel_14752\\3336224385.py:7: FutureWarning: DataFrame.fillna with 'method' is deprecated and will raise in a future version. Use obj.ffill() or obj.bfill() instead.\n",
      "  df.fillna(method = \"ffill\" , axis = 0)\n"
     ]
    },
    {
     "data": {
      "text/html": [
       "<div>\n",
       "<style scoped>\n",
       "    .dataframe tbody tr th:only-of-type {\n",
       "        vertical-align: middle;\n",
       "    }\n",
       "\n",
       "    .dataframe tbody tr th {\n",
       "        vertical-align: top;\n",
       "    }\n",
       "\n",
       "    .dataframe thead th {\n",
       "        text-align: right;\n",
       "    }\n",
       "</style>\n",
       "<table border=\"1\" class=\"dataframe\">\n",
       "  <thead>\n",
       "    <tr style=\"text-align: right;\">\n",
       "      <th></th>\n",
       "      <th>0</th>\n",
       "      <th>1</th>\n",
       "      <th>2</th>\n",
       "    </tr>\n",
       "  </thead>\n",
       "  <tbody>\n",
       "    <tr>\n",
       "      <th>0</th>\n",
       "      <td>1.0</td>\n",
       "      <td>NaN</td>\n",
       "      <td>2.0</td>\n",
       "    </tr>\n",
       "    <tr>\n",
       "      <th>1</th>\n",
       "      <td>2.0</td>\n",
       "      <td>3.0</td>\n",
       "      <td>5.0</td>\n",
       "    </tr>\n",
       "    <tr>\n",
       "      <th>2</th>\n",
       "      <td>2.0</td>\n",
       "      <td>4.0</td>\n",
       "      <td>6.0</td>\n",
       "    </tr>\n",
       "    <tr>\n",
       "      <th>3</th>\n",
       "      <td>2.0</td>\n",
       "      <td>4.0</td>\n",
       "      <td>6.0</td>\n",
       "    </tr>\n",
       "  </tbody>\n",
       "</table>\n",
       "</div>"
      ],
      "text/plain": [
       "     0    1    2\n",
       "0  1.0  NaN  2.0\n",
       "1  2.0  3.0  5.0\n",
       "2  2.0  4.0  6.0\n",
       "3  2.0  4.0  6.0"
      ]
     },
     "execution_count": 73,
     "metadata": {},
     "output_type": "execute_result"
    }
   ],
   "source": [
    "df = pd.DataFrame([[1,      np.nan, 2],\n",
    "                   [2,      3,      5],\n",
    "                   [np.nan, 4,      6],\n",
    "                  [np.nan,np.nan,np.nan]])\n",
    "print(df)\n",
    "\n",
    "df.fillna(method = \"ffill\" , axis = 0)"
   ]
  },
  {
   "cell_type": "code",
   "execution_count": 75,
   "id": "44736c6d-6fc2-4056-ad73-e02ccf18c631",
   "metadata": {},
   "outputs": [
    {
     "name": "stderr",
     "output_type": "stream",
     "text": [
      "C:\\Users\\vishnu\\AppData\\Local\\Temp\\ipykernel_14752\\2166514853.py:1: FutureWarning: DataFrame.fillna with 'method' is deprecated and will raise in a future version. Use obj.ffill() or obj.bfill() instead.\n",
      "  df.fillna(method = \"ffill\" , axis = 1)  ## if a previous value is not available during a forward fill, the NA value remains.\n"
     ]
    },
    {
     "data": {
      "text/html": [
       "<div>\n",
       "<style scoped>\n",
       "    .dataframe tbody tr th:only-of-type {\n",
       "        vertical-align: middle;\n",
       "    }\n",
       "\n",
       "    .dataframe tbody tr th {\n",
       "        vertical-align: top;\n",
       "    }\n",
       "\n",
       "    .dataframe thead th {\n",
       "        text-align: right;\n",
       "    }\n",
       "</style>\n",
       "<table border=\"1\" class=\"dataframe\">\n",
       "  <thead>\n",
       "    <tr style=\"text-align: right;\">\n",
       "      <th></th>\n",
       "      <th>0</th>\n",
       "      <th>1</th>\n",
       "      <th>2</th>\n",
       "    </tr>\n",
       "  </thead>\n",
       "  <tbody>\n",
       "    <tr>\n",
       "      <th>0</th>\n",
       "      <td>1.0</td>\n",
       "      <td>1.0</td>\n",
       "      <td>2.0</td>\n",
       "    </tr>\n",
       "    <tr>\n",
       "      <th>1</th>\n",
       "      <td>2.0</td>\n",
       "      <td>3.0</td>\n",
       "      <td>5.0</td>\n",
       "    </tr>\n",
       "    <tr>\n",
       "      <th>2</th>\n",
       "      <td>NaN</td>\n",
       "      <td>4.0</td>\n",
       "      <td>6.0</td>\n",
       "    </tr>\n",
       "    <tr>\n",
       "      <th>3</th>\n",
       "      <td>NaN</td>\n",
       "      <td>NaN</td>\n",
       "      <td>NaN</td>\n",
       "    </tr>\n",
       "  </tbody>\n",
       "</table>\n",
       "</div>"
      ],
      "text/plain": [
       "     0    1    2\n",
       "0  1.0  1.0  2.0\n",
       "1  2.0  3.0  5.0\n",
       "2  NaN  4.0  6.0\n",
       "3  NaN  NaN  NaN"
      ]
     },
     "execution_count": 75,
     "metadata": {},
     "output_type": "execute_result"
    }
   ],
   "source": [
    "df.fillna(method = \"ffill\" , axis = 1)  ## if a previous value is not available during a forward fill, the NA value remains."
   ]
  },
  {
   "cell_type": "markdown",
   "id": "d8d2769e-08fd-4b1b-86ca-5bc685bbb311",
   "metadata": {},
   "source": [
    "#### Hierarchical Indexing"
   ]
  },
  {
   "cell_type": "markdown",
   "id": "cdc5344f-6e2e-4862-a2ce-b10d1756a6af",
   "metadata": {},
   "source": [
    "##### Pandas MultiIndex\n"
   ]
  },
  {
   "cell_type": "code",
   "execution_count": 78,
   "id": "c81f08ad-79e0-4379-b805-89c8147b5055",
   "metadata": {},
   "outputs": [
    {
     "data": {
      "text/plain": [
       "(Padma, 2000)    338\n",
       "(Padma, 2010)    956\n",
       "(Kavin, 2000)    764\n",
       "(Kavin, 2010)    102\n",
       "(David, 2000)    820\n",
       "(David, 2010)    561\n",
       "dtype: int64"
      ]
     },
     "execution_count": 78,
     "metadata": {},
     "output_type": "execute_result"
    }
   ],
   "source": [
    "names = [(\"Padma\", 2000), (\"Padma\", 2010),\n",
    "         (\"Kavin\", 2000), (\"Kavin\", 2010),\n",
    "         (\"David\", 2000), (\"David\", 2010)]\n",
    "marks = [338, 956,\n",
    "         764, 102,\n",
    "         820, 561]\n",
    "Info = pd.Series(marks , index = names)\n",
    "Info  ##bad way of presenting"
   ]
  },
  {
   "cell_type": "code",
   "execution_count": 81,
   "id": "546a2f6d-4462-4e83-9ec6-57c71c50e3ee",
   "metadata": {},
   "outputs": [
    {
     "data": {
      "text/plain": [
       "MultiIndex([('Padma', 2000),\n",
       "            ('Padma', 2010),\n",
       "            ('Kavin', 2000),\n",
       "            ('Kavin', 2010),\n",
       "            ('David', 2000),\n",
       "            ('David', 2010)],\n",
       "           )"
      ]
     },
     "execution_count": 81,
     "metadata": {},
     "output_type": "execute_result"
    }
   ],
   "source": [
    "names = pd.MultiIndex.from_tuples(names)\n",
    "names"
   ]
  },
  {
   "cell_type": "code",
   "execution_count": 83,
   "id": "111da1d2-a57f-4553-a47f-5652a7168002",
   "metadata": {},
   "outputs": [
    {
     "data": {
      "text/plain": [
       "Padma  2000    338\n",
       "       2010    956\n",
       "Kavin  2000    764\n",
       "       2010    102\n",
       "David  2000    820\n",
       "       2010    561\n",
       "dtype: int64"
      ]
     },
     "execution_count": 83,
     "metadata": {},
     "output_type": "execute_result"
    }
   ],
   "source": [
    "Info = Info.reindex(names)\n",
    "Info                          ##  first two columns of the Series representation show the multiple index values, while the third column shows the data"
   ]
  },
  {
   "cell_type": "code",
   "execution_count": 100,
   "id": "a3f575cf-c1c7-44a0-b181-43b5cafd87e0",
   "metadata": {},
   "outputs": [
    {
     "data": {
      "text/html": [
       "<div>\n",
       "<style scoped>\n",
       "    .dataframe tbody tr th:only-of-type {\n",
       "        vertical-align: middle;\n",
       "    }\n",
       "\n",
       "    .dataframe tbody tr th {\n",
       "        vertical-align: top;\n",
       "    }\n",
       "\n",
       "    .dataframe thead th {\n",
       "        text-align: right;\n",
       "    }\n",
       "</style>\n",
       "<table border=\"1\" class=\"dataframe\">\n",
       "  <thead>\n",
       "    <tr style=\"text-align: right;\">\n",
       "      <th></th>\n",
       "      <th>names</th>\n",
       "      <th>Marks</th>\n",
       "      <th>Percentage</th>\n",
       "    </tr>\n",
       "  </thead>\n",
       "  <tbody>\n",
       "    <tr>\n",
       "      <th>0</th>\n",
       "      <td>(Padma, 2000)</td>\n",
       "      <td>338</td>\n",
       "      <td>45.67</td>\n",
       "    </tr>\n",
       "    <tr>\n",
       "      <th>1</th>\n",
       "      <td>(Padma, 2010)</td>\n",
       "      <td>956</td>\n",
       "      <td>87.56</td>\n",
       "    </tr>\n",
       "    <tr>\n",
       "      <th>2</th>\n",
       "      <td>(Kavin, 2000)</td>\n",
       "      <td>764</td>\n",
       "      <td>78.99</td>\n",
       "    </tr>\n",
       "    <tr>\n",
       "      <th>3</th>\n",
       "      <td>(Kavin, 2010)</td>\n",
       "      <td>102</td>\n",
       "      <td>46.22</td>\n",
       "    </tr>\n",
       "    <tr>\n",
       "      <th>4</th>\n",
       "      <td>(David, 2000)</td>\n",
       "      <td>820</td>\n",
       "      <td>88.88</td>\n",
       "    </tr>\n",
       "    <tr>\n",
       "      <th>5</th>\n",
       "      <td>(David, 2010)</td>\n",
       "      <td>561</td>\n",
       "      <td>76.88</td>\n",
       "    </tr>\n",
       "  </tbody>\n",
       "</table>\n",
       "</div>"
      ],
      "text/plain": [
       "           names  Marks  Percentage\n",
       "0  (Padma, 2000)    338       45.67\n",
       "1  (Padma, 2010)    956       87.56\n",
       "2  (Kavin, 2000)    764       78.99\n",
       "3  (Kavin, 2010)    102       46.22\n",
       "4  (David, 2000)    820       88.88\n",
       "5  (David, 2010)    561       76.88"
      ]
     },
     "execution_count": 100,
     "metadata": {},
     "output_type": "execute_result"
    }
   ],
   "source": [
    "names = [(\"Padma\", 2000), (\"Padma\", 2010),\n",
    "         (\"Kavin\", 2000), (\"Kavin\", 2010),\n",
    "         (\"David\", 2000), (\"David\", 2010)]\n",
    "marks = [338, 956,\n",
    "         764, 102,\n",
    "         820, 561]\n",
    "percentage = [45.67,87.56,\n",
    "              78.99,46.22,\n",
    "              88.88,76.88]\n",
    "Info = pd.DataFrame({\n",
    "    \"names\" : names,\n",
    "    \"Marks\": marks,\n",
    "    \"Percentage\": percentage})\n",
    "Info"
   ]
  },
  {
   "cell_type": "code",
   "execution_count": 98,
   "id": "33c9d1e7-fabc-462a-adae-7fc9db086dd2",
   "metadata": {},
   "outputs": [
    {
     "data": {
      "text/plain": [
       "MultiIndex([('Padma', 2000),\n",
       "            ('Padma', 2010),\n",
       "            ('Kavin', 2000),\n",
       "            ('Kavin', 2010),\n",
       "            ('David', 2000),\n",
       "            ('David', 2010)],\n",
       "           names=['Name', 'Year'])"
      ]
     },
     "execution_count": 98,
     "metadata": {},
     "output_type": "execute_result"
    }
   ],
   "source": [
    "names = pd.MultiIndex.from_tuples(names , names=[\"Name\", \"Year\"])\n",
    "names"
   ]
  },
  {
   "cell_type": "code",
   "execution_count": 101,
   "id": "40752b10-413f-4d49-b911-2b4ab5fd2cd3",
   "metadata": {},
   "outputs": [
    {
     "data": {
      "text/html": [
       "<div>\n",
       "<style scoped>\n",
       "    .dataframe tbody tr th:only-of-type {\n",
       "        vertical-align: middle;\n",
       "    }\n",
       "\n",
       "    .dataframe tbody tr th {\n",
       "        vertical-align: top;\n",
       "    }\n",
       "\n",
       "    .dataframe thead th {\n",
       "        text-align: right;\n",
       "    }\n",
       "</style>\n",
       "<table border=\"1\" class=\"dataframe\">\n",
       "  <thead>\n",
       "    <tr style=\"text-align: right;\">\n",
       "      <th></th>\n",
       "      <th></th>\n",
       "      <th>Marks</th>\n",
       "      <th>Percentage</th>\n",
       "    </tr>\n",
       "    <tr>\n",
       "      <th>Name</th>\n",
       "      <th>Year</th>\n",
       "      <th></th>\n",
       "      <th></th>\n",
       "    </tr>\n",
       "  </thead>\n",
       "  <tbody>\n",
       "    <tr>\n",
       "      <th rowspan=\"2\" valign=\"top\">Padma</th>\n",
       "      <th>2000</th>\n",
       "      <td>338</td>\n",
       "      <td>45.67</td>\n",
       "    </tr>\n",
       "    <tr>\n",
       "      <th>2010</th>\n",
       "      <td>956</td>\n",
       "      <td>87.56</td>\n",
       "    </tr>\n",
       "    <tr>\n",
       "      <th rowspan=\"2\" valign=\"top\">Kavin</th>\n",
       "      <th>2000</th>\n",
       "      <td>764</td>\n",
       "      <td>78.99</td>\n",
       "    </tr>\n",
       "    <tr>\n",
       "      <th>2010</th>\n",
       "      <td>102</td>\n",
       "      <td>46.22</td>\n",
       "    </tr>\n",
       "    <tr>\n",
       "      <th rowspan=\"2\" valign=\"top\">David</th>\n",
       "      <th>2000</th>\n",
       "      <td>820</td>\n",
       "      <td>88.88</td>\n",
       "    </tr>\n",
       "    <tr>\n",
       "      <th>2010</th>\n",
       "      <td>561</td>\n",
       "      <td>76.88</td>\n",
       "    </tr>\n",
       "  </tbody>\n",
       "</table>\n",
       "</div>"
      ],
      "text/plain": [
       "            Marks  Percentage\n",
       "Name  Year                   \n",
       "Padma 2000    338       45.67\n",
       "      2010    956       87.56\n",
       "Kavin 2000    764       78.99\n",
       "      2010    102       46.22\n",
       "David 2000    820       88.88\n",
       "      2010    561       76.88"
      ]
     },
     "execution_count": 101,
     "metadata": {},
     "output_type": "execute_result"
    }
   ],
   "source": [
    "Info = pd.DataFrame({\n",
    "    \"Marks\": marks,\n",
    "    \"Percentage\": percentage} , index = pd.MultiIndex.from_tuples(names , names=[\"Name\", \"Year\"]))\n",
    "Info"
   ]
  },
  {
   "cell_type": "code",
   "execution_count": 117,
   "id": "58049790-d6a8-4ec4-b17e-723107148f5b",
   "metadata": {},
   "outputs": [],
   "source": [
    "\n",
    "names = [(\"Padma\", 2000), (\"Padma\", 2010),\n",
    "         (\"Kavin\", 2000), (\"Kavin\", 2010),\n",
    "         (\"David\", 2000), (\"David\", 2010)]\n",
    "marks = [338, 956,\n",
    "         764, 102,\n",
    "         820, 561]\n",
    "Info = pd.DataFrame({\"Marks\" : marks} , index = pd.MultiIndex.from_tuples(names))\n"
   ]
  },
  {
   "cell_type": "code",
   "execution_count": 116,
   "id": "abd646c9-3bc9-41a9-87da-678ec04f5b67",
   "metadata": {},
   "outputs": [
    {
     "data": {
      "text/html": [
       "<div>\n",
       "<style scoped>\n",
       "    .dataframe tbody tr th:only-of-type {\n",
       "        vertical-align: middle;\n",
       "    }\n",
       "\n",
       "    .dataframe tbody tr th {\n",
       "        vertical-align: top;\n",
       "    }\n",
       "\n",
       "    .dataframe thead th {\n",
       "        text-align: right;\n",
       "    }\n",
       "</style>\n",
       "<table border=\"1\" class=\"dataframe\">\n",
       "  <thead>\n",
       "    <tr style=\"text-align: right;\">\n",
       "      <th></th>\n",
       "      <th></th>\n",
       "      <th>Marks</th>\n",
       "    </tr>\n",
       "  </thead>\n",
       "  <tbody>\n",
       "    <tr>\n",
       "      <th>Padma</th>\n",
       "      <th>2010</th>\n",
       "      <td>956</td>\n",
       "    </tr>\n",
       "    <tr>\n",
       "      <th>Kavin</th>\n",
       "      <th>2010</th>\n",
       "      <td>102</td>\n",
       "    </tr>\n",
       "    <tr>\n",
       "      <th>David</th>\n",
       "      <th>2010</th>\n",
       "      <td>561</td>\n",
       "    </tr>\n",
       "  </tbody>\n",
       "</table>\n",
       "</div>"
      ],
      "text/plain": [
       "            Marks\n",
       "Padma 2010    956\n",
       "Kavin 2010    102\n",
       "David 2010    561"
      ]
     },
     "execution_count": 116,
     "metadata": {},
     "output_type": "execute_result"
    }
   ],
   "source": [
    "## access all data for which the second index is 2010\n",
    "Info.loc[pd.IndexSlice[:, 2010], :]"
   ]
  },
  {
   "cell_type": "markdown",
   "id": "9bf80827-8a73-48b1-bd5e-5dba63a74115",
   "metadata": {},
   "source": [
    "##### MultiIndex as extra dimension"
   ]
  },
  {
   "cell_type": "code",
   "execution_count": 124,
   "id": "a99ea9af-8381-45fd-accb-c75712e57c34",
   "metadata": {},
   "outputs": [
    {
     "name": "stdout",
     "output_type": "stream",
     "text": [
      "       2000  2010\n",
      "David   820   561\n",
      "Kavin   764   102\n",
      "Padma   338   956\n"
     ]
    }
   ],
   "source": [
    "## convert a multiply indexed Series into a conventionally indexed DataFrame\n",
    "names = [(\"Padma\", 2000), (\"Padma\", 2010),\n",
    "         (\"Kavin\", 2000), (\"Kavin\", 2010),\n",
    "         (\"David\", 2000), (\"David\", 2010)]\n",
    "marks = [338, 956,\n",
    "         764, 102,\n",
    "         820, 561]\n",
    "names = pd.MultiIndex.from_tuples(names)\n",
    "\n",
    "Info_df = pd.Series(marks , names)\n",
    "\n",
    "print(Info_df.unstack())"
   ]
  },
  {
   "cell_type": "code",
   "execution_count": 127,
   "id": "fa0c7bcb-fe72-4d26-8452-d5b084bd16de",
   "metadata": {},
   "outputs": [
    {
     "name": "stdout",
     "output_type": "stream",
     "text": [
      "      Marks     \n",
      "       2000 2010\n",
      "David   820  561\n",
      "Kavin   764  102\n",
      "Padma   338  956\n",
      "Padma  2000  Marks    338\n",
      "       2010  Marks    956\n",
      "Kavin  2000  Marks    764\n",
      "       2010  Marks    102\n",
      "David  2000  Marks    820\n",
      "       2010  Marks    561\n",
      "dtype: int64\n"
     ]
    }
   ],
   "source": [
    "names = [(\"Padma\", 2000), (\"Padma\", 2010),\n",
    "         (\"Kavin\", 2000), (\"Kavin\", 2010),\n",
    "         (\"David\", 2000), (\"David\", 2010)]\n",
    "marks = [338, 956,\n",
    "         764, 102,\n",
    "         820, 561]\n",
    "Info = pd.DataFrame({\"Marks\" : marks} , index = pd.MultiIndex.from_tuples(names))\n",
    "\n",
    "print(Info.unstack())\n",
    "print(Info.stack())"
   ]
  },
  {
   "cell_type": "markdown",
   "id": "b97ebf0e-ccf8-4770-8ce7-98921c087af1",
   "metadata": {},
   "source": [
    "#### Methods of MultiIndex Creation"
   ]
  },
  {
   "cell_type": "code",
   "execution_count": 3,
   "id": "3096ae4c-3648-4c6f-a552-f6e851db151d",
   "metadata": {},
   "outputs": [
    {
     "data": {
      "text/html": [
       "<div>\n",
       "<style scoped>\n",
       "    .dataframe tbody tr th:only-of-type {\n",
       "        vertical-align: middle;\n",
       "    }\n",
       "\n",
       "    .dataframe tbody tr th {\n",
       "        vertical-align: top;\n",
       "    }\n",
       "\n",
       "    .dataframe thead th {\n",
       "        text-align: right;\n",
       "    }\n",
       "</style>\n",
       "<table border=\"1\" class=\"dataframe\">\n",
       "  <thead>\n",
       "    <tr style=\"text-align: right;\">\n",
       "      <th></th>\n",
       "      <th>names</th>\n",
       "      <th>marks</th>\n",
       "    </tr>\n",
       "  </thead>\n",
       "  <tbody>\n",
       "    <tr>\n",
       "      <th>0</th>\n",
       "      <td>(Padma, 2000)</td>\n",
       "      <td>338</td>\n",
       "    </tr>\n",
       "    <tr>\n",
       "      <th>1</th>\n",
       "      <td>(Padma, 2010)</td>\n",
       "      <td>956</td>\n",
       "    </tr>\n",
       "    <tr>\n",
       "      <th>2</th>\n",
       "      <td>(Kavin, 2000)</td>\n",
       "      <td>764</td>\n",
       "    </tr>\n",
       "    <tr>\n",
       "      <th>3</th>\n",
       "      <td>(Kavin, 2010)</td>\n",
       "      <td>102</td>\n",
       "    </tr>\n",
       "    <tr>\n",
       "      <th>4</th>\n",
       "      <td>(David, 2000)</td>\n",
       "      <td>820</td>\n",
       "    </tr>\n",
       "    <tr>\n",
       "      <th>5</th>\n",
       "      <td>(David, 2010)</td>\n",
       "      <td>561</td>\n",
       "    </tr>\n",
       "  </tbody>\n",
       "</table>\n",
       "</div>"
      ],
      "text/plain": [
       "           names  marks\n",
       "0  (Padma, 2000)    338\n",
       "1  (Padma, 2010)    956\n",
       "2  (Kavin, 2000)    764\n",
       "3  (Kavin, 2010)    102\n",
       "4  (David, 2000)    820\n",
       "5  (David, 2010)    561"
      ]
     },
     "execution_count": 3,
     "metadata": {},
     "output_type": "execute_result"
    }
   ],
   "source": [
    "names = [(\"Padma\", 2000), (\"Padma\", 2010),\n",
    "         (\"Kavin\", 2000), (\"Kavin\", 2010),\n",
    "         (\"David\", 2000), (\"David\", 2010)]\n",
    "marks = [338, 956,\n",
    "         764, 102,\n",
    "         820, 561]\n",
    "Info = pd.DataFrame({\"names\":names , \"marks\":marks})\n",
    "Info"
   ]
  },
  {
   "cell_type": "code",
   "execution_count": 17,
   "id": "ed438955-9e19-4f42-9c3d-e3f0fe22b93b",
   "metadata": {},
   "outputs": [
    {
     "name": "stdout",
     "output_type": "stream",
     "text": [
      "Padma  2000    338\n",
      "       2010    956\n",
      "Kavin  2000    764\n",
      "       2010    102\n",
      "David  2000    820\n",
      "       2010    561\n",
      "dtype: int64\n"
     ]
    }
   ],
   "source": [
    "data = {(\"Padma\", 2000):338,\n",
    "         (\"Padma\", 2010):956,\n",
    "         (\"Kavin\", 2000):764,\n",
    "         (\"Kavin\", 2010):102,\n",
    "         (\"David\", 2000):820,\n",
    "         (\"David\", 2010):561}\n",
    "\n",
    "Info = pd.Series(data)\n",
    "print(Info)"
   ]
  },
  {
   "cell_type": "code",
   "execution_count": 22,
   "id": "c18638d4-bdc2-4185-ac46-9656bcecea65",
   "metadata": {},
   "outputs": [
    {
     "data": {
      "text/plain": [
       "Name   Year\n",
       "Padma  2000    338\n",
       "       2010    956\n",
       "Kavin  2000    764\n",
       "       2010    102\n",
       "David  2000    820\n",
       "       2010    561\n",
       "dtype: int64"
      ]
     },
     "execution_count": 22,
     "metadata": {},
     "output_type": "execute_result"
    }
   ],
   "source": [
    "data = {(\"Padma\", 2000):338,\n",
    "         (\"Padma\", 2010):956,\n",
    "         (\"Kavin\", 2000):764,\n",
    "         (\"Kavin\", 2010):102,\n",
    "         (\"David\", 2000):820,\n",
    "         (\"David\", 2010):561}\n",
    "\n",
    "Info = pd.Series(data)\n",
    "\n",
    "Info.index.names = [\"Name\",\"Year\"]\n",
    "Info"
   ]
  },
  {
   "cell_type": "code",
   "execution_count": 3,
   "id": "bbef3010-1e6d-455a-8b37-8ddd716e2d53",
   "metadata": {},
   "outputs": [
    {
     "data": {
      "text/html": [
       "<div>\n",
       "<style scoped>\n",
       "    .dataframe tbody tr th:only-of-type {\n",
       "        vertical-align: middle;\n",
       "    }\n",
       "\n",
       "    .dataframe tbody tr th {\n",
       "        vertical-align: top;\n",
       "    }\n",
       "\n",
       "    .dataframe thead tr th {\n",
       "        text-align: left;\n",
       "    }\n",
       "\n",
       "    .dataframe thead tr:last-of-type th {\n",
       "        text-align: right;\n",
       "    }\n",
       "</style>\n",
       "<table border=\"1\" class=\"dataframe\">\n",
       "  <thead>\n",
       "    <tr>\n",
       "      <th></th>\n",
       "      <th>subject</th>\n",
       "      <th colspan=\"2\" halign=\"left\">Maths</th>\n",
       "      <th colspan=\"2\" halign=\"left\">Chemistry</th>\n",
       "      <th colspan=\"2\" halign=\"left\">Physics</th>\n",
       "    </tr>\n",
       "    <tr>\n",
       "      <th></th>\n",
       "      <th>Score</th>\n",
       "      <th>Marks</th>\n",
       "      <th>Percentage</th>\n",
       "      <th>Marks</th>\n",
       "      <th>Percentage</th>\n",
       "      <th>Marks</th>\n",
       "      <th>Percentage</th>\n",
       "    </tr>\n",
       "    <tr>\n",
       "      <th>year</th>\n",
       "      <th>sl.no</th>\n",
       "      <th></th>\n",
       "      <th></th>\n",
       "      <th></th>\n",
       "      <th></th>\n",
       "      <th></th>\n",
       "      <th></th>\n",
       "    </tr>\n",
       "  </thead>\n",
       "  <tbody>\n",
       "    <tr>\n",
       "      <th rowspan=\"2\" valign=\"top\">2020</th>\n",
       "      <th>1</th>\n",
       "      <td>308.0</td>\n",
       "      <td>61.6</td>\n",
       "      <td>395.0</td>\n",
       "      <td>79.0</td>\n",
       "      <td>327.0</td>\n",
       "      <td>65.4</td>\n",
       "    </tr>\n",
       "    <tr>\n",
       "      <th>2</th>\n",
       "      <td>397.0</td>\n",
       "      <td>79.4</td>\n",
       "      <td>335.0</td>\n",
       "      <td>67.0</td>\n",
       "      <td>498.0</td>\n",
       "      <td>99.6</td>\n",
       "    </tr>\n",
       "    <tr>\n",
       "      <th rowspan=\"2\" valign=\"top\">2024</th>\n",
       "      <th>1</th>\n",
       "      <td>444.0</td>\n",
       "      <td>88.8</td>\n",
       "      <td>335.0</td>\n",
       "      <td>67.0</td>\n",
       "      <td>479.0</td>\n",
       "      <td>95.8</td>\n",
       "    </tr>\n",
       "    <tr>\n",
       "      <th>2</th>\n",
       "      <td>444.0</td>\n",
       "      <td>88.8</td>\n",
       "      <td>476.0</td>\n",
       "      <td>95.2</td>\n",
       "      <td>385.0</td>\n",
       "      <td>77.0</td>\n",
       "    </tr>\n",
       "  </tbody>\n",
       "</table>\n",
       "</div>"
      ],
      "text/plain": [
       "subject     Maths            Chemistry            Physics           \n",
       "Score       Marks Percentage     Marks Percentage   Marks Percentage\n",
       "year sl.no                                                          \n",
       "2020 1      308.0       61.6     395.0       79.0   327.0       65.4\n",
       "     2      397.0       79.4     335.0       67.0   498.0       99.6\n",
       "2024 1      444.0       88.8     335.0       67.0   479.0       95.8\n",
       "     2      444.0       88.8     476.0       95.2   385.0       77.0"
      ]
     },
     "execution_count": 3,
     "metadata": {},
     "output_type": "execute_result"
    }
   ],
   "source": [
    "import numpy as np\n",
    "\n",
    "index = pd.MultiIndex.from_product([[2020, 2024], [1, 2]],\n",
    "                                   names=['year', 'sl.no'])\n",
    "columns = pd.MultiIndex.from_product([['Maths', 'Chemistry', 'Physics'], ['Marks', 'Percentage']],\n",
    "                                     names=['subject', 'Score'])\n",
    "\n",
    "data = np.random.randint(300,500, size=(4, 6))\n",
    "marks = data[:, [1, 3, 5]]\n",
    "percentage = (marks/500)*100\n",
    "\n",
    "result = np.empty((marks.shape[0], marks.shape[1]*2))\n",
    "result[:, 0::2] = marks      \n",
    "result[:, 1::2] = percentage\n",
    "\n",
    "perf = pd.DataFrame(result,index=index,columns=columns)\n",
    "perf"
   ]
  },
  {
   "cell_type": "code",
   "execution_count": 28,
   "id": "50d627c4-750d-4194-bdf8-8261c2540ab3",
   "metadata": {},
   "outputs": [
    {
     "data": {
      "text/html": [
       "<div>\n",
       "<style scoped>\n",
       "    .dataframe tbody tr th:only-of-type {\n",
       "        vertical-align: middle;\n",
       "    }\n",
       "\n",
       "    .dataframe tbody tr th {\n",
       "        vertical-align: top;\n",
       "    }\n",
       "\n",
       "    .dataframe thead th {\n",
       "        text-align: right;\n",
       "    }\n",
       "</style>\n",
       "<table border=\"1\" class=\"dataframe\">\n",
       "  <thead>\n",
       "    <tr style=\"text-align: right;\">\n",
       "      <th></th>\n",
       "      <th>Score</th>\n",
       "      <th>Marks</th>\n",
       "      <th>Percentage</th>\n",
       "    </tr>\n",
       "    <tr>\n",
       "      <th>year</th>\n",
       "      <th>sl.no</th>\n",
       "      <th></th>\n",
       "      <th></th>\n",
       "    </tr>\n",
       "  </thead>\n",
       "  <tbody>\n",
       "    <tr>\n",
       "      <th rowspan=\"2\" valign=\"top\">2020</th>\n",
       "      <th>1</th>\n",
       "      <td>431.0</td>\n",
       "      <td>89.0</td>\n",
       "    </tr>\n",
       "    <tr>\n",
       "      <th>2</th>\n",
       "      <td>315.0</td>\n",
       "      <td>63.8</td>\n",
       "    </tr>\n",
       "    <tr>\n",
       "      <th rowspan=\"2\" valign=\"top\">2024</th>\n",
       "      <th>1</th>\n",
       "      <td>376.0</td>\n",
       "      <td>76.0</td>\n",
       "    </tr>\n",
       "    <tr>\n",
       "      <th>2</th>\n",
       "      <td>301.0</td>\n",
       "      <td>64.6</td>\n",
       "    </tr>\n",
       "  </tbody>\n",
       "</table>\n",
       "</div>"
      ],
      "text/plain": [
       "Score       Marks  Percentage\n",
       "year sl.no                   \n",
       "2020 1      431.0        89.0\n",
       "     2      315.0        63.8\n",
       "2024 1      376.0        76.0\n",
       "     2      301.0        64.6"
      ]
     },
     "execution_count": 28,
     "metadata": {},
     "output_type": "execute_result"
    }
   ],
   "source": [
    "perf[\"Maths\"]"
   ]
  },
  {
   "cell_type": "markdown",
   "id": "745ca9ae-738e-4096-b8b3-dc739b22341c",
   "metadata": {},
   "source": [
    "##### Indexing and Slicing a MultiIndex"
   ]
  },
  {
   "cell_type": "code",
   "execution_count": 9,
   "id": "17484c36-6a24-4921-9905-35027e76e4dd",
   "metadata": {},
   "outputs": [
    {
     "data": {
      "text/html": [
       "<div>\n",
       "<style scoped>\n",
       "    .dataframe tbody tr th:only-of-type {\n",
       "        vertical-align: middle;\n",
       "    }\n",
       "\n",
       "    .dataframe tbody tr th {\n",
       "        vertical-align: top;\n",
       "    }\n",
       "\n",
       "    .dataframe thead tr th {\n",
       "        text-align: left;\n",
       "    }\n",
       "\n",
       "    .dataframe thead tr:last-of-type th {\n",
       "        text-align: right;\n",
       "    }\n",
       "</style>\n",
       "<table border=\"1\" class=\"dataframe\">\n",
       "  <thead>\n",
       "    <tr>\n",
       "      <th></th>\n",
       "      <th>subject</th>\n",
       "      <th colspan=\"2\" halign=\"left\">Maths</th>\n",
       "      <th>Chemistry</th>\n",
       "    </tr>\n",
       "    <tr>\n",
       "      <th></th>\n",
       "      <th>Score</th>\n",
       "      <th>Marks</th>\n",
       "      <th>Percentage</th>\n",
       "      <th>Marks</th>\n",
       "    </tr>\n",
       "    <tr>\n",
       "      <th>year</th>\n",
       "      <th>sl.no</th>\n",
       "      <th></th>\n",
       "      <th></th>\n",
       "      <th></th>\n",
       "    </tr>\n",
       "  </thead>\n",
       "  <tbody>\n",
       "    <tr>\n",
       "      <th rowspan=\"2\" valign=\"top\">2020</th>\n",
       "      <th>1</th>\n",
       "      <td>470.0</td>\n",
       "      <td>94.0</td>\n",
       "      <td>394.0</td>\n",
       "    </tr>\n",
       "    <tr>\n",
       "      <th>2</th>\n",
       "      <td>389.0</td>\n",
       "      <td>77.8</td>\n",
       "      <td>363.0</td>\n",
       "    </tr>\n",
       "    <tr>\n",
       "      <th>2024</th>\n",
       "      <th>1</th>\n",
       "      <td>453.0</td>\n",
       "      <td>90.6</td>\n",
       "      <td>390.0</td>\n",
       "    </tr>\n",
       "  </tbody>\n",
       "</table>\n",
       "</div>"
      ],
      "text/plain": [
       "subject     Maths            Chemistry\n",
       "Score       Marks Percentage     Marks\n",
       "year sl.no                            \n",
       "2020 1      470.0       94.0     394.0\n",
       "     2      389.0       77.8     363.0\n",
       "2024 1      453.0       90.6     390.0"
      ]
     },
     "execution_count": 9,
     "metadata": {},
     "output_type": "execute_result"
    }
   ],
   "source": [
    "perf.iloc[:3,:3]"
   ]
  },
  {
   "cell_type": "code",
   "execution_count": 15,
   "id": "22a386d8-ddff-4cad-8e28-eef3d32d03ff",
   "metadata": {},
   "outputs": [
    {
     "data": {
      "text/html": [
       "<div>\n",
       "<style scoped>\n",
       "    .dataframe tbody tr th:only-of-type {\n",
       "        vertical-align: middle;\n",
       "    }\n",
       "\n",
       "    .dataframe tbody tr th {\n",
       "        vertical-align: top;\n",
       "    }\n",
       "\n",
       "    .dataframe thead tr th {\n",
       "        text-align: left;\n",
       "    }\n",
       "\n",
       "    .dataframe thead tr:last-of-type th {\n",
       "        text-align: right;\n",
       "    }\n",
       "</style>\n",
       "<table border=\"1\" class=\"dataframe\">\n",
       "  <thead>\n",
       "    <tr>\n",
       "      <th></th>\n",
       "      <th>subject</th>\n",
       "      <th colspan=\"2\" halign=\"left\">Maths</th>\n",
       "    </tr>\n",
       "    <tr>\n",
       "      <th></th>\n",
       "      <th>Score</th>\n",
       "      <th>Marks</th>\n",
       "      <th>Percentage</th>\n",
       "    </tr>\n",
       "    <tr>\n",
       "      <th>year</th>\n",
       "      <th>sl.no</th>\n",
       "      <th></th>\n",
       "      <th></th>\n",
       "    </tr>\n",
       "  </thead>\n",
       "  <tbody>\n",
       "    <tr>\n",
       "      <th rowspan=\"2\" valign=\"top\">2020</th>\n",
       "      <th>1</th>\n",
       "      <td>470.0</td>\n",
       "      <td>94.0</td>\n",
       "    </tr>\n",
       "    <tr>\n",
       "      <th>2</th>\n",
       "      <td>389.0</td>\n",
       "      <td>77.8</td>\n",
       "    </tr>\n",
       "    <tr>\n",
       "      <th>2024</th>\n",
       "      <th>1</th>\n",
       "      <td>453.0</td>\n",
       "      <td>90.6</td>\n",
       "    </tr>\n",
       "  </tbody>\n",
       "</table>\n",
       "</div>"
      ],
      "text/plain": [
       "subject     Maths           \n",
       "Score       Marks Percentage\n",
       "year sl.no                  \n",
       "2020 1      470.0       94.0\n",
       "     2      389.0       77.8\n",
       "2024 1      453.0       90.6"
      ]
     },
     "execution_count": 15,
     "metadata": {},
     "output_type": "execute_result"
    }
   ],
   "source": [
    "perf.iloc[0:3,:2]"
   ]
  },
  {
   "cell_type": "code",
   "execution_count": 26,
   "id": "86c736fe-f170-4075-a05a-d3f3190504b9",
   "metadata": {},
   "outputs": [
    {
     "data": {
      "text/plain": [
       "year  sl.no\n",
       "2020  1        89.2\n",
       "      2        67.6\n",
       "2024  1        60.4\n",
       "      2        96.8\n",
       "Name: (Physics, Percentage), dtype: float64"
      ]
     },
     "execution_count": 26,
     "metadata": {},
     "output_type": "execute_result"
    }
   ],
   "source": [
    "perf.loc[:,(\"Physics\",\"Percentage\")]"
   ]
  },
  {
   "cell_type": "code",
   "execution_count": 25,
   "id": "092379eb-8911-4172-a06c-1fd370c96eec",
   "metadata": {},
   "outputs": [
    {
     "data": {
      "text/plain": [
       "np.float64(89.2)"
      ]
     },
     "execution_count": 25,
     "metadata": {},
     "output_type": "execute_result"
    }
   ],
   "source": [
    "perf.loc[(2020,1),(\"Physics\",\"Percentage\")]"
   ]
  },
  {
   "cell_type": "code",
   "execution_count": 27,
   "id": "964908f7-cb57-463d-9ee2-e9d6de2a6b68",
   "metadata": {},
   "outputs": [
    {
     "data": {
      "text/plain": [
       "np.float64(67.60000000000001)"
      ]
     },
     "execution_count": 27,
     "metadata": {},
     "output_type": "execute_result"
    }
   ],
   "source": [
    "perf.loc[(2020,2),(\"Physics\",\"Percentage\")]"
   ]
  },
  {
   "cell_type": "markdown",
   "id": "bd57beae-e01c-43f9-a930-6dcc0711cfe2",
   "metadata": {},
   "source": [
    "##### Sorting and unsorting"
   ]
  },
  {
   "cell_type": "code",
   "execution_count": 47,
   "id": "92282a2d-11aa-4f05-96e9-2b92bb0065a4",
   "metadata": {},
   "outputs": [
    {
     "data": {
      "text/plain": [
       "a  1    7\n",
       "   2    7\n",
       "   3    7\n",
       "b  1    7\n",
       "   2    7\n",
       "   3    7\n",
       "c  1    7\n",
       "   2    7\n",
       "   3    7\n",
       "dtype: int64"
      ]
     },
     "execution_count": 47,
     "metadata": {},
     "output_type": "execute_result"
    }
   ],
   "source": [
    "index = pd.MultiIndex.from_product([[\"a\",\"b\",\"c\"],[1,2,3]])\n",
    "data = pd.Series(np.random.randint(1,9) , index=index)\n",
    "data  \n",
    "### the value is repeated , so this can't be used for sorting"
   ]
  },
  {
   "cell_type": "code",
   "execution_count": 54,
   "id": "e2f7858f-a637-4771-8ca5-cc38c0c7c32c",
   "metadata": {},
   "outputs": [
    {
     "data": {
      "text/plain": [
       "a  1    0.310316\n",
       "   2    0.053925\n",
       "b  1    0.500039\n",
       "   2    0.206732\n",
       "c  1    0.676649\n",
       "   2    0.332522\n",
       "d  1    0.639966\n",
       "   2    0.410237\n",
       "dtype: float64"
      ]
     },
     "execution_count": 54,
     "metadata": {},
     "output_type": "execute_result"
    }
   ],
   "source": [
    "index = pd.MultiIndex.from_product([[\"a\",\"b\",\"c\",\"d\"],[1,2]])\n",
    "data = pd.Series(np.random.rand(8) , index=index)\n",
    "data"
   ]
  },
  {
   "cell_type": "code",
   "execution_count": 55,
   "id": "f91b96e0-885f-4132-934b-7bcebd946d38",
   "metadata": {},
   "outputs": [
    {
     "data": {
      "text/plain": [
       "a  1    0.310316\n",
       "   2    0.053925\n",
       "b  1    0.500039\n",
       "   2    0.206732\n",
       "c  1    0.676649\n",
       "   2    0.332522\n",
       "d  1    0.639966\n",
       "   2    0.410237\n",
       "dtype: float64"
      ]
     },
     "execution_count": 55,
     "metadata": {},
     "output_type": "execute_result"
    }
   ],
   "source": [
    "data.sort_index()"
   ]
  },
  {
   "cell_type": "code",
   "execution_count": 64,
   "id": "862357e1-7bc6-42ce-995a-380437a422cb",
   "metadata": {},
   "outputs": [
    {
     "data": {
      "text/plain": [
       "a  1    23\n",
       "   2    43\n",
       "b  1    84\n",
       "   2    77\n",
       "c  1    13\n",
       "   2    23\n",
       "d  1    22\n",
       "   2    35\n",
       "dtype: int64"
      ]
     },
     "execution_count": 64,
     "metadata": {},
     "output_type": "execute_result"
    }
   ],
   "source": [
    "index = pd.MultiIndex.from_product([[\"a\",\"b\",\"c\",\"d\"],[1,2]])\n",
    "lists = [23,43,84,77,13,23,22,35]\n",
    "data = pd.Series(lists , index=index)\n",
    "data"
   ]
  },
  {
   "cell_type": "code",
   "execution_count": 65,
   "id": "13a7dc7c-3b12-4e39-8fb8-892124cd242b",
   "metadata": {},
   "outputs": [
    {
     "data": {
      "text/plain": [
       "a  1    23\n",
       "   2    43\n",
       "b  1    84\n",
       "   2    77\n",
       "c  1    13\n",
       "   2    23\n",
       "d  1    22\n",
       "   2    35\n",
       "dtype: int64"
      ]
     },
     "execution_count": 65,
     "metadata": {},
     "output_type": "execute_result"
    }
   ],
   "source": [
    "data.sort_index()"
   ]
  },
  {
   "cell_type": "code",
   "execution_count": 69,
   "id": "3eb8e2ad-7a9d-41df-a0d1-3b2d74030c38",
   "metadata": {},
   "outputs": [
    {
     "data": {
      "text/html": [
       "<div>\n",
       "<style scoped>\n",
       "    .dataframe tbody tr th:only-of-type {\n",
       "        vertical-align: middle;\n",
       "    }\n",
       "\n",
       "    .dataframe tbody tr th {\n",
       "        vertical-align: top;\n",
       "    }\n",
       "\n",
       "    .dataframe thead th {\n",
       "        text-align: right;\n",
       "    }\n",
       "</style>\n",
       "<table border=\"1\" class=\"dataframe\">\n",
       "  <thead>\n",
       "    <tr style=\"text-align: right;\">\n",
       "      <th></th>\n",
       "      <th></th>\n",
       "      <th>values</th>\n",
       "    </tr>\n",
       "  </thead>\n",
       "  <tbody>\n",
       "    <tr>\n",
       "      <th rowspan=\"2\" valign=\"top\">a</th>\n",
       "      <th>1</th>\n",
       "      <td>23</td>\n",
       "    </tr>\n",
       "    <tr>\n",
       "      <th>2</th>\n",
       "      <td>43</td>\n",
       "    </tr>\n",
       "    <tr>\n",
       "      <th rowspan=\"2\" valign=\"top\">b</th>\n",
       "      <th>1</th>\n",
       "      <td>84</td>\n",
       "    </tr>\n",
       "    <tr>\n",
       "      <th>2</th>\n",
       "      <td>77</td>\n",
       "    </tr>\n",
       "    <tr>\n",
       "      <th rowspan=\"2\" valign=\"top\">c</th>\n",
       "      <th>1</th>\n",
       "      <td>13</td>\n",
       "    </tr>\n",
       "    <tr>\n",
       "      <th>2</th>\n",
       "      <td>23</td>\n",
       "    </tr>\n",
       "    <tr>\n",
       "      <th rowspan=\"2\" valign=\"top\">d</th>\n",
       "      <th>1</th>\n",
       "      <td>22</td>\n",
       "    </tr>\n",
       "    <tr>\n",
       "      <th>2</th>\n",
       "      <td>35</td>\n",
       "    </tr>\n",
       "  </tbody>\n",
       "</table>\n",
       "</div>"
      ],
      "text/plain": [
       "     values\n",
       "a 1      23\n",
       "  2      43\n",
       "b 1      84\n",
       "  2      77\n",
       "c 1      13\n",
       "  2      23\n",
       "d 1      22\n",
       "  2      35"
      ]
     },
     "execution_count": 69,
     "metadata": {},
     "output_type": "execute_result"
    }
   ],
   "source": [
    "index = pd.MultiIndex.from_product([[\"a\",\"b\",\"c\",\"d\"],[1,2]])\n",
    "lists = [23,43,84,77,13,23,22,35]\n",
    "data = pd.DataFrame(lists , index=index , columns = [\"values\"])\n",
    "data"
   ]
  },
  {
   "cell_type": "code",
   "execution_count": 71,
   "id": "1fcf69b9-2998-4f7a-a0d6-1e3f26183180",
   "metadata": {},
   "outputs": [
    {
     "data": {
      "text/html": [
       "<div>\n",
       "<style scoped>\n",
       "    .dataframe tbody tr th:only-of-type {\n",
       "        vertical-align: middle;\n",
       "    }\n",
       "\n",
       "    .dataframe tbody tr th {\n",
       "        vertical-align: top;\n",
       "    }\n",
       "\n",
       "    .dataframe thead th {\n",
       "        text-align: right;\n",
       "    }\n",
       "</style>\n",
       "<table border=\"1\" class=\"dataframe\">\n",
       "  <thead>\n",
       "    <tr style=\"text-align: right;\">\n",
       "      <th></th>\n",
       "      <th></th>\n",
       "      <th>values</th>\n",
       "    </tr>\n",
       "  </thead>\n",
       "  <tbody>\n",
       "    <tr>\n",
       "      <th rowspan=\"2\" valign=\"top\">a</th>\n",
       "      <th>1</th>\n",
       "      <td>23</td>\n",
       "    </tr>\n",
       "    <tr>\n",
       "      <th>2</th>\n",
       "      <td>43</td>\n",
       "    </tr>\n",
       "    <tr>\n",
       "      <th rowspan=\"2\" valign=\"top\">b</th>\n",
       "      <th>1</th>\n",
       "      <td>84</td>\n",
       "    </tr>\n",
       "    <tr>\n",
       "      <th>2</th>\n",
       "      <td>77</td>\n",
       "    </tr>\n",
       "    <tr>\n",
       "      <th rowspan=\"2\" valign=\"top\">c</th>\n",
       "      <th>1</th>\n",
       "      <td>13</td>\n",
       "    </tr>\n",
       "    <tr>\n",
       "      <th>2</th>\n",
       "      <td>23</td>\n",
       "    </tr>\n",
       "    <tr>\n",
       "      <th rowspan=\"2\" valign=\"top\">d</th>\n",
       "      <th>1</th>\n",
       "      <td>22</td>\n",
       "    </tr>\n",
       "    <tr>\n",
       "      <th>2</th>\n",
       "      <td>35</td>\n",
       "    </tr>\n",
       "  </tbody>\n",
       "</table>\n",
       "</div>"
      ],
      "text/plain": [
       "     values\n",
       "a 1      23\n",
       "  2      43\n",
       "b 1      84\n",
       "  2      77\n",
       "c 1      13\n",
       "  2      23\n",
       "d 1      22\n",
       "  2      35"
      ]
     },
     "execution_count": 71,
     "metadata": {},
     "output_type": "execute_result"
    }
   ],
   "source": [
    "data.sort_index()"
   ]
  },
  {
   "cell_type": "markdown",
   "id": "917ebcb5-4265-4f1d-beae-1525d1090517",
   "metadata": {},
   "source": [
    "MultiIndex not being sorted. For various reasons\n",
    "partial slices and other similar operations require the levels in the MultiIndex to be in sorted (i.e., lexographical) order."
   ]
  },
  {
   "cell_type": "code",
   "execution_count": 72,
   "id": "84fd9366-ca5a-4527-9170-e4a197c5d571",
   "metadata": {},
   "outputs": [
    {
     "data": {
      "text/html": [
       "<div>\n",
       "<style scoped>\n",
       "    .dataframe tbody tr th:only-of-type {\n",
       "        vertical-align: middle;\n",
       "    }\n",
       "\n",
       "    .dataframe tbody tr th {\n",
       "        vertical-align: top;\n",
       "    }\n",
       "\n",
       "    .dataframe thead th {\n",
       "        text-align: right;\n",
       "    }\n",
       "</style>\n",
       "<table border=\"1\" class=\"dataframe\">\n",
       "  <thead>\n",
       "    <tr style=\"text-align: right;\">\n",
       "      <th></th>\n",
       "      <th></th>\n",
       "      <th>values</th>\n",
       "    </tr>\n",
       "  </thead>\n",
       "  <tbody>\n",
       "    <tr>\n",
       "      <th rowspan=\"2\" valign=\"top\">a</th>\n",
       "      <th>1</th>\n",
       "      <td>23</td>\n",
       "    </tr>\n",
       "    <tr>\n",
       "      <th>2</th>\n",
       "      <td>43</td>\n",
       "    </tr>\n",
       "    <tr>\n",
       "      <th rowspan=\"2\" valign=\"top\">b</th>\n",
       "      <th>1</th>\n",
       "      <td>84</td>\n",
       "    </tr>\n",
       "    <tr>\n",
       "      <th>2</th>\n",
       "      <td>77</td>\n",
       "    </tr>\n",
       "    <tr>\n",
       "      <th rowspan=\"2\" valign=\"top\">c</th>\n",
       "      <th>1</th>\n",
       "      <td>13</td>\n",
       "    </tr>\n",
       "    <tr>\n",
       "      <th>2</th>\n",
       "      <td>23</td>\n",
       "    </tr>\n",
       "  </tbody>\n",
       "</table>\n",
       "</div>"
      ],
      "text/plain": [
       "     values\n",
       "a 1      23\n",
       "  2      43\n",
       "b 1      84\n",
       "  2      77\n",
       "c 1      13\n",
       "  2      23"
      ]
     },
     "execution_count": 72,
     "metadata": {},
     "output_type": "execute_result"
    }
   ],
   "source": [
    "data[\"a\":\"c\"]"
   ]
  },
  {
   "cell_type": "markdown",
   "id": "5a17f5da-8289-41ad-aaf8-652a5f9249b9",
   "metadata": {},
   "source": [
    "Combining Datasets"
   ]
  },
  {
   "cell_type": "code",
   "execution_count": 9,
   "id": "011e60f2-175e-4b0f-92fd-6918c01e5b4b",
   "metadata": {},
   "outputs": [
    {
     "data": {
      "text/plain": [
       "0     2\n",
       "1     3\n",
       "2     5\n",
       "3     3\n",
       "0    10\n",
       "1    23\n",
       "2    34\n",
       "3    34\n",
       "dtype: int64"
      ]
     },
     "execution_count": 9,
     "metadata": {},
     "output_type": "execute_result"
    }
   ],
   "source": [
    "### concatenation of arrays\n",
    "x = pd.Series([2,3,5,3])\n",
    "y = pd.Series([10,23,34,34])\n",
    "\n",
    "pd.concat([x,y])"
   ]
  },
  {
   "cell_type": "code",
   "execution_count": 10,
   "id": "28ed2707-5c7d-4219-865a-7e816bcd687d",
   "metadata": {},
   "outputs": [
    {
     "data": {
      "text/plain": [
       "0     2\n",
       "1     3\n",
       "2     5\n",
       "3     3\n",
       "0    10\n",
       "1    23\n",
       "2    34\n",
       "3    34\n",
       "0    10\n",
       "1    23\n",
       "2    34\n",
       "3    34\n",
       "dtype: int64"
      ]
     },
     "execution_count": 10,
     "metadata": {},
     "output_type": "execute_result"
    }
   ],
   "source": [
    "x = pd.Series([2,3,5,3])\n",
    "y = pd.Series([10,23,34,34])\n",
    "z = pd.Series([10,23,34,34])\n",
    "pd.concat([x,y,z])"
   ]
  },
  {
   "cell_type": "code",
   "execution_count": 11,
   "id": "471c0d0b-2bf5-48c8-9fd7-b313378a3fc6",
   "metadata": {},
   "outputs": [
    {
     "data": {
      "text/html": [
       "<div>\n",
       "<style scoped>\n",
       "    .dataframe tbody tr th:only-of-type {\n",
       "        vertical-align: middle;\n",
       "    }\n",
       "\n",
       "    .dataframe tbody tr th {\n",
       "        vertical-align: top;\n",
       "    }\n",
       "\n",
       "    .dataframe thead th {\n",
       "        text-align: right;\n",
       "    }\n",
       "</style>\n",
       "<table border=\"1\" class=\"dataframe\">\n",
       "  <thead>\n",
       "    <tr style=\"text-align: right;\">\n",
       "      <th></th>\n",
       "      <th>0</th>\n",
       "      <th>1</th>\n",
       "      <th>2</th>\n",
       "      <th>3</th>\n",
       "    </tr>\n",
       "  </thead>\n",
       "  <tbody>\n",
       "    <tr>\n",
       "      <th>0</th>\n",
       "      <td>23</td>\n",
       "      <td>23</td>\n",
       "      <td>45</td>\n",
       "      <td>23</td>\n",
       "    </tr>\n",
       "    <tr>\n",
       "      <th>1</th>\n",
       "      <td>54</td>\n",
       "      <td>52</td>\n",
       "      <td>75</td>\n",
       "      <td>73</td>\n",
       "    </tr>\n",
       "    <tr>\n",
       "      <th>0</th>\n",
       "      <td>23</td>\n",
       "      <td>23</td>\n",
       "      <td>45</td>\n",
       "      <td>23</td>\n",
       "    </tr>\n",
       "    <tr>\n",
       "      <th>1</th>\n",
       "      <td>54</td>\n",
       "      <td>52</td>\n",
       "      <td>75</td>\n",
       "      <td>73</td>\n",
       "    </tr>\n",
       "  </tbody>\n",
       "</table>\n",
       "</div>"
      ],
      "text/plain": [
       "    0   1   2   3\n",
       "0  23  23  45  23\n",
       "1  54  52  75  73\n",
       "0  23  23  45  23\n",
       "1  54  52  75  73"
      ]
     },
     "execution_count": 11,
     "metadata": {},
     "output_type": "execute_result"
    }
   ],
   "source": [
    "x =pd.DataFrame([[23,23,45,23],\n",
    "     [54,52,75,73]])\n",
    "pd.concat([x,x], axis =0)"
   ]
  },
  {
   "cell_type": "code",
   "execution_count": 12,
   "id": "72075cce-de13-42fc-af16-222745ee751e",
   "metadata": {},
   "outputs": [
    {
     "data": {
      "text/html": [
       "<div>\n",
       "<style scoped>\n",
       "    .dataframe tbody tr th:only-of-type {\n",
       "        vertical-align: middle;\n",
       "    }\n",
       "\n",
       "    .dataframe tbody tr th {\n",
       "        vertical-align: top;\n",
       "    }\n",
       "\n",
       "    .dataframe thead th {\n",
       "        text-align: right;\n",
       "    }\n",
       "</style>\n",
       "<table border=\"1\" class=\"dataframe\">\n",
       "  <thead>\n",
       "    <tr style=\"text-align: right;\">\n",
       "      <th></th>\n",
       "      <th>0</th>\n",
       "      <th>1</th>\n",
       "      <th>2</th>\n",
       "      <th>3</th>\n",
       "      <th>0</th>\n",
       "      <th>1</th>\n",
       "      <th>2</th>\n",
       "      <th>3</th>\n",
       "    </tr>\n",
       "  </thead>\n",
       "  <tbody>\n",
       "    <tr>\n",
       "      <th>0</th>\n",
       "      <td>23</td>\n",
       "      <td>23</td>\n",
       "      <td>45</td>\n",
       "      <td>23</td>\n",
       "      <td>23</td>\n",
       "      <td>23</td>\n",
       "      <td>45</td>\n",
       "      <td>23</td>\n",
       "    </tr>\n",
       "    <tr>\n",
       "      <th>1</th>\n",
       "      <td>54</td>\n",
       "      <td>52</td>\n",
       "      <td>75</td>\n",
       "      <td>73</td>\n",
       "      <td>54</td>\n",
       "      <td>52</td>\n",
       "      <td>75</td>\n",
       "      <td>73</td>\n",
       "    </tr>\n",
       "  </tbody>\n",
       "</table>\n",
       "</div>"
      ],
      "text/plain": [
       "    0   1   2   3   0   1   2   3\n",
       "0  23  23  45  23  23  23  45  23\n",
       "1  54  52  75  73  54  52  75  73"
      ]
     },
     "execution_count": 12,
     "metadata": {},
     "output_type": "execute_result"
    }
   ],
   "source": [
    "pd.concat([x,x], axis =1)"
   ]
  },
  {
   "cell_type": "code",
   "execution_count": 13,
   "id": "f62e68ca-930e-4770-bd1a-caac8eae799c",
   "metadata": {},
   "outputs": [
    {
     "data": {
      "text/html": [
       "<div>\n",
       "<style scoped>\n",
       "    .dataframe tbody tr th:only-of-type {\n",
       "        vertical-align: middle;\n",
       "    }\n",
       "\n",
       "    .dataframe tbody tr th {\n",
       "        vertical-align: top;\n",
       "    }\n",
       "\n",
       "    .dataframe thead th {\n",
       "        text-align: right;\n",
       "    }\n",
       "</style>\n",
       "<table border=\"1\" class=\"dataframe\">\n",
       "  <thead>\n",
       "    <tr style=\"text-align: right;\">\n",
       "      <th></th>\n",
       "      <th>0</th>\n",
       "      <th>1</th>\n",
       "      <th>2</th>\n",
       "      <th>3</th>\n",
       "    </tr>\n",
       "  </thead>\n",
       "  <tbody>\n",
       "    <tr>\n",
       "      <th>0</th>\n",
       "      <td>23</td>\n",
       "      <td>23</td>\n",
       "      <td>45</td>\n",
       "      <td>23</td>\n",
       "    </tr>\n",
       "    <tr>\n",
       "      <th>1</th>\n",
       "      <td>54</td>\n",
       "      <td>52</td>\n",
       "      <td>75</td>\n",
       "      <td>73</td>\n",
       "    </tr>\n",
       "  </tbody>\n",
       "</table>\n",
       "</div>"
      ],
      "text/plain": [
       "    0   1   2   3\n",
       "0  23  23  45  23\n",
       "1  54  52  75  73"
      ]
     },
     "metadata": {},
     "output_type": "display_data"
    },
    {
     "data": {
      "text/html": [
       "<div>\n",
       "<style scoped>\n",
       "    .dataframe tbody tr th:only-of-type {\n",
       "        vertical-align: middle;\n",
       "    }\n",
       "\n",
       "    .dataframe tbody tr th {\n",
       "        vertical-align: top;\n",
       "    }\n",
       "\n",
       "    .dataframe thead th {\n",
       "        text-align: right;\n",
       "    }\n",
       "</style>\n",
       "<table border=\"1\" class=\"dataframe\">\n",
       "  <thead>\n",
       "    <tr style=\"text-align: right;\">\n",
       "      <th></th>\n",
       "      <th>0</th>\n",
       "      <th>1</th>\n",
       "      <th>2</th>\n",
       "      <th>3</th>\n",
       "    </tr>\n",
       "  </thead>\n",
       "  <tbody>\n",
       "    <tr>\n",
       "      <th>0</th>\n",
       "      <td>213</td>\n",
       "      <td>233</td>\n",
       "      <td>445</td>\n",
       "      <td>273</td>\n",
       "    </tr>\n",
       "    <tr>\n",
       "      <th>1</th>\n",
       "      <td>154</td>\n",
       "      <td>552</td>\n",
       "      <td>765</td>\n",
       "      <td>373</td>\n",
       "    </tr>\n",
       "  </tbody>\n",
       "</table>\n",
       "</div>"
      ],
      "text/plain": [
       "     0    1    2    3\n",
       "0  213  233  445  273\n",
       "1  154  552  765  373"
      ]
     },
     "metadata": {},
     "output_type": "display_data"
    },
    {
     "data": {
      "text/html": [
       "<div>\n",
       "<style scoped>\n",
       "    .dataframe tbody tr th:only-of-type {\n",
       "        vertical-align: middle;\n",
       "    }\n",
       "\n",
       "    .dataframe tbody tr th {\n",
       "        vertical-align: top;\n",
       "    }\n",
       "\n",
       "    .dataframe thead th {\n",
       "        text-align: right;\n",
       "    }\n",
       "</style>\n",
       "<table border=\"1\" class=\"dataframe\">\n",
       "  <thead>\n",
       "    <tr style=\"text-align: right;\">\n",
       "      <th></th>\n",
       "      <th>0</th>\n",
       "      <th>1</th>\n",
       "      <th>2</th>\n",
       "      <th>3</th>\n",
       "    </tr>\n",
       "  </thead>\n",
       "  <tbody>\n",
       "    <tr>\n",
       "      <th>0</th>\n",
       "      <td>23</td>\n",
       "      <td>23</td>\n",
       "      <td>45</td>\n",
       "      <td>23</td>\n",
       "    </tr>\n",
       "    <tr>\n",
       "      <th>1</th>\n",
       "      <td>54</td>\n",
       "      <td>52</td>\n",
       "      <td>75</td>\n",
       "      <td>73</td>\n",
       "    </tr>\n",
       "    <tr>\n",
       "      <th>0</th>\n",
       "      <td>213</td>\n",
       "      <td>233</td>\n",
       "      <td>445</td>\n",
       "      <td>273</td>\n",
       "    </tr>\n",
       "    <tr>\n",
       "      <th>1</th>\n",
       "      <td>154</td>\n",
       "      <td>552</td>\n",
       "      <td>765</td>\n",
       "      <td>373</td>\n",
       "    </tr>\n",
       "  </tbody>\n",
       "</table>\n",
       "</div>"
      ],
      "text/plain": [
       "     0    1    2    3\n",
       "0   23   23   45   23\n",
       "1   54   52   75   73\n",
       "0  213  233  445  273\n",
       "1  154  552  765  373"
      ]
     },
     "metadata": {},
     "output_type": "display_data"
    }
   ],
   "source": [
    "x =pd.DataFrame([[23,23,45,23],\n",
    "     [54,52,75,73]])\n",
    "\n",
    "y = pd.DataFrame([[213,233,445,273],\n",
    "     [154,552,765,373]])\n",
    "\n",
    "display(x,y, pd.concat([x,y]))"
   ]
  },
  {
   "cell_type": "markdown",
   "id": "87c1f716-c8f4-4a99-9ae9-820043772a49",
   "metadata": {},
   "source": [
    "Concatenation with joins"
   ]
  },
  {
   "cell_type": "code",
   "execution_count": 38,
   "id": "433e5d4b-0e2a-43eb-8b49-a006d0053bc8",
   "metadata": {},
   "outputs": [
    {
     "name": "stdout",
     "output_type": "stream",
     "text": [
      "      A   B   C   D     E\n",
      "0  70.0  65  24  62   NaN\n",
      "1  62.0  66  61  70   NaN\n",
      "2  40.0  66  46  68   NaN\n",
      "3  62.0  54  66  69   NaN\n",
      "0   NaN  35  93  54  63.0\n",
      "1   NaN  56  80  49  36.0\n",
      "2   NaN  50  97  45  86.0\n",
      "3   NaN  56  56  46  56.0\n"
     ]
    }
   ],
   "source": [
    "x =pd.DataFrame(np.random.randint(23,79,size=(4,4)), columns = [\"A\",\"B\",\"C\",\"D\"])\n",
    "y =pd.DataFrame(np.random.randint(33,99,size=(4,4)), columns = [\"B\",\"C\",\"D\",\"E\"])\n",
    "\n",
    "dis = pd.concat([x, y], join=\"outer\")\n",
    "print(dis)"
   ]
  },
  {
   "cell_type": "code",
   "execution_count": 39,
   "id": "9a38fca1-28b2-44b1-ac0f-bff5619651f8",
   "metadata": {},
   "outputs": [
    {
     "data": {
      "text/html": [
       "<div>\n",
       "<style scoped>\n",
       "    .dataframe tbody tr th:only-of-type {\n",
       "        vertical-align: middle;\n",
       "    }\n",
       "\n",
       "    .dataframe tbody tr th {\n",
       "        vertical-align: top;\n",
       "    }\n",
       "\n",
       "    .dataframe thead th {\n",
       "        text-align: right;\n",
       "    }\n",
       "</style>\n",
       "<table border=\"1\" class=\"dataframe\">\n",
       "  <thead>\n",
       "    <tr style=\"text-align: right;\">\n",
       "      <th></th>\n",
       "      <th>B</th>\n",
       "      <th>C</th>\n",
       "      <th>D</th>\n",
       "    </tr>\n",
       "  </thead>\n",
       "  <tbody>\n",
       "    <tr>\n",
       "      <th>0</th>\n",
       "      <td>65</td>\n",
       "      <td>24</td>\n",
       "      <td>62</td>\n",
       "    </tr>\n",
       "    <tr>\n",
       "      <th>1</th>\n",
       "      <td>66</td>\n",
       "      <td>61</td>\n",
       "      <td>70</td>\n",
       "    </tr>\n",
       "    <tr>\n",
       "      <th>2</th>\n",
       "      <td>66</td>\n",
       "      <td>46</td>\n",
       "      <td>68</td>\n",
       "    </tr>\n",
       "    <tr>\n",
       "      <th>3</th>\n",
       "      <td>54</td>\n",
       "      <td>66</td>\n",
       "      <td>69</td>\n",
       "    </tr>\n",
       "    <tr>\n",
       "      <th>0</th>\n",
       "      <td>35</td>\n",
       "      <td>93</td>\n",
       "      <td>54</td>\n",
       "    </tr>\n",
       "    <tr>\n",
       "      <th>1</th>\n",
       "      <td>56</td>\n",
       "      <td>80</td>\n",
       "      <td>49</td>\n",
       "    </tr>\n",
       "    <tr>\n",
       "      <th>2</th>\n",
       "      <td>50</td>\n",
       "      <td>97</td>\n",
       "      <td>45</td>\n",
       "    </tr>\n",
       "    <tr>\n",
       "      <th>3</th>\n",
       "      <td>56</td>\n",
       "      <td>56</td>\n",
       "      <td>46</td>\n",
       "    </tr>\n",
       "  </tbody>\n",
       "</table>\n",
       "</div>"
      ],
      "text/plain": [
       "    B   C   D\n",
       "0  65  24  62\n",
       "1  66  61  70\n",
       "2  66  46  68\n",
       "3  54  66  69\n",
       "0  35  93  54\n",
       "1  56  80  49\n",
       "2  50  97  45\n",
       "3  56  56  46"
      ]
     },
     "metadata": {},
     "output_type": "display_data"
    }
   ],
   "source": [
    "display(pd.concat([x,y],join=\"inner\"))"
   ]
  },
  {
   "cell_type": "markdown",
   "id": "29c64a50-964c-43ff-8f08-7b25ac55de35",
   "metadata": {},
   "source": [
    "Merge and Join"
   ]
  },
  {
   "cell_type": "code",
   "execution_count": 47,
   "id": "e693287a-9fd2-4c88-b8de-8680a374b665",
   "metadata": {},
   "outputs": [
    {
     "data": {
      "text/html": [
       "<div>\n",
       "<style scoped>\n",
       "    .dataframe tbody tr th:only-of-type {\n",
       "        vertical-align: middle;\n",
       "    }\n",
       "\n",
       "    .dataframe tbody tr th {\n",
       "        vertical-align: top;\n",
       "    }\n",
       "\n",
       "    .dataframe thead th {\n",
       "        text-align: right;\n",
       "    }\n",
       "</style>\n",
       "<table border=\"1\" class=\"dataframe\">\n",
       "  <thead>\n",
       "    <tr style=\"text-align: right;\">\n",
       "      <th></th>\n",
       "      <th>names</th>\n",
       "      <th>class</th>\n",
       "    </tr>\n",
       "  </thead>\n",
       "  <tbody>\n",
       "    <tr>\n",
       "      <th>0</th>\n",
       "      <td>Joe</td>\n",
       "      <td>3</td>\n",
       "    </tr>\n",
       "    <tr>\n",
       "      <th>1</th>\n",
       "      <td>Kavin</td>\n",
       "      <td>2</td>\n",
       "    </tr>\n",
       "    <tr>\n",
       "      <th>2</th>\n",
       "      <td>Padma</td>\n",
       "      <td>4</td>\n",
       "    </tr>\n",
       "    <tr>\n",
       "      <th>3</th>\n",
       "      <td>Hema</td>\n",
       "      <td>1</td>\n",
       "    </tr>\n",
       "  </tbody>\n",
       "</table>\n",
       "</div>"
      ],
      "text/plain": [
       "   names  class\n",
       "0    Joe      3\n",
       "1  Kavin      2\n",
       "2  Padma      4\n",
       "3   Hema      1"
      ]
     },
     "metadata": {},
     "output_type": "display_data"
    },
    {
     "data": {
      "text/html": [
       "<div>\n",
       "<style scoped>\n",
       "    .dataframe tbody tr th:only-of-type {\n",
       "        vertical-align: middle;\n",
       "    }\n",
       "\n",
       "    .dataframe tbody tr th {\n",
       "        vertical-align: top;\n",
       "    }\n",
       "\n",
       "    .dataframe thead th {\n",
       "        text-align: right;\n",
       "    }\n",
       "</style>\n",
       "<table border=\"1\" class=\"dataframe\">\n",
       "  <thead>\n",
       "    <tr style=\"text-align: right;\">\n",
       "      <th></th>\n",
       "      <th>names</th>\n",
       "      <th>year</th>\n",
       "    </tr>\n",
       "  </thead>\n",
       "  <tbody>\n",
       "    <tr>\n",
       "      <th>0</th>\n",
       "      <td>Joe</td>\n",
       "      <td>2025</td>\n",
       "    </tr>\n",
       "    <tr>\n",
       "      <th>1</th>\n",
       "      <td>Sreelakshmi</td>\n",
       "      <td>2012</td>\n",
       "    </tr>\n",
       "    <tr>\n",
       "      <th>2</th>\n",
       "      <td>Padma</td>\n",
       "      <td>2004</td>\n",
       "    </tr>\n",
       "    <tr>\n",
       "      <th>3</th>\n",
       "      <td>Berlin</td>\n",
       "      <td>2010</td>\n",
       "    </tr>\n",
       "  </tbody>\n",
       "</table>\n",
       "</div>"
      ],
      "text/plain": [
       "         names  year\n",
       "0          Joe  2025\n",
       "1  Sreelakshmi  2012\n",
       "2        Padma  2004\n",
       "3       Berlin  2010"
      ]
     },
     "metadata": {},
     "output_type": "display_data"
    }
   ],
   "source": [
    "group1 = pd.DataFrame({\"names\":[\"Joe\",\"Kavin\",\"Padma\",\"Hema\"],\n",
    "                       \"class\":[3,2,4,1]})\n",
    "group2 = pd.DataFrame({\"names\":[\"Joe\",\"Sreelakshmi\",\"Padma\",\"Berlin\"],\n",
    "                       \"year\":[2025,2012,2004,2010]})\n",
    "display(group1,group2)"
   ]
  },
  {
   "cell_type": "code",
   "execution_count": 49,
   "id": "45887fbf-1c43-48ef-a2cc-b81e24e90dfd",
   "metadata": {},
   "outputs": [
    {
     "data": {
      "text/html": [
       "<div>\n",
       "<style scoped>\n",
       "    .dataframe tbody tr th:only-of-type {\n",
       "        vertical-align: middle;\n",
       "    }\n",
       "\n",
       "    .dataframe tbody tr th {\n",
       "        vertical-align: top;\n",
       "    }\n",
       "\n",
       "    .dataframe thead th {\n",
       "        text-align: right;\n",
       "    }\n",
       "</style>\n",
       "<table border=\"1\" class=\"dataframe\">\n",
       "  <thead>\n",
       "    <tr style=\"text-align: right;\">\n",
       "      <th></th>\n",
       "      <th>names</th>\n",
       "      <th>class</th>\n",
       "      <th>year</th>\n",
       "    </tr>\n",
       "  </thead>\n",
       "  <tbody>\n",
       "    <tr>\n",
       "      <th>0</th>\n",
       "      <td>Joe</td>\n",
       "      <td>3</td>\n",
       "      <td>2025</td>\n",
       "    </tr>\n",
       "    <tr>\n",
       "      <th>1</th>\n",
       "      <td>Padma</td>\n",
       "      <td>4</td>\n",
       "      <td>2004</td>\n",
       "    </tr>\n",
       "  </tbody>\n",
       "</table>\n",
       "</div>"
      ],
      "text/plain": [
       "   names  class  year\n",
       "0    Joe      3  2025\n",
       "1  Padma      4  2004"
      ]
     },
     "execution_count": 49,
     "metadata": {},
     "output_type": "execute_result"
    }
   ],
   "source": [
    "pd.merge(group1,group2)  ## Merging Names That Are Common to Both Lists"
   ]
  },
  {
   "cell_type": "code",
   "execution_count": 67,
   "id": "50bdc2a0-5767-4404-80c1-a1bf37ba91f8",
   "metadata": {},
   "outputs": [
    {
     "data": {
      "text/html": [
       "<div>\n",
       "<style scoped>\n",
       "    .dataframe tbody tr th:only-of-type {\n",
       "        vertical-align: middle;\n",
       "    }\n",
       "\n",
       "    .dataframe tbody tr th {\n",
       "        vertical-align: top;\n",
       "    }\n",
       "\n",
       "    .dataframe thead th {\n",
       "        text-align: right;\n",
       "    }\n",
       "</style>\n",
       "<table border=\"1\" class=\"dataframe\">\n",
       "  <thead>\n",
       "    <tr style=\"text-align: right;\">\n",
       "      <th></th>\n",
       "      <th>names</th>\n",
       "      <th>year</th>\n",
       "      <th>age</th>\n",
       "    </tr>\n",
       "  </thead>\n",
       "  <tbody>\n",
       "    <tr>\n",
       "      <th>0</th>\n",
       "      <td>Joe</td>\n",
       "      <td>2025</td>\n",
       "      <td>0</td>\n",
       "    </tr>\n",
       "    <tr>\n",
       "      <th>1</th>\n",
       "      <td>Sreelakshmi</td>\n",
       "      <td>2012</td>\n",
       "      <td>13</td>\n",
       "    </tr>\n",
       "    <tr>\n",
       "      <th>2</th>\n",
       "      <td>Padma</td>\n",
       "      <td>2004</td>\n",
       "      <td>21</td>\n",
       "    </tr>\n",
       "    <tr>\n",
       "      <th>3</th>\n",
       "      <td>Berlin</td>\n",
       "      <td>2010</td>\n",
       "      <td>15</td>\n",
       "    </tr>\n",
       "  </tbody>\n",
       "</table>\n",
       "</div>"
      ],
      "text/plain": [
       "         names  year  age\n",
       "0          Joe  2025    0\n",
       "1  Sreelakshmi  2012   13\n",
       "2        Padma  2004   21\n",
       "3       Berlin  2010   15"
      ]
     },
     "execution_count": 67,
     "metadata": {},
     "output_type": "execute_result"
    }
   ],
   "source": [
    "### Many-to-one joins\n",
    "group3 = pd.DataFrame({\"year\":[2025,2004,2012,2010] , \n",
    "                    \"age\" : [00,21,13,15]})\n",
    "pd.merge(group2,group3)"
   ]
  },
  {
   "cell_type": "code",
   "execution_count": 53,
   "id": "2652d901-7867-423e-9b37-d62763e3965d",
   "metadata": {},
   "outputs": [
    {
     "data": {
      "text/html": [
       "<div>\n",
       "<style scoped>\n",
       "    .dataframe tbody tr th:only-of-type {\n",
       "        vertical-align: middle;\n",
       "    }\n",
       "\n",
       "    .dataframe tbody tr th {\n",
       "        vertical-align: top;\n",
       "    }\n",
       "\n",
       "    .dataframe thead th {\n",
       "        text-align: right;\n",
       "    }\n",
       "</style>\n",
       "<table border=\"1\" class=\"dataframe\">\n",
       "  <thead>\n",
       "    <tr style=\"text-align: right;\">\n",
       "      <th></th>\n",
       "      <th>names</th>\n",
       "      <th>class</th>\n",
       "      <th>subject</th>\n",
       "    </tr>\n",
       "  </thead>\n",
       "  <tbody>\n",
       "    <tr>\n",
       "      <th>0</th>\n",
       "      <td>Joe</td>\n",
       "      <td>3</td>\n",
       "      <td>Science</td>\n",
       "    </tr>\n",
       "    <tr>\n",
       "      <th>1</th>\n",
       "      <td>Joe</td>\n",
       "      <td>3</td>\n",
       "      <td>Maths</td>\n",
       "    </tr>\n",
       "    <tr>\n",
       "      <th>2</th>\n",
       "      <td>Kavin</td>\n",
       "      <td>2</td>\n",
       "      <td>Social</td>\n",
       "    </tr>\n",
       "    <tr>\n",
       "      <th>3</th>\n",
       "      <td>Kavin</td>\n",
       "      <td>2</td>\n",
       "      <td>Science</td>\n",
       "    </tr>\n",
       "    <tr>\n",
       "      <th>4</th>\n",
       "      <td>Padma</td>\n",
       "      <td>4</td>\n",
       "      <td>English</td>\n",
       "    </tr>\n",
       "    <tr>\n",
       "      <th>5</th>\n",
       "      <td>Padma</td>\n",
       "      <td>4</td>\n",
       "      <td>Hindi</td>\n",
       "    </tr>\n",
       "  </tbody>\n",
       "</table>\n",
       "</div>"
      ],
      "text/plain": [
       "   names  class  subject\n",
       "0    Joe      3  Science\n",
       "1    Joe      3    Maths\n",
       "2  Kavin      2   Social\n",
       "3  Kavin      2  Science\n",
       "4  Padma      4  English\n",
       "5  Padma      4    Hindi"
      ]
     },
     "execution_count": 53,
     "metadata": {},
     "output_type": "execute_result"
    }
   ],
   "source": [
    "group4 = pd.DataFrame({\"class\":[3,3,2,2,4,4],\n",
    "                       \"subject\":[\"Science\",\"Maths\",\"Social\", \"Science\",\"English\",\"Hindi\"]})\n",
    "pd.merge(group1,group4)"
   ]
  },
  {
   "cell_type": "markdown",
   "id": "7b12195d-f5e4-482f-9e28-c5ddc4acc54f",
   "metadata": {},
   "source": [
    "Specification of the Merge Key"
   ]
  },
  {
   "cell_type": "code",
   "execution_count": 56,
   "id": "3b8fae3b-a91f-4a69-bada-4684fc7e2533",
   "metadata": {},
   "outputs": [
    {
     "data": {
      "text/html": [
       "<div>\n",
       "<style scoped>\n",
       "    .dataframe tbody tr th:only-of-type {\n",
       "        vertical-align: middle;\n",
       "    }\n",
       "\n",
       "    .dataframe tbody tr th {\n",
       "        vertical-align: top;\n",
       "    }\n",
       "\n",
       "    .dataframe thead th {\n",
       "        text-align: right;\n",
       "    }\n",
       "</style>\n",
       "<table border=\"1\" class=\"dataframe\">\n",
       "  <thead>\n",
       "    <tr style=\"text-align: right;\">\n",
       "      <th></th>\n",
       "      <th>names</th>\n",
       "      <th>class</th>\n",
       "      <th>year</th>\n",
       "    </tr>\n",
       "  </thead>\n",
       "  <tbody>\n",
       "    <tr>\n",
       "      <th>0</th>\n",
       "      <td>Joe</td>\n",
       "      <td>3</td>\n",
       "      <td>2025</td>\n",
       "    </tr>\n",
       "    <tr>\n",
       "      <th>1</th>\n",
       "      <td>Padma</td>\n",
       "      <td>4</td>\n",
       "      <td>2004</td>\n",
       "    </tr>\n",
       "  </tbody>\n",
       "</table>\n",
       "</div>"
      ],
      "text/plain": [
       "   names  class  year\n",
       "0    Joe      3  2025\n",
       "1  Padma      4  2004"
      ]
     },
     "execution_count": 56,
     "metadata": {},
     "output_type": "execute_result"
    }
   ],
   "source": [
    "pd.merge(group1,group2, on=\"names\")"
   ]
  },
  {
   "cell_type": "code",
   "execution_count": 57,
   "id": "522f4e35-606b-48e7-90fd-ae88f8340a33",
   "metadata": {},
   "outputs": [
    {
     "data": {
      "text/html": [
       "<div>\n",
       "<style scoped>\n",
       "    .dataframe tbody tr th:only-of-type {\n",
       "        vertical-align: middle;\n",
       "    }\n",
       "\n",
       "    .dataframe tbody tr th {\n",
       "        vertical-align: top;\n",
       "    }\n",
       "\n",
       "    .dataframe thead th {\n",
       "        text-align: right;\n",
       "    }\n",
       "</style>\n",
       "<table border=\"1\" class=\"dataframe\">\n",
       "  <thead>\n",
       "    <tr style=\"text-align: right;\">\n",
       "      <th></th>\n",
       "      <th>names</th>\n",
       "      <th>class</th>\n",
       "      <th>subject</th>\n",
       "    </tr>\n",
       "  </thead>\n",
       "  <tbody>\n",
       "    <tr>\n",
       "      <th>0</th>\n",
       "      <td>Joe</td>\n",
       "      <td>3</td>\n",
       "      <td>Science</td>\n",
       "    </tr>\n",
       "    <tr>\n",
       "      <th>1</th>\n",
       "      <td>Joe</td>\n",
       "      <td>3</td>\n",
       "      <td>Maths</td>\n",
       "    </tr>\n",
       "    <tr>\n",
       "      <th>2</th>\n",
       "      <td>Kavin</td>\n",
       "      <td>2</td>\n",
       "      <td>Social</td>\n",
       "    </tr>\n",
       "    <tr>\n",
       "      <th>3</th>\n",
       "      <td>Kavin</td>\n",
       "      <td>2</td>\n",
       "      <td>Science</td>\n",
       "    </tr>\n",
       "    <tr>\n",
       "      <th>4</th>\n",
       "      <td>Padma</td>\n",
       "      <td>4</td>\n",
       "      <td>English</td>\n",
       "    </tr>\n",
       "    <tr>\n",
       "      <th>5</th>\n",
       "      <td>Padma</td>\n",
       "      <td>4</td>\n",
       "      <td>Hindi</td>\n",
       "    </tr>\n",
       "  </tbody>\n",
       "</table>\n",
       "</div>"
      ],
      "text/plain": [
       "   names  class  subject\n",
       "0    Joe      3  Science\n",
       "1    Joe      3    Maths\n",
       "2  Kavin      2   Social\n",
       "3  Kavin      2  Science\n",
       "4  Padma      4  English\n",
       "5  Padma      4    Hindi"
      ]
     },
     "execution_count": 57,
     "metadata": {},
     "output_type": "execute_result"
    }
   ],
   "source": [
    "pd.merge(group1,group4, on=\"class\")"
   ]
  },
  {
   "cell_type": "code",
   "execution_count": 76,
   "id": "b924d1b7-12e4-4d9c-a49a-387aa47ca3bd",
   "metadata": {},
   "outputs": [
    {
     "data": {
      "text/html": [
       "<div>\n",
       "<style scoped>\n",
       "    .dataframe tbody tr th:only-of-type {\n",
       "        vertical-align: middle;\n",
       "    }\n",
       "\n",
       "    .dataframe tbody tr th {\n",
       "        vertical-align: top;\n",
       "    }\n",
       "\n",
       "    .dataframe thead th {\n",
       "        text-align: right;\n",
       "    }\n",
       "</style>\n",
       "<table border=\"1\" class=\"dataframe\">\n",
       "  <thead>\n",
       "    <tr style=\"text-align: right;\">\n",
       "      <th></th>\n",
       "      <th>names</th>\n",
       "      <th>class</th>\n",
       "    </tr>\n",
       "  </thead>\n",
       "  <tbody>\n",
       "    <tr>\n",
       "      <th>0</th>\n",
       "      <td>Joe</td>\n",
       "      <td>3</td>\n",
       "    </tr>\n",
       "    <tr>\n",
       "      <th>1</th>\n",
       "      <td>Kavin</td>\n",
       "      <td>2</td>\n",
       "    </tr>\n",
       "    <tr>\n",
       "      <th>2</th>\n",
       "      <td>Padma</td>\n",
       "      <td>4</td>\n",
       "    </tr>\n",
       "    <tr>\n",
       "      <th>3</th>\n",
       "      <td>Hema</td>\n",
       "      <td>1</td>\n",
       "    </tr>\n",
       "  </tbody>\n",
       "</table>\n",
       "</div>"
      ],
      "text/plain": [
       "   names  class\n",
       "0    Joe      3\n",
       "1  Kavin      2\n",
       "2  Padma      4\n",
       "3   Hema      1"
      ]
     },
     "metadata": {},
     "output_type": "display_data"
    },
    {
     "data": {
      "text/html": [
       "<div>\n",
       "<style scoped>\n",
       "    .dataframe tbody tr th:only-of-type {\n",
       "        vertical-align: middle;\n",
       "    }\n",
       "\n",
       "    .dataframe tbody tr th {\n",
       "        vertical-align: top;\n",
       "    }\n",
       "\n",
       "    .dataframe thead th {\n",
       "        text-align: right;\n",
       "    }\n",
       "</style>\n",
       "<table border=\"1\" class=\"dataframe\">\n",
       "  <thead>\n",
       "    <tr style=\"text-align: right;\">\n",
       "      <th></th>\n",
       "      <th>stu_name</th>\n",
       "      <th>subject</th>\n",
       "    </tr>\n",
       "  </thead>\n",
       "  <tbody>\n",
       "    <tr>\n",
       "      <th>0</th>\n",
       "      <td>Joe</td>\n",
       "      <td>Science</td>\n",
       "    </tr>\n",
       "    <tr>\n",
       "      <th>1</th>\n",
       "      <td>Kavin</td>\n",
       "      <td>Maths</td>\n",
       "    </tr>\n",
       "    <tr>\n",
       "      <th>2</th>\n",
       "      <td>Padma</td>\n",
       "      <td>Social</td>\n",
       "    </tr>\n",
       "    <tr>\n",
       "      <th>3</th>\n",
       "      <td>Hema</td>\n",
       "      <td>Science</td>\n",
       "    </tr>\n",
       "  </tbody>\n",
       "</table>\n",
       "</div>"
      ],
      "text/plain": [
       "  stu_name  subject\n",
       "0      Joe  Science\n",
       "1    Kavin    Maths\n",
       "2    Padma   Social\n",
       "3     Hema  Science"
      ]
     },
     "metadata": {},
     "output_type": "display_data"
    },
    {
     "data": {
      "text/html": [
       "<div>\n",
       "<style scoped>\n",
       "    .dataframe tbody tr th:only-of-type {\n",
       "        vertical-align: middle;\n",
       "    }\n",
       "\n",
       "    .dataframe tbody tr th {\n",
       "        vertical-align: top;\n",
       "    }\n",
       "\n",
       "    .dataframe thead th {\n",
       "        text-align: right;\n",
       "    }\n",
       "</style>\n",
       "<table border=\"1\" class=\"dataframe\">\n",
       "  <thead>\n",
       "    <tr style=\"text-align: right;\">\n",
       "      <th></th>\n",
       "      <th>names</th>\n",
       "      <th>class</th>\n",
       "      <th>stu_name</th>\n",
       "      <th>subject</th>\n",
       "    </tr>\n",
       "  </thead>\n",
       "  <tbody>\n",
       "    <tr>\n",
       "      <th>0</th>\n",
       "      <td>Joe</td>\n",
       "      <td>3</td>\n",
       "      <td>Joe</td>\n",
       "      <td>Science</td>\n",
       "    </tr>\n",
       "    <tr>\n",
       "      <th>1</th>\n",
       "      <td>Kavin</td>\n",
       "      <td>2</td>\n",
       "      <td>Kavin</td>\n",
       "      <td>Maths</td>\n",
       "    </tr>\n",
       "    <tr>\n",
       "      <th>2</th>\n",
       "      <td>Padma</td>\n",
       "      <td>4</td>\n",
       "      <td>Padma</td>\n",
       "      <td>Social</td>\n",
       "    </tr>\n",
       "    <tr>\n",
       "      <th>3</th>\n",
       "      <td>Hema</td>\n",
       "      <td>1</td>\n",
       "      <td>Hema</td>\n",
       "      <td>Science</td>\n",
       "    </tr>\n",
       "  </tbody>\n",
       "</table>\n",
       "</div>"
      ],
      "text/plain": [
       "   names  class stu_name  subject\n",
       "0    Joe      3      Joe  Science\n",
       "1  Kavin      2    Kavin    Maths\n",
       "2  Padma      4    Padma   Social\n",
       "3   Hema      1     Hema  Science"
      ]
     },
     "execution_count": 76,
     "metadata": {},
     "output_type": "execute_result"
    }
   ],
   "source": [
    "group4 = pd.DataFrame({\"stu_name\":[\"Joe\",\"Kavin\",\"Padma\",\"Hema\"],\n",
    "                       \"subject\":[\"Science\",\"Maths\",\"Social\", \"Science\"]})\n",
    "display(group1,group4)\n",
    "\n",
    "pd.merge(group1,group4,left_on=\"names\",right_on=\"stu_name\")"
   ]
  },
  {
   "cell_type": "code",
   "execution_count": 78,
   "id": "618fce90-f936-4539-aae1-f7cef5be3dd8",
   "metadata": {},
   "outputs": [
    {
     "data": {
      "text/html": [
       "<div>\n",
       "<style scoped>\n",
       "    .dataframe tbody tr th:only-of-type {\n",
       "        vertical-align: middle;\n",
       "    }\n",
       "\n",
       "    .dataframe tbody tr th {\n",
       "        vertical-align: top;\n",
       "    }\n",
       "\n",
       "    .dataframe thead th {\n",
       "        text-align: right;\n",
       "    }\n",
       "</style>\n",
       "<table border=\"1\" class=\"dataframe\">\n",
       "  <thead>\n",
       "    <tr style=\"text-align: right;\">\n",
       "      <th></th>\n",
       "      <th>names</th>\n",
       "      <th>class</th>\n",
       "      <th>subject</th>\n",
       "    </tr>\n",
       "  </thead>\n",
       "  <tbody>\n",
       "    <tr>\n",
       "      <th>0</th>\n",
       "      <td>Joe</td>\n",
       "      <td>3</td>\n",
       "      <td>Science</td>\n",
       "    </tr>\n",
       "    <tr>\n",
       "      <th>1</th>\n",
       "      <td>Kavin</td>\n",
       "      <td>2</td>\n",
       "      <td>Maths</td>\n",
       "    </tr>\n",
       "    <tr>\n",
       "      <th>2</th>\n",
       "      <td>Padma</td>\n",
       "      <td>4</td>\n",
       "      <td>Social</td>\n",
       "    </tr>\n",
       "    <tr>\n",
       "      <th>3</th>\n",
       "      <td>Hema</td>\n",
       "      <td>1</td>\n",
       "      <td>Science</td>\n",
       "    </tr>\n",
       "  </tbody>\n",
       "</table>\n",
       "</div>"
      ],
      "text/plain": [
       "   names  class  subject\n",
       "0    Joe      3  Science\n",
       "1  Kavin      2    Maths\n",
       "2  Padma      4   Social\n",
       "3   Hema      1  Science"
      ]
     },
     "execution_count": 78,
     "metadata": {},
     "output_type": "execute_result"
    }
   ],
   "source": [
    "pd.merge(group1,group4,left_on=\"names\",right_on=\"stu_name\").drop(\"stu_name\",axis=1)"
   ]
  },
  {
   "cell_type": "code",
   "execution_count": 80,
   "id": "f86f91aa-09e3-4ad1-9295-306990101f4f",
   "metadata": {},
   "outputs": [
    {
     "data": {
      "text/html": [
       "<div>\n",
       "<style scoped>\n",
       "    .dataframe tbody tr th:only-of-type {\n",
       "        vertical-align: middle;\n",
       "    }\n",
       "\n",
       "    .dataframe tbody tr th {\n",
       "        vertical-align: top;\n",
       "    }\n",
       "\n",
       "    .dataframe thead th {\n",
       "        text-align: right;\n",
       "    }\n",
       "</style>\n",
       "<table border=\"1\" class=\"dataframe\">\n",
       "  <thead>\n",
       "    <tr style=\"text-align: right;\">\n",
       "      <th></th>\n",
       "      <th>names</th>\n",
       "      <th>class</th>\n",
       "      <th>year</th>\n",
       "    </tr>\n",
       "  </thead>\n",
       "  <tbody>\n",
       "    <tr>\n",
       "      <th>0</th>\n",
       "      <td>Joe</td>\n",
       "      <td>3</td>\n",
       "      <td>2025</td>\n",
       "    </tr>\n",
       "    <tr>\n",
       "      <th>1</th>\n",
       "      <td>Padma</td>\n",
       "      <td>4</td>\n",
       "      <td>2004</td>\n",
       "    </tr>\n",
       "  </tbody>\n",
       "</table>\n",
       "</div>"
      ],
      "text/plain": [
       "   names  class  year\n",
       "0    Joe      3  2025\n",
       "1  Padma      4  2004"
      ]
     },
     "execution_count": 80,
     "metadata": {},
     "output_type": "execute_result"
    }
   ],
   "source": [
    "group1 = pd.DataFrame({\"names\":[\"Joe\",\"Kavin\",\"Padma\",\"Hema\"],\n",
    "                       \"class\":[3,2,4,1]})\n",
    "group2 = pd.DataFrame({\"names\":[\"Joe\",\"Sreelakshmi\",\"Padma\",\"Berlin\"],\n",
    "                       \"year\":[2025,2012,2004,2010]})\n",
    "pd.merge(group1,group2,how=\"inner\")"
   ]
  },
  {
   "cell_type": "code",
   "execution_count": 81,
   "id": "70a3efdb-7324-400c-b0f1-136550b39070",
   "metadata": {},
   "outputs": [
    {
     "data": {
      "text/html": [
       "<div>\n",
       "<style scoped>\n",
       "    .dataframe tbody tr th:only-of-type {\n",
       "        vertical-align: middle;\n",
       "    }\n",
       "\n",
       "    .dataframe tbody tr th {\n",
       "        vertical-align: top;\n",
       "    }\n",
       "\n",
       "    .dataframe thead th {\n",
       "        text-align: right;\n",
       "    }\n",
       "</style>\n",
       "<table border=\"1\" class=\"dataframe\">\n",
       "  <thead>\n",
       "    <tr style=\"text-align: right;\">\n",
       "      <th></th>\n",
       "      <th>names</th>\n",
       "      <th>class</th>\n",
       "      <th>year</th>\n",
       "    </tr>\n",
       "  </thead>\n",
       "  <tbody>\n",
       "    <tr>\n",
       "      <th>0</th>\n",
       "      <td>Berlin</td>\n",
       "      <td>NaN</td>\n",
       "      <td>2010.0</td>\n",
       "    </tr>\n",
       "    <tr>\n",
       "      <th>1</th>\n",
       "      <td>Hema</td>\n",
       "      <td>1.0</td>\n",
       "      <td>NaN</td>\n",
       "    </tr>\n",
       "    <tr>\n",
       "      <th>2</th>\n",
       "      <td>Joe</td>\n",
       "      <td>3.0</td>\n",
       "      <td>2025.0</td>\n",
       "    </tr>\n",
       "    <tr>\n",
       "      <th>3</th>\n",
       "      <td>Kavin</td>\n",
       "      <td>2.0</td>\n",
       "      <td>NaN</td>\n",
       "    </tr>\n",
       "    <tr>\n",
       "      <th>4</th>\n",
       "      <td>Padma</td>\n",
       "      <td>4.0</td>\n",
       "      <td>2004.0</td>\n",
       "    </tr>\n",
       "    <tr>\n",
       "      <th>5</th>\n",
       "      <td>Sreelakshmi</td>\n",
       "      <td>NaN</td>\n",
       "      <td>2012.0</td>\n",
       "    </tr>\n",
       "  </tbody>\n",
       "</table>\n",
       "</div>"
      ],
      "text/plain": [
       "         names  class    year\n",
       "0       Berlin    NaN  2010.0\n",
       "1         Hema    1.0     NaN\n",
       "2          Joe    3.0  2025.0\n",
       "3        Kavin    2.0     NaN\n",
       "4        Padma    4.0  2004.0\n",
       "5  Sreelakshmi    NaN  2012.0"
      ]
     },
     "execution_count": 81,
     "metadata": {},
     "output_type": "execute_result"
    }
   ],
   "source": [
    "pd.merge(group1,group2,how=\"outer\")"
   ]
  },
  {
   "cell_type": "code",
   "execution_count": 82,
   "id": "25090051-7599-495c-8f45-b7162a2c3770",
   "metadata": {},
   "outputs": [
    {
     "data": {
      "text/html": [
       "<div>\n",
       "<style scoped>\n",
       "    .dataframe tbody tr th:only-of-type {\n",
       "        vertical-align: middle;\n",
       "    }\n",
       "\n",
       "    .dataframe tbody tr th {\n",
       "        vertical-align: top;\n",
       "    }\n",
       "\n",
       "    .dataframe thead th {\n",
       "        text-align: right;\n",
       "    }\n",
       "</style>\n",
       "<table border=\"1\" class=\"dataframe\">\n",
       "  <thead>\n",
       "    <tr style=\"text-align: right;\">\n",
       "      <th></th>\n",
       "      <th>names</th>\n",
       "      <th>class</th>\n",
       "      <th>year</th>\n",
       "    </tr>\n",
       "  </thead>\n",
       "  <tbody>\n",
       "    <tr>\n",
       "      <th>0</th>\n",
       "      <td>Joe</td>\n",
       "      <td>3</td>\n",
       "      <td>2025.0</td>\n",
       "    </tr>\n",
       "    <tr>\n",
       "      <th>1</th>\n",
       "      <td>Kavin</td>\n",
       "      <td>2</td>\n",
       "      <td>NaN</td>\n",
       "    </tr>\n",
       "    <tr>\n",
       "      <th>2</th>\n",
       "      <td>Padma</td>\n",
       "      <td>4</td>\n",
       "      <td>2004.0</td>\n",
       "    </tr>\n",
       "    <tr>\n",
       "      <th>3</th>\n",
       "      <td>Hema</td>\n",
       "      <td>1</td>\n",
       "      <td>NaN</td>\n",
       "    </tr>\n",
       "  </tbody>\n",
       "</table>\n",
       "</div>"
      ],
      "text/plain": [
       "   names  class    year\n",
       "0    Joe      3  2025.0\n",
       "1  Kavin      2     NaN\n",
       "2  Padma      4  2004.0\n",
       "3   Hema      1     NaN"
      ]
     },
     "execution_count": 82,
     "metadata": {},
     "output_type": "execute_result"
    }
   ],
   "source": [
    "pd.merge(group1,group2,how=\"left\")"
   ]
  },
  {
   "cell_type": "code",
   "execution_count": 83,
   "id": "26f0f387-9819-4d7f-a3dc-9bd2826bd322",
   "metadata": {},
   "outputs": [
    {
     "data": {
      "text/html": [
       "<div>\n",
       "<style scoped>\n",
       "    .dataframe tbody tr th:only-of-type {\n",
       "        vertical-align: middle;\n",
       "    }\n",
       "\n",
       "    .dataframe tbody tr th {\n",
       "        vertical-align: top;\n",
       "    }\n",
       "\n",
       "    .dataframe thead th {\n",
       "        text-align: right;\n",
       "    }\n",
       "</style>\n",
       "<table border=\"1\" class=\"dataframe\">\n",
       "  <thead>\n",
       "    <tr style=\"text-align: right;\">\n",
       "      <th></th>\n",
       "      <th>names</th>\n",
       "      <th>class</th>\n",
       "      <th>year</th>\n",
       "    </tr>\n",
       "  </thead>\n",
       "  <tbody>\n",
       "    <tr>\n",
       "      <th>0</th>\n",
       "      <td>Joe</td>\n",
       "      <td>3.0</td>\n",
       "      <td>2025</td>\n",
       "    </tr>\n",
       "    <tr>\n",
       "      <th>1</th>\n",
       "      <td>Sreelakshmi</td>\n",
       "      <td>NaN</td>\n",
       "      <td>2012</td>\n",
       "    </tr>\n",
       "    <tr>\n",
       "      <th>2</th>\n",
       "      <td>Padma</td>\n",
       "      <td>4.0</td>\n",
       "      <td>2004</td>\n",
       "    </tr>\n",
       "    <tr>\n",
       "      <th>3</th>\n",
       "      <td>Berlin</td>\n",
       "      <td>NaN</td>\n",
       "      <td>2010</td>\n",
       "    </tr>\n",
       "  </tbody>\n",
       "</table>\n",
       "</div>"
      ],
      "text/plain": [
       "         names  class  year\n",
       "0          Joe    3.0  2025\n",
       "1  Sreelakshmi    NaN  2012\n",
       "2        Padma    4.0  2004\n",
       "3       Berlin    NaN  2010"
      ]
     },
     "execution_count": 83,
     "metadata": {},
     "output_type": "execute_result"
    }
   ],
   "source": [
    "pd.merge(group1,group2,how=\"right\")"
   ]
  }
 ],
 "metadata": {
  "kernelspec": {
   "display_name": "Python 3 (ipykernel)",
   "language": "python",
   "name": "python3"
  },
  "language_info": {
   "codemirror_mode": {
    "name": "ipython",
    "version": 3
   },
   "file_extension": ".py",
   "mimetype": "text/x-python",
   "name": "python",
   "nbconvert_exporter": "python",
   "pygments_lexer": "ipython3",
   "version": "3.13.5"
  }
 },
 "nbformat": 4,
 "nbformat_minor": 5
}
