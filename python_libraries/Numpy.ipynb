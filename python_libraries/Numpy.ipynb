{
 "cells": [
  {
   "cell_type": "markdown",
   "id": "c2526bbf-f5a1-48ce-978d-08cce961684f",
   "metadata": {},
   "source": [
    "#### Numpy To store all types of data sets (1D, 2D,3D arrays, etc.) - uses Fixed type"
   ]
  },
  {
   "cell_type": "code",
   "execution_count": 1,
   "id": "b675ee88-926b-4a69-8253-6054c00ca91f",
   "metadata": {},
   "outputs": [],
   "source": [
    "## importing numpy library\n",
    "import numpy as np"
   ]
  },
  {
   "cell_type": "code",
   "execution_count": 6,
   "id": "1e58e87d-384f-4f7c-be94-89f06e9040a3",
   "metadata": {},
   "outputs": [
    {
     "name": "stdout",
     "output_type": "stream",
     "text": [
      "[1 2 3]\n",
      "------------------------------\n",
      "[[1.   3.56 7.23]\n",
      " [5.77 5.89 4.77]]\n"
     ]
    },
    {
     "ename": "TypeError",
     "evalue": "Field elements must be 2- or 3-tuples, got '5.77'",
     "output_type": "error",
     "traceback": [
      "\u001b[1;31m---------------------------------------------------------------------------\u001b[0m",
      "\u001b[1;31mTypeError\u001b[0m                                 Traceback (most recent call last)",
      "Cell \u001b[1;32mIn[6], line 10\u001b[0m\n\u001b[0;32m      7\u001b[0m b \u001b[38;5;241m=\u001b[39m np\u001b[38;5;241m.\u001b[39marray([[\u001b[38;5;241m1.00\u001b[39m,\u001b[38;5;241m3.56\u001b[39m,\u001b[38;5;241m7.23\u001b[39m],[\u001b[38;5;241m5.77\u001b[39m,\u001b[38;5;241m5.89\u001b[39m,\u001b[38;5;241m4.77\u001b[39m]])\n\u001b[0;32m      8\u001b[0m \u001b[38;5;28mprint\u001b[39m(b)\n\u001b[1;32m---> 10\u001b[0m c \u001b[38;5;241m=\u001b[39m np\u001b[38;5;241m.\u001b[39marray([\u001b[38;5;241m1.00\u001b[39m,\u001b[38;5;241m3.56\u001b[39m,\u001b[38;5;241m7.23\u001b[39m],[\u001b[38;5;241m5.77\u001b[39m,\u001b[38;5;241m5.89\u001b[39m,\u001b[38;5;241m4.77\u001b[39m])    \u001b[38;5;66;03m##wrote two separate lists as separate arguments, which is invalid. wrap them in an outer list [...]\u001b[39;00m\n\u001b[0;32m     11\u001b[0m \u001b[38;5;28mprint\u001b[39m(c)\n",
      "\u001b[1;31mTypeError\u001b[0m: Field elements must be 2- or 3-tuples, got '5.77'"
     ]
    }
   ],
   "source": [
    "## initializing an array\n",
    "a = np.array([1,2,3])\n",
    "print(a)\n",
    "\n",
    "print(\"-\" *30)\n",
    "\n",
    "b = np.array([[1.00,3.56,7.23],[5.77,5.89,4.77]])\n",
    "print(b)\n",
    "\n",
    "c = np.array([1.00,3.56,7.23],[5.77,5.89,4.77])    ##wrote two separate lists as separate arguments, which is invalid. wrap them in an outer list [...]\n",
    "print(c)"
   ]
  },
  {
   "cell_type": "code",
   "execution_count": 9,
   "id": "4ee4b648-f95e-46ad-ab60-7fb9ea358551",
   "metadata": {},
   "outputs": [
    {
     "name": "stdout",
     "output_type": "stream",
     "text": [
      "1\n",
      "2\n"
     ]
    }
   ],
   "source": [
    "## How to get the number of dimensions?\n",
    "\n",
    "print(a.ndim)\n",
    "print(b.ndim)"
   ]
  },
  {
   "cell_type": "code",
   "execution_count": 10,
   "id": "4cb30689-6d1f-4b97-9d79-d180df16bafd",
   "metadata": {},
   "outputs": [
    {
     "name": "stdout",
     "output_type": "stream",
     "text": [
      "(3,)\n",
      "(2, 3)\n"
     ]
    }
   ],
   "source": [
    "## Get Shape\n",
    "a.shape\n",
    "b.shape             ## use print() , to get shape of a and b\n",
    "\n",
    "print(a.shape)\n",
    "print(b.shape)"
   ]
  },
  {
   "cell_type": "code",
   "execution_count": 11,
   "id": "9950fce6-fc41-4fc4-8f33-cda81a8c0d5b",
   "metadata": {},
   "outputs": [
    {
     "name": "stdout",
     "output_type": "stream",
     "text": [
      "int64\n",
      "float64\n"
     ]
    }
   ],
   "source": [
    "## Get type\n",
    "print(a.dtype)\n",
    "print(b.dtype)"
   ]
  },
  {
   "cell_type": "code",
   "execution_count": 15,
   "id": "458fad9e-fd2d-42cf-ad9e-6e3b7533a0c4",
   "metadata": {},
   "outputs": [
    {
     "name": "stdout",
     "output_type": "stream",
     "text": [
      "2\n",
      "3\n",
      "6\n",
      "------------------------------\n",
      "4\n",
      "3\n",
      "12\n"
     ]
    }
   ],
   "source": [
    "## Get Size\n",
    "a = np.array([1,2,3] , dtype = \"int16\")\n",
    "print(a.itemsize)\n",
    "print(a.size)\n",
    "print(a.nbytes)\n",
    "\n",
    "print(\"-\" * 30)\n",
    "\n",
    "b = np.array([1,2,3] , dtype = \"int32\")\n",
    "print(b.itemsize)\n",
    "print(b.size)\n",
    "print(b.nbytes)"
   ]
  },
  {
   "cell_type": "markdown",
   "id": "50766fa2-8a71-4120-b8ea-7797bd9c1f72",
   "metadata": {},
   "source": [
    "#### Accessing/changing specific elements, rows, columns, etc"
   ]
  },
  {
   "cell_type": "code",
   "execution_count": 19,
   "id": "4d0ff821-7820-4b95-bf75-6692fc3a9752",
   "metadata": {},
   "outputs": [
    {
     "name": "stdout",
     "output_type": "stream",
     "text": [
      "[[2 3 4 5 6 7 5]\n",
      " [3 6 5 4 7 9 7]]\n"
     ]
    }
   ],
   "source": [
    "a = np.array([[2,3,4,5,6,7,5] , [3,6,5,4,7,9,7]])\n",
    "print(a)"
   ]
  },
  {
   "cell_type": "code",
   "execution_count": 22,
   "id": "bef9e96b-2509-4b51-af0f-8c760e84b37d",
   "metadata": {},
   "outputs": [
    {
     "name": "stdout",
     "output_type": "stream",
     "text": [
      "9\n",
      "4\n"
     ]
    }
   ],
   "source": [
    "# Get specific elements - [row, column]\n",
    "print(a[1,5])\n",
    "print(a[1,-4])    #negative indexing"
   ]
  },
  {
   "cell_type": "code",
   "execution_count": 25,
   "id": "9fce1d36-1abb-4de3-aec6-f9d5055512cb",
   "metadata": {},
   "outputs": [
    {
     "name": "stdout",
     "output_type": "stream",
     "text": [
      "[2 3 4 5 6 7 5]\n",
      "[3 6 5 4 7 9 7]\n",
      "[4 5]\n",
      "[7 9]\n",
      "[3 5 7]\n",
      "[3 5 7]\n"
     ]
    }
   ],
   "source": [
    "# Get specific rows \n",
    "print(a[0,:]) \n",
    "print(a[1,:]) \n",
    "\n",
    "# Get specific columns\n",
    "print(a[:,2]) \n",
    "print(a[:,5]) \n",
    "\n",
    "# using [starting index:end index:step index] - get from 1st list, values 1 to 7 with step 6\n",
    "print(a[0,1:6:2])\n",
    "print(a[0,1:-1:2])\n"
   ]
  },
  {
   "cell_type": "code",
   "execution_count": 28,
   "id": "b5d3e731-3af8-43e3-950a-ac7aa551d426",
   "metadata": {},
   "outputs": [
    {
     "name": "stdout",
     "output_type": "stream",
     "text": [
      "[[2 3 4 5 6 7 5]\n",
      " [3 6 5 4 7 9 7]]\n",
      "[[ 2  3 25  5  6  7  5]\n",
      " [ 3  6  5  4  7  9  7]]\n",
      "[[2 3 1 5 6 7 5]\n",
      " [3 6 2 4 7 9 7]]\n"
     ]
    }
   ],
   "source": [
    "# change\n",
    "a = np.array([[2,3,4,5,6,7,5] , [3,6,5,4,7,9,7]])\n",
    "print(a)\n",
    "\n",
    "a[0,2] = 25     #change row 0, column 2\n",
    "print(a)\n",
    "\n",
    "a[:,2] =[1,2]   # change all rows (:) in column 2\n",
    "print(a)"
   ]
  },
  {
   "cell_type": "code",
   "execution_count": null,
   "id": "4357bb7d-03c1-4822-b1e6-e6e8960be1ae",
   "metadata": {},
   "outputs": [],
   "source": [
    "*3-D example"
   ]
  },
  {
   "cell_type": "code",
   "execution_count": 46,
   "id": "a178c89f-8c60-463b-94eb-981d2f543ccc",
   "metadata": {},
   "outputs": [
    {
     "name": "stdout",
     "output_type": "stream",
     "text": [
      "[[[5 8]\n",
      "  [4 3]]\n",
      "\n",
      " [[6 5]\n",
      "  [7 9]]]\n"
     ]
    }
   ],
   "source": [
    "b = np.array([[[5,8] , [4,3]] , [[6,5] ,[7,9]]])\n",
    "print(b)"
   ]
  },
  {
   "cell_type": "code",
   "execution_count": 50,
   "id": "124cdc2e-1da7-4850-8312-63a33d6bda6f",
   "metadata": {},
   "outputs": [
    {
     "name": "stdout",
     "output_type": "stream",
     "text": [
      "8\n",
      "18\n",
      "[15 18]\n",
      "[18 18]\n",
      "[[10 15]\n",
      " [18 18]]\n"
     ]
    },
    {
     "data": {
      "text/plain": [
       "array([[[ 5,  8],\n",
       "        [10, 15]],\n",
       "\n",
       "       [[ 6,  5],\n",
       "        [18, 18]]])"
      ]
     },
     "execution_count": 50,
     "metadata": {},
     "output_type": "execute_result"
    }
   ],
   "source": [
    "# Get specific elements - [row, column]\n",
    "print(b[0,0,1])   ##select the first block->select the first row inside that block->select the second element\n",
    "print(b[1,1,1])\n",
    "\n",
    "print(b[:,1,1])  ##take all blocks (block 0 & block 1)->take the second row in each block->take the second element in that row\n",
    "print(b[1,1,:])\n",
    "print(b[:,1,:])\n",
    "\n",
    "# change or replace\n",
    "b[:,1,:] = [[10,15],[18,18]] ##take all blocks (block 0 & block 1)->take the second row in each block->take all elements of that row\n",
    "b\n"
   ]
  },
  {
   "cell_type": "markdown",
   "id": "aefbc78f-aaf9-4996-b5f6-057fc16d55a6",
   "metadata": {},
   "source": [
    "*Day 2 - Intializing data types of array"
   ]
  },
  {
   "cell_type": "code",
   "execution_count": 9,
   "id": "5bdcdebf-4b2f-4036-94bb-872767353f78",
   "metadata": {},
   "outputs": [
    {
     "name": "stdout",
     "output_type": "stream",
     "text": [
      "[[0. 0. 0.]\n",
      " [0. 0. 0.]]\n",
      "------------------------------\n",
      "[[[0. 0. 0.]\n",
      "  [0. 0. 0.]\n",
      "  [0. 0. 0.]]\n",
      "\n",
      " [[0. 0. 0.]\n",
      "  [0. 0. 0.]\n",
      "  [0. 0. 0.]]]\n"
     ]
    }
   ],
   "source": [
    "##All 0s matrix\n",
    "import numpy as np\n",
    "\n",
    "a = np.zeros((2,3))    ## create 2 rows , 3 columns\n",
    "print(a)\n",
    "\n",
    "print(\"-\" *30)\n",
    "\n",
    "b = np.zeros((2,3,3))  # create 3D array\n",
    "print(b)"
   ]
  },
  {
   "cell_type": "code",
   "execution_count": 10,
   "id": "fe586a3d-69ac-456f-99c7-14f9655f011a",
   "metadata": {},
   "outputs": [
    {
     "name": "stdout",
     "output_type": "stream",
     "text": [
      "[[1 1 1]\n",
      " [1 1 1]]\n",
      "------------------------------\n",
      "[[[1. 1. 1.]\n",
      "  [1. 1. 1.]\n",
      "  [1. 1. 1.]]\n",
      "\n",
      " [[1. 1. 1.]\n",
      "  [1. 1. 1.]\n",
      "  [1. 1. 1.]]]\n"
     ]
    }
   ],
   "source": [
    "##All 1s matrix\n",
    "a = np.ones((2,3), dtype = \"int32\")    ## create 2 rows , 3 columns\n",
    "print(a)\n",
    "\n",
    "print(\"-\" *30)\n",
    "\n",
    "b = np.ones((2,3,3), dtype = \"float64\")\n",
    "print(b)"
   ]
  },
  {
   "cell_type": "code",
   "execution_count": 13,
   "id": "b794fa92-2b6b-41d4-9f8d-79dfece39ef8",
   "metadata": {},
   "outputs": [
    {
     "name": "stdout",
     "output_type": "stream",
     "text": [
      "------------------------------\n",
      "[[2 3 4 5 6 7 5]\n",
      " [3 6 5 4 7 9 7]]\n",
      "[[4 4 4 4 4 4 4]\n",
      " [4 4 4 4 4 4 4]]\n",
      "[[4 4 4 4 4 4 4]\n",
      " [4 4 4 4 4 4 4]]\n"
     ]
    }
   ],
   "source": [
    "##Any other number\n",
    "np.full((3,3),240)                                ##np.full((shape),(value))\n",
    "\n",
    "print(\"-\" *30)\n",
    "\n",
    "a = np.array([[2,3,4,5,6,7,5] , [3,6,5,4,7,9,7]])\n",
    "print(a)\n",
    "print(np.full_like(a,4))\n",
    "print(np.full(a.shape,4))\n"
   ]
  },
  {
   "cell_type": "code",
   "execution_count": 19,
   "id": "0a3edfdb-05d3-44b1-a0a7-68440d827453",
   "metadata": {},
   "outputs": [
    {
     "name": "stdout",
     "output_type": "stream",
     "text": [
      "[[0.66418698 0.34331411]\n",
      " [0.40809955 0.72431008]\n",
      " [0.02625157 0.15081037]\n",
      " [0.78634032 0.25092976]]\n",
      "------------------------------\n",
      "[[[0.09079349 0.21895721 0.19178206]\n",
      "  [0.54139254 0.27137302 0.25829653]]\n",
      "\n",
      " [[0.90500556 0.83412888 0.5649335 ]\n",
      "  [0.36394351 0.85575103 0.82046242]]]\n",
      "------------------------------\n",
      "[[0.5406676  0.02153991 0.09317087 0.71943742 0.33685553 0.04703255\n",
      "  0.69334387]\n",
      " [0.16625893 0.35563315 0.22268017 0.29523566 0.91581255 0.06427424\n",
      "  0.69098393]]\n",
      "------------------------------\n",
      "[[3 4 5]\n",
      " [2 5 4]]\n",
      "------------------------------\n",
      "[[4 6 5]\n",
      " [6 6 5]]\n"
     ]
    }
   ],
   "source": [
    "##create Random numbers - decimal and integers\n",
    "d = np.random.rand(4,2)\n",
    "print(d)\n",
    "\n",
    "print(\"-\" *30)\n",
    "\n",
    "b = np.random.rand(2,2,3)\n",
    "print(b)\n",
    "\n",
    "print(\"-\" *30)\n",
    "\n",
    "a = np.array([[2,3,4,5,6,7,5] , [3,6,5,4,7,9,7]])\n",
    "print(np.random.random_sample(a.shape))\n",
    "\n",
    "print(\"-\" *30)\n",
    "\n",
    "e = np.random.randint(7, size= (2,3))   ##generates random integers from 0 up to 6 (since 7 is exclusive) then creates a 2×3 array.\n",
    "print(e)\n",
    "\n",
    "print(\"-\" *30)\n",
    "\n",
    "e = np.random.randint(4,7, size= (2,3))   ##generates random integers from 4 to 7\n",
    "print(e)"
   ]
  },
  {
   "cell_type": "code",
   "execution_count": 20,
   "id": "eb61ed5b-ebc1-4060-97b8-784b7e75be52",
   "metadata": {},
   "outputs": [
    {
     "name": "stdout",
     "output_type": "stream",
     "text": [
      "[[1. 0. 0. 0. 0.]\n",
      " [0. 1. 0. 0. 0.]\n",
      " [0. 0. 1. 0. 0.]\n",
      " [0. 0. 0. 1. 0.]\n",
      " [0. 0. 0. 0. 1.]]\n",
      "[[1. 0. 0.]\n",
      " [0. 1. 0.]\n",
      " [0. 0. 1.]]\n"
     ]
    }
   ],
   "source": [
    "##Identity matrix\n",
    "print(np.identity(5))\n",
    "print(np.identity(3))"
   ]
  },
  {
   "cell_type": "code",
   "execution_count": 25,
   "id": "bc64ebc1-6669-452f-8cb5-b861c316a08e",
   "metadata": {},
   "outputs": [
    {
     "name": "stdout",
     "output_type": "stream",
     "text": [
      "[1 1 1 2 2 2 3 3 3]\n",
      "[[1 2 3]\n",
      " [1 2 3]\n",
      " [1 2 3]]\n",
      "[[1 1 1 2 2 2 3 3 3]]\n"
     ]
    }
   ],
   "source": [
    "##Repeat the arrays\n",
    "a = np.array([1,2,3])\n",
    "r = np.repeat(a,3)         ##a is repeated 3 times (since no axis, it flattens).\n",
    "print(r)\n",
    "\n",
    "a = np.array([[1,2,3]])\n",
    "r = np.repeat(a,3 , axis = 0)   ##row 3 times (axis=0 - row direction).\n",
    "print(r)\n",
    "\n",
    "a = np.array([[1,2,3]])\n",
    "r = np.repeat(a,3 , axis = 1)  ##Repeats each element along the columns (axis=1 - column direction).\n",
    "print(r)"
   ]
  },
  {
   "cell_type": "code",
   "execution_count": 29,
   "id": "fba7702e-0bab-4ca5-860f-de008c173cb1",
   "metadata": {},
   "outputs": [
    {
     "name": "stdout",
     "output_type": "stream",
     "text": [
      "[100   2   3]\n",
      "[100   2   3]\n",
      "------------------------------\n",
      "[100   2   3]\n",
      "[1 2 3]\n"
     ]
    }
   ],
   "source": [
    "##copying\n",
    "a = np.array([1,2,3])\n",
    "b = a\n",
    "b[0] = 100\n",
    "print(b)\n",
    "print(a)\n",
    "\n",
    "print(\"-\" * 30)\n",
    "\n",
    "a = np.array([1,2,3])\n",
    "b = a.copy()\n",
    "b[0] = 100\n",
    "print(b)\n",
    "print(a)"
   ]
  },
  {
   "cell_type": "markdown",
   "id": "6ec19b35-89d8-4b34-af4b-19367d917501",
   "metadata": {},
   "source": [
    "#### Mathematics operations"
   ]
  },
  {
   "cell_type": "code",
   "execution_count": 30,
   "id": "fb57a019-be7a-4d74-8325-3d17ad8c3d01",
   "metadata": {},
   "outputs": [
    {
     "name": "stdout",
     "output_type": "stream",
     "text": [
      "[ 3  6 10  8]\n",
      "[-1  2  6  4]\n",
      "[ 2  8 16 12]\n",
      "[ 1 16 64 36]\n",
      "[0.5 2.  4.  3. ]\n"
     ]
    }
   ],
   "source": [
    "a = np.array([1,4,8,6])\n",
    "print(a + 2)            ##add 2 to each elements in a \n",
    "print(a - 2)\n",
    "print(a * 2)\n",
    "print(a ** 2)\n",
    "print(a / 2)"
   ]
  },
  {
   "cell_type": "code",
   "execution_count": 42,
   "id": "460177fc-451b-4c16-8295-330ea1044bed",
   "metadata": {},
   "outputs": [
    {
     "name": "stdout",
     "output_type": "stream",
     "text": [
      "[[ 6 12 18 18]\n",
      " [12 15 12  9]]\n",
      "[[ 5 32 80 72]\n",
      " [35 54 35  0]]\n",
      "------------------------------\n",
      "[[189  83]\n",
      " [251 124]]\n",
      "------------------------------\n",
      "[[1 4 8 6]\n",
      " [5 6 7 9]]\n",
      "[[ 5  7]\n",
      " [ 8  9]\n",
      " [10  5]\n",
      " [12  0]]\n",
      "[[189  83]\n",
      " [251 124]]\n"
     ]
    }
   ],
   "source": [
    "a = np.array([[1,4,8,6],[5,6,7,9]])\n",
    "b = np.array([[5,8,10,12],[7,9,5,0]])\n",
    "\n",
    "print(a + b)   #[1+5, 4+8, 8+10, 6+12] - [6, 12, 18, 18]    [5+7, 6+9, 7+5, 9+0] - [12, 15, 12,  9]\n",
    "\n",
    "print(a * b)  #[1*5, 4*8,  8*10, 6*12] - [5, 32, 80, 72]    [5*7, 6*9,  7*5,  9*0]  - [35, 54, 35,  0]\n",
    "\n",
    "print(\"-\" * 30)\n",
    "\n",
    "##matrix multiplication\n",
    "a = np.array([[1,4,8,6],[5,6,7,9]])\n",
    "b = np.array([[5,8,10,12],[7,9,5,0]])\n",
    "result = np.matmul(a, b.T)      ##(need transpose of b)\n",
    "print(result)\n",
    "\n",
    "print(\"-\" * 30)\n",
    "\n",
    "a = np.array([[1,4,8,6],[5,6,7,9]])\n",
    "print(a)\n",
    "b = np.array([[5,7],[8,9],[10,5],[12,0]])\n",
    "print(b)\n",
    "result = np.matmul(a, b)\n",
    "print(result)"
   ]
  },
  {
   "cell_type": "code",
   "execution_count": 37,
   "id": "199c2055-7b81-4ee9-ae83-1f077f7189f4",
   "metadata": {},
   "outputs": [
    {
     "name": "stdout",
     "output_type": "stream",
     "text": [
      "[ 0.84147098 -0.7568025   0.98935825 -0.2794155 ]\n",
      "[ 0.54030231 -0.65364362 -0.14550003  0.96017029]\n",
      "[ 1.55740772  1.15782128 -6.79971146 -0.29100619]\n",
      "[ 1.85081572 -1.52988566 -6.87285064  1.04148193]\n"
     ]
    },
    {
     "ename": "AttributeError",
     "evalue": "module 'numpy' has no attribute 'sec'",
     "output_type": "error",
     "traceback": [
      "\u001b[1;31m---------------------------------------------------------------------------\u001b[0m",
      "\u001b[1;31mAttributeError\u001b[0m                            Traceback (most recent call last)",
      "Cell \u001b[1;32mIn[37], line 8\u001b[0m\n\u001b[0;32m      5\u001b[0m \u001b[38;5;28mprint\u001b[39m(np\u001b[38;5;241m.\u001b[39mtan(a))\n\u001b[0;32m      6\u001b[0m \u001b[38;5;28mprint\u001b[39m(\u001b[38;5;241m1\u001b[39m\u001b[38;5;241m/\u001b[39mnp\u001b[38;5;241m.\u001b[39mcos(a))   \u001b[38;5;66;03m## secant (1/cos)\u001b[39;00m\n\u001b[1;32m----> 8\u001b[0m \u001b[38;5;28mprint\u001b[39m(np\u001b[38;5;241m.\u001b[39msec(a))\n",
      "File \u001b[1;32m~\\anaconda3\\Lib\\site-packages\\numpy\\__init__.py:414\u001b[0m, in \u001b[0;36m__getattr__\u001b[1;34m(attr)\u001b[0m\n\u001b[0;32m    411\u001b[0m     \u001b[38;5;28;01mimport\u001b[39;00m\u001b[38;5;250m \u001b[39m\u001b[38;5;21;01mnumpy\u001b[39;00m\u001b[38;5;21;01m.\u001b[39;00m\u001b[38;5;21;01mchar\u001b[39;00m\u001b[38;5;250m \u001b[39m\u001b[38;5;28;01mas\u001b[39;00m\u001b[38;5;250m \u001b[39m\u001b[38;5;21;01mchar\u001b[39;00m\n\u001b[0;32m    412\u001b[0m     \u001b[38;5;28;01mreturn\u001b[39;00m char\u001b[38;5;241m.\u001b[39mchararray\n\u001b[1;32m--> 414\u001b[0m \u001b[38;5;28;01mraise\u001b[39;00m \u001b[38;5;167;01mAttributeError\u001b[39;00m(\u001b[38;5;124m\"\u001b[39m\u001b[38;5;124mmodule \u001b[39m\u001b[38;5;132;01m{!r}\u001b[39;00m\u001b[38;5;124m has no attribute \u001b[39m\u001b[38;5;124m\"\u001b[39m\n\u001b[0;32m    415\u001b[0m                      \u001b[38;5;124m\"\u001b[39m\u001b[38;5;132;01m{!r}\u001b[39;00m\u001b[38;5;124m\"\u001b[39m\u001b[38;5;241m.\u001b[39mformat(\u001b[38;5;18m__name__\u001b[39m, attr))\n",
      "\u001b[1;31mAttributeError\u001b[0m: module 'numpy' has no attribute 'sec'"
     ]
    }
   ],
   "source": [
    "## Trigonometric functions\n",
    "a = np.array([1,4,8,6])\n",
    "print(np.sin(a))\n",
    "print(np.cos(a))\n",
    "print(np.tan(a))\n",
    "print(1/np.cos(a))   ## secant (1/cos)\n",
    "\n",
    "print(np.sec(a))  ##no direct secant function\n"
   ]
  },
  {
   "cell_type": "code",
   "execution_count": 45,
   "id": "2b74d1bd-37b8-49c6-afb5-fcf8b7e98107",
   "metadata": {},
   "outputs": [
    {
     "name": "stdout",
     "output_type": "stream",
     "text": [
      "[[5 7]\n",
      " [8 9]]\n",
      "-10.999999999999996\n"
     ]
    }
   ],
   "source": [
    "##find the determinant\n",
    "b = np.array([[5,7],[8,9]])\n",
    "print(b)\n",
    "print(np.linalg.det(b))"
   ]
  },
  {
   "cell_type": "code",
   "execution_count": 54,
   "id": "c23e5b85-b5ed-4dd8-a610-2ed8f0b14e54",
   "metadata": {},
   "outputs": [
    {
     "name": "stdout",
     "output_type": "stream",
     "text": [
      "EigResult(eigenvalues=array([5., 2.]), eigenvectors=array([[ 0.89442719, -0.70710678],\n",
      "       [ 0.4472136 ,  0.70710678]]))\n",
      "Eigenvalues: [5. 2.]\n",
      "Eigenvectors:\n",
      " [[ 0.89442719 -0.70710678]\n",
      " [ 0.4472136   0.70710678]]\n",
      "[[ 0.3 -0.2]\n",
      " [-0.1  0.4]]\n"
     ]
    }
   ],
   "source": [
    "##Get inverse, eigenvalue\n",
    "A = np.array([[4, 2],[1, 3]])\n",
    "print(np.linalg.eig(A))\n",
    "#or\n",
    "eigenvalues, eigenvectors = np.linalg.eig(A)\n",
    "print(\"Eigenvalues:\", eigenvalues)\n",
    "print(\"Eigenvectors:\\n\", eigenvectors)\n",
    "\n",
    "print(np.linalg.inv(A))\n"
   ]
  },
  {
   "cell_type": "markdown",
   "id": "b842228b-24a7-4374-80e1-40a6343abd72",
   "metadata": {},
   "source": [
    "#### Statistics"
   ]
  },
  {
   "cell_type": "code",
   "execution_count": 55,
   "id": "895dbe10-a9d7-47d3-8f43-a97a08c53912",
   "metadata": {},
   "outputs": [
    {
     "name": "stdout",
     "output_type": "stream",
     "text": [
      "[[ 1  2  4]\n",
      " [ 3  6  4]\n",
      " [ 5  9 10]]\n"
     ]
    }
   ],
   "source": [
    "stat = np.array([[1,2,4],[3,6,4],[5,9,10]])\n",
    "print(stat)"
   ]
  },
  {
   "cell_type": "code",
   "execution_count": 58,
   "id": "4e057485-d331-4db1-93a9-d2ac0729c7e2",
   "metadata": {},
   "outputs": [
    {
     "name": "stdout",
     "output_type": "stream",
     "text": [
      "10\n",
      "[ 4  6 10]\n"
     ]
    }
   ],
   "source": [
    "print(np.max(stat))\n",
    "print(np.max(stat, axis = 1))"
   ]
  },
  {
   "cell_type": "code",
   "execution_count": 59,
   "id": "760572fa-9746-4486-8dd0-de4fcdcfef77",
   "metadata": {},
   "outputs": [
    {
     "name": "stdout",
     "output_type": "stream",
     "text": [
      "1\n",
      "[1 2 4]\n"
     ]
    }
   ],
   "source": [
    "print(np.min(stat))\n",
    "print(np.min(stat, axis = 0))\n"
   ]
  },
  {
   "cell_type": "code",
   "execution_count": 60,
   "id": "5388bb18-1141-496f-b779-f0ef3e0a3a9b",
   "metadata": {},
   "outputs": [
    {
     "name": "stdout",
     "output_type": "stream",
     "text": [
      "4.888888888888889\n",
      "44\n"
     ]
    }
   ],
   "source": [
    "print(np.mean(stat))\n",
    "print(np.sum(stat))"
   ]
  },
  {
   "cell_type": "code",
   "execution_count": 61,
   "id": "ee54a801-6d07-4233-987e-f71bb7fd9762",
   "metadata": {},
   "outputs": [
    {
     "name": "stdout",
     "output_type": "stream",
     "text": [
      "8.098765432098766\n",
      "2.8458329944145997\n"
     ]
    }
   ],
   "source": [
    "print(np.var(stat))\n",
    "print(np.std(stat))"
   ]
  },
  {
   "cell_type": "markdown",
   "id": "4851419a-2b0b-4778-9f1a-331e5a7e7ff9",
   "metadata": {},
   "source": [
    "#### Reorganizing Array"
   ]
  },
  {
   "cell_type": "code",
   "execution_count": 67,
   "id": "9d0f8cb8-4a8c-4398-a8cb-9986d952ec81",
   "metadata": {},
   "outputs": [
    {
     "name": "stdout",
     "output_type": "stream",
     "text": [
      "[[2 4 3 5]\n",
      " [5 8 5 8]]\n",
      "[[2 4]\n",
      " [3 5]\n",
      " [5 8]\n",
      " [5 8]]\n",
      "[[[2 4]\n",
      "  [3 5]]\n",
      "\n",
      " [[5 8]\n",
      "  [5 8]]]\n"
     ]
    },
    {
     "ename": "ValueError",
     "evalue": "cannot reshape array of size 8 into shape (2,3)",
     "output_type": "error",
     "traceback": [
      "\u001b[1;31m---------------------------------------------------------------------------\u001b[0m",
      "\u001b[1;31mValueError\u001b[0m                                Traceback (most recent call last)",
      "Cell \u001b[1;32mIn[67], line 10\u001b[0m\n\u001b[0;32m      7\u001b[0m after \u001b[38;5;241m=\u001b[39m before\u001b[38;5;241m.\u001b[39mreshape(\u001b[38;5;241m2\u001b[39m,\u001b[38;5;241m2\u001b[39m,\u001b[38;5;241m2\u001b[39m)\n\u001b[0;32m      8\u001b[0m \u001b[38;5;28mprint\u001b[39m(after)\n\u001b[1;32m---> 10\u001b[0m after \u001b[38;5;241m=\u001b[39m before\u001b[38;5;241m.\u001b[39mreshape(\u001b[38;5;241m2\u001b[39m,\u001b[38;5;241m3\u001b[39m)   \u001b[38;5;66;03m##there is a mismatch with orginal, will get an error\u001b[39;00m\n\u001b[0;32m     11\u001b[0m \u001b[38;5;28mprint\u001b[39m(after)\n",
      "\u001b[1;31mValueError\u001b[0m: cannot reshape array of size 8 into shape (2,3)"
     ]
    }
   ],
   "source": [
    "before = np.array([[2,4,3,5],[5,8,5,8]])\n",
    "print(before)\n",
    "\n",
    "after = before.reshape(4,2)\n",
    "print(after)\n",
    "\n",
    "after = before.reshape(2,2,2)\n",
    "print(after)\n",
    "\n",
    "after = before.reshape(2,3)   ##there is a mismatch with orginal, will get an error\n",
    "print(after)"
   ]
  },
  {
   "cell_type": "code",
   "execution_count": 68,
   "id": "21f38940-1f00-47ba-b1e0-ed47143ac1a8",
   "metadata": {},
   "outputs": [
    {
     "name": "stdout",
     "output_type": "stream",
     "text": [
      "[[15 18 24 35]\n",
      " [ 1  2  3  4]]\n",
      "[[15 18 24 35]\n",
      " [ 1  2  3  4]\n",
      " [15 18 24 35]\n",
      " [15 18 24 35]]\n"
     ]
    }
   ],
   "source": [
    "##Vertically stacking matrices\n",
    "v1 = np.array([1,2,3,4])\n",
    "v2 = np.array([15,18,24,35])\n",
    "\n",
    "print(np.vstack([v2,v1]))\n",
    "print(np.vstack([v2,v1,v2,v2]))"
   ]
  },
  {
   "cell_type": "code",
   "execution_count": 70,
   "id": "9a1a2dae-3717-43cf-afb7-357e0db317e5",
   "metadata": {},
   "outputs": [
    {
     "name": "stdout",
     "output_type": "stream",
     "text": [
      "[15 18  1  2  3  4]\n",
      "[ 1  2  3  4 15 18 24 35]\n"
     ]
    }
   ],
   "source": [
    "## Horizontal stacking matrices\n",
    "h1 = np.array([1,2,3,4])\n",
    "h2 = np.array([15,18])\n",
    "\n",
    "print(np.hstack([h2,h1]))\n",
    "\n",
    "h1 = np.array([1,2,3,4])\n",
    "h2 = np.array([15,18,24,35])\n",
    "print(np.hstack([h1,h2]))"
   ]
  },
  {
   "cell_type": "markdown",
   "id": "e17435c3-9b48-4f83-9f1d-5884ede223bb",
   "metadata": {},
   "source": [
    "#### Boolean and Indexing"
   ]
  },
  {
   "cell_type": "code",
   "execution_count": 90,
   "id": "4cdfdaf2-f288-436f-b538-7947375d5226",
   "metadata": {},
   "outputs": [
    {
     "data": {
      "text/plain": [
       "array([[  1,  32, 489,  50, 387,  78,  56,  32,  45,  67,  99, 865, 456],\n",
       "       [  3,   6,  98,  35,   4, 345, 678,  23, 567,  89,  45,  67,  45],\n",
       "       [  5,   9,  10,  23,  45,  67, 598,  76,  54,  34,   2,  67,   5]])"
      ]
     },
     "execution_count": 90,
     "metadata": {},
     "output_type": "execute_result"
    }
   ],
   "source": [
    "file = np.array([[1,32,489,50,387,78,56,32,45,67,99,865,456],[3,6,98,35,4,345,678,23,567,89,45,67,45],[5,9,10,23,45,67,598,76,54,34,2,67,5]])\n",
    "file"
   ]
  },
  {
   "cell_type": "code",
   "execution_count": 91,
   "id": "0e38edbf-e936-4ede-bd93-00dc833b81ac",
   "metadata": {},
   "outputs": [
    {
     "data": {
      "text/plain": [
       "array([[False, False,  True,  True,  True,  True,  True, False, False,\n",
       "         True,  True,  True,  True],\n",
       "       [False, False,  True, False, False,  True,  True, False,  True,\n",
       "         True, False,  True, False],\n",
       "       [False, False, False, False, False,  True,  True,  True,  True,\n",
       "        False, False,  True, False]])"
      ]
     },
     "execution_count": 91,
     "metadata": {},
     "output_type": "execute_result"
    }
   ],
   "source": [
    "file > 45"
   ]
  },
  {
   "cell_type": "code",
   "execution_count": 95,
   "id": "91935775-c47b-4594-a434-23925628ff14",
   "metadata": {},
   "outputs": [
    {
     "name": "stdout",
     "output_type": "stream",
     "text": [
      "[[False False False False False  True  True False False  True  True False\n",
      "  False]\n",
      " [False False  True False False False False False False  True False  True\n",
      "  False]\n",
      " [False False False False False  True False  True  True False False  True\n",
      "  False]]\n"
     ]
    },
    {
     "ename": "ValueError",
     "evalue": "The truth value of an array with more than one element is ambiguous. Use a.any() or a.all()",
     "output_type": "error",
     "traceback": [
      "\u001b[1;31m---------------------------------------------------------------------------\u001b[0m",
      "\u001b[1;31mValueError\u001b[0m                                Traceback (most recent call last)",
      "Cell \u001b[1;32mIn[95], line 2\u001b[0m\n\u001b[0;32m      1\u001b[0m \u001b[38;5;28mprint\u001b[39m(((file \u001b[38;5;241m>\u001b[39m \u001b[38;5;241m50\u001b[39m ) \u001b[38;5;241m&\u001b[39m (file \u001b[38;5;241m<\u001b[39m \u001b[38;5;241m100\u001b[39m)))\n\u001b[1;32m----> 2\u001b[0m \u001b[38;5;28mprint\u001b[39m(((file \u001b[38;5;241m>\u001b[39m \u001b[38;5;241m50\u001b[39m ) \u001b[38;5;129;01mand\u001b[39;00m (file \u001b[38;5;241m<\u001b[39m \u001b[38;5;241m100\u001b[39m)))\n",
      "\u001b[1;31mValueError\u001b[0m: The truth value of an array with more than one element is ambiguous. Use a.any() or a.all()"
     ]
    }
   ],
   "source": [
    "print(((file > 50 ) & (file < 100)))\n",
    "print(((file > 50 ) and (file < 100)))  #With NumPy, you cannot use and directly for arrays; use bitwise operators &"
   ]
  },
  {
   "cell_type": "code",
   "execution_count": 97,
   "id": "391b2bb0-fad3-4c8f-b289-14b87af0965b",
   "metadata": {
    "scrolled": true
   },
   "outputs": [
    {
     "data": {
      "text/plain": [
       "array([[ True,  True,  True,  True,  True, False, False,  True,  True,\n",
       "        False, False,  True,  True],\n",
       "       [ True,  True, False,  True,  True,  True,  True,  True,  True,\n",
       "        False,  True, False,  True],\n",
       "       [ True,  True,  True,  True,  True, False,  True, False, False,\n",
       "         True,  True, False,  True]])"
      ]
     },
     "execution_count": 97,
     "metadata": {},
     "output_type": "execute_result"
    }
   ],
   "source": [
    "(~((file > 50 ) & (file < 100)))  ##not greater than 50"
   ]
  },
  {
   "cell_type": "code",
   "execution_count": 85,
   "id": "07810560-b3f9-4d0e-90f1-8be4510458fb",
   "metadata": {},
   "outputs": [
    {
     "data": {
      "text/plain": [
       "array([489,  50, 387,  78,  56,  67,  99, 865, 456,  98, 345, 678, 567,\n",
       "        89,  67,  67, 598,  76,  54,  67])"
      ]
     },
     "execution_count": 85,
     "metadata": {},
     "output_type": "execute_result"
    }
   ],
   "source": [
    "file[file > 45]"
   ]
  },
  {
   "cell_type": "code",
   "execution_count": 86,
   "id": "37829298-898f-4777-a5b2-885086d707f3",
   "metadata": {},
   "outputs": [
    {
     "name": "stdout",
     "output_type": "stream",
     "text": [
      "[False False  True False  True  True  True  True  True  True  True  True\n",
      "  True]\n",
      "[ True  True  True]\n"
     ]
    }
   ],
   "source": [
    "##want to see any of the data greater than 50 in columns or rows\n",
    "print(np.any(file > 50 , axis = 0))\n",
    "\n",
    "print(np.any(file > 50 , axis = 1))"
   ]
  },
  {
   "cell_type": "code",
   "execution_count": 87,
   "id": "1c1404a8-bde3-4c69-8fbc-377969e7f7c0",
   "metadata": {},
   "outputs": [
    {
     "data": {
      "text/plain": [
       "array([ 99, 387,  56])"
      ]
     },
     "execution_count": 87,
     "metadata": {},
     "output_type": "execute_result"
    }
   ],
   "source": [
    "file_data = np.array([1,32,489,50,387,78,56,32,45,67,99,865,456])\n",
    "file_data[[10,4,6]]   ##want values of 10,4,6th index"
   ]
  },
  {
   "cell_type": "markdown",
   "id": "83da7b9a-a2c7-49b0-8ebf-e5afffbd6aef",
   "metadata": {},
   "source": [
    "*Day 3 - Concatenation of arrays"
   ]
  },
  {
   "cell_type": "code",
   "execution_count": 11,
   "id": "f76421c8-e4ac-4492-a68d-06993b58e3ec",
   "metadata": {},
   "outputs": [
    {
     "name": "stdout",
     "output_type": "stream",
     "text": [
      "[1 2 3 3 2 1]\n",
      "[[1 2 3]\n",
      " [4 5 6]\n",
      " [1 2 3]\n",
      " [4 5 6]]\n",
      "[[1 2 3]\n",
      " [4 5 6]\n",
      " [1 2 3]\n",
      " [4 5 6]]\n",
      "[[1 2 3 1 2 3]\n",
      " [4 5 6 4 5 6]]\n"
     ]
    }
   ],
   "source": [
    "\n",
    "import numpy as np \n",
    "\n",
    "x = np.array([1, 2, 3])\n",
    "y = np.array([3, 2, 1])\n",
    "print(np.concatenate([x,y]))\n",
    "\n",
    "grid = np.array([[1, 2, 3],\n",
    "                 [4, 5, 6]])\n",
    "print(np.concatenate([grid,grid]))\n",
    "print(np.concatenate([grid,grid], axis = 0))\n",
    "print(np.concatenate([grid,grid], axis = 1))"
   ]
  },
  {
   "cell_type": "markdown",
   "id": "088b9d79-8a8a-499c-9d4e-8068d21627d2",
   "metadata": {},
   "source": [
    "#### Reshaping of Arrays - without using reshape()"
   ]
  },
  {
   "cell_type": "code",
   "execution_count": 8,
   "id": "cc1dc93c-6f92-452b-ba52-bcea7c13d01a",
   "metadata": {},
   "outputs": [
    {
     "name": "stdout",
     "output_type": "stream",
     "text": [
      "[[1 2 3]]\n",
      "[[1]\n",
      " [2]\n",
      " [3]]\n"
     ]
    }
   ],
   "source": [
    "x = np.array([1, 2, 3])\n",
    "print(x[np.newaxis , :])\n",
    "print(x[: , np.newaxis])"
   ]
  },
  {
   "cell_type": "markdown",
   "id": "5051d13e-6de9-4185-b26a-1caaf2bea6a3",
   "metadata": {},
   "source": [
    "#### Illustrate the concept of NumPy Broadcasting by providing examples that explain the broadcasting rules in different scenarios."
   ]
  },
  {
   "cell_type": "markdown",
   "id": "76fd47e1-4a7b-41a7-8061-ebcd72baea67",
   "metadata": {},
   "source": [
    "If two arrays have different dimensions, NumPy adds extra 1s to the smaller array’s shape (on the left side) so they can be compared or broadcast together."
   ]
  },
  {
   "cell_type": "code",
   "execution_count": 18,
   "id": "77377ea5-5a0f-4d1d-bead-d578f919b402",
   "metadata": {},
   "outputs": [
    {
     "name": "stdout",
     "output_type": "stream",
     "text": [
      "[27 47 60 58]\n",
      "Broadcasting a scalar\n",
      "15 + [14 34 85 43] = [ 29  49 100  58]\n"
     ]
    }
   ],
   "source": [
    "array_1 = np.array([12,32,45,43])\n",
    "array_2 =15\n",
    "print(array_1 + array_2)\n",
    "\n",
    "array_2 =15\n",
    "array_1 = np.array([14,34,85,43])\n",
    "result = array_1 + array_2\n",
    "print(f\"Broadcasting a scalar\\n{array_2} + {array_1} = {result}\")"
   ]
  },
  {
   "cell_type": "markdown",
   "id": "f9e0c0e9-5575-4690-a7d4-2d9c4dab7ff7",
   "metadata": {},
   "source": [
    "If the shapes of two arrays differ in a dimension, and one of the arrays has size 1 in that dimension, NumPy stretches (repeats) that array along that dimension to match the other array."
   ]
  },
  {
   "cell_type": "code",
   "execution_count": 28,
   "id": "9b9ba961-eaf9-4afc-a937-9ba1a66562a3",
   "metadata": {},
   "outputs": [
    {
     "name": "stdout",
     "output_type": "stream",
     "text": [
      "1\n",
      "2\n",
      "Broadcasting a 1D array to a 2D array : [3 4 2 3] + [[10]\n",
      " [29]\n",
      " [39]] = [[13 14 12 13]\n",
      " [32 33 31 32]\n",
      " [42 43 41 42]]\n",
      "Broadcasting a 1D array to a 2D array : \n",
      "[3 4 2 3]\n",
      " + \n",
      "[[10]\n",
      " [29]\n",
      " [39]]\n",
      " = \n",
      "[[13 14 12 13]\n",
      " [32 33 31 32]\n",
      " [42 43 41 42]]\n",
      "\n"
     ]
    }
   ],
   "source": [
    "array_1 = np.array([3,4,2,3])\n",
    "array_2 = np.array([[10],[29],[39]])\n",
    "print(np.ndim(array_1))\n",
    "print(np.ndim(array_2))\n",
    "\n",
    "result = array_1 + array_2\n",
    "print(f\"Broadcasting a 1D array to a 2D array : {array_1} + {array_2} = {result}\")\n",
    "print(f\"Broadcasting a 1D array to a 2D array : \\n{array_1}\\n + \\n{array_2}\\n = \\n{result}\\n\")"
   ]
  },
  {
   "cell_type": "markdown",
   "id": "6999b4c3-2e85-412e-9474-b867d0623823",
   "metadata": {},
   "source": [
    "If in any dimension the sizes disagree and neither is equal to 1, an error is raised(Sizes must be equal or one of them must be 1 in that dimension for broadcasting.)"
   ]
  },
  {
   "cell_type": "code",
   "execution_count": 56,
   "id": "37698d56-fbd5-4ba9-88f8-0ffbca60c208",
   "metadata": {},
   "outputs": [
    {
     "ename": "ValueError",
     "evalue": "operands could not be broadcast together with shapes (3,2) (3,3) ",
     "output_type": "error",
     "traceback": [
      "\u001b[1;31m---------------------------------------------------------------------------\u001b[0m",
      "\u001b[1;31mValueError\u001b[0m                                Traceback (most recent call last)",
      "Cell \u001b[1;32mIn[56], line 4\u001b[0m\n\u001b[0;32m      1\u001b[0m a \u001b[38;5;241m=\u001b[39m np\u001b[38;5;241m.\u001b[39marray([[\u001b[38;5;241m1\u001b[39m, \u001b[38;5;241m2\u001b[39m],[\u001b[38;5;241m1\u001b[39m,\u001b[38;5;241m3\u001b[39m],[\u001b[38;5;241m2\u001b[39m,\u001b[38;5;241m3\u001b[39m]])      \n\u001b[0;32m      2\u001b[0m b \u001b[38;5;241m=\u001b[39m np\u001b[38;5;241m.\u001b[39marray([[\u001b[38;5;241m4\u001b[39m,\u001b[38;5;241m5\u001b[39m,\u001b[38;5;241m6\u001b[39m],[\u001b[38;5;241m3\u001b[39m,\u001b[38;5;241m5\u001b[39m,\u001b[38;5;241m2\u001b[39m],[\u001b[38;5;241m6\u001b[39m,\u001b[38;5;241m8\u001b[39m,\u001b[38;5;241m9\u001b[39m]])         \n\u001b[1;32m----> 4\u001b[0m result \u001b[38;5;241m=\u001b[39m a \u001b[38;5;241m+\u001b[39m b\n",
      "\u001b[1;31mValueError\u001b[0m: operands could not be broadcast together with shapes (3,2) (3,3) "
     ]
    }
   ],
   "source": [
    "a = np.array([[1, 2],[1,3],[2,3]])      \n",
    "b = np.array([[4,5,6],[3,5,2],[6,8,9]])         \n",
    "\n",
    "result = a + b"
   ]
  },
  {
   "cell_type": "code",
   "execution_count": 55,
   "id": "d2e5bc6a-e69e-4acf-9c38-5a794cd9a8db",
   "metadata": {},
   "outputs": [
    {
     "name": "stdout",
     "output_type": "stream",
     "text": [
      "[[4]\n",
      " [5]\n",
      " [6]]\n",
      "----------------------------------------\n",
      "[[5 6]\n",
      " [6 8]\n",
      " [8 9]]\n",
      "----------------------------------------\n",
      "(3, 1)\n",
      "(3, 2)\n",
      "----------------------------------------\n"
     ]
    },
    {
     "ename": "ValueError",
     "evalue": "operands could not be broadcast together with shapes (3,2) (1,3) ",
     "output_type": "error",
     "traceback": [
      "\u001b[1;31m---------------------------------------------------------------------------\u001b[0m",
      "\u001b[1;31mValueError\u001b[0m                                Traceback (most recent call last)",
      "Cell \u001b[1;32mIn[55], line 15\u001b[0m\n\u001b[0;32m     11\u001b[0m \u001b[38;5;28mprint\u001b[39m(np\u001b[38;5;241m.\u001b[39mshape(a))\n\u001b[0;32m     13\u001b[0m \u001b[38;5;28mprint\u001b[39m(\u001b[38;5;124m\"\u001b[39m\u001b[38;5;124m-\u001b[39m\u001b[38;5;124m\"\u001b[39m \u001b[38;5;241m*\u001b[39m \u001b[38;5;241m40\u001b[39m)\n\u001b[1;32m---> 15\u001b[0m \u001b[38;5;28mprint\u001b[39m(a \u001b[38;5;241m+\u001b[39m b[np\u001b[38;5;241m.\u001b[39mnewaxis , :])\n",
      "\u001b[1;31mValueError\u001b[0m: operands could not be broadcast together with shapes (3,2) (1,3) "
     ]
    }
   ],
   "source": [
    "print(b[:, np.newaxis])\n",
    "\n",
    "print(\"-\" * 40)\n",
    "\n",
    "print(a + b[:, np.newaxis])\n",
    "\n",
    "print(\"-\" * 40)\n",
    "\n",
    "c = b[:, np.newaxis]\n",
    "print(np.shape(c))\n",
    "print(np.shape(a))\n",
    "\n",
    "print(\"-\" * 40)\n",
    "\n",
    "print(a + b[np.newaxis , :])\n",
    "\n"
   ]
  },
  {
   "cell_type": "markdown",
   "id": "16619e57-8823-4521-a939-1540e32d89f3",
   "metadata": {},
   "source": [
    "#### NumPy's Structured Arrays"
   ]
  },
  {
   "cell_type": "markdown",
   "id": "8f4a63e0-c5fa-440a-bfe7-cae10b483b9c",
   "metadata": {},
   "source": [
    "NumPy's structured arrays and record arrays, which provide efficient storage for compound, heterogeneous data"
   ]
  },
  {
   "cell_type": "code",
   "execution_count": 18,
   "id": "35aa1cf6-c5b3-44e7-bae7-e55896af8ccc",
   "metadata": {},
   "outputs": [],
   "source": [
    "name = [\"John\", \"Kavin\", \"Leo Das\", \"Padma\",\"Sree\"]\n",
    "marks = [89,78,45,27,69]\n",
    "overall_percentage = [89.34, 77.99, 45.23, 26.55,68.99]\n",
    "\n",
    "##There's nothing here that tells us that these arrays are related"
   ]
  },
  {
   "cell_type": "code",
   "execution_count": 3,
   "id": "2913447a-2506-48b1-9484-abc26d40b21c",
   "metadata": {},
   "outputs": [
    {
     "name": "stdout",
     "output_type": "stream",
     "text": [
      "[('John', 89, 89.34) ('Kavin', 78, 77.99) ('Leo Das', 45, 45.23)\n",
      " ('Padma', 27, 26.55) ('Sree', 69, 68.99)]\n"
     ]
    }
   ],
   "source": [
    "# We use a compound data type for structured arrays\n",
    "import numpy as np\n",
    "\n",
    "data = np.zeros(5, dtype = {\"names\":(\"name\",\"marks\",\"overall_percentage\"),\n",
    "       \"formats\":(\"U10\",\"i4\",\"f8\")})\n",
    "\n",
    "name = [\"John\", \"Kavin\", \"Leo Das\", \"Padma\",\"Sree\"]\n",
    "marks = [89,78,45,27,69]\n",
    "overall_percentage = [89.34, 77.99, 45.23, 26.55,68.99]\n",
    "\n",
    "data[\"name\"] = name\n",
    "data[\"marks\"] = marks\n",
    "data[\"overall_percentage\"] = overall_percentage\n",
    "print(data)\n",
    "\n",
    "##'U10' translates to \"Unicode string of maximum length 10,\" 'i4' translates to \"4-byte (i.e., 32 bit) integer,\" and 'f8' translates to \"8-byte (i.e., 64 bit) float."
   ]
  },
  {
   "cell_type": "code",
   "execution_count": 4,
   "id": "085dc13c-2d81-4dbb-935f-e2b6906554d6",
   "metadata": {},
   "outputs": [
    {
     "name": "stdout",
     "output_type": "stream",
     "text": [
      "('Kavin', 78, 77.99)\n",
      "('John', 89, 89.34)\n",
      "('Padma', 27, 26.55)\n"
     ]
    }
   ],
   "source": [
    "##accessing the elements\n",
    "print(data[1])\n",
    "print(data[0])\n",
    "print(data[3])"
   ]
  },
  {
   "cell_type": "code",
   "execution_count": 6,
   "id": "5cba67a6-d5f8-4132-bc6f-819d096a31cc",
   "metadata": {},
   "outputs": [
    {
     "name": "stdout",
     "output_type": "stream",
     "text": [
      "['Padma']\n",
      "[('Padma', 27, 26.55)]\n"
     ]
    }
   ],
   "source": [
    "## Using Boolean masking\n",
    "print(data[data[\"marks\"] < 30][\"name\"])\n",
    "print(data[data[\"marks\"] < 30])"
   ]
  },
  {
   "cell_type": "code",
   "execution_count": 22,
   "id": "33bb54f6-7e2b-4a64-96b4-cdc4b4fea4fa",
   "metadata": {},
   "outputs": [
    {
     "name": "stdout",
     "output_type": "stream",
     "text": [
      "[('John', 45, 45.23) ('Kavin', 69, 68.99) ('Leo Das', 89, 89.34)\n",
      " ('Padma', 27, 26.55) ('Sree', 78, 77.99)]\n"
     ]
    }
   ],
   "source": [
    "## another way of creating a structured array\n",
    "data = np.zeros(5, dtype = [(\"name\",\"U10\"),(\"marks\",\"i4\"),(\"overall_percentage\",\"f8\")])\n",
    "name = [\"John\", \"Kavin\", \"Leo Das\", \"Padma\",\"Sree\"]\n",
    "marks = [45,69,89,27,78]\n",
    "overall_percentage = [45.23,68.99,89.34,26.55,77.99]\n",
    "\n",
    "data[\"name\"] = name\n",
    "data[\"marks\"] = marks\n",
    "data[\"overall_percentage\"] = overall_percentage\n",
    "print(data)"
   ]
  },
  {
   "cell_type": "code",
   "execution_count": 17,
   "id": "ff14308d-2657-48b6-bbd6-cb00af4195f2",
   "metadata": {},
   "outputs": [
    {
     "name": "stdout",
     "output_type": "stream",
     "text": [
      "[45 69 89 27 78]\n",
      "['John' 'Kavin' 'Leo Das' 'Padma' 'Sree']\n"
     ]
    }
   ],
   "source": [
    "data_rec = data.view(np.recarray)\n",
    "print(data_rec.marks)\n",
    "print(data_rec.name)\n"
   ]
  },
  {
   "cell_type": "code",
   "execution_count": 26,
   "id": "14e0dc05-35a2-4ef8-9600-7d7e6b8ae154",
   "metadata": {},
   "outputs": [
    {
     "name": "stdout",
     "output_type": "stream",
     "text": [
      "[('Padma', 27, 26.55) ('John', 45, 45.23) ('Kavin', 69, 68.99)\n",
      " ('Sree', 78, 77.99) ('Leo Das', 89, 89.34)]\n",
      "[('Leo Das', 89, 89.34) ('Sree', 78, 77.99) ('Kavin', 69, 68.99)]\n"
     ]
    }
   ],
   "source": [
    "## sort marks and show top 3 marks\n",
    "sort = np.sort(data , order = \"marks\")\n",
    "print(sort)\n",
    "\n",
    "# To get the top 3\n",
    "top3 = sort[::-1][:3]\n",
    "print(top3)"
   ]
  },
  {
   "cell_type": "code",
   "execution_count": 32,
   "id": "fbbb32a7-1a42-434d-853b-2f280a1b7b23",
   "metadata": {},
   "outputs": [
    {
     "name": "stdout",
     "output_type": "stream",
     "text": [
      "[3 5 7]\n",
      "[ 1  2  3  5  7  9 11]\n",
      "[ 1  2  9 11]\n",
      "[ 1  2  3  5  7  9 11]\n"
     ]
    }
   ],
   "source": [
    "## Intersection , union , symmetric difference\n",
    "numA = np.array([1, 3, 5, 7, 9])\n",
    "numB = np.array([2, 3, 5, 7, 11])\n",
    "\n",
    "inte = np.intersect1d(numA, numB)\n",
    "print(inte)\n",
    "\n",
    "inte = np.union1d(numA, numB)\n",
    "print(inte)\n",
    "\n",
    "inte = np.setxor1d(numA, numB)\n",
    "print(inte)\n",
    "\n",
    "numA = np.array([[1, 3, 5, 7, 9],[2, 3, 5, 7, 11]])\n",
    "numB = np.array([[2, 3, 5, 7, 11],[1, 3, 5, 7, 9]])\n",
    "\n",
    "inte = np.intersect1d(numA, numB)\n",
    "print(inte)"
   ]
  }
 ],
 "metadata": {
  "kernelspec": {
   "display_name": "Python 3 (ipykernel)",
   "language": "python",
   "name": "python3"
  },
  "language_info": {
   "codemirror_mode": {
    "name": "ipython",
    "version": 3
   },
   "file_extension": ".py",
   "mimetype": "text/x-python",
   "name": "python",
   "nbconvert_exporter": "python",
   "pygments_lexer": "ipython3",
   "version": "3.13.5"
  }
 },
 "nbformat": 4,
 "nbformat_minor": 5
}
