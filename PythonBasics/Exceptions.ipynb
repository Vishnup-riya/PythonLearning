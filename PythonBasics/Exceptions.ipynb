{
 "cells": [
  {
   "cell_type": "code",
   "execution_count": 2,
   "id": "21e94144-8bd3-4558-9fd6-4dfaf4295cff",
   "metadata": {},
   "outputs": [
    {
     "ename": "SyntaxError",
     "evalue": "unterminated string literal (detected at line 4) (3962848374.py, line 4)",
     "output_type": "error",
     "traceback": [
      "\u001b[1;36m  Cell \u001b[1;32mIn[2], line 4\u001b[1;36m\u001b[0m\n\u001b[1;33m    print(\"hello world)\u001b[0m\n\u001b[1;37m          ^\u001b[0m\n\u001b[1;31mSyntaxError\u001b[0m\u001b[1;31m:\u001b[0m unterminated string literal (detected at line 4)\n"
     ]
    }
   ],
   "source": [
    "## Syntax error -  indicates that has encountered code that does not conform to the grammatical rules of the Python language\n",
    "## Here it is the \"\n",
    "\n",
    "print(\"hello world)"
   ]
  },
  {
   "cell_type": "code",
   "execution_count": 4,
   "id": "c8874cfc-2190-4bc6-80a6-97a285ee6c04",
   "metadata": {},
   "outputs": [
    {
     "name": "stdin",
     "output_type": "stream",
     "text": [
      " 7.8\n"
     ]
    },
    {
     "ename": "ValueError",
     "evalue": "invalid literal for int() with base 10: '7.8'",
     "output_type": "error",
     "traceback": [
      "\u001b[1;31m---------------------------------------------------------------------------\u001b[0m",
      "\u001b[1;31mValueError\u001b[0m                                Traceback (most recent call last)",
      "Cell \u001b[1;32mIn[4], line 3\u001b[0m\n\u001b[0;32m      1\u001b[0m \u001b[38;5;66;03m## Value error - an exception that occurs when a function or operation receives an argument that has the correct data type but an inappropriate or invalid value\u001b[39;00m\n\u001b[1;32m----> 3\u001b[0m x \u001b[38;5;241m=\u001b[39m \u001b[38;5;28mint\u001b[39m(\u001b[38;5;28minput\u001b[39m())             \u001b[38;5;66;03m## The operation requested an integer, but the input value provided is a float.\u001b[39;00m\n\u001b[0;32m      4\u001b[0m \u001b[38;5;28mprint\u001b[39m(\u001b[38;5;124mf\u001b[39m\u001b[38;5;124m\"\u001b[39m\u001b[38;5;124mThe value of x is \u001b[39m\u001b[38;5;132;01m{\u001b[39;00mx\u001b[38;5;132;01m}\u001b[39;00m\u001b[38;5;124m\"\u001b[39m)\n",
      "\u001b[1;31mValueError\u001b[0m: invalid literal for int() with base 10: '7.8'"
     ]
    }
   ],
   "source": [
    "## Value error - an exception that occurs when a function or operation receives an argument that has the correct data type but an inappropriate or invalid value\n",
    "\n",
    "x = int(input())             ## The operation requested an integer, but the input value provided is a float.\n",
    "print(f\"The value of x is {x}\")"
   ]
  },
  {
   "cell_type": "code",
   "execution_count": 2,
   "id": "b610b867-84bc-41d9-823f-3b5ba161fc2a",
   "metadata": {},
   "outputs": [
    {
     "name": "stdin",
     "output_type": "stream",
     "text": [
      " cat\n"
     ]
    },
    {
     "ename": "ValueError",
     "evalue": "invalid literal for int() with base 10: 'cat'",
     "output_type": "error",
     "traceback": [
      "\u001b[1;31m---------------------------------------------------------------------------\u001b[0m",
      "\u001b[1;31mValueError\u001b[0m                                Traceback (most recent call last)",
      "Cell \u001b[1;32mIn[2], line 1\u001b[0m\n\u001b[1;32m----> 1\u001b[0m y \u001b[38;5;241m=\u001b[39m \u001b[38;5;28mint\u001b[39m(\u001b[38;5;28minput\u001b[39m())   \u001b[38;5;66;03m## The code (to right) creating the value error\u001b[39;00m\n\u001b[0;32m      2\u001b[0m \u001b[38;5;28mprint\u001b[39m(\u001b[38;5;124mf\u001b[39m\u001b[38;5;124m\"\u001b[39m\u001b[38;5;124mThe value of y is \u001b[39m\u001b[38;5;132;01m{\u001b[39;00my\u001b[38;5;132;01m}\u001b[39;00m\u001b[38;5;124m\"\u001b[39m)\n",
      "\u001b[1;31mValueError\u001b[0m: invalid literal for int() with base 10: 'cat'"
     ]
    }
   ],
   "source": [
    "y = int(input())   ## The code (to right) creating the value error\n",
    "print(f\"The value of y is {y}\")"
   ]
  },
  {
   "cell_type": "markdown",
   "id": "37ac1408-1736-4406-b289-65ddd7296331",
   "metadata": {},
   "source": [
    "Managing Exceptions"
   ]
  },
  {
   "cell_type": "code",
   "execution_count": 6,
   "id": "7461accb-8e76-48c7-876e-1e16df57fa41",
   "metadata": {},
   "outputs": [
    {
     "name": "stdin",
     "output_type": "stream",
     "text": [
      " Padma\n"
     ]
    },
    {
     "name": "stdout",
     "output_type": "stream",
     "text": [
      "x is not an integer number\n"
     ]
    }
   ],
   "source": [
    "try:\n",
    "    x = int(input())\n",
    "    print(f\"The value of x is {x}\")\n",
    "except ValueError:\n",
    "    print(\"x is not an integer number\")"
   ]
  },
  {
   "cell_type": "code",
   "execution_count": 1,
   "id": "3ab8cbfd-21b0-4cf2-b5fa-a94665bbafb1",
   "metadata": {},
   "outputs": [
    {
     "name": "stdin",
     "output_type": "stream",
     "text": [
      " cat\n"
     ]
    },
    {
     "name": "stdout",
     "output_type": "stream",
     "text": [
      "x is not an integer number\n"
     ]
    },
    {
     "ename": "NameError",
     "evalue": "name 'x' is not defined",
     "output_type": "error",
     "traceback": [
      "\u001b[1;31m---------------------------------------------------------------------------\u001b[0m",
      "\u001b[1;31mNameError\u001b[0m                                 Traceback (most recent call last)",
      "Cell \u001b[1;32mIn[1], line 8\u001b[0m\n\u001b[0;32m      5\u001b[0m \u001b[38;5;28;01mexcept\u001b[39;00m \u001b[38;5;167;01mValueError\u001b[39;00m:\n\u001b[0;32m      6\u001b[0m     \u001b[38;5;28mprint\u001b[39m(\u001b[38;5;124m\"\u001b[39m\u001b[38;5;124mx is not an integer number\u001b[39m\u001b[38;5;124m\"\u001b[39m)\n\u001b[1;32m----> 8\u001b[0m \u001b[38;5;28mprint\u001b[39m(\u001b[38;5;124mf\u001b[39m\u001b[38;5;124m\"\u001b[39m\u001b[38;5;124mThe value of x is \u001b[39m\u001b[38;5;132;01m{\u001b[39;00mx\u001b[38;5;132;01m}\u001b[39;00m\u001b[38;5;124m\"\u001b[39m)\n",
      "\u001b[1;31mNameError\u001b[0m: name 'x' is not defined"
     ]
    }
   ],
   "source": [
    "## Name error - indicates that the name has not been defined or imported before its usage.\n",
    "\n",
    "try:\n",
    "    x = int(input())\n",
    "except ValueError:\n",
    "    print(\"x is not an integer number\")\n",
    "\n",
    "print(f\"The value of x is {x}\")"
   ]
  },
  {
   "cell_type": "markdown",
   "id": "2ca37c83-d488-40a0-b502-cccc02af2390",
   "metadata": {},
   "source": [
    "Managing Exceptions"
   ]
  },
  {
   "cell_type": "code",
   "execution_count": 3,
   "id": "01b8dcfe-fb07-4d58-84dc-762737ee25dd",
   "metadata": {},
   "outputs": [
    {
     "name": "stdin",
     "output_type": "stream",
     "text": [
      " cat\n"
     ]
    },
    {
     "name": "stdout",
     "output_type": "stream",
     "text": [
      "x is not an integer number\n"
     ]
    }
   ],
   "source": [
    "try:\n",
    "    x = int(input())\n",
    "except ValueError:\n",
    "    print(\"x is not an integer number\")\n",
    "else:\n",
    "    print(f\"The value of x is {x}\")"
   ]
  },
  {
   "cell_type": "code",
   "execution_count": 4,
   "id": "c30ccb03-1fae-45f3-94b9-5abd4cf9b7ef",
   "metadata": {},
   "outputs": [
    {
     "name": "stdin",
     "output_type": "stream",
     "text": [
      " 67\n"
     ]
    },
    {
     "name": "stdout",
     "output_type": "stream",
     "text": [
      "The value of x is 67\n"
     ]
    }
   ],
   "source": [
    "try:\n",
    "    x = int(input())\n",
    "except ValueError:\n",
    "    print(\"x is not an integer number\")\n",
    "else:\n",
    "    print(f\"The value of x is {x}\")"
   ]
  },
  {
   "cell_type": "code",
   "execution_count": 7,
   "id": "bcf11e6c-57e7-4f1c-9add-78f5396baefc",
   "metadata": {},
   "outputs": [
    {
     "name": "stdin",
     "output_type": "stream",
     "text": [
      " padma\n"
     ]
    },
    {
     "name": "stdout",
     "output_type": "stream",
     "text": [
      "x is not an integer\n"
     ]
    },
    {
     "name": "stdin",
     "output_type": "stream",
     "text": [
      " 78.99\n"
     ]
    },
    {
     "name": "stdout",
     "output_type": "stream",
     "text": [
      "x is not an integer\n"
     ]
    },
    {
     "name": "stdin",
     "output_type": "stream",
     "text": [
      " 56.99\n"
     ]
    },
    {
     "name": "stdout",
     "output_type": "stream",
     "text": [
      "x is not an integer\n"
     ]
    },
    {
     "name": "stdin",
     "output_type": "stream",
     "text": [
      " 60\n"
     ]
    }
   ],
   "source": [
    "## Using loop\n",
    "\n",
    "while True:           ## Here, the input argument gets repeated until the user gives the integer values. Once an integer value is given, the loop breaks\n",
    "    try:\n",
    "        x =int(input())\n",
    "    except ValueError:\n",
    "        print(\"x is not an integer\")\n",
    "    else:\n",
    "        break"
   ]
  },
  {
   "cell_type": "code",
   "execution_count": 11,
   "id": "6320fd37-9b77-46a1-bbf8-cb07c39cfab7",
   "metadata": {},
   "outputs": [
    {
     "name": "stdin",
     "output_type": "stream",
     "text": [
      " 67.55\n"
     ]
    },
    {
     "name": "stdout",
     "output_type": "stream",
     "text": [
      "x is not an integer\n"
     ]
    },
    {
     "name": "stdin",
     "output_type": "stream",
     "text": [
      " 44.5\n"
     ]
    },
    {
     "name": "stdout",
     "output_type": "stream",
     "text": [
      "x is not an integer\n"
     ]
    },
    {
     "name": "stdin",
     "output_type": "stream",
     "text": [
      " 55\n"
     ]
    },
    {
     "name": "stdout",
     "output_type": "stream",
     "text": [
      "The value of x is 55\n"
     ]
    }
   ],
   "source": [
    "while True:           \n",
    "    try:\n",
    "        x =int(input())\n",
    "    except ValueError:\n",
    "        print(\"x is not an integer\")\n",
    "    else:\n",
    "        break\n",
    "        \n",
    "print(f\"The value of x is {x}\")"
   ]
  },
  {
   "cell_type": "code",
   "execution_count": 13,
   "id": "93b2b875-d5fc-4f4e-a095-456e023c2287",
   "metadata": {},
   "outputs": [
    {
     "name": "stdin",
     "output_type": "stream",
     "text": [
      " 67.88\n"
     ]
    },
    {
     "name": "stdout",
     "output_type": "stream",
     "text": [
      "not an integer number\n"
     ]
    },
    {
     "name": "stdin",
     "output_type": "stream",
     "text": [
      " 78.99\n"
     ]
    },
    {
     "name": "stdout",
     "output_type": "stream",
     "text": [
      "not an integer number\n"
     ]
    },
    {
     "name": "stdin",
     "output_type": "stream",
     "text": [
      " 89\n"
     ]
    },
    {
     "name": "stdout",
     "output_type": "stream",
     "text": [
      " x is 89\n"
     ]
    }
   ],
   "source": [
    "def main():\n",
    "    x = get_int()\n",
    "    print(f\" x is {x}\")\n",
    "\n",
    "\n",
    "def get_int():\n",
    "    while True:\n",
    "        try:\n",
    "            return int(input())\n",
    "        except ValueError:\n",
    "            print(\"not an integer number\")\n",
    "\n",
    "main()"
   ]
  },
  {
   "cell_type": "code",
   "execution_count": 14,
   "id": "1d375b4e-a522-4444-bc88-881dc10585ae",
   "metadata": {},
   "outputs": [
    {
     "name": "stdin",
     "output_type": "stream",
     "text": [
      " 78.99\n",
      " 76.00\n",
      " 87\n"
     ]
    },
    {
     "name": "stdout",
     "output_type": "stream",
     "text": [
      " x is 87\n"
     ]
    }
   ],
   "source": [
    "## Pass - a null operation, meaning it does nothing when executed\n",
    "def main():\n",
    "    x = get_int()\n",
    "    print(f\" x is {x}\")\n",
    "\n",
    "\n",
    "def get_int():\n",
    "    while True:\n",
    "        try:\n",
    "            return int(input())\n",
    "        except ValueError:\n",
    "            pass\n",
    "\n",
    "main()\n"
   ]
  },
  {
   "cell_type": "markdown",
   "id": "67389750-9565-42ca-bbfe-da1468705c2a",
   "metadata": {},
   "source": [
    "Raising Errors - raises an error and stops the control flow of the program"
   ]
  },
  {
   "cell_type": "code",
   "execution_count": 10,
   "id": "e3678c86-912f-49bd-925e-411c62ed5bf8",
   "metadata": {},
   "outputs": [
    {
     "name": "stdin",
     "output_type": "stream",
     "text": [
      " cat\n"
     ]
    },
    {
     "ename": "ValueError",
     "evalue": "x is not an integer",
     "output_type": "error",
     "traceback": [
      "\u001b[1;31m---------------------------------------------------------------------------\u001b[0m",
      "\u001b[1;31mValueError\u001b[0m                                Traceback (most recent call last)",
      "Cell \u001b[1;32mIn[10], line 2\u001b[0m\n\u001b[0;32m      1\u001b[0m \u001b[38;5;28;01mtry\u001b[39;00m:\n\u001b[1;32m----> 2\u001b[0m     x \u001b[38;5;241m=\u001b[39m \u001b[38;5;28mint\u001b[39m(\u001b[38;5;28minput\u001b[39m())\n\u001b[0;32m      3\u001b[0m \u001b[38;5;28;01mexcept\u001b[39;00m \u001b[38;5;167;01mValueError\u001b[39;00m:\n",
      "\u001b[1;31mValueError\u001b[0m: invalid literal for int() with base 10: 'cat'",
      "\nDuring handling of the above exception, another exception occurred:\n",
      "\u001b[1;31mValueError\u001b[0m                                Traceback (most recent call last)",
      "Cell \u001b[1;32mIn[10], line 4\u001b[0m\n\u001b[0;32m      2\u001b[0m     x \u001b[38;5;241m=\u001b[39m \u001b[38;5;28mint\u001b[39m(\u001b[38;5;28minput\u001b[39m())\n\u001b[0;32m      3\u001b[0m \u001b[38;5;28;01mexcept\u001b[39;00m \u001b[38;5;167;01mValueError\u001b[39;00m:\n\u001b[1;32m----> 4\u001b[0m     \u001b[38;5;28;01mraise\u001b[39;00m \u001b[38;5;167;01mValueError\u001b[39;00m(\u001b[38;5;124m\"\u001b[39m\u001b[38;5;124mx is not an integer\u001b[39m\u001b[38;5;124m\"\u001b[39m)\n",
      "\u001b[1;31mValueError\u001b[0m: x is not an integer"
     ]
    }
   ],
   "source": [
    "try:\n",
    "    x = int(input())\n",
    "except ValueError:\n",
    "    raise ValueError(\"x is not an integer\")\n",
    "\n"
   ]
  },
  {
   "cell_type": "markdown",
   "id": "d5fc0f59-f66a-4da8-ab06-c1c67f3cda4e",
   "metadata": {},
   "source": [
    "### **Coding Exercise**"
   ]
  },
  {
   "cell_type": "markdown",
   "id": "65acde25-812a-4a2c-9c31-fa0a18f2037d",
   "metadata": {},
   "source": [
    "(1) Handle ZeroDivisionError Exception"
   ]
  },
  {
   "cell_type": "code",
   "execution_count": 23,
   "id": "05abe586-247b-4a60-a244-ddf97fb9d74c",
   "metadata": {},
   "outputs": [
    {
     "name": "stdin",
     "output_type": "stream",
     "text": [
      " 4\n",
      " 0\n"
     ]
    },
    {
     "name": "stdout",
     "output_type": "stream",
     "text": [
      "division by zero not possible\n"
     ]
    }
   ],
   "source": [
    "try:\n",
    "    a = int(input())\n",
    "    b = int(input())\n",
    "    reult = a/b\n",
    "except ZeroDivisionError:\n",
    "    if b==0:\n",
    "        print(\"division by zero not possible\")"
   ]
  },
  {
   "cell_type": "code",
   "execution_count": 22,
   "id": "9154a1cb-efeb-4aa7-a787-1b189117ffb5",
   "metadata": {},
   "outputs": [
    {
     "name": "stdout",
     "output_type": "stream",
     "text": [
      "division by zero not possible\n"
     ]
    }
   ],
   "source": [
    "def divide(a,b):\n",
    "    try:\n",
    "        result = a/b\n",
    "    except ZeroDivisionError:\n",
    "        if b == 0:\n",
    "            print(\"division by zero not possible\")\n",
    "\n",
    "divide(8,0)"
   ]
  },
  {
   "cell_type": "code",
   "execution_count": 24,
   "id": "6b4d4cfc-1b2f-4b83-a3e8-30b90f60773e",
   "metadata": {},
   "outputs": [
    {
     "ename": "ZeroDivisionError",
     "evalue": "division by zero not possible",
     "output_type": "error",
     "traceback": [
      "\u001b[1;31m---------------------------------------------------------------------------\u001b[0m",
      "\u001b[1;31mZeroDivisionError\u001b[0m                         Traceback (most recent call last)",
      "Cell \u001b[1;32mIn[24], line 3\u001b[0m, in \u001b[0;36mdivide\u001b[1;34m(a, b)\u001b[0m\n\u001b[0;32m      2\u001b[0m \u001b[38;5;28;01mtry\u001b[39;00m:\n\u001b[1;32m----> 3\u001b[0m     result \u001b[38;5;241m=\u001b[39m a\u001b[38;5;241m/\u001b[39mb\n\u001b[0;32m      4\u001b[0m \u001b[38;5;28;01mexcept\u001b[39;00m \u001b[38;5;167;01mZeroDivisionError\u001b[39;00m:\n",
      "\u001b[1;31mZeroDivisionError\u001b[0m: division by zero",
      "\nDuring handling of the above exception, another exception occurred:\n",
      "\u001b[1;31mZeroDivisionError\u001b[0m                         Traceback (most recent call last)",
      "Cell \u001b[1;32mIn[24], line 7\u001b[0m\n\u001b[0;32m      4\u001b[0m     \u001b[38;5;28;01mexcept\u001b[39;00m \u001b[38;5;167;01mZeroDivisionError\u001b[39;00m:\n\u001b[0;32m      5\u001b[0m         \u001b[38;5;28;01mraise\u001b[39;00m \u001b[38;5;167;01mZeroDivisionError\u001b[39;00m(\u001b[38;5;124m\"\u001b[39m\u001b[38;5;124mdivision by zero not possible\u001b[39m\u001b[38;5;124m\"\u001b[39m)\n\u001b[1;32m----> 7\u001b[0m divide(\u001b[38;5;241m8\u001b[39m,\u001b[38;5;241m0\u001b[39m)\n",
      "Cell \u001b[1;32mIn[24], line 5\u001b[0m, in \u001b[0;36mdivide\u001b[1;34m(a, b)\u001b[0m\n\u001b[0;32m      3\u001b[0m     result \u001b[38;5;241m=\u001b[39m a\u001b[38;5;241m/\u001b[39mb\n\u001b[0;32m      4\u001b[0m \u001b[38;5;28;01mexcept\u001b[39;00m \u001b[38;5;167;01mZeroDivisionError\u001b[39;00m:\n\u001b[1;32m----> 5\u001b[0m     \u001b[38;5;28;01mraise\u001b[39;00m \u001b[38;5;167;01mZeroDivisionError\u001b[39;00m(\u001b[38;5;124m\"\u001b[39m\u001b[38;5;124mdivision by zero not possible\u001b[39m\u001b[38;5;124m\"\u001b[39m)\n",
      "\u001b[1;31mZeroDivisionError\u001b[0m: division by zero not possible"
     ]
    }
   ],
   "source": [
    "def divide(a,b):\n",
    "    try:\n",
    "        result = a/b\n",
    "    except ZeroDivisionError:\n",
    "        raise ZeroDivisionError(\"division by zero not possible\")\n",
    "\n",
    "divide(8,0)"
   ]
  },
  {
   "cell_type": "code",
   "execution_count": 25,
   "id": "872b69fa-24ff-45c9-84b7-0bb2d592ce42",
   "metadata": {},
   "outputs": [],
   "source": [
    "def divide(a,b):\n",
    "    try:\n",
    "        result = a/b\n",
    "    except ZeroDivisionError:\n",
    "        raise ZeroDivisionError(\"division by zero not possible\")\n",
    "\n",
    "divide(8,8)"
   ]
  },
  {
   "cell_type": "markdown",
   "id": "bcf00e42-364c-4846-af56-19143a181a14",
   "metadata": {},
   "source": [
    "Python program that prompts the user to input two numbers and raises a TypeError exception if the inputs are not numerical."
   ]
  },
  {
   "cell_type": "code",
   "execution_count": 2,
   "id": "e97c9508-bc31-41a7-b4e9-a1b074ac7465",
   "metadata": {},
   "outputs": [
    {
     "name": "stdin",
     "output_type": "stream",
     "text": [
      " cat\n"
     ]
    },
    {
     "name": "stdout",
     "output_type": "stream",
     "text": [
      "the inputs are not numerical\n"
     ]
    },
    {
     "name": "stdin",
     "output_type": "stream",
     "text": [
      " 5\n",
      " padma\n"
     ]
    },
    {
     "name": "stdout",
     "output_type": "stream",
     "text": [
      "the inputs are not numerical\n"
     ]
    },
    {
     "name": "stdin",
     "output_type": "stream",
     "text": [
      " 6\n",
      " 6\n"
     ]
    },
    {
     "data": {
      "text/plain": [
       "12"
      ]
     },
     "execution_count": 2,
     "metadata": {},
     "output_type": "execute_result"
    }
   ],
   "source": [
    "while True:\n",
    "    try:\n",
    "        x = int(input())\n",
    "        y = int(input())\n",
    "    except ValueError:\n",
    "        print(\"the inputs are not numerical\")\n",
    "    else:\n",
    "        break\n",
    "\n",
    "result = x + y\n",
    "result"
   ]
  },
  {
   "cell_type": "markdown",
   "id": "9fb92b3b-2e6c-4047-99f9-e00d57dfd680",
   "metadata": {},
   "source": [
    "Python program that executes an operation on a list and handles an IndexError exception if the index is out of range."
   ]
  },
  {
   "cell_type": "code",
   "execution_count": 6,
   "id": "5d107440-895f-47ec-828a-e20b481fb198",
   "metadata": {},
   "outputs": [
    {
     "name": "stdin",
     "output_type": "stream",
     "text": [
      "enter the index number:  3\n"
     ]
    },
    {
     "name": "stdout",
     "output_type": "stream",
     "text": [
      "84\n"
     ]
    }
   ],
   "source": [
    "def list_val(data , index):\n",
    "    try:\n",
    "        result = data[index]\n",
    "        print(result)\n",
    "    except IndexError:\n",
    "        print(\"Error: Index out of range.\")\n",
    "\n",
    "num = [14,42,33,84,55,68,73,9]\n",
    "index = int(input(\"enter the index number: \"))\n",
    "\n",
    "list_val(num, index)"
   ]
  },
  {
   "cell_type": "code",
   "execution_count": 8,
   "id": "90be66fe-a142-40c1-b638-e86badcc9d12",
   "metadata": {},
   "outputs": [
    {
     "name": "stdin",
     "output_type": "stream",
     "text": [
      "enter the index number:  9\n"
     ]
    },
    {
     "name": "stdout",
     "output_type": "stream",
     "text": [
      "Error: Index out of range.\n"
     ]
    },
    {
     "name": "stdin",
     "output_type": "stream",
     "text": [
      "enter the index number:  12\n"
     ]
    },
    {
     "name": "stdout",
     "output_type": "stream",
     "text": [
      "Error: Index out of range.\n"
     ]
    },
    {
     "name": "stdin",
     "output_type": "stream",
     "text": [
      "enter the index number:  5\n"
     ]
    },
    {
     "name": "stdout",
     "output_type": "stream",
     "text": [
      "68\n"
     ]
    }
   ],
   "source": [
    "while True:\n",
    "    try:\n",
    "        numbers = [14,42,33,84,55,68,73,9]\n",
    "        index = int(input(\"enter the index number: \"))\n",
    "        result = numbers[index]\n",
    "        print(result)\n",
    "    except IndexError:\n",
    "        print(\"Error: Index out of range.\")\n",
    "    else:\n",
    "        break"
   ]
  },
  {
   "cell_type": "markdown",
   "id": "2b0ce9cf-7e6b-4499-ab6a-08018d4230ac",
   "metadata": {},
   "source": [
    "Python program that executes a dictionaries operation and handles an AttributeError exception if the attribute does not exist."
   ]
  },
  {
   "cell_type": "code",
   "execution_count": 14,
   "id": "9c7e3d43-ca76-44ad-8337-78b4c216c2c8",
   "metadata": {},
   "outputs": [
    {
     "data": {
      "text/plain": [
       "dict_keys(['brand', 'model', 'year'])"
      ]
     },
     "execution_count": 14,
     "metadata": {},
     "output_type": "execute_result"
    }
   ],
   "source": [
    "my_dict = {\"brand\": \"Ford\", \"model\": \"Mustang\", \"year\": 1964}\n",
    "my_dict.keys()"
   ]
  },
  {
   "cell_type": "code",
   "execution_count": 17,
   "id": "fc2949ee-9770-4b26-93f7-fe46352a8453",
   "metadata": {},
   "outputs": [
    {
     "name": "stdout",
     "output_type": "stream",
     "text": [
      "dict_keys(['brand', 'model', 'year'])\n"
     ]
    }
   ],
   "source": [
    "def my_dict(cars):\n",
    "    try:\n",
    "        result = cars.keys()\n",
    "        print(result)\n",
    "    except AttributeError:\n",
    "        print(\"The dictionaries does not have keys attribute\")\n",
    "\n",
    "cars = {\"brand\": \"Ford\", \"model\": \"Mustang\", \"year\": 1964}\n",
    "my_dict(cars)"
   ]
  },
  {
   "cell_type": "code",
   "execution_count": 18,
   "id": "58de90a0-e551-449a-9c1b-cdb0609ef705",
   "metadata": {},
   "outputs": [
    {
     "name": "stdout",
     "output_type": "stream",
     "text": [
      "The dictionaries does not have keys attribute\n"
     ]
    }
   ],
   "source": [
    "def my_dict(cars):\n",
    "    try:\n",
    "        result = cars.key()\n",
    "        print(result)\n",
    "    except AttributeError:\n",
    "        print(\"The dictionaries does not have keys attribute\")\n",
    "\n",
    "cars = {\"brand\": \"Ford\", \"model\": \"Mustang\", \"year\": 1964}\n",
    "my_dict(cars)"
   ]
  },
  {
   "cell_type": "code",
   "execution_count": 22,
   "id": "f3967820-d996-41ca-8580-63fc13b019e0",
   "metadata": {},
   "outputs": [
    {
     "ename": "AttributeError",
     "evalue": "dict object has no attribute key",
     "output_type": "error",
     "traceback": [
      "\u001b[1;31m---------------------------------------------------------------------------\u001b[0m",
      "\u001b[1;31mAttributeError\u001b[0m                            Traceback (most recent call last)",
      "Cell \u001b[1;32mIn[22], line 3\u001b[0m, in \u001b[0;36mmy_dict\u001b[1;34m(cars)\u001b[0m\n\u001b[0;32m      2\u001b[0m \u001b[38;5;28;01mtry\u001b[39;00m:\n\u001b[1;32m----> 3\u001b[0m     result \u001b[38;5;241m=\u001b[39m cars\u001b[38;5;241m.\u001b[39mkey()\n\u001b[0;32m      4\u001b[0m     \u001b[38;5;28mprint\u001b[39m(result)\n",
      "\u001b[1;31mAttributeError\u001b[0m: 'dict' object has no attribute 'key'",
      "\nDuring handling of the above exception, another exception occurred:\n",
      "\u001b[1;31mAttributeError\u001b[0m                            Traceback (most recent call last)",
      "Cell \u001b[1;32mIn[22], line 9\u001b[0m\n\u001b[0;32m      6\u001b[0m         \u001b[38;5;28;01mraise\u001b[39;00m \u001b[38;5;167;01mAttributeError\u001b[39;00m(\u001b[38;5;124m\"\u001b[39m\u001b[38;5;124mdict object has no attribute key\u001b[39m\u001b[38;5;124m\"\u001b[39m)\n\u001b[0;32m      8\u001b[0m cars \u001b[38;5;241m=\u001b[39m {\u001b[38;5;124m\"\u001b[39m\u001b[38;5;124mbrand\u001b[39m\u001b[38;5;124m\"\u001b[39m: \u001b[38;5;124m\"\u001b[39m\u001b[38;5;124mFord\u001b[39m\u001b[38;5;124m\"\u001b[39m, \u001b[38;5;124m\"\u001b[39m\u001b[38;5;124mmodel\u001b[39m\u001b[38;5;124m\"\u001b[39m: \u001b[38;5;124m\"\u001b[39m\u001b[38;5;124mMustang\u001b[39m\u001b[38;5;124m\"\u001b[39m, \u001b[38;5;124m\"\u001b[39m\u001b[38;5;124myear\u001b[39m\u001b[38;5;124m\"\u001b[39m: \u001b[38;5;241m1964\u001b[39m}\n\u001b[1;32m----> 9\u001b[0m my_dict(cars)\n",
      "Cell \u001b[1;32mIn[22], line 6\u001b[0m, in \u001b[0;36mmy_dict\u001b[1;34m(cars)\u001b[0m\n\u001b[0;32m      4\u001b[0m     \u001b[38;5;28mprint\u001b[39m(result)\n\u001b[0;32m      5\u001b[0m \u001b[38;5;28;01mexcept\u001b[39;00m \u001b[38;5;167;01mAttributeError\u001b[39;00m:\n\u001b[1;32m----> 6\u001b[0m     \u001b[38;5;28;01mraise\u001b[39;00m \u001b[38;5;167;01mAttributeError\u001b[39;00m(\u001b[38;5;124m\"\u001b[39m\u001b[38;5;124mdict object has no attribute key\u001b[39m\u001b[38;5;124m\"\u001b[39m)\n",
      "\u001b[1;31mAttributeError\u001b[0m: dict object has no attribute key"
     ]
    }
   ],
   "source": [
    "def my_dict(cars):\n",
    "    try:\n",
    "        result = cars.key()\n",
    "        print(result)\n",
    "    except AttributeError:\n",
    "        raise AttributeError(\"dict object has no attribute key\")\n",
    "\n",
    "cars = {\"brand\": \"Ford\", \"model\": \"Mustang\", \"year\": 1964}\n",
    "my_dict(cars)"
   ]
  }
 ],
 "metadata": {
  "kernelspec": {
   "display_name": "Python 3 (ipykernel)",
   "language": "python",
   "name": "python3"
  },
  "language_info": {
   "codemirror_mode": {
    "name": "ipython",
    "version": 3
   },
   "file_extension": ".py",
   "mimetype": "text/x-python",
   "name": "python",
   "nbconvert_exporter": "python",
   "pygments_lexer": "ipython3",
   "version": "3.13.5"
  }
 },
 "nbformat": 4,
 "nbformat_minor": 5
}
