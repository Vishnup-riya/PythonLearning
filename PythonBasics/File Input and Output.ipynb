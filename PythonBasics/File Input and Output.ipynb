{
 "cells": [
  {
   "cell_type": "code",
   "execution_count": 1,
   "id": "ee09aa20-f742-4bf5-9a90-5e4410de5d7d",
   "metadata": {},
   "outputs": [
    {
     "name": "stdin",
     "output_type": "stream",
     "text": [
      "What's your name? Priya\n"
     ]
    },
    {
     "name": "stdout",
     "output_type": "stream",
     "text": [
      "Hello Priya\n"
     ]
    }
   ],
   "source": [
    "name = input(\"What's your name?\")\n",
    "print(f\"Hello {name}\")"
   ]
  },
  {
   "cell_type": "code",
   "execution_count": 2,
   "id": "ddf8e1b4-d67f-4b94-acd2-c6a3373bd188",
   "metadata": {},
   "outputs": [
    {
     "name": "stdin",
     "output_type": "stream",
     "text": [
      "What's your name? Priya\n",
      "What's your name? David\n",
      "What's your name? Sree\n"
     ]
    },
    {
     "name": "stdout",
     "output_type": "stream",
     "text": [
      "Hello David\n",
      "Hello Priya\n",
      "Hello Sree\n"
     ]
    }
   ],
   "source": [
    "names = [] ## empty list\n",
    "\n",
    "for i in range(3):\n",
    "    names.append(input(\"What's your name?\"))\n",
    "\n",
    "## sort in alphabetic order\n",
    "for name in sorted(names):\n",
    "    print(f\"Hello {name}\")"
   ]
  },
  {
   "cell_type": "markdown",
   "id": "11d17c36-496d-4e75-9571-1f645b724670",
   "metadata": {},
   "source": [
    "If I run this program again ,  all of the names are lost"
   ]
  },
  {
   "cell_type": "markdown",
   "id": "030e22e9-0113-4d9e-9e87-3aa0eee3fecd",
   "metadata": {},
   "source": [
    "##### open - open() function is used to interact with files. It allows you to open a file and returns a file object, which you can then use to read from, write to, or perform other operations on the file\n",
    "\n",
    "##### the primary way to \"close\" a resource, especially files, is by using the close() method."
   ]
  },
  {
   "cell_type": "code",
   "execution_count": 9,
   "id": "0d95b5e9-b34f-43b3-bf94-62b5504fe192",
   "metadata": {},
   "outputs": [
    {
     "name": "stdin",
     "output_type": "stream",
     "text": [
      "What's your name? David\n"
     ]
    }
   ],
   "source": [
    "name = input(\"What's your name?\")\n",
    "\n",
    "file = open(\"names.txt\",\"w\")\n",
    "file.write(name)\n",
    "file.close()"
   ]
  },
  {
   "cell_type": "markdown",
   "id": "339f9065-20f1-455d-b902-76545b5b8585",
   "metadata": {},
   "source": [
    "The names are not being saved when I run the program again."
   ]
  },
  {
   "cell_type": "code",
   "execution_count": 13,
   "id": "bad19b46-df60-49f6-9c92-e79f407a9613",
   "metadata": {},
   "outputs": [
    {
     "name": "stdin",
     "output_type": "stream",
     "text": [
      "What's your name? Diviya\n"
     ]
    },
    {
     "name": "stdout",
     "output_type": "stream",
     "text": [
      "DavidDavid \n",
      "Priya \n",
      "Sree \n",
      "Diviya \n",
      "\n"
     ]
    }
   ],
   "source": [
    "name = input(\"What's your name?\")\n",
    "\n",
    "file = open(\"names.txt\",\"a\")   # 'a' = append mode\n",
    "file.write(f\"{name} \\n\")\n",
    "\n",
    "file = open(\"names.txt\", \"r\")\n",
    "print(file.read())"
   ]
  },
  {
   "cell_type": "code",
   "execution_count": 14,
   "id": "c008f3b1-a4c6-440b-9a94-bb8ab84b8d78",
   "metadata": {},
   "outputs": [
    {
     "name": "stdin",
     "output_type": "stream",
     "text": [
      "What's your name? Sree\n"
     ]
    },
    {
     "name": "stdout",
     "output_type": "stream",
     "text": [
      "DavidDavid \n",
      "Priya \n",
      "Sree \n",
      "Diviya \n",
      "Sree \n",
      "\n"
     ]
    }
   ],
   "source": [
    "## Alternative Methods for Saving Data Without Using the Close Method\n",
    "name = input(\"What's your name?\")\n",
    "\n",
    "with open(\"names.txt\",\"a\") as file:\n",
    "    file.write(f\"{name} \\n\")\n",
    "\n",
    "with open(\"names.txt\", \"r\") as file:\n",
    "    print(file.read())"
   ]
  },
  {
   "cell_type": "code",
   "execution_count": 15,
   "id": "75f7b236-d123-4819-be96-c266e152fb12",
   "metadata": {},
   "outputs": [
    {
     "name": "stdin",
     "output_type": "stream",
     "text": [
      "What's your name? Vishnu\n"
     ]
    },
    {
     "name": "stdout",
     "output_type": "stream",
     "text": [
      "hello  DavidDavid\n",
      "hello  Priya\n",
      "hello  Sree\n",
      "hello  Diviya\n",
      "hello  Sree\n",
      "hello  Vishnu\n"
     ]
    }
   ],
   "source": [
    "name = input(\"What's your name?\")\n",
    "with open(\"names.txt\",\"a\") as file:\n",
    "    file.write(f\"{name}\\n\")\n",
    "\n",
    "with open(\"names.txt\", \"r\") as file:\n",
    "    lines = file.readlines()\n",
    "    \n",
    "for line in lines:\n",
    "    print(\"hello \",line.strip())"
   ]
  },
  {
   "cell_type": "code",
   "execution_count": 16,
   "id": "f0c6a018-10f9-493d-b238-805f3cc158c9",
   "metadata": {},
   "outputs": [
    {
     "name": "stdout",
     "output_type": "stream",
     "text": [
      "hello DavidDavid\n",
      "hello Diviya\n",
      "hello Priya\n",
      "hello Sree\n",
      "hello Sree\n",
      "hello Vishnu\n"
     ]
    }
   ],
   "source": [
    "## sorting the names\n",
    "names = []\n",
    "\n",
    "with open(\"names.txt\") as file:\n",
    "    for line in file:\n",
    "        names.append(line.strip())\n",
    "\n",
    "for name in sorted(names):\n",
    "    print(f\"hello {name}\")"
   ]
  },
  {
   "cell_type": "markdown",
   "id": "e0da1f6c-d996-4d83-a846-b4675165ae04",
   "metadata": {},
   "source": [
    "OR"
   ]
  },
  {
   "cell_type": "code",
   "execution_count": 17,
   "id": "f14c6cb0-b174-484a-8ec1-ee2a024f6a89",
   "metadata": {},
   "outputs": [
    {
     "name": "stdout",
     "output_type": "stream",
     "text": [
      "hello DavidDavid\n",
      "hello Diviya\n",
      "hello Priya\n",
      "hello Sree\n",
      "hello Sree\n",
      "hello Vishnu\n"
     ]
    }
   ],
   "source": [
    "with open(\"names.txt\") as file:\n",
    "    for line in sorted(file):\n",
    "        print(f\"hello\",line.rstrip())"
   ]
  },
  {
   "cell_type": "code",
   "execution_count": 18,
   "id": "5fdc9665-2e85-48ba-802f-fcbfb0380fce",
   "metadata": {},
   "outputs": [
    {
     "name": "stdout",
     "output_type": "stream",
     "text": [
      "hello Vishnu\n",
      "hello Sree\n",
      "hello Sree\n",
      "hello Priya\n",
      "hello Diviya\n",
      "hello DavidDavid\n"
     ]
    }
   ],
   "source": [
    "with open(\"names.txt\") as file:\n",
    "    for line in sorted(file , reverse=True):\n",
    "        print(f\"hello\",line.rstrip())"
   ]
  },
  {
   "cell_type": "markdown",
   "id": "7378730f-9284-438b-8fdd-e428b505f6e0",
   "metadata": {},
   "source": [
    "##### Store the information of the students"
   ]
  },
  {
   "cell_type": "code",
   "execution_count": 22,
   "id": "a51b2c85-0eb3-4cf8-9426-7235e23b2969",
   "metadata": {},
   "outputs": [
    {
     "name": "stdin",
     "output_type": "stream",
     "text": [
      "Your details: Sreepriya,Begur\n"
     ]
    },
    {
     "name": "stdout",
     "output_type": "stream",
     "text": [
      "Fathima , Begur \n",
      "Priya, Akshya Nagar \n",
      "Sreepriya,Begur \n",
      "\n"
     ]
    }
   ],
   "source": [
    "info =  input(\"Your details:\")\n",
    "\n",
    "with open(\"info.csv\",\"a\") as file:\n",
    "    file.write(f\"{info} \\n\")\n",
    "\n",
    "with open(\"info.csv\", \"r\") as file:\n",
    "    print(file.read())"
   ]
  },
  {
   "cell_type": "code",
   "execution_count": null,
   "id": "0be153eb-7952-43cf-a547-bccd2b69902c",
   "metadata": {},
   "outputs": [],
   "source": [
    "## Accesing the information"
   ]
  },
  {
   "cell_type": "code",
   "execution_count": 23,
   "id": "3bdd5cfb-0c58-491d-b46a-89f60683e5a6",
   "metadata": {},
   "outputs": [
    {
     "name": "stdout",
     "output_type": "stream",
     "text": [
      "Fathima  is in  Begur\n",
      "Priya is in  Akshya Nagar\n",
      "Sreepriya is in Begur\n"
     ]
    }
   ],
   "source": [
    "with open(\"info.csv\",\"r\") as file:\n",
    "    for line in file:\n",
    "        row = line.rstrip().split(\",\")\n",
    "        print(f\"{row[0]} is in {row[1]}\")"
   ]
  },
  {
   "cell_type": "code",
   "execution_count": 24,
   "id": "ffeb1400-a638-4782-8b71-908fc9acc910",
   "metadata": {},
   "outputs": [
    {
     "name": "stdout",
     "output_type": "stream",
     "text": [
      "Fathima  is in  Begur\n",
      "Priya is in  Akshya Nagar\n",
      "Sreepriya is in Begur\n"
     ]
    }
   ],
   "source": [
    "with open(\"info.csv\",\"r\") as file:\n",
    "    for line in file:\n",
    "        name , house = line.rstrip().split(\",\")\n",
    "        print(f\"{name} is in {house}\")"
   ]
  },
  {
   "cell_type": "code",
   "execution_count": 25,
   "id": "706ceff5-c141-44a2-8b8b-8d7717b2f8ff",
   "metadata": {},
   "outputs": [
    {
     "name": "stdout",
     "output_type": "stream",
     "text": [
      "Fathima  is in  Begur\n",
      "Priya is in  Akshya Nagar\n",
      "Sreepriya is in Begur\n"
     ]
    }
   ],
   "source": [
    "## sort \n",
    "with open(\"info.csv\",\"r\") as file:\n",
    "    for line in sorted(file):\n",
    "        name , house = line.rstrip().split(\",\")\n",
    "        print(f\"{name} is in {house}\")"
   ]
  },
  {
   "cell_type": "code",
   "execution_count": 26,
   "id": "60cef268-58b0-4d95-99c9-8960e5e4937d",
   "metadata": {},
   "outputs": [
    {
     "name": "stdout",
     "output_type": "stream",
     "text": [
      "Priya is in  Akshya Nagar\n",
      "Fathima  is in  Begur\n",
      "Sreepriya is in Begur\n"
     ]
    }
   ],
   "source": [
    "students = []\n",
    "\n",
    "with open(\"info.csv\",\"r\") as file:\n",
    "    for line in file:\n",
    "        name , house = line.rstrip().split(\",\")\n",
    "        student = {\"name\":name , \"house\":house}\n",
    "        students.append(student)\n",
    "\n",
    "for student in sorted(students, key=lambda student:student[\"house\"]):\n",
    "    print(f\"{student['name']} is in {student['house']}\")"
   ]
  },
  {
   "cell_type": "code",
   "execution_count": 27,
   "id": "dbf0bcf1-8719-4b04-a7bf-128709b7bfc0",
   "metadata": {},
   "outputs": [
    {
     "name": "stdout",
     "output_type": "stream",
     "text": [
      "Fathima  is in  Begur\n",
      "Priya is in  Akshya Nagar\n",
      "Sreepriya is in Begur\n"
     ]
    }
   ],
   "source": [
    "students = []\n",
    "\n",
    "with open(\"info.csv\",\"r\") as file:\n",
    "    for line in file:\n",
    "        name , house = line.rstrip().split(\",\")\n",
    "        student = {\"name\":name , \"house\":house}\n",
    "        students.append(student)\n",
    "\n",
    "for student in sorted(students, key=lambda student:student[\"name\"]):\n",
    "    print(f\"{student['name']} is in {student['house']}\")"
   ]
  },
  {
   "cell_type": "code",
   "execution_count": 28,
   "id": "6ebb3c4a-2402-4ec2-a990-e58df3504aa7",
   "metadata": {},
   "outputs": [
    {
     "name": "stdout",
     "output_type": "stream",
     "text": [
      "Fathima  is in  Begur \n",
      "Priya is in  Akshya Nagar \n",
      "Sreepriya is in Begur \n"
     ]
    }
   ],
   "source": [
    "import csv\n",
    "\n",
    "students = []\n",
    "\n",
    "with open(\"info.csv\",\"r\") as file:\n",
    "    reader=csv.reader(file)\n",
    "    for name,home in reader:\n",
    "        students.append({\"name\":name ,\"house\":home})\n",
    "\n",
    "for student in sorted(students, key=lambda student:student[\"name\"]):\n",
    "    print(f\"{student['name']} is in {student['house']}\")\n",
    "        "
   ]
  },
  {
   "cell_type": "code",
   "execution_count": 78,
   "id": "4b3f443c-2492-4384-93a6-ed3ca033549d",
   "metadata": {},
   "outputs": [
    {
     "name": "stdin",
     "output_type": "stream",
     "text": [
      "Your details: Diviya,\"5TH CROSS, MP\" \n"
     ]
    },
    {
     "name": "stdout",
     "output_type": "stream",
     "text": [
      "Priya,\"14th Main, Begur\" \n",
      "Sree,AKSHYA NAGAR \n",
      "Diviya,\"5TH CROSS, MP\"  \n",
      "\n"
     ]
    }
   ],
   "source": [
    "inform =  input(\"Your details:\")\n",
    "\n",
    "with open(\"inform.csv\",\"a\") as file:\n",
    "    file.write(f\"{inform} \\n\")\n",
    "\n",
    "with open(\"inform.csv\", \"r\") as file:\n",
    "    print(file.read())"
   ]
  },
  {
   "cell_type": "code",
   "execution_count": 79,
   "id": "3daea7fb-4eee-4c34-a17b-18e1d92bd09b",
   "metadata": {},
   "outputs": [
    {
     "ename": "ValueError",
     "evalue": "too many values to unpack (expected 2)",
     "output_type": "error",
     "traceback": [
      "\u001b[1;31m---------------------------------------------------------------------------\u001b[0m",
      "\u001b[1;31mValueError\u001b[0m                                Traceback (most recent call last)",
      "Cell \u001b[1;32mIn[79], line 3\u001b[0m\n\u001b[0;32m      1\u001b[0m \u001b[38;5;28;01mwith\u001b[39;00m \u001b[38;5;28mopen\u001b[39m(\u001b[38;5;124m\"\u001b[39m\u001b[38;5;124minform.csv\u001b[39m\u001b[38;5;124m\"\u001b[39m,\u001b[38;5;124m\"\u001b[39m\u001b[38;5;124mr\u001b[39m\u001b[38;5;124m\"\u001b[39m) \u001b[38;5;28;01mas\u001b[39;00m file:\n\u001b[0;32m      2\u001b[0m     \u001b[38;5;28;01mfor\u001b[39;00m line \u001b[38;5;129;01min\u001b[39;00m file:\n\u001b[1;32m----> 3\u001b[0m         name , house \u001b[38;5;241m=\u001b[39m line\u001b[38;5;241m.\u001b[39mrstrip()\u001b[38;5;241m.\u001b[39msplit(\u001b[38;5;124m\"\u001b[39m\u001b[38;5;124m,\u001b[39m\u001b[38;5;124m\"\u001b[39m)\n\u001b[0;32m      4\u001b[0m         \u001b[38;5;28mprint\u001b[39m(\u001b[38;5;124mf\u001b[39m\u001b[38;5;124m\"\u001b[39m\u001b[38;5;132;01m{\u001b[39;00mname\u001b[38;5;132;01m}\u001b[39;00m\u001b[38;5;124m is in \u001b[39m\u001b[38;5;132;01m{\u001b[39;00mhouse\u001b[38;5;132;01m}\u001b[39;00m\u001b[38;5;124m\"\u001b[39m)\n",
      "\u001b[1;31mValueError\u001b[0m: too many values to unpack (expected 2)"
     ]
    }
   ],
   "source": [
    "with open(\"inform.csv\",\"r\") as file:\n",
    "    for line in file:\n",
    "        name , house = line.rstrip().split(\",\")\n",
    "        print(f\"{name} is in {house}\")"
   ]
  },
  {
   "cell_type": "code",
   "execution_count": 80,
   "id": "5d39056c-7524-4e37-857b-92913714c0a5",
   "metadata": {},
   "outputs": [
    {
     "name": "stdout",
     "output_type": "stream",
     "text": [
      "Diviya is in 5TH CROSS, MP  \n",
      "Priya is in 14th Main, Begur \n",
      "Sree is in AKSHYA NAGAR \n"
     ]
    }
   ],
   "source": [
    "import csv\n",
    "\n",
    "informs = []\n",
    "\n",
    "with open(\"inform.csv\") as file:\n",
    "    reader=csv.reader(file)\n",
    "    for row in reader:\n",
    "        informs.append({\"name\":row[0] ,\"home\":row[1]})\n",
    "\n",
    "for information in sorted(informs, key=lambda information:information[\"name\"]):\n",
    "    print(f\"{information['name']} is in {information['home']}\")"
   ]
  },
  {
   "cell_type": "code",
   "execution_count": 81,
   "id": "05e03a52-485e-4fec-9e38-2ad273a64825",
   "metadata": {},
   "outputs": [
    {
     "name": "stdout",
     "output_type": "stream",
     "text": [
      "Diviya is in 5TH CROSS, MP  \n",
      "Priya is in 14th Main, Begur \n",
      "Sree is in AKSHYA NAGAR \n"
     ]
    }
   ],
   "source": [
    "import csv\n",
    "\n",
    "informs = []\n",
    "\n",
    "with open(\"inform.csv\") as file:\n",
    "    reader=csv.reader(file)\n",
    "    for name,home in reader:\n",
    "        informs.append({\"name\":name ,\"home\":home})\n",
    "\n",
    "for information in sorted(informs, key=lambda information:information[\"name\"]):\n",
    "    print(f\"{information['name']} is in {information['home']}\")"
   ]
  },
  {
   "cell_type": "code",
   "execution_count": 84,
   "id": "a926db66-4cde-485f-aa30-d91b62afea90",
   "metadata": {},
   "outputs": [
    {
     "name": "stdin",
     "output_type": "stream",
     "text": [
      "Your details: \"14th Main, Begur\", Priya\n"
     ]
    },
    {
     "name": "stdout",
     "output_type": "stream",
     "text": [
      "home,name \n",
      "\"5TH CROSS, MP\",Diviya \n",
      "\"14th Main, Begur\", Priya \n",
      "\n"
     ]
    }
   ],
   "source": [
    "informa =  input(\"Your details:\")\n",
    "\n",
    "with open(\"informa.csv\",\"a\") as file:\n",
    "    file.write(f\"{informa} \\n\")\n",
    "\n",
    "with open(\"informa.csv\", \"r\") as file:\n",
    "    print(file.read())"
   ]
  },
  {
   "cell_type": "code",
   "execution_count": 95,
   "id": "096b8f9c-34ef-4ce2-a1cf-bf937fd45b28",
   "metadata": {},
   "outputs": [
    {
     "name": "stdout",
     "output_type": "stream",
     "text": [
      "14th Main, Begur is in  Priya \n",
      "5TH CROSS, MP is in Diviya \n",
      "home is in name \n"
     ]
    }
   ],
   "source": [
    "import csv\n",
    "\n",
    "informas = []\n",
    "\n",
    "with open(\"informa.csv\") as file:\n",
    "    reader=csv.reader(file)\n",
    "    for name,home in reader:\n",
    "        informas.append({\"name\":name ,\"home\":home})\n",
    "\n",
    "for information in sorted(informas, key=lambda information:information[\"name\"]):\n",
    "    print(f\"{information['name']} is in {information['home']}\")"
   ]
  },
  {
   "cell_type": "code",
   "execution_count": 100,
   "id": "c3726753-5556-49c6-9c9d-20877422b146",
   "metadata": {},
   "outputs": [
    {
     "name": "stdout",
     "output_type": "stream",
     "text": [
      "Diviya is in 5TH CROSS, MP\n",
      "Priya is in 14th Main, Begur\n"
     ]
    }
   ],
   "source": [
    "import csv\n",
    "\n",
    "informas = []\n",
    "\n",
    "with open(\"informa.csv\") as file:\n",
    "    reader = csv.DictReader(file)\n",
    "    # Normalize headers (strip spaces, lowercase)\n",
    "    reader.fieldnames = [h.strip().lower() for h in reader.fieldnames]\n",
    "\n",
    "    for row in reader:\n",
    "        informas.append({\"name\": row[\"name\"].strip(),\"home\": row[\"home\"].strip()})\n",
    "\n",
    "for info in sorted(informas, key=lambda x: x[\"name\"]):\n",
    "    print(f\"{info['name']} is in {info['home']}\")\n"
   ]
  },
  {
   "cell_type": "markdown",
   "id": "52f52c2f-261c-4710-8f26-3c40c66be9b0",
   "metadata": {},
   "source": [
    "OR"
   ]
  },
  {
   "cell_type": "code",
   "execution_count": 111,
   "id": "cbea0533-2042-4890-9870-d221a8245771",
   "metadata": {},
   "outputs": [
    {
     "name": "stdout",
     "output_type": "stream",
     "text": [
      " Priya  is in 14th Main, Begur\n",
      "Diviya  is in 5TH CROSS, MP\n",
      "name  is in home\n"
     ]
    }
   ],
   "source": [
    "import csv\n",
    "\n",
    "informas = []\n",
    "\n",
    "with open(\"informa.csv\") as file:\n",
    "    reader = csv.DictReader(file,fieldnames=[\"home\",\"name\"])\n",
    "\n",
    "    for row in reader:\n",
    "        informas.append({\"name\": row[\"name\"],\"home\": row[\"home\"]})\n",
    "\n",
    "for info in sorted(informas, key=lambda x: x[\"name\"]):\n",
    "    print(f\"{info['name']} is in {info['home']}\")"
   ]
  },
  {
   "cell_type": "code",
   "execution_count": 104,
   "id": "54fd7bca-1877-4a1f-83f0-1faef6482ff8",
   "metadata": {},
   "outputs": [
    {
     "name": "stdin",
     "output_type": "stream",
     "text": [
      "what's your name?: SREE\n",
      "whers's your house?: 5th main, akshyanagar\n"
     ]
    }
   ],
   "source": [
    "import csv\n",
    "\n",
    "name=input(\"what's your name?:\")\n",
    "home=input(\"whers's your house?:\")\n",
    "\n",
    "with open(\"stu.csv\",\"a\") as file:\n",
    "    writer = csv.writer(file)\n",
    "    writer.writerow([name,home])          ## Here in the home, I didn't use double quotes."
   ]
  },
  {
   "cell_type": "code",
   "execution_count": 105,
   "id": "b233af6c-82b9-464f-84fd-d0905be15628",
   "metadata": {},
   "outputs": [
    {
     "name": "stdout",
     "output_type": "stream",
     "text": [
      "Sree,\" 5TH CROSS, MP\"\n",
      "\n",
      "Diviya,\"14th Main, Begur\"\n",
      "\n",
      "SREE,\"5th main, akshyanagar\"\n",
      "\n",
      "\n"
     ]
    }
   ],
   "source": [
    "with open(\"stu.csv\", \"r\") as file:\n",
    "    print(file.read())               ## assigns double quotes for the home"
   ]
  },
  {
   "cell_type": "code",
   "execution_count": 107,
   "id": "ec18766f-4363-4176-9bb8-61ae88b77cf4",
   "metadata": {},
   "outputs": [
    {
     "name": "stdin",
     "output_type": "stream",
     "text": [
      "what's your name?: Divya\n",
      "whers's your house?: Shivajinagar\n"
     ]
    }
   ],
   "source": [
    "import csv\n",
    "\n",
    "name=input(\"what's your name?:\")\n",
    "home=input(\"whers's your house?:\")\n",
    "\n",
    "with open(\"stu.csv\",\"a\") as file:\n",
    "    writer = csv.DictWriter(file,fieldnames=[\"name\",\"home\"])\n",
    "    writer.writerow({\"name\":name , \"home\":home}) "
   ]
  },
  {
   "cell_type": "code",
   "execution_count": 108,
   "id": "de6e786c-5dd6-4d33-af56-74993c820922",
   "metadata": {},
   "outputs": [
    {
     "name": "stdout",
     "output_type": "stream",
     "text": [
      "Sree,\" 5TH CROSS, MP\"\n",
      "\n",
      "Diviya,\"14th Main, Begur\"\n",
      "\n",
      "SREE,\"5th main, akshyanagar\"\n",
      "\n",
      "Divya,Shivajinagar\n",
      "\n",
      "\n"
     ]
    }
   ],
   "source": [
    "with open(\"stu.csv\", \"r\") as file:\n",
    "    print(file.read())"
   ]
  }
 ],
 "metadata": {
  "kernelspec": {
   "display_name": "Python 3 (ipykernel)",
   "language": "python",
   "name": "python3"
  },
  "language_info": {
   "codemirror_mode": {
    "name": "ipython",
    "version": 3
   },
   "file_extension": ".py",
   "mimetype": "text/x-python",
   "name": "python",
   "nbconvert_exporter": "python",
   "pygments_lexer": "ipython3",
   "version": "3.13.5"
  }
 },
 "nbformat": 4,
 "nbformat_minor": 5
}
