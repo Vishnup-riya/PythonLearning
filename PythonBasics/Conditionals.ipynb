{
 "cells": [
  {
   "cell_type": "code",
   "execution_count": 4,
   "id": "21a3d504-6fb5-48f5-8b58-1f0185dd984b",
   "metadata": {},
   "outputs": [
    {
     "name": "stdin",
     "output_type": "stream",
     "text": [
      "what's x ?  4\n",
      "what's y ?  5\n"
     ]
    },
    {
     "name": "stdout",
     "output_type": "stream",
     "text": [
      "x is less than y\n"
     ]
    }
   ],
   "source": [
    "x = int(input(\"what's x ? \"))\n",
    "y = int(input(\"what's y ? \"))\n",
    "\n",
    "if x > y:\n",
    "    print(\"x is greater than y\") ##first checks the number x<y (which will have true or false answer),the input x=4 which is not greater , logically in flow chart,follow false arrow and doesn't print\n",
    "if x < y:\n",
    "    print(\"x is less than y\") ##similarly it will check the condition and follow true or false and print accordingly\n",
    "if x==y:\n",
    "    print(\"x is equal to y\")"
   ]
  },
  {
   "cell_type": "code",
   "execution_count": 8,
   "id": "bfef18ff-0de3-41e7-8047-ca168d71cfdf",
   "metadata": {},
   "outputs": [
    {
     "name": "stdin",
     "output_type": "stream",
     "text": [
      "what's x ?  5\n",
      "what's y ?  4\n"
     ]
    },
    {
     "name": "stdout",
     "output_type": "stream",
     "text": [
      "x is greater than y\n"
     ]
    }
   ],
   "source": [
    "##instead of using many ifs\n",
    "x = int(input(\"what's x ? \"))\n",
    "y = int(input(\"what's y ? \"))\n",
    "\n",
    "if x > y:\n",
    "    print(\"x is greater than y\") \n",
    "elif x < y:\n",
    "    print(\"x is less than y\") \n",
    "elif x==y:\n",
    "    print(\"x is equal to y\")\n",
    "\n",
    "##if we get back the true answer right away to the first \"if\", it gonna print out the x greater than y and stop.\n",
    "##suppose the first if is false, it moves to the next line of question, and checks the condition, follow the arrow - True or False and stop and repeat \n",
    "\n",
    "\n"
   ]
  },
  {
   "cell_type": "code",
   "execution_count": 10,
   "id": "5ea91fd4-602b-42f5-a2da-77bbad2f0026",
   "metadata": {},
   "outputs": [
    {
     "name": "stdin",
     "output_type": "stream",
     "text": [
      "what's x ?  5\n",
      "what's y ?  5\n"
     ]
    },
    {
     "name": "stdout",
     "output_type": "stream",
     "text": [
      "x is equal to y\n"
     ]
    }
   ],
   "source": [
    "x = int(input(\"what's x ? \"))\n",
    "y = int(input(\"what's y ? \"))\n",
    "\n",
    "if x > y:\n",
    "    print(\"x is greater than y\") \n",
    "elif x < y:\n",
    "    print(\"x is less than y\") \n",
    "else:\n",
    "    print(\"x is equal to y\")  \n",
    "\n",
    "##The else block provides an alternative code path to execute when none of the preceding if or elif conditions evaluate to True"
   ]
  },
  {
   "cell_type": "code",
   "execution_count": 12,
   "id": "2b39ed91-b92e-4f2e-8212-7f59e2c6b069",
   "metadata": {},
   "outputs": [
    {
     "name": "stdin",
     "output_type": "stream",
     "text": [
      "what's x ?  5\n",
      "what's y ?  7\n"
     ]
    },
    {
     "name": "stdout",
     "output_type": "stream",
     "text": [
      "x is not equal to y\n",
      "------------------------------\n"
     ]
    },
    {
     "name": "stdin",
     "output_type": "stream",
     "text": [
      "what's x ?  7\n",
      "what's y ?  7\n"
     ]
    },
    {
     "name": "stdout",
     "output_type": "stream",
     "text": [
      "x is equal to y\n"
     ]
    }
   ],
   "source": [
    "##asking a couple of questions one at a time - whether x is equal to y or not\n",
    "x = int(input(\"what's x ? \"))\n",
    "y = int(input(\"what's y ? \"))\n",
    "\n",
    "if x > y or x < y:\n",
    "    print(\"x is not equal to y\") \n",
    "else:\n",
    "    print(\"x is equal to y\")\n",
    "\n",
    "##The or functions - if at least one of them is considered \"truthy\" returns True \n",
    "##If both operands are \"falsy\" returns false \n",
    "print(\"-\" *30)\n",
    "x = int(input(\"what's x ? \"))\n",
    "y = int(input(\"what's y ? \"))\n",
    "\n",
    "if x > y or x < y:\n",
    "    print(\"x is not equal to y\") \n",
    "else:\n",
    "    print(\"x is equal to y\")"
   ]
  },
  {
   "cell_type": "code",
   "execution_count": 14,
   "id": "1c7f23eb-e026-46ea-868a-7e6ed725df7b",
   "metadata": {},
   "outputs": [
    {
     "name": "stdin",
     "output_type": "stream",
     "text": [
      "what's x ?  4\n",
      "what's y ?  6\n"
     ]
    },
    {
     "name": "stdout",
     "output_type": "stream",
     "text": [
      "x is not equal to y\n",
      "------------------------------\n"
     ]
    },
    {
     "name": "stdin",
     "output_type": "stream",
     "text": [
      "what's x ?  4\n",
      "what's y ?  6\n"
     ]
    },
    {
     "name": "stdout",
     "output_type": "stream",
     "text": [
      "x is not equal to y\n"
     ]
    }
   ],
   "source": [
    "##checking whether x is equal to y or not , instead of using above code\n",
    "x = int(input(\"what's x ? \"))\n",
    "y = int(input(\"what's y ? \"))\n",
    "\n",
    "if x != y:\n",
    "    print(\"x is not equal to y\") \n",
    "else:\n",
    "    print(\"x is equal to y\")\n",
    "\n",
    "print(\"-\" * 30)\n",
    "\n",
    "x = int(input(\"what's x ? \"))\n",
    "y = int(input(\"what's y ? \"))\n",
    "\n",
    "if x == y:\n",
    "    print(\"x is equal to y\") \n",
    "else:\n",
    "    print(\"x is not equal to y\")\n",
    "\n"
   ]
  },
  {
   "cell_type": "code",
   "execution_count": 4,
   "id": "36325e37-65ee-406e-9270-9682ce60ec39",
   "metadata": {},
   "outputs": [
    {
     "name": "stdin",
     "output_type": "stream",
     "text": [
      "Enter the score :  56\n"
     ]
    },
    {
     "name": "stdout",
     "output_type": "stream",
     "text": [
      "Grade E\n"
     ]
    }
   ],
   "source": [
    "##Grading\n",
    "score = int(input(\"Enter the score : \" ))\n",
    "\n",
    "if score >= 90 and score <= 100:\n",
    "    print(\"Grade A\")\n",
    "elif score >= 80 and score < 90:\n",
    "    print(\"Grade B\")\n",
    "elif score >= 70 and score < 80:\n",
    "    print(\"Grade C\")\n",
    "elif score >= 60 and score < 70:\n",
    "    print(\"Grade D\")\n",
    "elif score >= 50 and score < 60:\n",
    "    print(\"Grade E\")\n",
    "else:\n",
    "    print(\"Grade F\")\n",
    "\n",
    "## evaluates to True only if all the conditions it connects are True.\n",
    "##If even one of the conditions is False, the entire expression evaluates to False"
   ]
  },
  {
   "cell_type": "code",
   "execution_count": 6,
   "id": "3de7364a-8095-450d-921f-0428ed4198c1",
   "metadata": {},
   "outputs": [
    {
     "name": "stdin",
     "output_type": "stream",
     "text": [
      "Enter the score :  56\n"
     ]
    },
    {
     "name": "stdout",
     "output_type": "stream",
     "text": [
      "Grade E\n"
     ]
    }
   ],
   "source": [
    "##another way of grading\n",
    "score = int(input(\"Enter the score : \" ))\n",
    "\n",
    "if 90 <= score <= 100:\n",
    "    print(\"Grade A\")\n",
    "elif 80 <= score < 90:\n",
    "    print(\"Grade B\")\n",
    "elif 70 <= score < 80:\n",
    "    print(\"Grade C\")\n",
    "elif 60 <= score < 70:\n",
    "    print(\"Grade D\")\n",
    "elif 50 <= score < 60:\n",
    "    print(\"Grade E\")\n",
    "else:\n",
    "    print(\"Grade F\")"
   ]
  },
  {
   "cell_type": "code",
   "execution_count": 7,
   "id": "e398ae9d-9273-4277-ae53-40a0e88fdbb3",
   "metadata": {},
   "outputs": [
    {
     "name": "stdin",
     "output_type": "stream",
     "text": [
      "Enter the score :  56\n"
     ]
    },
    {
     "name": "stdout",
     "output_type": "stream",
     "text": [
      "Grade E\n"
     ]
    }
   ],
   "source": [
    "##another way of grading\n",
    "score = int(input(\"Enter the score : \" ))\n",
    "\n",
    "if score >= 90:\n",
    "    print(\"Grade A\")\n",
    "elif score >= 80:\n",
    "    print(\"Grade B\")\n",
    "elif score >= 70:\n",
    "    print(\"Grade C\")\n",
    "elif score >= 60:\n",
    "    print(\"Grade D\")\n",
    "elif score >= 50:\n",
    "    print(\"Grade E\")\n",
    "else:\n",
    "    print(\"Grade F\")"
   ]
  },
  {
   "cell_type": "code",
   "execution_count": 12,
   "id": "23dffc35-8675-42a5-914d-d20d9f91df6d",
   "metadata": {},
   "outputs": [
    {
     "name": "stdin",
     "output_type": "stream",
     "text": [
      "Enter the score :  95\n"
     ]
    },
    {
     "name": "stdout",
     "output_type": "stream",
     "text": [
      "Grade A\n",
      "Grade B\n",
      "Grade C\n",
      "Grade D\n",
      "Grade E\n"
     ]
    }
   ],
   "source": [
    "##example showing if we don't make these conditons mutually exclusive\n",
    "score = int(input(\"Enter the score : \" ))\n",
    "\n",
    "if score >= 90:\n",
    "    print(\"Grade A\")\n",
    "if score >= 80:\n",
    "    print(\"Grade B\")\n",
    "if score >= 70:\n",
    "    print(\"Grade C\")\n",
    "if score >= 60:\n",
    "    print(\"Grade D\")\n",
    "if score >= 50:\n",
    "    print(\"Grade E\")\n",
    "\n",
    "##because the score 95 is greater for all the ifs conditions and print grade A B C D E"
   ]
  },
  {
   "cell_type": "code",
   "execution_count": 13,
   "id": "f1406806-4d3f-498f-b1f2-ea061a278a7c",
   "metadata": {},
   "outputs": [
    {
     "name": "stdin",
     "output_type": "stream",
     "text": [
      " 7\n"
     ]
    },
    {
     "name": "stdout",
     "output_type": "stream",
     "text": [
      "x is odd\n"
     ]
    }
   ],
   "source": [
    "## checking if x is even or odd\n",
    "x = int(input())\n",
    "\n",
    "if x % 2 == 0:\n",
    "    print(\"x is even\")\n",
    "else:\n",
    "    print(\"x is odd\")\n",
    "\n",
    "##7 divided by 2 is 3 with a remainder of 1 , we want remainder 0 to say x is even"
   ]
  },
  {
   "cell_type": "code",
   "execution_count": 15,
   "id": "fdf4e668-95bb-4bde-9bac-dd45d7b3cff7",
   "metadata": {},
   "outputs": [
    {
     "name": "stdin",
     "output_type": "stream",
     "text": [
      " 5\n"
     ]
    },
    {
     "name": "stdout",
     "output_type": "stream",
     "text": [
      "odd\n"
     ]
    }
   ],
   "source": [
    "## checking if x is even or odd - using def function\n",
    "\n",
    "def main():\n",
    "    x = int(input())\n",
    "    if is_even(x):\n",
    "        print(\"Even\")\n",
    "    else: \n",
    "        print(\"odd\")\n",
    "\n",
    "def is_even(n):\n",
    "    if n % 2 == 0:\n",
    "        return True\n",
    "    else:\n",
    "        return False\n",
    "\n",
    "main()\n",
    "\n",
    "## The program takes an integer input from the user, uses a helper function is_even() to determine if the number is even or odd\n",
    "##then prints the corresponding result.\n"
   ]
  },
  {
   "cell_type": "code",
   "execution_count": 19,
   "id": "2c0e3d99-0b48-4613-b996-548fc3e1bea9",
   "metadata": {},
   "outputs": [
    {
     "name": "stdin",
     "output_type": "stream",
     "text": [
      " 5\n"
     ]
    },
    {
     "name": "stdout",
     "output_type": "stream",
     "text": [
      "odd\n"
     ]
    }
   ],
   "source": [
    "## checking if x is even or odd - using def function\n",
    "\n",
    "def is_even():\n",
    "    n = int(input())\n",
    "    if n % 2 == 0:\n",
    "        print(\"Even\")\n",
    "    else:\n",
    "        print(\"odd\")\n",
    "\n",
    "is_even()"
   ]
  },
  {
   "cell_type": "code",
   "execution_count": 20,
   "id": "3f5df0b5-334b-4429-aa0b-90499c99107a",
   "metadata": {},
   "outputs": [
    {
     "name": "stdin",
     "output_type": "stream",
     "text": [
      " 5\n"
     ]
    },
    {
     "name": "stdout",
     "output_type": "stream",
     "text": [
      "odd\n"
     ]
    }
   ],
   "source": [
    "## checking if x is even or odd - using def function\n",
    "\n",
    "\n",
    "def main():\n",
    "    x = int(input())\n",
    "    if is_even(x):\n",
    "        print(\"Even\")\n",
    "    else: \n",
    "        print(\"odd\")\n",
    "\n",
    "def is_even(n):\n",
    "        return True if n % 2 == 0 else False\n",
    "\n",
    "main()"
   ]
  },
  {
   "cell_type": "code",
   "execution_count": 24,
   "id": "16d0c283-52d5-4d8c-adfc-b80158e94544",
   "metadata": {},
   "outputs": [
    {
     "name": "stdin",
     "output_type": "stream",
     "text": [
      "What's your name ?  Priya\n"
     ]
    },
    {
     "name": "stdout",
     "output_type": "stream",
     "text": [
      "Stay : Hongasandra\n",
      "------------------------------\n"
     ]
    },
    {
     "name": "stdin",
     "output_type": "stream",
     "text": [
      "What's your name ?  Priya\n"
     ]
    },
    {
     "name": "stdout",
     "output_type": "stream",
     "text": [
      "Stay : Hongasandra\n"
     ]
    }
   ],
   "source": [
    "name = input(\"What's your name ? \")\n",
    "\n",
    "if name == \"Sree\":\n",
    "    print(\"Stay : Hongasandra\")\n",
    "elif name == \"Priya\":\n",
    "    print(\"Stay : Hongasandra\")\n",
    "elif name == \"Sree Priya\":\n",
    "    print(\"Stay : Hongasandra\")    \n",
    "elif name == \"Krishna Priya\":\n",
    "    print(\"Stay : BTM\")   \n",
    "else:\n",
    "    print(\"who?\")\n",
    "\n",
    "print(\"-\"*30)\n",
    "\n",
    "## instead of writing the entire, we can consolidate to a smaller\n",
    "name = input(\"What's your name ? \")\n",
    "\n",
    "if name == \"Sree\" or name == \"Priya\" or name == \"Sree Priya\":\n",
    "    print(\"Stay : Hongasandra\")\n",
    "elif name == \"Krishna Priya\":\n",
    "    print(\"Stay : BTM\")   \n",
    "else:\n",
    "    print(\"who?\")"
   ]
  },
  {
   "cell_type": "code",
   "execution_count": 25,
   "id": "44b99896-cdca-4cfd-bb43-06ab12b42402",
   "metadata": {},
   "outputs": [
    {
     "name": "stdin",
     "output_type": "stream",
     "text": [
      "What's your name ?  Sree\n"
     ]
    },
    {
     "name": "stdout",
     "output_type": "stream",
     "text": [
      "Hongasandra\n",
      "------------------------------\n"
     ]
    },
    {
     "name": "stdin",
     "output_type": "stream",
     "text": [
      "What's your name ?  Vishnupriya\n"
     ]
    },
    {
     "name": "stdout",
     "output_type": "stream",
     "text": [
      "who?\n"
     ]
    }
   ],
   "source": [
    "##another technique to do - match\n",
    "name = input(\"What's your name ? \")\n",
    "\n",
    "match name:\n",
    "    case \"Sree\":\n",
    "        print(\"Hongasandra\")\n",
    "    case \"Priya\":\n",
    "        print(\"Hongasandra\")\n",
    "    case \"Sree Priya\":\n",
    "        print(\"Hongasandra\")\n",
    "    case \"Krishna Priya\":\n",
    "        print(\"Btm\")\n",
    "    case _:                    ##whatever case has not yet been handled , go ahead and print out the next line\n",
    "        print(\"who?\")\n",
    "    \n",
    "print(\"-\" * 30)\n",
    "\n",
    "name = input(\"What's your name ? \")\n",
    "\n",
    "match name:\n",
    "    case \"Sree\":\n",
    "        print(\"Hongasandra\")\n",
    "    case \"Priya\":\n",
    "        print(\"Hongasandra\")\n",
    "    case \"Sree Priya\":\n",
    "        print(\"Hongasandra\")\n",
    "    case \"Krishna Priya\":\n",
    "        print(\"Btm\")\n",
    "    case _:                    ##whatever case has not yet been handled , go ahead and print out the next line\n",
    "        print(\"who?\")"
   ]
  },
  {
   "cell_type": "code",
   "execution_count": 26,
   "id": "8e546d71-1658-4886-ad2f-a49e1b11f423",
   "metadata": {},
   "outputs": [
    {
     "name": "stdin",
     "output_type": "stream",
     "text": [
      "What's your name ?  Sree Priya\n"
     ]
    },
    {
     "name": "stdout",
     "output_type": "stream",
     "text": [
      "Hongasandra\n"
     ]
    }
   ],
   "source": [
    "##instead of writing the entire line, we can consolidate to a smaller\n",
    "\n",
    "name = input(\"What's your name ? \")\n",
    "\n",
    "match name:\n",
    "    case \"Sree\" | \"Priya\" | \"Sree Priya\":\n",
    "        print(\"Hongasandra\")\n",
    "    case \"Krishna Priya\":\n",
    "        print(\"Btm\")\n",
    "    case _:                  \n",
    "        print(\"who?\")"
   ]
  },
  {
   "cell_type": "code",
   "execution_count": null,
   "id": "71645c4b-0989-4e28-aa8e-84561179e471",
   "metadata": {},
   "outputs": [],
   "source": [
    "### PRACTICE PROBLEMS"
   ]
  },
  {
   "cell_type": "code",
   "execution_count": 32,
   "id": "380b9109-eaec-455b-8743-3e6c6caf62c2",
   "metadata": {},
   "outputs": [
    {
     "name": "stdin",
     "output_type": "stream",
     "text": [
      "Enter the number:  5\n",
      "Enter the number:  7\n",
      "Enter the operation :  -\n"
     ]
    },
    {
     "name": "stdout",
     "output_type": "stream",
     "text": [
      "The difference of the two numbers is :  -2.0\n",
      "------------------------------\n",
      "-2\n"
     ]
    }
   ],
   "source": [
    "##### program to design a basic calculator. \n",
    "##The program should allow the user to input two numbers and choose an operation (add, subtract, multiply, or division)\n",
    "##display the result.\n",
    "\n",
    "a = float(input(\"Enter the number: \"))\n",
    "b = float(input(\"Enter the number: \"))\n",
    "operation = input(\"Enter the operation : \")\n",
    "\n",
    "if operation == \"+\":\n",
    "    print(\"The sum of two numbers is : \" ,a + b)\n",
    "elif operation == \"-\":\n",
    "    print(\"The difference of the two numbers is : \" , a - b)\n",
    "elif operation == \"*\":\n",
    "    print(\"The product of the two numbers is : \" , a * b)\n",
    "elif operation == \"/\":\n",
    "    if b == 0:\n",
    "        print(\"Cannot divide by zero\")\n",
    "    else:\n",
    "        print(\"The division of the two numbers is:\", a / b)\n",
    "else:\n",
    "    print(\"Operation is invalid\")\n",
    "\n",
    "print(\"-\" * 30)\n",
    "##instead of big line code: using another technique match\n",
    "\n",
    "def calculator(a,b,operator):\n",
    "    match operation:\n",
    "        case '+':\n",
    "            return a + b\n",
    "        case '-':\n",
    "            return a - b\n",
    "        case '*':\n",
    "            return a * b\n",
    "        case '/':\n",
    "            if b != 0:\n",
    "                return a / b\n",
    "            else:\n",
    "                return \"Error: Division by zero\"\n",
    "        case _:  \n",
    "            return \"Error: Invalid operation\"\n",
    "print(calculator(5,7,\"-\"))"
   ]
  },
  {
   "cell_type": "code",
   "execution_count": 33,
   "id": "ebebfb11-402d-48e7-ab48-e8a2fd47a04e",
   "metadata": {},
   "outputs": [
    {
     "name": "stdin",
     "output_type": "stream",
     "text": [
      "Enter the salary :  6500\n"
     ]
    },
    {
     "name": "stdout",
     "output_type": "stream",
     "text": [
      "Dearness Allowance (DA):  1300.0\n",
      "House Rent Allowance (HRA):  1950.0\n"
     ]
    }
   ],
   "source": [
    "###### Python program that accepts the basic salary of an employee as input and\n",
    "##calculates the Dearness Allowance (DA) and House Rent Allowance (HRA) based on the\n",
    "##salary slab below:\n",
    "#Basic Salary          DA (%) HRA (%)\n",
    "#Up to ₹5000              10% 20%\n",
    "#₹5001 to ₹10,000         20% 30%\n",
    "#₹10,001 to ₹20,000       30% 40%\n",
    "#Above ₹20,000            50% 50%\n",
    "\n",
    "basic_salary = int(input(\"Enter the salary : \" ))\n",
    "\n",
    "if basic_salary <= 5000:\n",
    "    da_percent=0.10\n",
    "    hra_percent=0.20\n",
    "elif basic_salary <= 10000:\n",
    "    da_percent=0.20\n",
    "    hra_percent=0.30\n",
    "elif basic_salary <= 20000:\n",
    "    da_percent=0.30\n",
    "    hra_percent=0.40\n",
    "else:\n",
    "    da_percent = 0.50\n",
    "    hra_percent = 0.50\n",
    "\n",
    "# Calculate the actual DA and HRA amounts\n",
    "print(\"Dearness Allowance (DA): \" ,basic_salary * da_percent)\n",
    "print(\"House Rent Allowance (HRA): \",basic_salary * hra_percent)"
   ]
  },
  {
   "cell_type": "code",
   "execution_count": null,
   "id": "e034e18f-401b-44e7-9f20-77b494f92a05",
   "metadata": {},
   "outputs": [],
   "source": [
    "##Deep thought\n",
    "“All right,” said the computer, and settled into silence again. The two men fidgeted. The tension was unbearable.\n",
    "“You’re really not going to like it,” observed Deep Thought.\n",
    "“Tell us!”\n",
    "“All right,” said Deep Thought. “The Answer to the Great Question…”\n",
    "“Yes…!”\n",
    "“Of Life, the Universe and Everything…” said Deep Thought.\n",
    "“Yes…!”\n",
    "“Is…” said Deep Thought, and paused.\n",
    "“Yes…!”\n",
    "“Is…”\n",
    "“Yes…!!!…?”\n",
    "“Forty-two,” said Deep Thought, with infinite majesty and calm.”\n",
    "\n",
    "implement a program that prompts the user for the answer to the Great Question of Life, the Universe and Everything, \n",
    "outputting Yes if the user inputs 42 or (case-insensitively) forty-two or forty two. Otherwise output No."
   ]
  },
  {
   "cell_type": "code",
   "execution_count": 35,
   "id": "fe8bb13f-508a-480f-960c-e1b786b1b4c2",
   "metadata": {},
   "outputs": [
    {
     "name": "stdin",
     "output_type": "stream",
     "text": [
      "What is the answer to the Great Question of Life, the Universe and Everything ?  forty-two\n"
     ]
    },
    {
     "name": "stdout",
     "output_type": "stream",
     "text": [
      "Yes\n"
     ]
    }
   ],
   "source": [
    "## get the user input\n",
    "answer = input(\"What is the answer to the Great Question of Life, the Universe and Everything ? \" )\n",
    "\n",
    "if answer == 42:\n",
    "  print(\"Yes\")\n",
    "elif answer == \"forty-two\":\n",
    "  print(\"Yes\")\n",
    "else:\n",
    "    print(\"No\")"
   ]
  },
  {
   "cell_type": "code",
   "execution_count": null,
   "id": "5432b8e8-ae8e-4e80-b9de-433d39b05ec9",
   "metadata": {},
   "outputs": [],
   "source": [
    "##Meal Time \n",
    "Suppose that you’re in a country where it’s customary to eat breakfast between 7:00 and 8:00, lunch between 12:00 and 13:00, and dinner between 18:00 and 19:00. Wouldn’t it be nice if you had a program that could tell you what to eat when?\n",
    "\n",
    "implement a program that prompts the user for a time and outputs whether it’s breakfast time, lunch time, or dinner time. If it’s not time for a meal, don’t output anything at all. \n",
    "Assume that the user’s input will be formatted in 24-hour time as #:## or ##:##. And assume that each meal’s time range is inclusive. For instance, whether it’s 7:00, 7:01, 7:59, or 8:00, or anytime in between, it’s time for breakfast.\n",
    "\n",
    "Structure your program per the below, wherein convert is a function (that can be called by main) that converts time, a str in 24-hour format, to the corresponding number of hours as a float. For instance, given a time like \"7:30\" (i.e., 7 hours and 30 minutes), convert should return 7.5 (i.e., 7.5 hours)."
   ]
  },
  {
   "cell_type": "code",
   "execution_count": 15,
   "id": "43e47fa5-264b-4f23-8d0b-95986705c013",
   "metadata": {},
   "outputs": [
    {
     "name": "stdin",
     "output_type": "stream",
     "text": [
      " 7:08\n"
     ]
    },
    {
     "name": "stdout",
     "output_type": "stream",
     "text": [
      "breakfast time\n"
     ]
    }
   ],
   "source": [
    "def main():\n",
    "    enter = input()\n",
    "    time = convert(enter)\n",
    "\n",
    "#checking conditions\n",
    "    if 7.00 <= time <= 8.00:\n",
    "        print(\"breakfast time\")\n",
    "    elif 12.00 <= time <= 13.00:\n",
    "        print(\"Lunch time\")\n",
    "    elif 18.00 <= time <= 19.00:\n",
    "        print(\"Dinner time\")\n",
    "    else:\n",
    "        print(\"Not time for meal\")\n",
    "      \n",
    "#converting time\n",
    "def convert(time):\n",
    "    hour, minute = time.split(\":\")\n",
    "    hours = float(hour)\n",
    "    minutes = float(minute)\n",
    "    \n",
    "    decimal_time = hours + (minutes / 60)\n",
    "    return decimal_time\n",
    "\n",
    "main()"
   ]
  },
  {
   "cell_type": "code",
   "execution_count": null,
   "id": "4cf5db4d-9935-4448-a78d-555153b9fc7e",
   "metadata": {},
   "outputs": [],
   "source": [
    "##Math interpreter\n",
    "implement a program that prompts the user for an arithmetic expression  \n",
    "then calculates and outputs the result as a floating-point value formatted to one decimal place. \n",
    "Assume that the user’s input will be formatted as x y z, with one space between x and y and one space between y and z, wherein:\n",
    "\n",
    "x is an integer\n",
    "y is +, -, *, or /\n",
    "z is an integer\n",
    "For instance, if the user inputs 1 + 1, your program should output 2.0. Assume that, if y is /, then z will not be 0.\n"
   ]
  },
  {
   "cell_type": "code",
   "execution_count": 7,
   "id": "d83c91f2-8560-46ce-a15d-169680fd76c2",
   "metadata": {},
   "outputs": [
    {
     "name": "stdin",
     "output_type": "stream",
     "text": [
      " 1 + 1\n"
     ]
    },
    {
     "name": "stdout",
     "output_type": "stream",
     "text": [
      "2.0\n"
     ]
    }
   ],
   "source": [
    "#user input\n",
    "Expressions = input()\n",
    "\n",
    "# splitting \n",
    "x, y, z = Expressions.split(\" \") \n",
    "\n",
    "#change to float\n",
    "x = float(x)\n",
    "z = float(z)\n",
    "\n",
    "#conditions \n",
    "if y == \"+\":\n",
    "    result = x + z\n",
    "elif y == \"-\":\n",
    "    result = x - z\n",
    "elif y == \"*\":\n",
    "    result = x * z\n",
    "elif y == \"/\":\n",
    "    result = x / z\n",
    "else:\n",
    "    print(\"Invalid operator\")\n",
    "\n",
    "# Print the result formatted to one decimal place\n",
    "print(f\"{result:.1f}\")\n"
   ]
  }
 ],
 "metadata": {
  "kernelspec": {
   "display_name": "Python 3 (ipykernel)",
   "language": "python",
   "name": "python3"
  },
  "language_info": {
   "codemirror_mode": {
    "name": "ipython",
    "version": 3
   },
   "file_extension": ".py",
   "mimetype": "text/x-python",
   "name": "python",
   "nbconvert_exporter": "python",
   "pygments_lexer": "ipython3",
   "version": "3.13.5"
  }
 },
 "nbformat": 4,
 "nbformat_minor": 5
}
