{
 "cells": [
  {
   "cell_type": "code",
   "execution_count": null,
   "id": "f820409f-eaa5-4a21-a33c-32a41152fc25",
   "metadata": {},
   "outputs": [],
   "source": [
    "##Functions and Variables "
   ]
  },
  {
   "cell_type": "code",
   "execution_count": 2,
   "id": "f326f7fb-d148-4ac3-8237-b41f2556f3a8",
   "metadata": {},
   "outputs": [
    {
     "ename": "_IncompleteInputError",
     "evalue": "incomplete input (1223127891.py, line 2)",
     "output_type": "error",
     "traceback": [
      "\u001b[1;36m  Cell \u001b[1;32mIn[2], line 2\u001b[1;36m\u001b[0m\n\u001b[1;33m    print(\"Hello , world !\"\u001b[0m\n\u001b[1;37m                           ^\u001b[0m\n\u001b[1;31m_IncompleteInputError\u001b[0m\u001b[1;31m:\u001b[0m incomplete input\n"
     ]
    }
   ],
   "source": [
    "print(\"Hello , world !\")\n",
    "print(\"Hello , world !\""
   ]
  },
  {
   "cell_type": "code",
   "execution_count": 8,
   "id": "ef300481-7878-4d86-89fc-d14ab89b6d6b",
   "metadata": {},
   "outputs": [
    {
     "name": "stdin",
     "output_type": "stream",
     "text": [
      "what is your name ? Vishnu\n",
      "what is your name ? David\n"
     ]
    },
    {
     "name": "stdout",
     "output_type": "stream",
     "text": [
      "Hello ,{name}\n",
      "Hello ,name\n",
      "Hello David\n"
     ]
    }
   ],
   "source": [
    "input(\"what is your name ?\")  ##allowing you to input the text\n",
    "\n",
    "name = input(\"what is your name ?\") ##assigning from right to left or giving variable to store whatever the user's input\n",
    "print(\"Hello ,{name}\")\n",
    "print(\"Hello ,name\")\n",
    "print(\"Hello\" , name)               ##its, return the value "
   ]
  },
  {
   "cell_type": "code",
   "execution_count": 15,
   "id": "4a4303ee-a5a8-4b32-8466-a013a85cbca4",
   "metadata": {},
   "outputs": [
    {
     "name": "stdin",
     "output_type": "stream",
     "text": [
      "what is your name?  David\n"
     ]
    },
    {
     "name": "stdout",
     "output_type": "stream",
     "text": [
      "Hello, David\n",
      "Hello,  David\n",
      "Hello,  David\n",
      "Hello David\n",
      "HelloDavid\n"
     ]
    }
   ],
   "source": [
    "name = input(\"what is your name? \")\n",
    "print(\"Hello, \" + name) \n",
    "print(\"Hello, \" , name)      ##now we got two spaces in this code\n",
    "print(\"Hello, \" , name)  \n",
    "print(\"Hello\" , name)      ##we didn't give a space after the hello inside the\"\" , but still, after running, there is a space between hello and name\n",
    "print(\"Hello\" + name)"
   ]
  },
  {
   "cell_type": "code",
   "execution_count": 19,
   "id": "61487273-57b6-4ab9-be60-d325b5702fa6",
   "metadata": {},
   "outputs": [
    {
     "name": "stdin",
     "output_type": "stream",
     "text": [
      "what is your name?  David\n"
     ]
    },
    {
     "name": "stdout",
     "output_type": "stream",
     "text": [
      "hello\n",
      "David\n"
     ]
    },
    {
     "name": "stdin",
     "output_type": "stream",
     "text": [
      "what is your name?  Kavin\n"
     ]
    },
    {
     "name": "stdout",
     "output_type": "stream",
     "text": [
      "hello Kavin\n"
     ]
    },
    {
     "name": "stdin",
     "output_type": "stream",
     "text": [
      "what is your name?  Kavin\n"
     ]
    },
    {
     "name": "stdout",
     "output_type": "stream",
     "text": [
      "hello???Kavin\n"
     ]
    }
   ],
   "source": [
    "name = input(\"what is your name? \")\n",
    "print(\"hello\")\n",
    "print(name)\n",
    "\n",
    "##now I don't want to print line by line\n",
    "name = input(\"what is your name? \")\n",
    "print(\"hello \" , end=\"\") ##actomatically rund to the next line\n",
    "print(name)\n",
    "\n",
    "name = input(\"what is your name? \")\n",
    "print(\"hello\",name , sep=\"???\") ##I want ?? spaces between hello and name, using sep\n",
    "\n"
   ]
  },
  {
   "cell_type": "code",
   "execution_count": 21,
   "id": "9d63dd59-3ac8-4b4d-b620-695da30447a4",
   "metadata": {},
   "outputs": [
    {
     "name": "stdin",
     "output_type": "stream",
     "text": [
      "what is your name?  David\n"
     ]
    },
    {
     "name": "stdout",
     "output_type": "stream",
     "text": [
      "Hello,David\n",
      "Hello,name\n",
      "Hello,{name}\n"
     ]
    }
   ],
   "source": [
    "name = input(\"what is your name? \")\n",
    "print(f\"Hello,{name}\")  ##F-strings provide a concise and convenient way to embed Python expressions inside string literals for formatting.\n",
    "print(\"Hello,name\") \n",
    "print(\"Hello,{name}\") "
   ]
  },
  {
   "cell_type": "code",
   "execution_count": 27,
   "id": "4ecb20b9-8625-425f-8216-7c620a980221",
   "metadata": {},
   "outputs": [
    {
     "name": "stdin",
     "output_type": "stream",
     "text": [
      "what is your name?      David\n"
     ]
    },
    {
     "name": "stdout",
     "output_type": "stream",
     "text": [
      "Hello,    David\n"
     ]
    },
    {
     "name": "stdin",
     "output_type": "stream",
     "text": [
      "what is your name?       Kavin\n"
     ]
    },
    {
     "name": "stdout",
     "output_type": "stream",
     "text": [
      "Hello,Kavin\n"
     ]
    },
    {
     "name": "stdin",
     "output_type": "stream",
     "text": [
      "what is your name?        Kavin\n"
     ]
    },
    {
     "name": "stdout",
     "output_type": "stream",
     "text": [
      "Hello,      Kavin\n"
     ]
    }
   ],
   "source": [
    "name = input(\"what is your name? \")\n",
    "print(f\"Hello,{name}\") \n",
    "\n",
    "##remove whitespace fron string\n",
    "name = input(\"what is your name? \")\n",
    "name = name.strip()\n",
    "print(f\"Hello,{name}\") \n",
    "\n",
    "name = input(\"what is your name? \")\n",
    "name == name.strip()         ##used == asigned operator\n",
    "print(f\"Hello,{name}\") \n"
   ]
  },
  {
   "cell_type": "code",
   "execution_count": 35,
   "id": "8a621bb1-7d4c-4514-a434-52ae0cbe89af",
   "metadata": {},
   "outputs": [
    {
     "name": "stdin",
     "output_type": "stream",
     "text": [
      "what is your name?     abhishek kumar    \n"
     ]
    },
    {
     "name": "stdout",
     "output_type": "stream",
     "text": [
      "Hello,   abhishek kumar    \n"
     ]
    },
    {
     "name": "stdin",
     "output_type": "stream",
     "text": [
      "what is your name?     abhishek kumar\n"
     ]
    },
    {
     "name": "stdout",
     "output_type": "stream",
     "text": [
      "Hello,Abhishek Kumar\n"
     ]
    },
    {
     "name": "stdin",
     "output_type": "stream",
     "text": [
      "what is your name?      abhishek kumar\n"
     ]
    },
    {
     "name": "stdout",
     "output_type": "stream",
     "text": [
      "Hello,Abhishek Kumar\n"
     ]
    },
    {
     "name": "stdin",
     "output_type": "stream",
     "text": [
      "what is your name?      abshek kumar\n"
     ]
    },
    {
     "name": "stdout",
     "output_type": "stream",
     "text": [
      "Hello,Abshek Kumar\n"
     ]
    }
   ],
   "source": [
    "##capitalize the user name\n",
    "name = input(\"what is your name? \")\n",
    "name = name.capitalize()\n",
    "print(f\"Hello,{name}\")  ##here the kumar is not capitalized\n",
    "\n",
    "name = input(\"what is your name? \")\n",
    "name = name.strip()      ## remove whitespace from string(left and right)\n",
    "name = name.title()\n",
    "print(f\"Hello,{name}\") \n",
    "\n",
    "name = input(\"what is your name? \")\n",
    "name = name.strip().title()\n",
    "print(f\"Hello,{name}\") \n",
    "\n",
    "name = input(\"what is your name? \").strip().title()\n",
    "print(f\"Hello,{name}\") "
   ]
  },
  {
   "cell_type": "code",
   "execution_count": 38,
   "id": "3b3f5519-3d29-48d5-b590-ee7d8e189e21",
   "metadata": {},
   "outputs": [
    {
     "name": "stdin",
     "output_type": "stream",
     "text": [
      "what is your name?  David Mathew\n"
     ]
    },
    {
     "name": "stdout",
     "output_type": "stream",
     "text": [
      "Hello,David\n",
      "Hello,Mathew\n"
     ]
    }
   ],
   "source": [
    "## split users' name into first and last name\n",
    "name = input(\"what is your name? \")\n",
    "first, last = name.split(\" \")\n",
    "print(f\"Hello,{first}\") \n",
    "print(f\"Hello,{last}\") "
   ]
  },
  {
   "cell_type": "code",
   "execution_count": 1,
   "id": "f95c2db0-5a5e-43f7-a0fb-5d2afd2756ab",
   "metadata": {},
   "outputs": [
    {
     "name": "stdin",
     "output_type": "stream",
     "text": [
      "Enter your x value :  6\n",
      "Enter your y value :  9\n"
     ]
    },
    {
     "name": "stdout",
     "output_type": "stream",
     "text": [
      "69\n"
     ]
    },
    {
     "name": "stdin",
     "output_type": "stream",
     "text": [
      "Enter your x value :  6\n",
      "Enter your y value :  9\n"
     ]
    },
    {
     "name": "stdout",
     "output_type": "stream",
     "text": [
      "15\n"
     ]
    },
    {
     "name": "stdin",
     "output_type": "stream",
     "text": [
      "Enter your x value :  6\n",
      "Enter your y value :  9\n"
     ]
    },
    {
     "name": "stdout",
     "output_type": "stream",
     "text": [
      "15\n"
     ]
    }
   ],
   "source": [
    "##it pass out the input as string\n",
    "x = input(\"Enter your x value : \")\n",
    "y = input(\"Enter your y value : \")\n",
    "z = x + y\n",
    "print(z)\n",
    "\n",
    "##we want integer so we add int - a function\n",
    "x = input(\"Enter your x value : \")\n",
    "y = input(\"Enter your y value : \")\n",
    "z = int(x) + int(y)\n",
    "print(z)\n",
    "\n",
    "x = int(input(\"Enter your x value : \"))\n",
    "y = int(input(\"Enter your y value : \"))\n",
    "z = x + y\n",
    "print(z)"
   ]
  },
  {
   "cell_type": "code",
   "execution_count": 5,
   "id": "57fdc33e-72b2-47f6-91a2-25623c4da794",
   "metadata": {},
   "outputs": [
    {
     "name": "stdin",
     "output_type": "stream",
     "text": [
      "Enter your x value :  6\n",
      "Enter your y value :  9\n"
     ]
    },
    {
     "name": "stdout",
     "output_type": "stream",
     "text": [
      "15\n"
     ]
    },
    {
     "name": "stdin",
     "output_type": "stream",
     "text": [
      "Enter your x value :  6\n",
      "Enter your y value :  9\n"
     ]
    },
    {
     "name": "stdout",
     "output_type": "stream",
     "text": [
      "15\n"
     ]
    }
   ],
   "source": [
    "x = int(input(\"Enter your x value : \"))\n",
    "y = int(input(\"Enter your y value : \"))\n",
    "print(x+y)\n",
    "\n",
    "##nesting too many things\n",
    "print(int(input(\"Enter your x value : \")) + int(input(\"Enter your y value : \")))"
   ]
  },
  {
   "cell_type": "code",
   "execution_count": 8,
   "id": "88a90c1c-c092-48cf-b35e-719f71f49ab0",
   "metadata": {},
   "outputs": [
    {
     "name": "stdin",
     "output_type": "stream",
     "text": [
      "Enter your x value :  6.7\n",
      "Enter your y value :  7.9\n"
     ]
    },
    {
     "name": "stdout",
     "output_type": "stream",
     "text": [
      "14.600000000000001\n"
     ]
    },
    {
     "name": "stdin",
     "output_type": "stream",
     "text": [
      "Enter your x value :  5.8\n"
     ]
    },
    {
     "ename": "ValueError",
     "evalue": "invalid literal for int() with base 10: '5.8'",
     "output_type": "error",
     "traceback": [
      "\u001b[1;31m---------------------------------------------------------------------------\u001b[0m",
      "\u001b[1;31mValueError\u001b[0m                                Traceback (most recent call last)",
      "Cell \u001b[1;32mIn[8], line 5\u001b[0m\n\u001b[0;32m      2\u001b[0m y \u001b[38;5;241m=\u001b[39m \u001b[38;5;28mfloat\u001b[39m(\u001b[38;5;28minput\u001b[39m(\u001b[38;5;124m\"\u001b[39m\u001b[38;5;124mEnter your y value : \u001b[39m\u001b[38;5;124m\"\u001b[39m))\n\u001b[0;32m      3\u001b[0m \u001b[38;5;28mprint\u001b[39m(x\u001b[38;5;241m+\u001b[39my)\n\u001b[1;32m----> 5\u001b[0m x \u001b[38;5;241m=\u001b[39m \u001b[38;5;28mint\u001b[39m(\u001b[38;5;28minput\u001b[39m(\u001b[38;5;124m\"\u001b[39m\u001b[38;5;124mEnter your x value : \u001b[39m\u001b[38;5;124m\"\u001b[39m))\n\u001b[0;32m      6\u001b[0m y \u001b[38;5;241m=\u001b[39m \u001b[38;5;28mint\u001b[39m(\u001b[38;5;28minput\u001b[39m(\u001b[38;5;124m\"\u001b[39m\u001b[38;5;124mEnter your y value : \u001b[39m\u001b[38;5;124m\"\u001b[39m))\n\u001b[0;32m      7\u001b[0m \u001b[38;5;28mprint\u001b[39m(x\u001b[38;5;241m+\u001b[39my)\n",
      "\u001b[1;31mValueError\u001b[0m: invalid literal for int() with base 10: '5.8'"
     ]
    }
   ],
   "source": [
    "x = float(input(\"Enter your x value : \"))\n",
    "y = float(input(\"Enter your y value : \"))\n",
    "print(x+y)\n",
    "\n",
    "x = int(input(\"Enter your x value : \"))   ##using int function , you can only enter the integer numbers not decimal values\n",
    "y = int(input(\"Enter your y value : \"))\n",
    "print(x+y)\n"
   ]
  },
  {
   "cell_type": "code",
   "execution_count": 12,
   "id": "29ef61a8-60ce-4ab9-9b5f-2a689225c461",
   "metadata": {},
   "outputs": [
    {
     "name": "stdin",
     "output_type": "stream",
     "text": [
      "Enter your x value :  6.7\n",
      "Enter your y value :  5.8\n"
     ]
    },
    {
     "name": "stdout",
     "output_type": "stream",
     "text": [
      "12\n"
     ]
    },
    {
     "name": "stdin",
     "output_type": "stream",
     "text": [
      "Enter your x value :  999\n",
      "Enter your y value :  1\n"
     ]
    },
    {
     "name": "stdout",
     "output_type": "stream",
     "text": [
      "1000\n"
     ]
    },
    {
     "name": "stdin",
     "output_type": "stream",
     "text": [
      "Enter your x value :  999\n",
      "Enter your y value :  1\n"
     ]
    },
    {
     "name": "stdout",
     "output_type": "stream",
     "text": [
      "1,000.0\n"
     ]
    }
   ],
   "source": [
    "##Rounding off\n",
    "x = float(input(\"Enter your x value : \"))\n",
    "y = float(input(\"Enter your y value : \"))\n",
    "print(round(x+y))\n",
    "\n",
    "x = float(input(\"Enter your x value : \"))\n",
    "y = float(input(\"Enter your y value : \"))\n",
    "print(round(x+y))\n",
    "##what if I wanted to answer 1,000\n",
    "x = float(input(\"Enter your x value : \"))\n",
    "y = float(input(\"Enter your y value : \"))\n",
    "z = x+y\n",
    "print(f\"{z:,}\")\n"
   ]
  },
  {
   "cell_type": "code",
   "execution_count": 17,
   "id": "19036d60-ad7a-4e54-ba12-663eb3cf350c",
   "metadata": {},
   "outputs": [
    {
     "name": "stdin",
     "output_type": "stream",
     "text": [
      "Enter your x value :  5\n",
      "Enter your y value :  3\n"
     ]
    },
    {
     "name": "stdout",
     "output_type": "stream",
     "text": [
      "1.6666666666666667\n"
     ]
    },
    {
     "name": "stdin",
     "output_type": "stream",
     "text": [
      "Enter your x value :  5\n",
      "Enter your y value :  3\n"
     ]
    },
    {
     "name": "stdout",
     "output_type": "stream",
     "text": [
      "2\n"
     ]
    },
    {
     "name": "stdin",
     "output_type": "stream",
     "text": [
      "Enter your x value :  5\n",
      "Enter your y value :  3\n"
     ]
    },
    {
     "name": "stdout",
     "output_type": "stream",
     "text": [
      "1.7\n"
     ]
    },
    {
     "name": "stdin",
     "output_type": "stream",
     "text": [
      "Enter your x value :  5\n",
      "Enter your y value :  3\n"
     ]
    },
    {
     "name": "stdout",
     "output_type": "stream",
     "text": [
      "1.67\n"
     ]
    }
   ],
   "source": [
    "x = float(input(\"Enter your x value : \"))\n",
    "y = float(input(\"Enter your y value : \"))\n",
    "print((x/y))\n",
    "\n",
    "x = float(input(\"Enter your x value : \"))\n",
    "y = float(input(\"Enter your y value : \"))\n",
    "print(round(x/y))\n",
    "\n",
    "##how many digits you want to display after decimal\n",
    "x = float(input(\"Enter your x value : \"))\n",
    "y = float(input(\"Enter your y value : \"))\n",
    "print(round(x/y , 1))\n",
    "\n",
    "x = float(input(\"Enter your x value : \"))\n",
    "y = float(input(\"Enter your y value : \"))\n",
    "z = x / y\n",
    "print(f\"{z:.2f}\")"
   ]
  },
  {
   "cell_type": "code",
   "execution_count": 18,
   "id": "4dacd094-5add-4558-8a1e-bee8d2061daa",
   "metadata": {},
   "outputs": [
    {
     "name": "stdin",
     "output_type": "stream",
     "text": [
      " David\n"
     ]
    },
    {
     "ename": "NameError",
     "evalue": "name 'hello' is not defined",
     "output_type": "error",
     "traceback": [
      "\u001b[1;31m---------------------------------------------------------------------------\u001b[0m",
      "\u001b[1;31mNameError\u001b[0m                                 Traceback (most recent call last)",
      "Cell \u001b[1;32mIn[18], line 3\u001b[0m\n\u001b[0;32m      1\u001b[0m \u001b[38;5;66;03m##making our own function\u001b[39;00m\n\u001b[0;32m      2\u001b[0m name \u001b[38;5;241m=\u001b[39m \u001b[38;5;28minput\u001b[39m()\n\u001b[1;32m----> 3\u001b[0m hello()\n\u001b[0;32m      4\u001b[0m \u001b[38;5;28mprint\u001b[39m(name)\n",
      "\u001b[1;31mNameError\u001b[0m: name 'hello' is not defined"
     ]
    }
   ],
   "source": [
    "##making our own function\n",
    "name = input()\n",
    "hello()\n",
    "print(name)\n"
   ]
  },
  {
   "cell_type": "code",
   "execution_count": 27,
   "id": "7b03300a-5627-4683-a56a-4c648395fd60",
   "metadata": {},
   "outputs": [
    {
     "name": "stdin",
     "output_type": "stream",
     "text": [
      " David\n"
     ]
    },
    {
     "name": "stdout",
     "output_type": "stream",
     "text": [
      "hello\n",
      "David\n",
      "------------------------------\n"
     ]
    }
   ],
   "source": [
    "##making \"hello\" word exists - using def function (define)\n",
    "def hello():\n",
    "    print(\"hello\")\n",
    "\n",
    "name = input()\n",
    "hello()\n",
    "print(name)\n",
    "\n",
    "##assigning parameter \n",
    "def hello(to):          ##name is copied to another variable called \"to\"  so that in the context of Hello , saying hello to that variable instead\n",
    "    print(\"hello,\", to)\n",
    "    name = input()\n",
    "    hello(name)\n",
    "\n",
    "print(\"-\" * 30)\n",
    "def hello(name):\n",
    "    name = input()\n",
    "    print(\"hello\" , name)   ##scope - variable only exist in the context in which ypu define \n",
    "\n",
    "\n"
   ]
  },
  {
   "cell_type": "code",
   "execution_count": 1,
   "id": "649d4b1b-c486-4780-b569-51a88947b4fd",
   "metadata": {},
   "outputs": [
    {
     "name": "stdin",
     "output_type": "stream",
     "text": [
      " 7\n"
     ]
    },
    {
     "ename": "NameError",
     "evalue": "name 'square' is not defined",
     "output_type": "error",
     "traceback": [
      "\u001b[1;31m---------------------------------------------------------------------------\u001b[0m",
      "\u001b[1;31mNameError\u001b[0m                                 Traceback (most recent call last)",
      "Cell \u001b[1;32mIn[1], line 5\u001b[0m\n\u001b[0;32m      2\u001b[0m     x \u001b[38;5;241m=\u001b[39m \u001b[38;5;28mint\u001b[39m(\u001b[38;5;28minput\u001b[39m())\n\u001b[0;32m      3\u001b[0m     \u001b[38;5;28mprint\u001b[39m(\u001b[38;5;124m\"\u001b[39m\u001b[38;5;124mx squared is\u001b[39m\u001b[38;5;124m\"\u001b[39m , square(x))\n\u001b[1;32m----> 5\u001b[0m main()\n",
      "Cell \u001b[1;32mIn[1], line 3\u001b[0m, in \u001b[0;36mmain\u001b[1;34m()\u001b[0m\n\u001b[0;32m      1\u001b[0m \u001b[38;5;28;01mdef\u001b[39;00m\u001b[38;5;250m \u001b[39m\u001b[38;5;21mmain\u001b[39m():\n\u001b[0;32m      2\u001b[0m     x \u001b[38;5;241m=\u001b[39m \u001b[38;5;28mint\u001b[39m(\u001b[38;5;28minput\u001b[39m())\n\u001b[1;32m----> 3\u001b[0m     \u001b[38;5;28mprint\u001b[39m(\u001b[38;5;124m\"\u001b[39m\u001b[38;5;124mx squared is\u001b[39m\u001b[38;5;124m\"\u001b[39m , square(x))\n",
      "\u001b[1;31mNameError\u001b[0m: name 'square' is not defined"
     ]
    }
   ],
   "source": [
    "def main():\n",
    "    x = int(input())\n",
    "    print(\"x squared is\" , square(x))\n",
    "\n",
    "main()"
   ]
  },
  {
   "cell_type": "code",
   "execution_count": 2,
   "id": "3b0c55e1-4dc9-4b37-aef9-8589516da11b",
   "metadata": {},
   "outputs": [
    {
     "name": "stdin",
     "output_type": "stream",
     "text": [
      " 6\n"
     ]
    },
    {
     "name": "stdout",
     "output_type": "stream",
     "text": [
      "x squared is 36\n"
     ]
    }
   ],
   "source": [
    "def main():\n",
    "    x = int(input())\n",
    "    print(\"x squared is\" , square(x))\n",
    "\n",
    "def square(n):\n",
    "    return n*n\n",
    "\n",
    "main()"
   ]
  },
  {
   "cell_type": "code",
   "execution_count": 6,
   "id": "01433322-bc21-4c51-9793-a35b8ef8e579",
   "metadata": {},
   "outputs": [
    {
     "name": "stdin",
     "output_type": "stream",
     "text": [
      " 6\n"
     ]
    },
    {
     "name": "stdout",
     "output_type": "stream",
     "text": [
      "n squared is  36\n"
     ]
    }
   ],
   "source": [
    "def square():\n",
    "     n = int(input())\n",
    "     return n*n\n",
    "\n",
    "print(\"n squared is \" , square())"
   ]
  }
 ],
 "metadata": {
  "kernelspec": {
   "display_name": "Python 3 (ipykernel)",
   "language": "python",
   "name": "python3"
  },
  "language_info": {
   "codemirror_mode": {
    "name": "ipython",
    "version": 3
   },
   "file_extension": ".py",
   "mimetype": "text/x-python",
   "name": "python",
   "nbconvert_exporter": "python",
   "pygments_lexer": "ipython3",
   "version": "3.13.5"
  }
 },
 "nbformat": 4,
 "nbformat_minor": 5
}
