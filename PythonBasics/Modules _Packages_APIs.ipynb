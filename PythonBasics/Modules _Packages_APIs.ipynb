{
 "cells": [
  {
   "cell_type": "markdown",
   "id": "f97f0109-8c08-4ed9-bb59-b98e8466404f",
   "metadata": {},
   "source": [
    "#### Modules -  file containing Python definitions and statements\n",
    "\n"
   ]
  },
  {
   "cell_type": "markdown",
   "id": "cb49665c-db2a-4685-959a-369415ad9042",
   "metadata": {},
   "source": [
    "(1) random - generating pseudo-random numbers and performing random selections\n"
   ]
  },
  {
   "cell_type": "code",
   "execution_count": 7,
   "id": "c3a883bf-4b52-4003-b258-8a872a696270",
   "metadata": {},
   "outputs": [
    {
     "name": "stdout",
     "output_type": "stream",
     "text": [
      "heads\n"
     ]
    }
   ],
   "source": [
    "import random\n",
    "\n",
    "coin = random.choice([\"heads\" , \"tails\"])  ## The function takes a list as input and returns one of the values at random.\n",
    "print(coin)"
   ]
  },
  {
   "cell_type": "code",
   "execution_count": 9,
   "id": "3cbc065b-51dc-4cdf-a41b-9cde63a18caf",
   "metadata": {},
   "outputs": [
    {
     "name": "stdout",
     "output_type": "stream",
     "text": [
      "heads\n"
     ]
    }
   ],
   "source": [
    "from random import choice   ## from is primarily used in conjunction with the import statement to bring specific components\n",
    "\n",
    "coin = choice([\"heads\" , \"tails\"])\n",
    "print(coin)"
   ]
  },
  {
   "cell_type": "markdown",
   "id": "0e894085-4783-4e13-b465-fef98c9eafd2",
   "metadata": {},
   "source": [
    "(2) random.randint(a,b) - generates random values from a specified range between a and b\n"
   ]
  },
  {
   "cell_type": "code",
   "execution_count": 14,
   "id": "d73fc6f9-254f-4d10-9623-274a76c8459d",
   "metadata": {},
   "outputs": [
    {
     "data": {
      "text/plain": [
       "59"
      ]
     },
     "execution_count": 14,
     "metadata": {},
     "output_type": "execute_result"
    }
   ],
   "source": [
    "number = random.randint(56,90)\n",
    "number"
   ]
  },
  {
   "cell_type": "markdown",
   "id": "d9149700-5c99-4357-bdb9-e641b3334495",
   "metadata": {},
   "source": [
    "(3) random.shuffle(x) -  randomly reorder the elements of a mutable sequence"
   ]
  },
  {
   "cell_type": "code",
   "execution_count": 18,
   "id": "16d61727-6ca2-4088-ba10-2e1a79d81f1a",
   "metadata": {},
   "outputs": [
    {
     "data": {
      "text/plain": [
       "[9, 10, 'Queen', 7, 'A', 'King']"
      ]
     },
     "execution_count": 18,
     "metadata": {},
     "output_type": "execute_result"
    }
   ],
   "source": [
    "cards = [\"King\" , \"Queen\" , \"A\" , 10 , 9 ,7]\n",
    "random.shuffle(cards)\n",
    "cards"
   ]
  },
  {
   "cell_type": "code",
   "execution_count": 19,
   "id": "f28368d1-a44b-4ae5-bc58-a3a469831de5",
   "metadata": {},
   "outputs": [
    {
     "name": "stdout",
     "output_type": "stream",
     "text": [
      "A\n",
      "7\n",
      "King\n",
      "Queen\n",
      "9\n",
      "10\n"
     ]
    }
   ],
   "source": [
    "cards = [\"King\" , \"Queen\" , \"A\" , 10 , 9 ,7]\n",
    "random.shuffle(cards)\n",
    "for card in cards:\n",
    "    print(card)"
   ]
  },
  {
   "cell_type": "markdown",
   "id": "3477e4b6-b0fc-41f0-ac6a-a08803ac25c4",
   "metadata": {},
   "source": [
    "statistics libraries"
   ]
  },
  {
   "cell_type": "code",
   "execution_count": 23,
   "id": "bf2dc1e8-9279-4b6b-ae8b-9326aae26c3d",
   "metadata": {},
   "outputs": [
    {
     "name": "stdout",
     "output_type": "stream",
     "text": [
      "80.33333333333333\n",
      "88\n",
      "13.279056191361393\n"
     ]
    }
   ],
   "source": [
    "import statistics\n",
    "\n",
    "mean = statistics.mean([65,88,88])\n",
    "median = statistics.median([65,88,88])\n",
    "std = statistics.stdev([65,88,88])\n",
    "\n",
    "print(mean)\n",
    "print(median)\n",
    "print(std)"
   ]
  },
  {
   "cell_type": "markdown",
   "id": "6e07647c-ca57-4f08-8654-374ba0e3d4f6",
   "metadata": {},
   "source": [
    "comment-line arguments"
   ]
  },
  {
   "cell_type": "markdown",
   "id": "4ecae4e1-aec0-4fc5-862e-dd7dcb55c5f7",
   "metadata": {},
   "source": [
    "sys module - in Python provides access to system-specific parameters and functions, allowing interaction with the Python interpreter and its environment"
   ]
  },
  {
   "cell_type": "code",
   "execution_count": 36,
   "id": "70069c34-b643-4533-97f4-71d39888dfcf",
   "metadata": {},
   "outputs": [
    {
     "name": "stdout",
     "output_type": "stream",
     "text": [
      "hello , my name is  Padma\n"
     ]
    }
   ],
   "source": [
    "sys.argv = [\"myscript.py\", \"Padma\"]\n",
    "\n",
    "print(\"hello , my name is \", sys.argv[1])"
   ]
  },
  {
   "cell_type": "code",
   "execution_count": 47,
   "id": "f8bb0218-6c1e-4a09-b733-9ce8ca6ae584",
   "metadata": {},
   "outputs": [
    {
     "name": "stdout",
     "output_type": "stream",
     "text": [
      "hello , my name is  Padma\n",
      "hello , my name is  Kavin\n"
     ]
    }
   ],
   "source": [
    "sys.argv = [\"myscript.py\", \"Padma\",\"Kavin\"]\n",
    "\n",
    "print(\"hello , my name is \", sys.argv[1])\n",
    "print(\"hello , my name is \", sys.argv[2])"
   ]
  },
  {
   "cell_type": "code",
   "execution_count": 52,
   "id": "d416ae8c-3f3a-4126-bd6e-7942439ecd2a",
   "metadata": {},
   "outputs": [
    {
     "name": "stdout",
     "output_type": "stream",
     "text": [
      "few arguments\n"
     ]
    }
   ],
   "source": [
    "sys.argv = [\"myscript.py\"]\n",
    "\n",
    "if len(sys.argv)<2:\n",
    "    print(\"few arguments\")\n",
    "elif len(sys.argv) > 2:\n",
    "    print(\"more arguments\")\n",
    "else:\n",
    "    print(\"hello , my name is \", sys.argv[1])"
   ]
  },
  {
   "cell_type": "code",
   "execution_count": 53,
   "id": "448a078a-aa4d-4bcc-ba1c-c76daaf87e95",
   "metadata": {},
   "outputs": [
    {
     "name": "stdout",
     "output_type": "stream",
     "text": [
      "more arguments\n"
     ]
    }
   ],
   "source": [
    "sys.argv = [\"myscript.py\",\"Padma\",\"kavin\"]\n",
    "\n",
    "if len(sys.argv)<2:\n",
    "    print(\"few arguments\")\n",
    "elif len(sys.argv) > 2:\n",
    "    print(\"more arguments\")\n",
    "else:\n",
    "    print(\"hello , my name is \", sys.argv[1])"
   ]
  },
  {
   "cell_type": "code",
   "execution_count": 54,
   "id": "20469937-ebaa-4e6a-a0f2-34268155ce18",
   "metadata": {},
   "outputs": [
    {
     "name": "stdout",
     "output_type": "stream",
     "text": [
      "hello , my name is  Kavin Mathew\n"
     ]
    }
   ],
   "source": [
    "sys.argv = [\"myscript.py\",\"Kavin Mathew\"]\n",
    "\n",
    "if len(sys.argv)<2:\n",
    "    print(\"few arguments\")\n",
    "elif len(sys.argv) > 2:\n",
    "    print(\"more arguments\")\n",
    "else:\n",
    "    print(\"hello , my name is \", sys.argv[1])"
   ]
  },
  {
   "cell_type": "code",
   "execution_count": 55,
   "id": "b8fec4fa-d4f8-47d8-b660-4772dcbd77d2",
   "metadata": {},
   "outputs": [
    {
     "name": "stdout",
     "output_type": "stream",
     "text": [
      "Age less than 18\n"
     ]
    }
   ],
   "source": [
    "import sys\n",
    "\n",
    "age = 17\n",
    "try:\n",
    "    if age < 18:\n",
    "        sys.exit(\"Age less than 18\")\n",
    "    else:\n",
    "        print(\"Age is not less than 18\")\n",
    "except SystemExit as e:\n",
    "    print(e)  \n",
    "\n"
   ]
  },
  {
   "cell_type": "code",
   "execution_count": 3,
   "id": "7ae4e3e3-b3ba-4ee9-b364-e4a4e9ecf760",
   "metadata": {},
   "outputs": [
    {
     "name": "stdout",
     "output_type": "stream",
     "text": [
      "hello , my name is  myscript.py\n",
      "hello , my name is  Kavin Mathew\n",
      "hello , my name is  Joey\n",
      "hello , my name is  Linda\n"
     ]
    }
   ],
   "source": [
    "import sys\n",
    "sys.argv = [\"myscript.py\",\"Kavin Mathew\",\"Joey\",\"Linda\"]\n",
    "\n",
    "if len(sys.argv)<2:\n",
    "    print(\"few arguments\")\n",
    "\n",
    "for arg in sys.argv:\n",
    "    print(\"hello , my name is \", arg)"
   ]
  },
  {
   "cell_type": "code",
   "execution_count": 4,
   "id": "7006e4a6-1d2b-466d-97ec-381813cae6b8",
   "metadata": {},
   "outputs": [
    {
     "name": "stdout",
     "output_type": "stream",
     "text": [
      "hello , my name is  Kavin Mathew\n",
      "hello , my name is  Joey\n",
      "hello , my name is  Linda\n"
     ]
    }
   ],
   "source": [
    "##Correction using slicing: In the print statement, I don't want \"myscript.py\" included.\n",
    "import sys\n",
    "sys.argv = [\"myscript.py\",\"Kavin Mathew\",\"Joey\",\"Linda\"]\n",
    "\n",
    "if len(sys.argv)<2:\n",
    "    print(\"few arguments\")\n",
    "\n",
    "for arg in sys.argv[1:]:\n",
    "    print(\"hello , my name is \", arg)\n"
   ]
  },
  {
   "cell_type": "markdown",
   "id": "a3a5a749-8600-4a3d-90e7-d2405ae1aec5",
   "metadata": {},
   "source": [
    "#### Packages"
   ]
  },
  {
   "cell_type": "code",
   "execution_count": 5,
   "id": "31c75319-08e7-440e-beb7-5f3e60fb7975",
   "metadata": {},
   "outputs": [
    {
     "name": "stdout",
     "output_type": "stream",
     "text": [
      "Collecting cowsay\n",
      "  Downloading cowsay-6.1-py3-none-any.whl.metadata (5.6 kB)\n",
      "Downloading cowsay-6.1-py3-none-any.whl (25 kB)\n",
      "Installing collected packages: cowsay\n",
      "Successfully installed cowsay-6.1\n",
      "Note: you may need to restart the kernel to use updated packages.\n"
     ]
    }
   ],
   "source": [
    "pip install cowsay"
   ]
  },
  {
   "cell_type": "code",
   "execution_count": 1,
   "id": "b3513a14-b174-42f7-81c6-8138850389b7",
   "metadata": {},
   "outputs": [
    {
     "name": "stdout",
     "output_type": "stream",
     "text": [
      "  ___________________\n",
      "| hello ,Kavin Mathew |\n",
      "  ===================\n",
      "                   \\\n",
      "                    \\\n",
      "                      ^__^\n",
      "                      (oo)\\_______\n",
      "                      (__)\\       )\\/\\\n",
      "                          ||----w |\n",
      "                          ||     ||\n"
     ]
    }
   ],
   "source": [
    "import cowsay\n",
    "import sys\n",
    "\n",
    "sys.argv = [\"myscript.py\",\"Kavin Mathew\"]\n",
    "\n",
    "if len(sys.argv)== 2:\n",
    "    cowsay.cow(\"hello ,\" +sys.argv[1])\n",
    "    "
   ]
  },
  {
   "cell_type": "code",
   "execution_count": 2,
   "id": "208eddc2-2786-43ea-a4e5-5c73d3f3bc74",
   "metadata": {},
   "outputs": [
    {
     "name": "stdout",
     "output_type": "stream",
     "text": [
      "  ___________________\n",
      "| hello ,Kavin Mathew |\n",
      "  ===================\n",
      "                          \\\n",
      "                           \\\n",
      "                            \\\n",
      "                             \\\n",
      "                                .-=-==--==--.\n",
      "                          ..-==\"  ,'o`)      `.\n",
      "                        ,'         `\"'         \\\n",
      "                       :  (                     `.__...._\n",
      "                       |                  )    /         `-=-.\n",
      "                       :       ,vv.-._   /    /               `---==-._\n",
      "                        \\/\\/\\/VV ^ d88`;'    /                         `.\n",
      "                            ``  ^/d88P!'    /             ,              `._\n",
      "                               ^/    !'   ,.      ,      /                  \"-,,__,,--'\"\"\"\"-.\n",
      "                              ^/    !'  ,'  \\ . .(      (         _           )  ) ) ) ))_,-.\\\n",
      "                             ^(__ ,!',\"'   ;:+.:%:a.     \\:.. . ,'          )  )  ) ) ,\"'    '\n",
      "                             ',,,'','     /o:::\":%:%a.    \\:.:.:         .    )  ) _,'\n",
      "                              \"\"\"'       ;':::'' `+%%%a._  \\%:%|         ;.). _,-\"\"\n",
      "                                     ,-='_.-'      ``:%::)  )%:|        /:._,\"\n",
      "                                    (/(/\"           ,\" ,'_,'%%%:       (_,'\n",
      "                                                   (  (//(`.___;        \\\n",
      "                                                    \\     \\    `         `\n",
      "                                                     `.    `.   `.        :\n",
      "                                                       \\. . .\\    : . . . :\n",
      "                                                        \\. . .:    `.. . .:\n",
      "                                                         `..:.:\\     \\:...\\\n",
      "                                                          ;:.:.;      ::...:\n",
      "                                                          ):%::       :::::;\n",
      "                                                      __,::%:(        :::::\n",
      "                                                   ,;:%%%%%%%:        ;:%::\n",
      "                                                     ;,--\"\"-.`\\  ,=--':%:%:\\\n",
      "                                                    /\"       \"| /-\".:%%%%%%%\\\n",
      "                                                                    ;,-\"'`)%%)\n",
      "                                                                   /\"      \"|\n"
     ]
    }
   ],
   "source": [
    "import cowsay\n",
    "import sys\n",
    "\n",
    "sys.argv = [\"myscript.py\",\"Kavin Mathew\"]\n",
    "\n",
    "if len(sys.argv)== 2:\n",
    "    cowsay.trex(\"hello ,\" +sys.argv[1])"
   ]
  },
  {
   "cell_type": "code",
   "execution_count": 3,
   "id": "e7aa96bb-6966-4675-8cb9-3edacbe1cfa8",
   "metadata": {},
   "outputs": [
    {
     "name": "stdout",
     "output_type": "stream",
     "text": [
      "  ___________________\n",
      "| hello ,Kavin Mathew |\n",
      "  ===================\n",
      "                     \\\n",
      "                      \\\n",
      "                       \\\n",
      "                        \\\n",
      "                                              / \\\\  //\\\\\n",
      "                               |\\\\___/|      /   \\\\//  \\\\\\\\\n",
      "                               /0  0  \\\\__  /    //  | \\\\ \\\\\n",
      "                              /     /  \\\\/_/    //   |  \\\\  \\\\\n",
      "                              \\@_^_\\@'/   \\\\/_   //    |   \\\\   \\\\\n",
      "                              //_^_/     \\\\/_ //     |    \\\\    \\\\\n",
      "                           ( //) |        \\\\///      |     \\\\     \\\\\n",
      "                         ( / /) _|_ /   )  //       |      \\\\     _\\\\\n",
      "                       ( // /) '/,_ _ _/  ( ; -.    |    _ _\\\\.-~        .-~~~^-.\n",
      "                     (( / / )) ,-{        _      `-.|.-~-.           .~         `.\n",
      "                    (( // / ))  '/\\\\      /                 ~-. _ .-~      .-~^-.  \\\\\n",
      "                    (( /// ))      `.   {            }                   /      \\\\  \\\\\n",
      "                     (( / ))     .----~-.\\\\        \\\\-'                 .~         \\\\  `. \\\\^-.\n",
      "                                ///.----..>        \\\\             _ -~             `.  ^-`  ^-_\n",
      "                                  ///-._ _ _ _ _ _ _}^ - - - - ~                     ~-- ,.-~\n",
      "                                                                                     /.-~\n"
     ]
    }
   ],
   "source": [
    "import cowsay\n",
    "import sys\n",
    "\n",
    "sys.argv = [\"myscript.py\",\"Kavin Mathew\"]\n",
    "\n",
    "if len(sys.argv)== 2:\n",
    "    cowsay.dragon(\"hello ,\" +sys.argv[1])"
   ]
  },
  {
   "cell_type": "code",
   "execution_count": 6,
   "id": "43e5c1fb-41da-440f-95e8-72d92740107c",
   "metadata": {},
   "outputs": [
    {
     "name": "stdout",
     "output_type": "stream",
     "text": [
      "  ___________________\n",
      "| hello ,Kavin Mathew |\n",
      "  ===================\n",
      "                   \\\n",
      "                    \\\n",
      "                     \\\n",
      "                      \\\n",
      "                          ____________\n",
      "                          |__________|\n",
      "                         /           /\\\n",
      "                        /           /  \\\n",
      "                       /___________/___/|\n",
      "                       |          |     |\n",
      "                       |  ==\\ /== |     |\n",
      "                       |   O   O  | \\ \\ |\n",
      "                       |     <    |  \\ \\|\n",
      "                      /|          |   \\ \\\n",
      "                     / |  \\_____/ |   / /\n",
      "                    / /|          |  / /|\n",
      "                   /||\\|          | /||\\/\n",
      "                       -------------|\n",
      "                           | |    | |\n",
      "                          <__/    \\__>\n",
      "  ___________________\n",
      "| hello ,Kavin Mathew |\n",
      "  ===================\n",
      "                   \\\n",
      "                    \\\n",
      "                     \\\n",
      "                      \\\n",
      "                          ____________\n",
      "                          |__________|\n",
      "                         /           /\\\n",
      "                        /           /  \\\n",
      "                       /___________/___/|\n",
      "                       |          |     |\n",
      "                       |  ==\\ /== |     |\n",
      "                       |   O   O  | \\ \\ |\n",
      "                       |     <    |  \\ \\|\n",
      "                      /|          |   \\ \\\n",
      "                     / |  \\_____/ |   / /\n",
      "                    / /|          |  / /|\n",
      "                   /||\\|          | /||\\/\n",
      "                       -------------|\n",
      "                           | |    | |\n",
      "                          <__/    \\__>\n",
      "  ___________________\n",
      "| hello ,Kavin Mathew |\n",
      "  ===================\n",
      "                   \\\n",
      "                    \\\n",
      "                     \\\n",
      "                      \\\n",
      "                          ____________\n",
      "                          |__________|\n",
      "                         /           /\\\n",
      "                        /           /  \\\n",
      "                       /___________/___/|\n",
      "                       |          |     |\n",
      "                       |  ==\\ /== |     |\n",
      "                       |   O   O  | \\ \\ |\n",
      "                       |     <    |  \\ \\|\n",
      "                      /|          |   \\ \\\n",
      "                     / |  \\_____/ |   / /\n",
      "                    / /|          |  / /|\n",
      "                   /||\\|          | /||\\/\n",
      "                       -------------|\n",
      "                           | |    | |\n",
      "                          <__/    \\__>\n"
     ]
    }
   ],
   "source": [
    "sys.argv = [\"myscript.py\",\"Kavin Mathew\",\"Joey\",\"Sree\"]\n",
    "\n",
    "if len(sys.argv)<2:\n",
    "    print(\"few arguments\")\n",
    "\n",
    "for arg in sys.argv[1:]:\n",
    "    cowsay.milk(\"hello ,\" +sys.argv[1])"
   ]
  },
  {
   "cell_type": "markdown",
   "id": "0f5b0ded-a1f3-4304-a016-cbd06ff2eb47",
   "metadata": {},
   "source": [
    "#### API's"
   ]
  },
  {
   "cell_type": "code",
   "execution_count": 1,
   "id": "90a5e64b-8742-4c8c-9e78-5ff021a3571d",
   "metadata": {},
   "outputs": [
    {
     "name": "stdout",
     "output_type": "stream",
     "text": [
      "Requirement already satisfied: requests in c:\\users\\vishnu\\anaconda3\\lib\\site-packages (2.32.3)\n",
      "Requirement already satisfied: charset-normalizer<4,>=2 in c:\\users\\vishnu\\anaconda3\\lib\\site-packages (from requests) (3.3.2)\n",
      "Requirement already satisfied: idna<4,>=2.5 in c:\\users\\vishnu\\anaconda3\\lib\\site-packages (from requests) (3.7)\n",
      "Requirement already satisfied: urllib3<3,>=1.21.1 in c:\\users\\vishnu\\anaconda3\\lib\\site-packages (from requests) (1.26.20)\n",
      "Requirement already satisfied: certifi>=2017.4.17 in c:\\users\\vishnu\\anaconda3\\lib\\site-packages (from requests) (2025.4.26)\n",
      "Note: you may need to restart the kernel to use updated packages.\n"
     ]
    }
   ],
   "source": [
    "pip install requests"
   ]
  },
  {
   "cell_type": "code",
   "execution_count": 17,
   "id": "f2620617-be32-4ea2-a4b3-ae571fa9d138",
   "metadata": {},
   "outputs": [
    {
     "name": "stdout",
     "output_type": "stream",
     "text": [
      "{'resultCount': 1, 'results': [{'wrapperType': 'track', 'kind': 'song', 'artistId': 347905413, 'collectionId': 1290048349, 'trackId': 1290048362, 'artistName': 'MAXIMUM THE HORMONE', 'collectionName': 'Yoshu Fukushu', 'trackName': '“F”', 'collectionCensoredName': 'Yoshu Fukushu', 'trackCensoredName': '“F”', 'artistViewUrl': 'https://music.apple.com/us/artist/maximum-the-hormone/347905413?uo=4', 'collectionViewUrl': 'https://music.apple.com/us/album/f/1290048349?i=1290048362&uo=4', 'trackViewUrl': 'https://music.apple.com/us/album/f/1290048349?i=1290048362&uo=4', 'previewUrl': 'https://audio-ssl.itunes.apple.com/itunes-assets/AudioPreview115/v4/e1/d8/b0/e1d8b083-2ef3-8ebc-6721-75a5fa20508d/mzaf_13092706164670873486.plus.aac.p.m4a', 'artworkUrl30': 'https://is1-ssl.mzstatic.com/image/thumb/Music128/v4/dd/4a/55/dd4a55f8-d135-ea60-a82a-adfa39d8d928/VPCC-81770_990000.jpg/30x30bb.jpg', 'artworkUrl60': 'https://is1-ssl.mzstatic.com/image/thumb/Music128/v4/dd/4a/55/dd4a55f8-d135-ea60-a82a-adfa39d8d928/VPCC-81770_990000.jpg/60x60bb.jpg', 'artworkUrl100': 'https://is1-ssl.mzstatic.com/image/thumb/Music128/v4/dd/4a/55/dd4a55f8-d135-ea60-a82a-adfa39d8d928/VPCC-81770_990000.jpg/100x100bb.jpg', 'collectionPrice': 14.99, 'trackPrice': 1.29, 'releaseDate': '2013-07-31T12:00:00Z', 'collectionExplicitness': 'notExplicit', 'trackExplicitness': 'notExplicit', 'discCount': 1, 'discNumber': 1, 'trackCount': 15, 'trackNumber': 6, 'trackTimeMillis': 247493, 'country': 'USA', 'currency': 'USD', 'primaryGenreName': 'Metal', 'isStreamable': True}]}\n"
     ]
    }
   ],
   "source": [
    "import requests\n",
    "import sys\n",
    "\n",
    "url = \"https://itunes.apple.com/search?entity=song&limit=1&term=\" + sys.argv[1]\n",
    "response = requests.get(url)\n",
    "print(response.json())"
   ]
  },
  {
   "cell_type": "code",
   "execution_count": 20,
   "id": "a2ade8ea-40ac-464a-8841-f64b6d3f86ab",
   "metadata": {},
   "outputs": [
    {
     "name": "stdout",
     "output_type": "stream",
     "text": [
      "{\n",
      "  \"resultCount\": 1,\n",
      "  \"results\": [\n",
      "    {\n",
      "      \"wrapperType\": \"track\",\n",
      "      \"kind\": \"song\",\n",
      "      \"artistId\": 347905413,\n",
      "      \"collectionId\": 1290048349,\n",
      "      \"trackId\": 1290048362,\n",
      "      \"artistName\": \"MAXIMUM THE HORMONE\",\n",
      "      \"collectionName\": \"Yoshu Fukushu\",\n",
      "      \"trackName\": \"\\u201cF\\u201d\",\n",
      "      \"collectionCensoredName\": \"Yoshu Fukushu\",\n",
      "      \"trackCensoredName\": \"\\u201cF\\u201d\",\n",
      "      \"artistViewUrl\": \"https://music.apple.com/us/artist/maximum-the-hormone/347905413?uo=4\",\n",
      "      \"collectionViewUrl\": \"https://music.apple.com/us/album/f/1290048349?i=1290048362&uo=4\",\n",
      "      \"trackViewUrl\": \"https://music.apple.com/us/album/f/1290048349?i=1290048362&uo=4\",\n",
      "      \"previewUrl\": \"https://audio-ssl.itunes.apple.com/itunes-assets/AudioPreview115/v4/e1/d8/b0/e1d8b083-2ef3-8ebc-6721-75a5fa20508d/mzaf_13092706164670873486.plus.aac.p.m4a\",\n",
      "      \"artworkUrl30\": \"https://is1-ssl.mzstatic.com/image/thumb/Music128/v4/dd/4a/55/dd4a55f8-d135-ea60-a82a-adfa39d8d928/VPCC-81770_990000.jpg/30x30bb.jpg\",\n",
      "      \"artworkUrl60\": \"https://is1-ssl.mzstatic.com/image/thumb/Music128/v4/dd/4a/55/dd4a55f8-d135-ea60-a82a-adfa39d8d928/VPCC-81770_990000.jpg/60x60bb.jpg\",\n",
      "      \"artworkUrl100\": \"https://is1-ssl.mzstatic.com/image/thumb/Music128/v4/dd/4a/55/dd4a55f8-d135-ea60-a82a-adfa39d8d928/VPCC-81770_990000.jpg/100x100bb.jpg\",\n",
      "      \"collectionPrice\": 14.99,\n",
      "      \"trackPrice\": 1.29,\n",
      "      \"releaseDate\": \"2013-07-31T12:00:00Z\",\n",
      "      \"collectionExplicitness\": \"notExplicit\",\n",
      "      \"trackExplicitness\": \"notExplicit\",\n",
      "      \"discCount\": 1,\n",
      "      \"discNumber\": 1,\n",
      "      \"trackCount\": 15,\n",
      "      \"trackNumber\": 6,\n",
      "      \"trackTimeMillis\": 247493,\n",
      "      \"country\": \"USA\",\n",
      "      \"currency\": \"USD\",\n",
      "      \"primaryGenreName\": \"Metal\",\n",
      "      \"isStreamable\": true\n",
      "    }\n",
      "  ]\n",
      "}\n"
     ]
    }
   ],
   "source": [
    "import json\n",
    "import requests\n",
    "import sys\n",
    "\n",
    "url = \"https://itunes.apple.com/search?entity=song&limit=1&term=\" + sys.argv[1]\n",
    "response = requests.get(url)\n",
    "print(json.dumps(response.json() , indent=2))"
   ]
  },
  {
   "cell_type": "markdown",
   "id": "cdc9bc96-6f50-412b-b4ae-87b665b4b80d",
   "metadata": {},
   "source": [
    "Iterate"
   ]
  },
  {
   "cell_type": "code",
   "execution_count": 24,
   "id": "fc5d1ba0-96d9-4e68-9ebc-46130396507a",
   "metadata": {},
   "outputs": [
    {
     "name": "stdout",
     "output_type": "stream",
     "text": [
      "Yoshu Fukushu\n",
      "O.N.I.F.C. (Deluxe Version)\n",
      "O.N.I.F.C. (Deluxe Version)\n",
      "Frankenstein Girls Will Seem Strangely Sexy\n",
      "O.N.I.F.C. (Deluxe Version)\n",
      "The Tuning C.D. (A=440)\n",
      "O.N.I.F.C. (Deluxe Version)\n",
      "O.N.I.F.C. (Deluxe Version)\n",
      "Greatest Hits\n",
      "O.N.I.F.C. (Deluxe Version)\n",
      "O.N.I.F.C. (Deluxe Version)\n"
     ]
    }
   ],
   "source": [
    "import json\n",
    "import requests\n",
    "import sys\n",
    "\n",
    "url = \"https://itunes.apple.com/search?entity=song&limit=10&term=\" + sys.argv[1]\n",
    "response = requests.get(url)\n",
    "\n",
    "coll_name = response.json()\n",
    "for result in coll_name[\"results\"]:\n",
    "    print(result[\"collectionName\"])"
   ]
  },
  {
   "cell_type": "markdown",
   "id": "93edf67d-b443-4041-b7dc-eb668a0ff2f6",
   "metadata": {},
   "source": [
    "200 OK: Request successful, data returned.\n",
    "\n",
    "201 Created: New resource created.\n",
    "\n",
    "204 No Content: Success but no data returned.\n",
    "\n",
    "400 Bad Request: Invalid request.\n",
    "\n",
    "401 Unauthorized: Missing or invalid API key.\n",
    "\n",
    "500 Internal Server Error: Server encountered an error."
   ]
  },
  {
   "cell_type": "code",
   "execution_count": 58,
   "id": "f4f8176d-5833-4d86-881a-a6dde145dcb1",
   "metadata": {},
   "outputs": [
    {
     "name": "stdout",
     "output_type": "stream",
     "text": [
      "200\n"
     ]
    }
   ],
   "source": [
    "import requests\n",
    "\n",
    "url = \"https://official-joke-api.appspot.com/random_joke\"\n",
    "\n",
    "response = requests.get(url)\n",
    "print(response.status_code)"
   ]
  },
  {
   "cell_type": "code",
   "execution_count": 59,
   "id": "eb0f224c-3bcd-48a7-8bc8-9099a83e166c",
   "metadata": {},
   "outputs": [
    {
     "name": "stdout",
     "output_type": "stream",
     "text": [
      "{\n",
      "  \"type\": \"general\",\n",
      "  \"setup\": \"What kind of dog lives in a particle accelerator?\",\n",
      "  \"punchline\": \"A Fermilabrador Retriever.\",\n",
      "  \"id\": 253\n",
      "}\n"
     ]
    }
   ],
   "source": [
    "url = \"https://official-joke-api.appspot.com/random_joke\"\n",
    "\n",
    "response = requests.get(url)\n",
    "print(json.dumps(response.json() , indent=2))"
   ]
  },
  {
   "cell_type": "code",
   "execution_count": 99,
   "id": "cbe61a42-7d71-45d2-bab0-f0ea954cc656",
   "metadata": {},
   "outputs": [
    {
     "name": "stdout",
     "output_type": "stream",
     "text": [
      "[{'score': 0.90210676, 'show': {'id': 431, 'url': 'https://www.tvmaze.com/shows/431/friends', 'name': 'Friends', 'type': 'Scripted', 'language': 'English', 'genres': ['Comedy', 'Romance'], 'status': 'Ended', 'runtime': 30, 'averageRuntime': 30, 'premiered': '1994-09-22', 'ended': '2004-05-06', 'officialSite': None, 'schedule': {'time': '20:00', 'days': ['Thursday']}, 'rating': {'average': 8.5}, 'weight': 99, 'network': {'id': 1, 'name': 'NBC', 'country': {'name': 'United States', 'code': 'US', 'timezone': 'America/New_York'}, 'officialSite': 'https://www.nbc.com/'}, 'webChannel': None, 'dvdCountry': None, 'externals': {'tvrage': 3616, 'thetvdb': 79168, 'imdb': 'tt0108778'}, 'image': {'medium': 'https://static.tvmaze.com/uploads/images/medium_portrait/41/104565.jpg', 'original': 'https://static.tvmaze.com/uploads/images/original_untouched/41/104565.jpg'}, 'summary': '<p>Six young (20-something) people from New York City (Manhattan), on their own and struggling to survive in the real world, find the companionship, comfort and support they get from each other to be the perfect antidote to the pressures of life.</p><p>This average group of buddies goes through massive mayhem, family trouble, past and future romances, fights, laughs, tears and surprises as they learn what it really means to be a friend.</p>', 'updated': 1748479884, '_links': {'self': {'href': 'https://api.tvmaze.com/shows/431'}, 'previousepisode': {'href': 'https://api.tvmaze.com/episodes/40881', 'name': 'The Last One, Part 2'}}}}, {'score': 0.8603544, 'show': {'id': 30774, 'url': 'https://www.tvmaze.com/shows/30774/friends', 'name': 'Friends', 'type': 'Scripted', 'language': 'Japanese', 'genres': ['Drama', 'Romance'], 'status': 'Ended', 'runtime': 65, 'averageRuntime': 65, 'premiered': '2002-02-04', 'ended': '2002-02-05', 'officialSite': 'http://www.tbs.co.jp/friends21/', 'schedule': {'time': '21:00', 'days': ['Monday', 'Tuesday']}, 'rating': {'average': None}, 'weight': 44, 'network': {'id': 159, 'name': 'TBS', 'country': {'name': 'Japan', 'code': 'JP', 'timezone': 'Asia/Tokyo'}, 'officialSite': 'https://www.tbs.co.jp/'}, 'webChannel': None, 'dvdCountry': None, 'externals': {'tvrage': None, 'thetvdb': 99721, 'imdb': 'tt0315608'}, 'image': {'medium': 'https://static.tvmaze.com/uploads/images/medium_portrait/532/1330900.jpg', 'original': 'https://static.tvmaze.com/uploads/images/original_untouched/532/1330900.jpg'}, 'summary': '<p>Left alone on a trip to Hong Kong, Tomoko finds herself the victim of a purse-snatching. The police arrest the man she points out, but it turns out to be the wrong person: a young Korean man named Ji Hoon. Despite his anger and humiliation, he takes her out to dinner since she has lost all her money, and in return, she agrees to model for his amateur film. What follows is a magical and romantic two days. Upon returning to their respective countries, Tomoko must return to her nine-to-five job and Ji Hoon must resume studying to join the family business rather than pursuing his dream of becoming a film director. But soon the two begin to email each other and rekindle their relationship despite the distance and obstacles between them. Marking the very first time in television history that a drama has been co-produced between Japan and South Korea, the story shows us that love has no borders.</p>', 'updated': 1753171061, '_links': {'self': {'href': 'https://api.tvmaze.com/shows/30774'}, 'previousepisode': {'href': 'https://api.tvmaze.com/episodes/1260315', 'name': 'Episode 4'}}}}, {'score': 0.8400855, 'show': {'id': 53703, 'url': 'https://www.tvmaze.com/shows/53703/friends', 'name': 'Friends', 'type': 'Variety', 'language': 'Korean', 'genres': [], 'status': 'Ended', 'runtime': 90, 'averageRuntime': 90, 'premiered': '2021-02-17', 'ended': '2021-05-12', 'officialSite': 'http://m.ichannela.com/program/menu/prm_menu2_mob.do?pgm_contents=050078&type=02&menuIndex=2&seqIndex=0&realCateCode=05007801&boardType=null&boardId=null&cateName=%ED%94%84%EB%A1%9C%EA%B7%B8%EB%9E%A8%20%EC%86%8C%EA%B0%9C', 'schedule': {'time': '21:10', 'days': ['Wednesday']}, 'rating': {'average': None}, 'weight': 32, 'network': {'id': 538, 'name': 'Channel A', 'country': {'name': 'Korea, Republic of', 'code': 'KR', 'timezone': 'Asia/Seoul'}, 'officialSite': None}, 'webChannel': None, 'dvdCountry': None, 'externals': {'tvrage': None, 'thetvdb': 396947, 'imdb': None}, 'image': {'medium': 'https://static.tvmaze.com/uploads/images/medium_portrait/297/743857.jpg', 'original': 'https://static.tvmaze.com/uploads/images/original_untouched/297/743857.jpg'}, 'summary': \"<p>Reuniting old friends and introducing new acquaintances, cast members from Heart Signal 2 &amp; 3 are back in a brand new variety series and sparks are sure to fly! Invited to spend a very special winter at Signal House, relationships between Oh Young Joo, Jung Jae Ho, Kim Do Gyun, Kim Jang Mi, Lee Ga Heun, Park Ji Hyun, Seo Min Jae, and Jung Eui Dong are sure to blossom. But which relationships will remain friendly and which will blossom into love? Follow the members through their daily lives and find out! Hosted by Super Junior's Kim Hee Chul and Shindong, Oh My Girl's Seunghee, and Lee Sang Min.</p>\", 'updated': 1668808710, '_links': {'self': {'href': 'https://api.tvmaze.com/shows/53703'}, 'previousepisode': {'href': 'https://api.tvmaze.com/episodes/2090402', 'name': 'Episode 12'}}}}, {'score': 0.81813693, 'show': {'id': 46948, 'url': 'https://www.tvmaze.com/shows/46948/friends', 'name': 'Friends', 'type': 'Scripted', 'language': 'English', 'genres': ['Drama', 'Comedy'], 'status': 'Ended', 'runtime': 60, 'averageRuntime': 60, 'premiered': '1979-03-25', 'ended': '1979-04-22', 'officialSite': None, 'schedule': {'time': '', 'days': ['Sunday']}, 'rating': {'average': None}, 'weight': 22, 'network': {'id': 3, 'name': 'ABC', 'country': {'name': 'United States', 'code': 'US', 'timezone': 'America/New_York'}, 'officialSite': 'https://abc.com/'}, 'webChannel': None, 'dvdCountry': None, 'externals': {'tvrage': None, 'thetvdb': 76973, 'imdb': 'tt0078615'}, 'image': {'medium': 'https://static.tvmaze.com/uploads/images/medium_portrait/535/1338599.jpg', 'original': 'https://static.tvmaze.com/uploads/images/original_untouched/535/1338599.jpg'}, 'summary': 'A comedy-drama series as seen through the eyes of three 11-year-old children from different backgrounds with episodes focusing upon the trials and tribulations of adolescence, and involved subjects such as dating, family, school, growing pains and friendship.', 'updated': 1726280227, '_links': {'self': {'href': 'https://api.tvmaze.com/shows/46948'}, 'previousepisode': {'href': 'https://api.tvmaze.com/episodes/1824845', 'name': 'A Case of Bad Timing'}}}}, {'score': 0.69158494, 'show': {'id': 47182, 'url': 'https://www.tvmaze.com/shows/47182/smiling-friends', 'name': 'Smiling Friends', 'type': 'Animation', 'language': 'English', 'genres': ['Comedy'], 'status': 'Running', 'runtime': 15, 'averageRuntime': 15, 'premiered': '2020-04-01', 'ended': None, 'officialSite': 'http://www.adultswim.com/videos/smiling-friends', 'schedule': {'time': '', 'days': ['Sunday']}, 'rating': {'average': 7.6}, 'weight': 92, 'network': {'id': 10, 'name': 'Adult Swim', 'country': {'name': 'United States', 'code': 'US', 'timezone': 'America/New_York'}, 'officialSite': 'https://www.adultswim.com/'}, 'webChannel': None, 'dvdCountry': None, 'externals': {'tvrage': None, 'thetvdb': 379403, 'imdb': 'tt12074628'}, 'image': {'medium': 'https://static.tvmaze.com/uploads/images/medium_portrait/514/1287093.jpg', 'original': 'https://static.tvmaze.com/uploads/images/original_untouched/514/1287093.jpg'}, 'summary': '<p>Smiling Friends is a hit animated comedy co-created and starring Michael Cusack and Zach Hadel that follows the employees of a small company dedicated to bringing happiness to a bizarre yet colorful world.</p>', 'updated': 1756447175, '_links': {'self': {'href': 'https://api.tvmaze.com/shows/47182'}, 'previousepisode': {'href': 'https://api.tvmaze.com/episodes/2870061', 'name': 'Pim Finally Turns Green'}, 'nextepisode': {'href': 'https://api.tvmaze.com/episodes/3343296', 'name': 'Silly Samuel'}}}}, {'score': 0.68793404, 'show': {'id': 65357, 'url': 'https://www.tvmaze.com/shows/65357/only-friends', 'name': 'Only Friends', 'type': 'Scripted', 'language': 'Thai', 'genres': ['Drama', 'Romance'], 'status': 'To Be Determined', 'runtime': 60, 'averageRuntime': 60, 'premiered': '2023-08-12', 'ended': None, 'officialSite': 'https://www.gmm-tv.com/contents/VB3EG', 'schedule': {'time': '20:30', 'days': ['Saturday']}, 'rating': {'average': 7.4}, 'weight': 85, 'network': {'id': 1095, 'name': 'GMM25', 'country': {'name': 'Thailand', 'code': 'TH', 'timezone': 'Asia/Bangkok'}, 'officialSite': 'https://www.gmm25.com/'}, 'webChannel': None, 'dvdCountry': None, 'externals': {'tvrage': None, 'thetvdb': 427509, 'imdb': None}, 'image': {'medium': 'https://static.tvmaze.com/uploads/images/medium_portrait/471/1177522.jpg', 'original': 'https://static.tvmaze.com/uploads/images/original_untouched/471/1177522.jpg'}, 'summary': '<p><b>Only Friends</b> will depict a story among a group of friends who bet their hearts to win this secret love game. Alcohol, nicotine, pheromones, night lights, and music bring Sand, Ray, Top, Mew, Boston, and Nick to meet and begin their relationship filled with love, heat, and secrets that eventually lead to the end of their friendship. How will these \"friends\" who should have stayed \"only friends\" handle their relationship issues?</p>', 'updated': 1736339728, '_links': {'self': {'href': 'https://api.tvmaze.com/shows/65357'}, 'previousepisode': {'href': 'https://api.tvmaze.com/episodes/2609624', 'name': 'Begin Again'}}}}, {'score': 0.6793478, 'show': {'id': 20279, 'url': 'https://www.tvmaze.com/shows/20279/super-friends', 'name': 'Super Friends', 'type': 'Animation', 'language': 'English', 'genres': ['Action', 'Adventure', 'Science-Fiction'], 'status': 'Ended', 'runtime': 60, 'averageRuntime': 60, 'premiered': '1973-09-08', 'ended': '1973-12-22', 'officialSite': 'https://www.dccomics.com/tv/super-friends-1973-1974', 'schedule': {'time': '', 'days': ['Saturday']}, 'rating': {'average': 7}, 'weight': 71, 'network': {'id': 3, 'name': 'ABC', 'country': {'name': 'United States', 'code': 'US', 'timezone': 'America/New_York'}, 'officialSite': 'https://abc.com/'}, 'webChannel': None, 'dvdCountry': None, 'externals': {'tvrage': None, 'thetvdb': 254222, 'imdb': None}, 'image': {'medium': 'https://static.tvmaze.com/uploads/images/medium_portrait/252/631018.jpg', 'original': 'https://static.tvmaze.com/uploads/images/original_untouched/252/631018.jpg'}, 'summary': '<p>1973\\'s Super Friends\\' premise was for Superman to team up with other DC Comics superheroes (Aquaman, Batman and Robin, and Wonder Woman (Diana Prince) with her magic lasso, telepathy and invisible jet) along with eager young hero trainees Wendy, Marvin, and Wonder Dog for adventures. Their base of operation was called the Hall of Justice, where they responded to Trouble Alerts and information supplied by Col. Wilcox. Wendy demonstrated the brains, while Wonder Dog was similar to Hanna Barbera\\'s Scooby Doo, and Marvin was enthusiastic but needed to learn the moral of each episode. The adventures were one hour long, and included occasional cameos by other heroes like Plastic Man and Flash (Barry Allen). Hanna Barbera artist Alex Toth did the character designs. This series was cancelled in 1975 after two seasons.</p><p>\"Their mission: To fight Injustice. To right that which is wrong. And to serve all mankind!\"</p>', 'updated': 1601825188, '_links': {'self': {'href': 'https://api.tvmaze.com/shows/20279'}, 'previousepisode': {'href': 'https://api.tvmaze.com/episodes/900252', 'name': 'The Watermen'}}}}, {'score': 0.6790675, 'show': {'id': 20474, 'url': 'https://www.tvmaze.com/shows/20474/angels-friends', 'name': \"Angel's Friends\", 'type': 'Animation', 'language': 'Italian', 'genres': ['Adventure', 'Children', 'Fantasy'], 'status': 'Ended', 'runtime': 15, 'averageRuntime': 15, 'premiered': '2009-10-12', 'ended': '2012-10-21', 'officialSite': 'http://www.angelsfriends.it', 'schedule': {'time': '', 'days': ['Monday', 'Tuesday', 'Wednesday', 'Thursday', 'Friday', 'Saturday', 'Sunday']}, 'rating': {'average': 7}, 'weight': 71, 'network': {'id': 1272, 'name': 'Italia 1', 'country': {'name': 'Italy', 'code': 'IT', 'timezone': 'Europe/Rome'}, 'officialSite': 'https://mediasetinfinity.mediaset.it/italia1'}, 'webChannel': None, 'dvdCountry': None, 'externals': {'tvrage': None, 'thetvdb': 264933, 'imdb': 'tt1731708'}, 'image': {'medium': 'https://static.tvmaze.com/uploads/images/medium_portrait/72/180985.jpg', 'original': 'https://static.tvmaze.com/uploads/images/original_untouched/72/180985.jpg'}, 'summary': '<p>Special school for the Angels is full of secrets! What happens if at the same table will be angels and devils? Raf, Uri, Sweet and Mickey - a company of angels. But to become a real team, they do not have a single person. Friends leave their homes and go down to the Earth in the \"Golden School\". They need to get the last \"missing percentage\", which will make their guardian angels at 100%. Their mission is to accompany selected earthlings in their daily adventures...</p>', 'updated': 1704793352, '_links': {'self': {'href': 'https://api.tvmaze.com/shows/20474'}, 'previousepisode': {'href': 'https://api.tvmaze.com/episodes/1382462', 'name': 'The Universe Balance (Part 2)'}}}}, {'score': 0.6761364, 'show': {'id': 45922, 'url': 'https://www.tvmaze.com/shows/45922/graceful-friends', 'name': 'Graceful Friends', 'type': 'Scripted', 'language': 'Korean', 'genres': ['Drama', 'Crime', 'Mystery'], 'status': 'Ended', 'runtime': 80, 'averageRuntime': 80, 'premiered': '2020-07-10', 'ended': '2020-09-05', 'officialSite': 'http://tv.jtbc.joins.com/gracefulfriends', 'schedule': {'time': '22:50', 'days': ['Friday', 'Saturday']}, 'rating': {'average': None}, 'weight': 67, 'network': {'id': 268, 'name': 'jTBC', 'country': {'name': 'Korea, Republic of', 'code': 'KR', 'timezone': 'Asia/Seoul'}, 'officialSite': None}, 'webChannel': None, 'dvdCountry': None, 'externals': {'tvrage': None, 'thetvdb': 378806, 'imdb': 'tt12531492'}, 'image': {'medium': 'https://static.tvmaze.com/uploads/images/medium_portrait/262/655331.jpg', 'original': 'https://static.tvmaze.com/uploads/images/original_untouched/262/655331.jpg'}, 'summary': '<p><b>Graceful Friends</b> is a mystery drama about\\xa0a murder that occurs in a new town inhabited by married couples in their 40s and follows\\xa0the\\xa0story\\xa0of a group of middle-aged men after their peaceful everyday lives are disrupted.</p>', 'updated': 1655183561, '_links': {'self': {'href': 'https://api.tvmaze.com/shows/45922'}, 'previousepisode': {'href': 'https://api.tvmaze.com/episodes/1914740', 'name': 'Episode 17'}}}}, {'score': 0.67142856, 'show': {'id': 33940, 'url': 'https://www.tvmaze.com/shows/33940/lego-friends', 'name': 'LEGO Friends', 'type': 'Animation', 'language': 'English', 'genres': ['Comedy', 'Children'], 'status': 'Ended', 'runtime': 30, 'averageRuntime': 30, 'premiered': '2012-05-05', 'ended': '2020-06-26', 'officialSite': None, 'schedule': {'time': '', 'days': []}, 'rating': {'average': None}, 'weight': 61, 'network': {'id': 78, 'name': 'Disney Channel', 'country': {'name': 'United States', 'code': 'US', 'timezone': 'America/New_York'}, 'officialSite': 'https://disneynow.com/all-shows/disney-channel'}, 'webChannel': None, 'dvdCountry': None, 'externals': {'tvrage': None, 'thetvdb': 270112, 'imdb': 'tt4049416'}, 'image': {'medium': 'https://static.tvmaze.com/uploads/images/medium_portrait/138/346444.jpg', 'original': 'https://static.tvmaze.com/uploads/images/original_untouched/138/346444.jpg'}, 'summary': '<p>As a way to make friends, new girl in town Olivia volunteers to work at the Heartlake City World Petacular with four other girls.</p>', 'updated': 1746126167, '_links': {'self': {'href': 'https://api.tvmaze.com/shows/33940'}, 'previousepisode': {'href': 'https://api.tvmaze.com/episodes/1896196', 'name': 'Welcome to the Jungle'}}}}]\n"
     ]
    }
   ],
   "source": [
    "import requests\n",
    "\n",
    "url = \"https://api.tvmaze.com/search/shows?q=friends\"\n",
    "shows = requests.get(url).json()\n",
    "print(shows)"
   ]
  },
  {
   "cell_type": "code",
   "execution_count": 77,
   "id": "59ab56ae-72b7-4842-9a07-bb5c5ed60c80",
   "metadata": {},
   "outputs": [
    {
     "name": "stdout",
     "output_type": "stream",
     "text": [
      "Friends\n",
      "Friends\n",
      "Friends\n",
      "Friends\n",
      "Smiling Friends\n",
      "Only Friends\n",
      "Super Friends\n",
      "Angel's Friends\n",
      "Graceful Friends\n",
      "LEGO Friends\n"
     ]
    }
   ],
   "source": [
    "import requests\n",
    "\n",
    "url = \"https://api.tvmaze.com/search/shows?q=friends\"\n",
    "shows = requests.get(url).json()\n",
    "\n",
    "for show in shows:\n",
    "    print(show[\"show\"][\"name\"])"
   ]
  },
  {
   "cell_type": "code",
   "execution_count": 85,
   "id": "0bb8bb55-854d-4b40-91bb-dd59eb508360",
   "metadata": {},
   "outputs": [
    {
     "name": "stdout",
     "output_type": "stream",
     "text": [
      "NBC\n",
      "TBS\n",
      "Channel A\n",
      "ABC\n",
      "Adult Swim\n",
      "GMM25\n",
      "ABC\n",
      "Italia 1\n",
      "jTBC\n",
      "Disney Channel\n"
     ]
    }
   ],
   "source": [
    "for network in shows:\n",
    "    print(network[\"show\"][\"network\"][\"name\"])"
   ]
  },
  {
   "cell_type": "code",
   "execution_count": 102,
   "id": "5ce156f1-805d-4967-b9c0-df1ba528eb62",
   "metadata": {},
   "outputs": [
    {
     "name": "stdout",
     "output_type": "stream",
     "text": [
      "Friends - 8.5\n",
      "Friends - None\n",
      "Friends - None\n",
      "Friends - None\n",
      "Smiling Friends - 7.6\n",
      "Only Friends - 7.4\n",
      "Super Friends - 7\n",
      "Angel's Friends - 7\n",
      "Graceful Friends - None\n",
      "LEGO Friends - None\n"
     ]
    }
   ],
   "source": [
    "for ratings in shows:\n",
    "    print(ratings[\"show\"][\"name\"], \"-\" , ratings[\"show\"][\"rating\"][\"average\"])"
   ]
  },
  {
   "cell_type": "code",
   "execution_count": 106,
   "id": "45254057-2af3-46dc-b992-a78d96c880cb",
   "metadata": {},
   "outputs": [
    {
     "name": "stdout",
     "output_type": "stream",
     "text": [
      "Friends - genere: ['Comedy', 'Romance']\n",
      "Friends - genere: ['Drama', 'Romance']\n",
      "Friends - genere: []\n",
      "Friends - genere: ['Drama', 'Comedy']\n",
      "Smiling Friends - genere: ['Comedy']\n",
      "Only Friends - genere: ['Drama', 'Romance']\n",
      "Super Friends - genere: ['Action', 'Adventure', 'Science-Fiction']\n",
      "Angel's Friends - genere: ['Adventure', 'Children', 'Fantasy']\n",
      "Graceful Friends - genere: ['Drama', 'Crime', 'Mystery']\n",
      "LEGO Friends - genere: ['Comedy', 'Children']\n"
     ]
    }
   ],
   "source": [
    "for genres in shows:\n",
    "    print(genres[\"show\"][\"name\"],\"- genere:\" , genres[\"show\"][\"genres\"])"
   ]
  }
 ],
 "metadata": {
  "kernelspec": {
   "display_name": "Python 3 (ipykernel)",
   "language": "python",
   "name": "python3"
  },
  "language_info": {
   "codemirror_mode": {
    "name": "ipython",
    "version": 3
   },
   "file_extension": ".py",
   "mimetype": "text/x-python",
   "name": "python",
   "nbconvert_exporter": "python",
   "pygments_lexer": "ipython3",
   "version": "3.13.5"
  }
 },
 "nbformat": 4,
 "nbformat_minor": 5
}
