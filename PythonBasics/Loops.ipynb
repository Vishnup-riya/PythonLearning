{
 "cells": [
  {
   "cell_type": "code",
   "execution_count": 10,
   "id": "eb242ad9-38c6-4687-bb03-95c8a995d900",
   "metadata": {},
   "outputs": [
    {
     "name": "stdout",
     "output_type": "stream",
     "text": [
      "Hellooo\n",
      "Hellooo\n",
      "Hellooo\n",
      "Hellooo\n",
      "Hello\n",
      "Hello\n",
      "Hello\n",
      "Hi\n",
      "Hi\n",
      "Hi\n"
     ]
    }
   ],
   "source": [
    "print(\"Hellooo\")\n",
    "print(\"Hellooo\")\n",
    "print(\"Hellooo\")\n",
    "print(\"Hellooo\")\n",
    "\n",
    "## instead of repeating many times, we can use a while loop - block of code that does again and again or repeat\n",
    "\n",
    "i = 3                    ##initial value, how many times you want to print Hello\n",
    "while i != 0:            ##loop continues as long as i is not 0.\n",
    "    print(\"Hello\")\n",
    "    i = i - 1            ##decrease i by 1. and the Loop stops when i becomes 0.\n",
    "\n",
    "##other way of doing\n",
    "i = 0\n",
    "while i < 3:           ##loop continues as long as i is less than 3.\n",
    "    print(\"Hi\")\n",
    "    i += 1"
   ]
  },
  {
   "cell_type": "code",
   "execution_count": 12,
   "id": "93fd60f3-b51b-48ec-850e-ab48f238163b",
   "metadata": {},
   "outputs": [
    {
     "name": "stdout",
     "output_type": "stream",
     "text": [
      "Hii\n",
      "Hii\n",
      "Hii\n",
      "Hello\n",
      "Hello\n",
      "Hello\n"
     ]
    }
   ],
   "source": [
    "for i in [0,1,2]:\n",
    "    print(\"Hii\")\n",
    "\n",
    "##other way of doing\n",
    "for i in range(3):   ## range -generates numbers [0, 1, 2] ## loop runs 3 times, once for each value of i\n",
    "    print(\"Hello\")   ##prints \"Hello\" each iteration."
   ]
  },
  {
   "cell_type": "code",
   "execution_count": 16,
   "id": "54299259-758c-4478-b1a9-d23d52d5b1bc",
   "metadata": {},
   "outputs": [
    {
     "name": "stdin",
     "output_type": "stream",
     "text": [
      " 4\n"
     ]
    },
    {
     "name": "stdout",
     "output_type": "stream",
     "text": [
      "Hi! How are you?\n",
      "Hi! How are you?\n",
      "Hi! How are you?\n",
      "Hi! How are you?\n"
     ]
    },
    {
     "name": "stdin",
     "output_type": "stream",
     "text": [
      " -3\n",
      " -5\n",
      " -3\n",
      " 2\n"
     ]
    },
    {
     "name": "stdout",
     "output_type": "stream",
     "text": [
      "Hi! How are you?\n",
      "Hi! How are you?\n"
     ]
    }
   ],
   "source": [
    "while True:\n",
    "    n = int(input())\n",
    "    if n > 0 :\n",
    "        break\n",
    "\n",
    "for greetings in range(n):\n",
    "    print(\"Hi! How are you?\")\n",
    "\n",
    "\n",
    "## What  if the user gives a negative value??\n",
    "while True:\n",
    "    n = int(input())\n",
    "    if n < 0 :             \n",
    "        continue    ### If n is negative, ask again\n",
    "    else:\n",
    "        break       #### If n is non-negative, exit the loop\n",
    "\n",
    "for greetings in range(n):\n",
    "    print(\"Hi! How are you?\")"
   ]
  },
  {
   "cell_type": "code",
   "execution_count": 23,
   "id": "ea67eb77-ca31-4d36-809c-99e52b5892dc",
   "metadata": {},
   "outputs": [
    {
     "name": "stdin",
     "output_type": "stream",
     "text": [
      " 5\n"
     ]
    },
    {
     "name": "stdout",
     "output_type": "stream",
     "text": [
      "Hi\n",
      "Hi\n",
      "Hi\n",
      "Hi\n",
      "Hi\n"
     ]
    }
   ],
   "source": [
    "##Using def function\n",
    "def main():\n",
    "    number = get_number()\n",
    "    Hi(number)\n",
    "\n",
    "def get_number():\n",
    "    while True:\n",
    "         n = int(input())\n",
    "         if n > 0 :\n",
    "              break\n",
    "    return n\n",
    "    \n",
    "def Hi(n):\n",
    "    for _ in range(n):\n",
    "        print(\"Hi\")\n",
    "\n",
    "main()"
   ]
  },
  {
   "cell_type": "code",
   "execution_count": 27,
   "id": "80fcfbeb-253b-4210-9719-fe5fc527ca2d",
   "metadata": {},
   "outputs": [
    {
     "name": "stdout",
     "output_type": "stream",
     "text": [
      "Padma\n",
      "['Jim', 'Kavin', 'John', 'Padma']\n",
      "Jim\n",
      "Kavin\n",
      "John\n",
      "Padma\n",
      "Ray\n"
     ]
    }
   ],
   "source": [
    "## Lists\n",
    "students = [\"Jim\" , \"Kavin\" , \"John\" , \"Padma\" , \"Ray\"]\n",
    "print(students[3])   ##you want to get the specific student name - say Padma\n",
    "print(students[0:4])\n",
    "\n",
    "##using for loop we can do the same thing\n",
    "for student in students:\n",
    "    print(student)"
   ]
  },
  {
   "cell_type": "code",
   "execution_count": 33,
   "id": "282ee3ec-9253-45eb-8183-abdae9d2a8ea",
   "metadata": {},
   "outputs": [
    {
     "name": "stdout",
     "output_type": "stream",
     "text": [
      "0\n",
      "1\n",
      "2\n",
      "3\n",
      "4\n",
      "Jim\n",
      "Kavin\n",
      "John\n",
      "Padma\n",
      "Ray\n",
      "1 Jim\n",
      "2 Kavin\n",
      "3 John\n",
      "4 Padma\n",
      "5 Ray\n"
     ]
    }
   ],
   "source": [
    "students = [\"Jim\" , \"Kavin\" , \"John\" , \"Padma\" , \"Ray\"]\n",
    "\n",
    "for i in range(len(students)):\n",
    "    print(i)\n",
    "    \n",
    "for i in range(len(students)):   ##generates numbers from 0 to len(students)\n",
    "    print(students[i])\n",
    "\n",
    "for i in range(len(students)):   ## if we want to get the rank list say\n",
    "    print(i+1 , students[i])"
   ]
  },
  {
   "cell_type": "code",
   "execution_count": 39,
   "id": "6831e256-2442-4ecd-9dcb-d943688766d4",
   "metadata": {},
   "outputs": [
    {
     "name": "stdout",
     "output_type": "stream",
     "text": [
      "Hongasandra\n",
      "Begur\n"
     ]
    }
   ],
   "source": [
    "##Dictionaries\n",
    "students = [\"Jim\", \"Kavin\", \"John\"]\n",
    "houses = [\"Hongasandra\", \"Begur\", \"BTM\"]\n",
    "##when you want students with a house\n",
    "\n",
    "Information = {\"Jim\" : \"Hongasandra\",  \n",
    "               \"Kavin\" : \"Begur\",\n",
    "               \"John\" :  \"BTM\"\n",
    "              }\n",
    "print(Information[\"Jim\"])\n",
    "print(Information[\"Kavin\"])"
   ]
  },
  {
   "cell_type": "code",
   "execution_count": 42,
   "id": "f93f8499-c9db-4c4c-bffd-e20d7057b4d7",
   "metadata": {},
   "outputs": [
    {
     "name": "stdout",
     "output_type": "stream",
     "text": [
      "Jim\n",
      "Kavin\n",
      "John\n",
      "Jim:Hongasandra\n",
      "Kavin:Begur\n",
      "John:BTM\n"
     ]
    }
   ],
   "source": [
    "Information = {\"Jim\" : \"Hongasandra\",  \n",
    "               \"Kavin\" : \"Begur\",\n",
    "               \"John\" :  \"BTM\"}\n",
    "\n",
    "for student in Information:\n",
    "    print(student)\n",
    "\n",
    "for student in Information:\n",
    "    print(student,Information[student] , sep = \":\")\n"
   ]
  },
  {
   "cell_type": "code",
   "execution_count": 45,
   "id": "12e54682-626c-499e-8a63-86767677cbcf",
   "metadata": {},
   "outputs": [
    {
     "name": "stdout",
     "output_type": "stream",
     "text": [
      "[{'name': 'Jim', 'house': 'Hongasandra', 'age': '34'}, {'name': 'Kavin', 'house': 'Begur', 'age': '24'}, {'name': 'John', 'house': 'BTM', 'age': None}]\n"
     ]
    }
   ],
   "source": [
    "##List of Dictionaries\n",
    "Information = [\n",
    "    {\"name\" : \"Jim\" , \"house\" : \"Hongasandra\" , \"age\" : \"34\"},\n",
    "    {\"name\" : \"Kavin\" , \"house\" : \"Begur\" , \"age\" : \"24\"},\n",
    "    {\"name\" : \"John\" , \"house\" : \"BTM\" , \"age\" : None}\n",
    "]\n",
    "print(Information)"
   ]
  },
  {
   "cell_type": "code",
   "execution_count": 48,
   "id": "1929aaea-db78-42a2-afdd-008f13f6b5da",
   "metadata": {},
   "outputs": [
    {
     "name": "stdout",
     "output_type": "stream",
     "text": [
      "Jim\n",
      "Kavin\n",
      "John\n",
      "34\n",
      "24\n",
      "None\n",
      "Jim:Hongasandra:34\n",
      "Kavin:Begur:24\n",
      "John:BTM:None\n"
     ]
    }
   ],
   "source": [
    "for student in Information:\n",
    "    print(student[\"name\"])\n",
    "\n",
    "for student in Information:\n",
    "    print(student[\"age\"])\n",
    "\n",
    "for student in Information:\n",
    "    print(student[\"name\"],student[\"house\"],student[\"age\"],sep = \":\")"
   ]
  },
  {
   "cell_type": "markdown",
   "id": "2cccbaf0-eb5b-42ee-bd71-a8f4beb226cc",
   "metadata": {},
   "source": [
    "#### Coding Exercises"
   ]
  },
  {
   "cell_type": "code",
   "execution_count": 52,
   "id": "08f47a63-e912-4687-a946-167ddedde744",
   "metadata": {},
   "outputs": [
    {
     "name": "stdin",
     "output_type": "stream",
     "text": [
      " 6\n"
     ]
    },
    {
     "name": "stdout",
     "output_type": "stream",
     "text": [
      " 6 * 0 = 0\n",
      " 6 * 1 = 6\n",
      " 6 * 2 = 12\n",
      " 6 * 3 = 18\n",
      " 6 * 4 = 24\n",
      " 6 * 5 = 30\n",
      " 6 * 6 = 36\n",
      " 6 * 7 = 42\n",
      " 6 * 8 = 48\n",
      " 6 * 9 = 54\n",
      "------------------------------\n",
      " 6 * 1 = 6\n",
      " 6 * 2 = 12\n",
      " 6 * 3 = 18\n",
      " 6 * 4 = 24\n",
      " 6 * 5 = 30\n",
      " 6 * 6 = 36\n",
      " 6 * 7 = 42\n",
      " 6 * 8 = 48\n",
      " 6 * 9 = 54\n"
     ]
    }
   ],
   "source": [
    "##Display the multiplication table of a given number using a `for` loop.\n",
    "number = int(input())\n",
    "\n",
    "for i in range(10):\n",
    "    multiplication = number * i\n",
    "    print(f\" {number} * {i} = {multiplication}\")\n",
    "    \n",
    "print(\"-\" * 30)\n",
    "\n",
    "for i in range(1,10):\n",
    "    multiplication = number * i\n",
    "    print(f\" {number} * {i} = {multiplication}\")"
   ]
  },
  {
   "cell_type": "code",
   "execution_count": 65,
   "id": "6bf8a600-96c2-47b5-b84b-83c32a3fdfda",
   "metadata": {},
   "outputs": [
    {
     "name": "stdin",
     "output_type": "stream",
     "text": [
      "Enter a number:  5432\n"
     ]
    },
    {
     "name": "stdout",
     "output_type": "stream",
     "text": [
      "Sum of digits: 14\n"
     ]
    }
   ],
   "source": [
    "##Write a program to find the sum of digits of a given number using a `for` loop.\n",
    "\n",
    "# Input number\n",
    "number = input(\"Enter a number: \")\n",
    "\n",
    "# Initialize sum\n",
    "sum_digits = 0\n",
    "\n",
    "for digit in number:\n",
    "    sum_digits += int(digit)\n",
    "\n",
    "print(\"Sum of digits:\", sum_digits)\n",
    "    "
   ]
  },
  {
   "cell_type": "code",
   "execution_count": 1,
   "id": "4b327cec-b40a-4b7c-bc79-f4a6934b7874",
   "metadata": {},
   "outputs": [
    {
     "name": "stdout",
     "output_type": "stream",
     "text": [
      "Sum of natural numbers: 4950\n"
     ]
    }
   ],
   "source": [
    "##Write a program to compute the sum of all natural numbers less than 100 using a `while` loop.\n",
    "\n",
    "total_sum = 0\n",
    "i = 1\n",
    "while i < 100:\n",
    "    total_sum += i\n",
    "    i += 1\n",
    "\n",
    "print(\"Sum of natural numbers:\", total_sum)\n",
    "    "
   ]
  },
  {
   "cell_type": "code",
   "execution_count": 2,
   "id": "f6e6384d-4777-4971-a887-e93fff7cf604",
   "metadata": {},
   "outputs": [
    {
     "name": "stdin",
     "output_type": "stream",
     "text": [
      " 7\n",
      " 5\n",
      " 6\n",
      " 4\n",
      " 0\n"
     ]
    },
    {
     "name": "stdout",
     "output_type": "stream",
     "text": [
      "wow you entered zero\n"
     ]
    }
   ],
   "source": [
    "##Write a loop that keeps asking the user to enter a number until they enter zero. Use`break` to exit.\n",
    "\n",
    "while True:\n",
    "    n = int(input())\n",
    "    if n > 0:\n",
    "        continue\n",
    "    else:\n",
    "        break\n",
    "\n",
    "print(\"wow you entered zero\")"
   ]
  },
  {
   "cell_type": "code",
   "execution_count": 3,
   "id": "d5ed7980-e4ea-45d7-9491-f74269e43ef2",
   "metadata": {},
   "outputs": [
    {
     "name": "stdin",
     "output_type": "stream",
     "text": [
      " 4\n",
      " 3\n",
      " 2\n",
      " 5\n",
      " 0\n"
     ]
    },
    {
     "name": "stdout",
     "output_type": "stream",
     "text": [
      "wow you entered zero\n"
     ]
    }
   ],
   "source": [
    "##other way\n",
    "while True:\n",
    "    n = int(input())\n",
    "    if n == 0:\n",
    "        print(\"wow you entered zero\")\n",
    "        break"
   ]
  },
  {
   "cell_type": "code",
   "execution_count": 9,
   "id": "e7019138-7a04-4e54-98c3-d392cefe4fc6",
   "metadata": {},
   "outputs": [
    {
     "name": "stdout",
     "output_type": "stream",
     "text": [
      "1\n",
      "2\n",
      "4\n",
      "5\n",
      "7\n",
      "8\n",
      "10\n",
      "11\n",
      "13\n",
      "14\n",
      "16\n",
      "17\n",
      "19\n",
      "20\n"
     ]
    }
   ],
   "source": [
    "##(5) Print all numbers from 1 to 20 except those divisible by 3. Use  `continue`.\n",
    "\n",
    "for i in range(1, 21):\n",
    "    if i % 3 == 0:\n",
    "        continue\n",
    "    print(i)\n",
    "\n"
   ]
  },
  {
   "cell_type": "markdown",
   "id": "9d7f7a56-4035-4e5d-92b5-a10823346b71",
   "metadata": {},
   "source": [
    "Implement a program that prompts users to input a fruit and then outputs the number of calories in one portion of that fruit, per the FDA’s poster for fruits, which is also available as text. Capitalization aside, assume that users will input fruits exactly as written in the poster (e.g., strawberries, not strawberry). Ignore any input that isn’t a fruit."
   ]
  },
  {
   "cell_type": "code",
   "execution_count": null,
   "id": "a171b68b-8a55-4399-81e3-ba4ba7be6362",
   "metadata": {},
   "outputs": [],
   "source": []
  },
  {
   "cell_type": "code",
   "execution_count": 6,
   "id": "9fc6bb54-773a-4113-87e4-371b37e2bfae",
   "metadata": {},
   "outputs": [
    {
     "name": "stdin",
     "output_type": "stream",
     "text": [
      "Item :  Apple\n"
     ]
    },
    {
     "name": "stdout",
     "output_type": "stream",
     "text": [
      "calories : 130\n"
     ]
    }
   ],
   "source": [
    "fruit_calories = {\n",
    "    \"apple\": 130,\n",
    "    \"avocado\": 50,\n",
    "    \"banana\": 110,\n",
    "    \"cantaloupe\": 50,\n",
    "    \"grapefruit\": 60,\n",
    "    \"grapes\": 90,\n",
    "    \"honeydew melon\": 50,\n",
    "    \"kiwifruit\": 90,\n",
    "    \"lemon\": 15,\n",
    "    \"lime\": 20,\n",
    "    \"nectarine\": 60,\n",
    "    \"orange\": 80,\n",
    "    \"peach\": 60,\n",
    "    \"pear\": 100,\n",
    "    \"pineapple\": 50,\n",
    "    \"plums\": 70,\n",
    "    \"strawberries\": 50,\n",
    "    \"sweet cherries\": 100,\n",
    "    \"tangerine\": 50,\n",
    "    \"watermelon\": 80,\n",
    "}\n",
    "\n",
    "fruits = input(\"Item : \").lower()\n",
    "\n",
    "for fruit in fruit_calories:\n",
    "    if fruit == fruits:\n",
    "        print(f\"calories : {fruit_calories[fruit]}\")\n",
    "    "
   ]
  },
  {
   "cell_type": "markdown",
   "id": "fc499e11-a086-489f-af8e-fd6bc61a70d2",
   "metadata": {},
   "source": [
    "Implement a program that prompts the user for a str of text and then outputs that same text but with all vowels (A, E, I, O, and U) omitted, whether inputted in uppercase or lowercase."
   ]
  },
  {
   "cell_type": "code",
   "execution_count": 13,
   "id": "92b9b05a-0720-43b5-a6d6-b93d1b362f20",
   "metadata": {},
   "outputs": [
    {
     "name": "stdin",
     "output_type": "stream",
     "text": [
      "Input:  DATA SCIENCE\n"
     ]
    },
    {
     "name": "stdout",
     "output_type": "stream",
     "text": [
      "{'DT SCNC'}\n"
     ]
    }
   ],
   "source": [
    "def main():\n",
    "    # Get input from the user\n",
    "    _input = input(\"Input: \")\n",
    "    # Call the function to remove vowels\n",
    "    text_without_vowels = remove_vowels(_input)\n",
    "    # Print the final output\n",
    "    print({text_without_vowels})\n",
    "\n",
    "def remove_vowels(text):\n",
    "    ###Removes vowels from a string.\n",
    "    vowels = \"aeiouAEIOU\"\n",
    "    result = \"\"\n",
    "\n",
    "    for word in text:\n",
    "        if word not in vowels:\n",
    "            result += word\n",
    "            \n",
    "    return result\n",
    "\n",
    "main()\n",
    "\n"
   ]
  }
 ],
 "metadata": {
  "kernelspec": {
   "display_name": "Python 3 (ipykernel)",
   "language": "python",
   "name": "python3"
  },
  "language_info": {
   "codemirror_mode": {
    "name": "ipython",
    "version": 3
   },
   "file_extension": ".py",
   "mimetype": "text/x-python",
   "name": "python",
   "nbconvert_exporter": "python",
   "pygments_lexer": "ipython3",
   "version": "3.13.5"
  }
 },
 "nbformat": 4,
 "nbformat_minor": 5
}
