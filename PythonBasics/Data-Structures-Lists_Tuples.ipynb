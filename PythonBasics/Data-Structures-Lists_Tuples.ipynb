{
 "cells": [
  {
   "cell_type": "markdown",
   "id": "28f14d09-34a7-4925-a723-421f1f14ff2a",
   "metadata": {},
   "source": [
    "### Day 4 : Data Structures - Lists "
   ]
  },
  {
   "cell_type": "markdown",
   "id": "96b249c0-32c8-45ab-9c46-b6b222957443",
   "metadata": {},
   "source": [
    "##### Working with Lists in Python"
   ]
  },
  {
   "cell_type": "code",
   "execution_count": 22,
   "id": "d9245914-3843-4ccf-a25f-80fd34dcadd1",
   "metadata": {},
   "outputs": [
    {
     "data": {
      "text/plain": [
       "['Kim', 'Cheryl', 'John', 'Padma', 'Berlin', 'Krishna']"
      ]
     },
     "execution_count": 22,
     "metadata": {},
     "output_type": "execute_result"
    }
   ],
   "source": [
    "## creating a list \n",
    "Name  = [\"Kim\", \"Cheryl\", \"John\", \"Padma\", \"Berlin\"]\n",
    "\n",
    "Name.append(\"Krishna\")  ## add item to end of the list\n",
    "Name"
   ]
  },
  {
   "cell_type": "code",
   "execution_count": 7,
   "id": "e76ea1df-cc11-480d-b28c-38bbec775c94",
   "metadata": {},
   "outputs": [
    {
     "name": "stdout",
     "output_type": "stream",
     "text": [
      "['Kim', 'Cheryl', 'John', 'Padma', 'Berlin', 'Krishna']\n",
      "['Kim', 'Cheryl', 'John', 'Padma', 'Berlin', 'Krishna', 'Padma']\n"
     ]
    }
   ],
   "source": [
    "## add item to the end of the list\n",
    "Name.append(\"Krishna\")  \n",
    "print(Name)\n",
    "\n",
    "Name.append(\"Padma\")  \n",
    "print(Name)\n"
   ]
  },
  {
   "cell_type": "code",
   "execution_count": 14,
   "id": "982ae443-7e8c-4ff5-b0a0-25a8e8666dd9",
   "metadata": {},
   "outputs": [
    {
     "name": "stdout",
     "output_type": "stream",
     "text": [
      "['Kim', 'Cheryl', 'John', 'Padma', 'Berlin']\n",
      "['Kim', 'Cheryl', 'John', ['Padma', 'Berlin']]\n"
     ]
    }
   ],
   "source": [
    "## add each element of an iterable individually to the end of your list\n",
    "Name = [\"Kim\", \"Cheryl\", \"John\"]\n",
    "\n",
    "# Extend with another list\n",
    "Name.extend([\"Padma\", \"Berlin\"])\n",
    "print(Name)\n",
    "\n",
    "Name = [\"Kim\", \"Cheryl\", \"John\"]\n",
    "Name.append([\"Padma\", \"Berlin\"])\n",
    "print(Name)\n"
   ]
  },
  {
   "cell_type": "code",
   "execution_count": 17,
   "id": "e215bd27-f9af-46a8-b005-84780a176d65",
   "metadata": {},
   "outputs": [
    {
     "data": {
      "text/plain": [
       "['Kim', 'Sree', 'Cheryl', 'John']"
      ]
     },
     "execution_count": 17,
     "metadata": {},
     "output_type": "execute_result"
    }
   ],
   "source": [
    "## Insert an item at a given position\n",
    "Name = [\"Kim\", \"Cheryl\", \"John\"]\n",
    "Name.insert(1,\"Sree\")      ## at which index you want to put your name, (say), I want Sree to be after Kim\n",
    "Name"
   ]
  },
  {
   "cell_type": "code",
   "execution_count": 20,
   "id": "bb6b6881-5344-435d-9589-7a716d254910",
   "metadata": {},
   "outputs": [
    {
     "name": "stdout",
     "output_type": "stream",
     "text": [
      "['Kim', 'Cheryl', 'John', 'Padma', 'Berlin']\n"
     ]
    },
    {
     "data": {
      "text/plain": [
       "['Kim', 'Cheryl', 'John', 'Padma']"
      ]
     },
     "execution_count": 20,
     "metadata": {},
     "output_type": "execute_result"
    }
   ],
   "source": [
    "## Remove the first item from the list \n",
    "Name = [\"Kim\", \"Cheryl\", \"John\"]\n",
    "\n",
    "Name.extend([\"Padma\", \"Berlin\"])\n",
    "print(Name)\n",
    "\n",
    "Name.remove(\"Berlin\")\n",
    "Name\n"
   ]
  },
  {
   "cell_type": "code",
   "execution_count": 73,
   "id": "a648be3c-80a1-4a53-b9cc-373aff49ade4",
   "metadata": {},
   "outputs": [
    {
     "data": {
      "text/plain": [
       "['Vishnu', 'Cheryl', 'John']"
      ]
     },
     "execution_count": 73,
     "metadata": {},
     "output_type": "execute_result"
    }
   ],
   "source": [
    "## Change List Items\n",
    "Name = [\"Kim\", \"Cheryl\", \"John\"]\n",
    "Name[0] = \"Vishnu\"\n",
    "Name"
   ]
  },
  {
   "cell_type": "code",
   "execution_count": 29,
   "id": "89731d36-4a5b-4d9d-a2a2-e267368f6907",
   "metadata": {},
   "outputs": [
    {
     "name": "stdout",
     "output_type": "stream",
     "text": [
      "['biology', 'maths', 'chemistry', 'physiscs']\n"
     ]
    },
    {
     "data": {
      "text/plain": [
       "['biology', 'maths', 'chemistry']"
      ]
     },
     "execution_count": 29,
     "metadata": {},
     "output_type": "execute_result"
    }
   ],
   "source": [
    "## Remove the item at the given position in the list, and return it\n",
    "subjects = [\"biology\", \"maths\", \"statistics\", \"chemistry\", \"physiscs\"]\n",
    "\n",
    "remove = subjects.pop(2)\n",
    "print(subjects)\n",
    "\n",
    "subjects.pop() ##removes the last item\n",
    "subjects\n"
   ]
  },
  {
   "cell_type": "code",
   "execution_count": 32,
   "id": "6c8211aa-6489-4f58-bca0-c0b594bc478e",
   "metadata": {},
   "outputs": [
    {
     "data": {
      "text/plain": [
       "[]"
      ]
     },
     "execution_count": 32,
     "metadata": {},
     "output_type": "execute_result"
    }
   ],
   "source": [
    "## Remove all items from the list\n",
    "subjects = [\"biology\", \"maths\", \"statistics\", \"chemistry\", \"physiscs\"]\n",
    "subjects.clear()\n",
    "subjects"
   ]
  },
  {
   "cell_type": "code",
   "execution_count": 39,
   "id": "967c0782-b551-49ca-a5a2-44c0236d0367",
   "metadata": {},
   "outputs": [
    {
     "name": "stdout",
     "output_type": "stream",
     "text": [
      "6\n",
      "6\n",
      "7\n"
     ]
    }
   ],
   "source": [
    "## Return zero-based index in the list of the first item\n",
    "numbers = [22,22,34,65,65,76,78,78,76]\n",
    "number = numbers.index(78)\n",
    "print(number)\n",
    "\n",
    "numbers = [\"22\",\"22\",\"34\",\"65\",\"65\",\"76\",\"78\",\"78\",\"76\"]\n",
    "number = numbers.index(\"78\")\n",
    "print(number)\n",
    "\n",
    "numbers = [\"22\",\"22\",\"34\",\"65\",\"78\",\"65\",\"76\",\"78\",\"76\"]\n",
    "number = numbers.index(\"78\",5)   ### Find next 78 starting at position 5\n",
    "print(number) \n"
   ]
  },
  {
   "cell_type": "code",
   "execution_count": 40,
   "id": "936f4074-e3c9-4770-963a-206fd32b9596",
   "metadata": {},
   "outputs": [
    {
     "data": {
      "text/plain": [
       "3"
      ]
     },
     "execution_count": 40,
     "metadata": {},
     "output_type": "execute_result"
    }
   ],
   "source": [
    "## Return the number of times items appear in the list.\n",
    "subjects = [\"biology\", \"maths\", \"statistics\", \"chemistry\", \"physiscs\",\"maths\", \"statistics\",\"statistics\"]\n",
    "subjects.count(\"statistics\")"
   ]
  },
  {
   "cell_type": "code",
   "execution_count": 42,
   "id": "9e819b1e-9141-42e0-aafb-3f28382482b6",
   "metadata": {},
   "outputs": [
    {
     "data": {
      "text/plain": [
       "['22', '22', '34', '65', '65', '76', '76', '78', '78']"
      ]
     },
     "execution_count": 42,
     "metadata": {},
     "output_type": "execute_result"
    }
   ],
   "source": [
    "## Sort the items of the list\n",
    "numbers = [\"22\",\"22\",\"34\",\"65\",\"65\",\"76\",\"78\",\"78\",\"76\"]\n",
    "numbers.sort()\n",
    "numbers"
   ]
  },
  {
   "cell_type": "code",
   "execution_count": 45,
   "id": "14ec2bca-ce3e-448d-8e58-07c29b8e39f2",
   "metadata": {},
   "outputs": [
    {
     "data": {
      "text/plain": [
       "['banana', 'apple', 'kiwi', 'banana', 'pear', 'apple', 'orange']"
      ]
     },
     "execution_count": 45,
     "metadata": {},
     "output_type": "execute_result"
    }
   ],
   "source": [
    "## Reverse the elements of the list\n",
    "fruits = ['orange', 'apple', 'pear', 'banana', 'kiwi', 'apple', 'banana']\n",
    "fruits.reverse()\n",
    "fruits"
   ]
  },
  {
   "cell_type": "code",
   "execution_count": 46,
   "id": "5518968c-3664-4975-8b6d-f7cb88fb65dd",
   "metadata": {},
   "outputs": [
    {
     "data": {
      "text/plain": [
       "['orange', 'apple', 'pear', 'banana', 'kiwi', 'apple', 'banana']"
      ]
     },
     "execution_count": 46,
     "metadata": {},
     "output_type": "execute_result"
    }
   ],
   "source": [
    "## Return a shallow copy of the list\n",
    "fruits = ['orange', 'apple', 'pear', 'banana', 'kiwi', 'apple', 'banana']\n",
    "fruit = fruits.copy()\n",
    "fruit"
   ]
  },
  {
   "cell_type": "markdown",
   "id": "5f6e899f-243b-4101-9d35-71ad2f8f21ed",
   "metadata": {},
   "source": [
    "##### List Comprehensions"
   ]
  },
  {
   "cell_type": "code",
   "execution_count": 56,
   "id": "315b67fb-6ec9-4e85-a7e5-ff8f0a160d1e",
   "metadata": {},
   "outputs": [
    {
     "name": "stdout",
     "output_type": "stream",
     "text": [
      "1\n",
      "4\n",
      "9\n",
      "16\n",
      "25\n",
      "36\n",
      "49\n",
      "64\n",
      "81\n",
      "100\n",
      "[1, 4, 9, 16, 25, 36, 49, 64, 81, 100]\n",
      "[1, 4, 9, 16, 25, 36, 49, 64, 81, 100]\n"
     ]
    }
   ],
   "source": [
    "def squares():\n",
    "    for x in range(1,11):\n",
    "        print(x**2)\n",
    "        \n",
    "squares()\n",
    "\n",
    "\"\"\"\n",
    "you want the output to be in list\n",
    "\"\"\"\n",
    "\n",
    "def squares():\n",
    "    return[x**2 for x in range(1,11)]\n",
    "\n",
    "print(squares())\n",
    "\n",
    "## or\n",
    "squares = []\n",
    "for x in range(1,11):\n",
    "    squares.append(x**2)\n",
    "\n",
    "print(squares)\n"
   ]
  },
  {
   "cell_type": "code",
   "execution_count": 78,
   "id": "74b1253d-0bb4-4c40-937c-537a87784546",
   "metadata": {},
   "outputs": [
    {
     "name": "stdout",
     "output_type": "stream",
     "text": [
      "[10, 12, 6, 4, -8, -14, 16, -2]\n",
      "[5, 6, 3, 2, 8]\n",
      "[5.0, 6.0, 3.0, 2.0, -4.0, -7.0, 8.0, -1.0]\n",
      "[(5, 25), (6, 36), (3, 9), (2, 4), (-4, 16), (-7, 49), (8, 64), (-1, 1)]\n",
      "[1, 3, 5, 7, 9]\n"
     ]
    }
   ],
   "source": [
    "## create a new list with the values doubled\n",
    "num = [5,6,3,2,-4,-7,8,-1]\n",
    "double = [x*2 for x in num]\n",
    "print(double)\n",
    "\n",
    "## filter the list to exclude negative numbers\n",
    "remove = [ x for x in num if x > 0]\n",
    "print(remove)\n",
    "\n",
    "## apply a function to all the elements\n",
    "fun = [float(x) for x in num]\n",
    "print(fun)\n",
    "\n",
    "## create a list of 2-tuples like (number, square)\n",
    "tup = [(x , x**2) for x in num]\n",
    "print(tup)\n",
    "\n",
    "## filtering odd numbers from a list\n",
    "odd_numbers = [num for num in range(1, 10) if num % 2 != 0 ]\n",
    "\n",
    "print(odd_numbers)"
   ]
  },
  {
   "cell_type": "code",
   "execution_count": 72,
   "id": "8d283d91-ebc0-4e55-ae90-ed38f95fe5eb",
   "metadata": {},
   "outputs": [
    {
     "name": "stdout",
     "output_type": "stream",
     "text": [
      "[-1, 1, 66.25, 333, 1234.5]\n",
      "[-1, 1, 333, 333, 1234.5]\n",
      "[333, 333, 1234.5]\n"
     ]
    }
   ],
   "source": [
    "## del statement\n",
    "a = [-1, 1, 66.25, 333, 333, 1234.5]\n",
    "del a[4]\n",
    "print(a)\n",
    " \n",
    "b = [-1, 1, 66.25, 333, 333, 1234.5]\n",
    "del b[-4]\n",
    "print(b)\n",
    "\n",
    "b = [-1, 1, 66.25, 333, 333, 1234.5]\n",
    "del b[0:3]\n",
    "print(b)"
   ]
  },
  {
   "cell_type": "code",
   "execution_count": 83,
   "id": "b0f2ebb0-cb48-4356-ab2e-aca0117e9ff2",
   "metadata": {},
   "outputs": [
    {
     "name": "stdout",
     "output_type": "stream",
     "text": [
      "6\n",
      "9\n",
      "12\n",
      "8\n",
      "12\n",
      "16\n",
      "10\n",
      "15\n",
      "20\n",
      "12\n",
      "18\n",
      "24\n",
      "12\n",
      "18\n",
      "24\n",
      "16\n",
      "24\n",
      "32\n",
      "20\n",
      "30\n",
      "40\n",
      "24\n",
      "36\n",
      "48\n",
      "18\n",
      "27\n",
      "36\n",
      "24\n",
      "36\n",
      "48\n",
      "30\n",
      "45\n",
      "60\n",
      "36\n",
      "54\n",
      "72\n",
      "24\n",
      "36\n",
      "48\n",
      "32\n",
      "48\n",
      "64\n",
      "40\n",
      "60\n",
      "80\n",
      "48\n",
      "72\n",
      "96\n",
      "30\n",
      "45\n",
      "60\n",
      "40\n",
      "60\n",
      "80\n",
      "50\n",
      "75\n",
      "100\n",
      "60\n",
      "90\n",
      "120\n",
      "[[[6, 9, 12], [8, 12, 16], [10, 15, 20], [12, 18, 24]], [[12, 18, 24], [16, 24, 32], [20, 30, 40], [24, 36, 48]], [[18, 27, 36], [24, 36, 48], [30, 45, 60], [36, 54, 72]], [[24, 36, 48], [32, 48, 64], [40, 60, 80], [48, 72, 96]], [[30, 45, 60], [40, 60, 80], [50, 75, 100], [60, 90, 120]]]\n"
     ]
    }
   ],
   "source": [
    "##  nested list comprehension\n",
    "for i in range(1,6):\n",
    "    for j in range (3,7):\n",
    "        for k in range(2,5):\n",
    "            result = i * j * k\n",
    "            print(result)\n",
    "\n",
    "\n",
    "\"\"\"\n",
    "instead, we can use nested comprehension\n",
    "\"\"\"\n",
    "multiply = [[[i * j * k for k in range(2,5)] for j in range(3,7)] for i in range(1,6)]\n",
    "print(multiply)"
   ]
  },
  {
   "cell_type": "markdown",
   "id": "8a6cd0ce-b23a-4fb9-9e65-3777374ce984",
   "metadata": {},
   "source": [
    "### Day 5 : Data Structures - Tuples\n"
   ]
  },
  {
   "cell_type": "code",
   "execution_count": 2,
   "id": "3be4b9f4-db20-428c-b584-ee903ca48bc9",
   "metadata": {},
   "outputs": [
    {
     "data": {
      "text/plain": [
       "('hello', 23645, 6785)"
      ]
     },
     "execution_count": 2,
     "metadata": {},
     "output_type": "execute_result"
    }
   ],
   "source": [
    "## creating tuples \n",
    "t = \"hello\" , 23645 , 6785\n",
    "t"
   ]
  },
  {
   "cell_type": "code",
   "execution_count": 4,
   "id": "ab3d58ee-6486-44cb-82e2-771470421366",
   "metadata": {},
   "outputs": [
    {
     "name": "stdout",
     "output_type": "stream",
     "text": [
      "(('hello', 23645, 6785), (1, 2, 3, 4, 5))\n"
     ]
    },
    {
     "data": {
      "text/plain": [
       "(('hello', 23645, 6785),\n",
       " (('hello', 23645, 6785), (1, 2, 3, 4, 5)),\n",
       " (1, 2, 3, 4, 5))"
      ]
     },
     "execution_count": 4,
     "metadata": {},
     "output_type": "execute_result"
    }
   ],
   "source": [
    "## Tuples may be nested:\n",
    "u = t, (1, 2, 3, 4, 5)\n",
    "print(u)\n",
    "\n",
    "v = t,u,(1, 2, 3, 4, 5)\n",
    "v"
   ]
  },
  {
   "cell_type": "code",
   "execution_count": 5,
   "id": "c711f942-7f08-4ded-a02e-ddccc8437eb7",
   "metadata": {},
   "outputs": [
    {
     "ename": "TypeError",
     "evalue": "'tuple' object does not support item assignment",
     "output_type": "error",
     "traceback": [
      "\u001b[1;31m---------------------------------------------------------------------------\u001b[0m",
      "\u001b[1;31mTypeError\u001b[0m                                 Traceback (most recent call last)",
      "Cell \u001b[1;32mIn[5], line 2\u001b[0m\n\u001b[0;32m      1\u001b[0m \u001b[38;5;66;03m## Tuples are immutable:\u001b[39;00m\n\u001b[1;32m----> 2\u001b[0m t[\u001b[38;5;241m0\u001b[39m] \u001b[38;5;241m=\u001b[39m\u001b[38;5;241m99\u001b[39m\n",
      "\u001b[1;31mTypeError\u001b[0m: 'tuple' object does not support item assignment"
     ]
    }
   ],
   "source": [
    "## Tuples are immutable:\n",
    "t[0] =99"
   ]
  },
  {
   "cell_type": "code",
   "execution_count": 9,
   "id": "bc4adae2-31bd-4cc7-a8fc-9485a8a2a7f1",
   "metadata": {},
   "outputs": [
    {
     "name": "stdout",
     "output_type": "stream",
     "text": [
      "<class 'tuple'>\n"
     ]
    },
    {
     "data": {
      "text/plain": [
       "([1, 2, 3], [99, 2, 1])"
      ]
     },
     "execution_count": 9,
     "metadata": {},
     "output_type": "execute_result"
    }
   ],
   "source": [
    "## Tuples can contain mutable objects \n",
    "numbers = ([1, 2, 3], [3, 2, 1])\n",
    "print(type(numbers))\n",
    "\n",
    "numbers[1][0] = 99\n",
    "numbers"
   ]
  },
  {
   "cell_type": "code",
   "execution_count": 13,
   "id": "ce93c71c-1ede-4346-b8f1-7c58a9f512ad",
   "metadata": {},
   "outputs": [
    {
     "name": "stdout",
     "output_type": "stream",
     "text": [
      "0\n",
      "2\n"
     ]
    }
   ],
   "source": [
    "## construct empty tuple and get the length\n",
    "empty = ()\n",
    "print(len(empty))\n",
    "\n",
    "numbers = ([1, 2, 3], [3, 2, 1])\n",
    "print(len(numbers))"
   ]
  },
  {
   "cell_type": "code",
   "execution_count": 18,
   "id": "2488a3fe-2f4c-40bc-80ba-28019a82046f",
   "metadata": {},
   "outputs": [
    {
     "name": "stdout",
     "output_type": "stream",
     "text": [
      "Padma\n",
      "Padma\n",
      "Cheryl\n",
      "John\n",
      "('Cheryl', 'John', 'Padma')\n",
      "('Kim', 'Cheryl', 'John')\n"
     ]
    }
   ],
   "source": [
    "## Accessing and Slicing\n",
    "Name  = (\"Kim\", \"Cheryl\", \"John\", \"Padma\", \"Berlin\")\n",
    "print(Name[3])\n",
    "print(Name[-2])\n",
    "print(Name[-4])\n",
    "print(Name[2])\n",
    "\n",
    "print(Name[1:4])\n",
    "print(Name[0:3])"
   ]
  },
  {
   "cell_type": "code",
   "execution_count": 20,
   "id": "799bb7cd-b286-413f-a19f-a4b27bc72ea0",
   "metadata": {},
   "outputs": [
    {
     "name": "stdout",
     "output_type": "stream",
     "text": [
      "90\n",
      "43\n"
     ]
    }
   ],
   "source": [
    "## Finding minimum & maximum from tuple\n",
    "maths = (78,56,43,78,90)\n",
    "print(max(maths))\n",
    "print(min(maths))"
   ]
  },
  {
   "cell_type": "code",
   "execution_count": 22,
   "id": "d3dd8e84-69ce-497b-a19f-4362298fd2b5",
   "metadata": {},
   "outputs": [
    {
     "data": {
      "text/plain": [
       "(78, 56, 43, 78, 90, 98, 45, 32, 78, 89)"
      ]
     },
     "execution_count": 22,
     "metadata": {},
     "output_type": "execute_result"
    }
   ],
   "source": [
    "## Combining two tuples\n",
    "maths = (78,56,43,78,90)\n",
    "stats = (98,45,32,78,89)\n",
    "comb = maths+stats\n",
    "comb"
   ]
  },
  {
   "cell_type": "markdown",
   "id": "9aa9c38c-b9c7-456d-99a7-2609b56c178d",
   "metadata": {},
   "source": [
    "### CODING EXERCISE"
   ]
  },
  {
   "cell_type": "markdown",
   "id": "9ffb3b80-2d64-4d0e-a989-3ed67a768f0e",
   "metadata": {},
   "source": [
    "#### Working with Lists in Python"
   ]
  },
  {
   "cell_type": "markdown",
   "id": "9ae2d9d0-cb99-4d97-94f6-84aaa1de854e",
   "metadata": {},
   "source": [
    "(a) Create a list and display its elements.\n",
    "\n",
    "(b) Access elements using both positive and negative indexing.\n",
    "\n",
    "(c) Apply slicing to extract specific portions of a list.\n"
   ]
  },
  {
   "cell_type": "code",
   "execution_count": 10,
   "id": "9e703df9-208a-4e42-b67f-6f0a03c6027e",
   "metadata": {},
   "outputs": [
    {
     "name": "stdout",
     "output_type": "stream",
     "text": [
      "The list of places is: ['Hongasandra', 'Begur', 'BTM', 'HSR Layout', 'Bommanahalli'] \n",
      "\n",
      " The third place is: BTM \n",
      "\n",
      " The fourth place is: Bommanahalli \n",
      "\n",
      "Slicing from index 1 to 3: ['Begur', 'BTM', 'HSR Layout']\n",
      "\n"
     ]
    }
   ],
   "source": [
    "places = [\"Hongasandra\" , \"Begur\" , \"BTM\" , \"HSR Layout\" , \"Bommanahalli\"]\n",
    "print(f\"The list of places is: {places} \\n\")\n",
    "\n",
    "print(f\" The third place is: {places[2]} \\n\")\n",
    "print(f\" The fourth place is: {places[-1]} \\n\")\n",
    "\n",
    "print(f\"Slicing from index 1 to 3: {places[1:4]}\\n\")\n"
   ]
  },
  {
   "cell_type": "markdown",
   "id": "d518cd6b-b629-471c-89c2-db5683db9bb7",
   "metadata": {},
   "source": [
    "(d) Iterate over a list using a loop and demonstrate list concatenation.\n"
   ]
  },
  {
   "cell_type": "code",
   "execution_count": 11,
   "id": "71e869c6-71a1-432b-996c-c6776ee7bc9e",
   "metadata": {},
   "outputs": [
    {
     "name": "stdout",
     "output_type": "stream",
     "text": [
      " -Hongasandra\n",
      " -Begur\n",
      " -BTM\n",
      " -HSR Layout\n",
      " -Bommanahalli\n",
      "\n",
      "['Hongasandra', 'Begur', 'BTM', 'HSR Layout', 'Bommanahalli', 'Jayanagar', 'Kormangala']\n",
      "\n"
     ]
    }
   ],
   "source": [
    "for place in places :\n",
    "    print(f\" -{place}\")\n",
    "\n",
    "add_more = [\"Jayanagar\" , \"Kormangala\"]\n",
    "combined = places + add_more\n",
    "print(f\"\\n{combined}\\n\")"
   ]
  },
  {
   "cell_type": "markdown",
   "id": "2aa37871-822a-4c25-a797-fc0baa85b7a7",
   "metadata": {},
   "source": [
    "(e) Add elements to a list using the `append()`, `extend()`, and `insert()` methods.\n",
    "\n",
    "(f) Remove elements from a list using `del`, `remove()`, and `pop()` functions."
   ]
  },
  {
   "cell_type": "code",
   "execution_count": 12,
   "id": "db50d802-7348-491e-a1a6-699a76a8eea8",
   "metadata": {},
   "outputs": [
    {
     "name": "stdout",
     "output_type": "stream",
     "text": [
      "After append: ['Hongasandra', 'Begur', 'BTM', 'HSR Layout', 'Bommanahalli', 'Madiwala']\n",
      "After extend: ['Hongasandra', 'Begur', 'BTM', 'HSR Layout', 'Bommanahalli', 'Madiwala', 'Majestic', 'Shivajinagar']\n",
      "After insert: ['Electronicity', 'Hongasandra', 'Begur', 'BTM', 'HSR Layout', 'Bommanahalli', 'Madiwala', 'Majestic', 'Shivajinagar']\n",
      "After removing: ['Electronicity', 'Hongasandra', 'Begur', 'HSR Layout', 'Bommanahalli', 'Madiwala', 'Majestic', 'Shivajinagar']\n",
      "After poping last element: ['Electronicity', 'Hongasandra', 'Begur', 'HSR Layout', 'Bommanahalli', 'Madiwala', 'Majestic']\n",
      "After poping first element: ['Electronicity', 'Begur', 'HSR Layout', 'Bommanahalli', 'Madiwala', 'Majestic']\n",
      "After deleting 3rd place: ['Electronicity', 'Begur', 'HSR Layout', 'Madiwala', 'Majestic']\n"
     ]
    }
   ],
   "source": [
    "app = places.append(\"Madiwala\")\n",
    "print(f\"After append: {places}\")\n",
    "\n",
    "ext = places.extend([\"Majestic\",\"Shivajinagar\"])\n",
    "print(f\"After extend: {places}\")\n",
    "\n",
    "ins = places.insert(0 , \"Electronicity\")\n",
    "print(f\"After insert: {places}\")\n",
    "\n",
    "rem = places.remove(\"BTM\")\n",
    "print(f\"After removing: {places}\")\n",
    "\n",
    "pop = places.pop()\n",
    "print(f\"After poping last element: {places}\")\n",
    "\n",
    "pop = places.pop(1)\n",
    "print(f\"After poping first element: {places}\")\n",
    "\n",
    "del places[3]\n",
    "print(f\"After deleting 3rd place: {places}\")"
   ]
  },
  {
   "cell_type": "markdown",
   "id": "9cfaecea-ba91-491e-9af8-277b6bd6ae04",
   "metadata": {},
   "source": [
    "#### Manipulating Tuples in Python"
   ]
  },
  {
   "cell_type": "markdown",
   "id": "59549e34-af8d-414f-9bae-8e43bea38eac",
   "metadata": {},
   "source": [
    "(a) Create and print tuples containing various types of data.\n",
    "\n",
    "(b) Access tuple elements using both positive and negative indices.\n",
    "\n",
    "(c) Slice tuples to extract subsets of elements.\n"
   ]
  },
  {
   "cell_type": "code",
   "execution_count": 17,
   "id": "0663c8a4-1604-40ff-a27b-9c50df63084d",
   "metadata": {},
   "outputs": [
    {
     "name": "stdout",
     "output_type": "stream",
     "text": [
      "tuples containing various types of data ('Hello', 'Cheryl', False, 3.14, 200) \n",
      "\n",
      " The third element is: False \n",
      "\n",
      " The fourth element is: 200 \n",
      "\n",
      "Sliced tuple: ('Cheryl', False, 3.14)\n",
      "\n"
     ]
    }
   ],
   "source": [
    "tuples = (\"Hello\" , \"Cheryl\" , False , 3.14 ,200)\n",
    "print(f\"tuples containing various types of data {tuples} \\n\")\n",
    "\n",
    "print(f\" The third element is: {tuples[2]} \\n\")\n",
    "print(f\" The fourth element is: {tuples[-1]} \\n\")\n",
    "\n",
    "print(f\"Sliced tuple: {tuples[1:4]}\\n\")"
   ]
  },
  {
   "cell_type": "markdown",
   "id": "e2903001-1ce7-49ff-9613-4f077a8a6f29",
   "metadata": {},
   "source": [
    "(d) Iterate through a tuple and perform membership testing using the `in` operator.\n"
   ]
  },
  {
   "cell_type": "code",
   "execution_count": 21,
   "id": "88428f4c-751a-48cd-a744-4e33c467f97e",
   "metadata": {},
   "outputs": [
    {
     "name": "stdout",
     "output_type": "stream",
     "text": [
      "- Hello\n",
      "- Cheryl\n",
      "- False\n",
      "- 3.14\n",
      "- 200\n",
      "Is 'Cheryl' in the tuple? True\n",
      "Is 'Vishnu' in the tuple? False\n"
     ]
    }
   ],
   "source": [
    "for element in tuples:\n",
    "    print(f\"- {element}\")\n",
    "\n",
    "is_present = \"Cheryl\" in tuples\n",
    "is_absent = \"Vishnu\" in tuples\n",
    "\n",
    "print(f\"Is 'Cheryl' in the tuple? {is_present}\")\n",
    "print(f\"Is 'Vishnu' in the tuple? {is_absent}\")"
   ]
  },
  {
   "cell_type": "markdown",
   "id": "153a0f6a-d75b-4d0d-97da-c8680c2ecae0",
   "metadata": {},
   "source": [
    "(e) Concatenate two or more tuples and display the result.\n"
   ]
  },
  {
   "cell_type": "code",
   "execution_count": 22,
   "id": "9564401a-e133-44df-a3b6-7fdfe1c34b6e",
   "metadata": {},
   "outputs": [
    {
     "name": "stdout",
     "output_type": "stream",
     "text": [
      "Concatenated tuple: (1, 2, 3, 'a', 'b', 'c')\n"
     ]
    }
   ],
   "source": [
    "tuple1=(1, 2, 3)\n",
    "tuple2=('a', 'b', 'c')\n",
    "print(f\"Concatenated tuple: {tuple1+tuple2}\")"
   ]
  },
  {
   "cell_type": "markdown",
   "id": "70db0066-2165-459a-a20a-cdde9b1c2597",
   "metadata": {},
   "source": [
    "(f) Convert a list into a tuple.\n"
   ]
  },
  {
   "cell_type": "code",
   "execution_count": 23,
   "id": "956ed7a4-5094-41dc-998d-806f471b4e65",
   "metadata": {},
   "outputs": [
    {
     "name": "stdout",
     "output_type": "stream",
     "text": [
      "The list ['HI', 'how', 'are', 'you', 'minto']\n",
      "The tuple ('HI', 'how', 'are', 'you', 'minto')\n"
     ]
    }
   ],
   "source": [
    "lists = ['HI', 'how', 'are', 'you', 'minto']\n",
    "print(f\"The list {lists}\")\n",
    "\n",
    "tuples = tuple(lists)\n",
    "print(f\"The tuple {tuples}\")"
   ]
  },
  {
   "cell_type": "markdown",
   "id": "338016a9-2c67-48b8-8af2-b746b6d421a3",
   "metadata": {},
   "source": [
    "(g) Utilize the `sorted()`, `count()`, and `index()` functions to manipulate and analyze tuples."
   ]
  },
  {
   "cell_type": "code",
   "execution_count": 28,
   "id": "9c118984-5235-486c-be36-9cc568c4c442",
   "metadata": {},
   "outputs": [
    {
     "name": "stdout",
     "output_type": "stream",
     "text": [
      "The sorted tuple : [144, 322, 445, 455, 500, 679, 769, 769, 953]\n",
      "The count of the tuple : 2\n",
      "The number 322 is first found at index: 2\n"
     ]
    }
   ],
   "source": [
    "tuples = (144, 953, 322, 455, 769, 769, 445, 679, 500)\n",
    "print(f\"The sorted tuple : {sorted(tuples)}\")\n",
    "print(f\"The count of the tuple : {tuples.count(769)}\")\n",
    "print(f\"The number 322 is first found at index: {tuples.index(322)}\")\n"
   ]
  }
 ],
 "metadata": {
  "kernelspec": {
   "display_name": "Python 3 (ipykernel)",
   "language": "python",
   "name": "python3"
  },
  "language_info": {
   "codemirror_mode": {
    "name": "ipython",
    "version": 3
   },
   "file_extension": ".py",
   "mimetype": "text/x-python",
   "name": "python",
   "nbconvert_exporter": "python",
   "pygments_lexer": "ipython3",
   "version": "3.13.5"
  }
 },
 "nbformat": 4,
 "nbformat_minor": 5
}
