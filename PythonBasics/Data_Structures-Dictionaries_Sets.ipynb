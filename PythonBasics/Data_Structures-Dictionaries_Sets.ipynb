{
 "cells": [
  {
   "cell_type": "markdown",
   "id": "3b1954e3-5939-420e-8b97-60aa3067ce28",
   "metadata": {},
   "source": [
    "Sets - sets is an unordered collection with no duplicates elements"
   ]
  },
  {
   "cell_type": "code",
   "execution_count": 2,
   "id": "9d105377-fec2-4189-8094-8f79f94736d2",
   "metadata": {},
   "outputs": [
    {
     "name": "stdout",
     "output_type": "stream",
     "text": [
      "{'Padma', 'Kavin', 'Sree', 'John'}\n"
     ]
    }
   ],
   "source": [
    "Names = {\"Sree\",\"Padma\",\"John\",\"Kavin\",\"Padma\",\"Padma\",\"Kavin\"}\n",
    "print(Names)  ## duplicates have been removed"
   ]
  },
  {
   "cell_type": "code",
   "execution_count": 5,
   "id": "11894437-2047-4575-9786-db8c4c0f342d",
   "metadata": {},
   "outputs": [
    {
     "name": "stdout",
     "output_type": "stream",
     "text": [
      "True\n"
     ]
    },
    {
     "data": {
      "text/plain": [
       "False"
      ]
     },
     "execution_count": 5,
     "metadata": {},
     "output_type": "execute_result"
    }
   ],
   "source": [
    "##  membership testing\n",
    "print(\"Padma\" in Names)\n",
    "\"David\" in Names"
   ]
  },
  {
   "cell_type": "markdown",
   "id": "367d4f94-201e-4fa5-a1cd-cf8a85e74bc1",
   "metadata": {},
   "source": [
    "####  Demonstrate set operations on unique letters from two words"
   ]
  },
  {
   "cell_type": "code",
   "execution_count": 22,
   "id": "b1bd4f74-018f-416c-995d-f2b9da3096cd",
   "metadata": {},
   "outputs": [
    {
     "name": "stdout",
     "output_type": "stream",
     "text": [
      "{'e', 'g', 'j', 't', 'a', 'h', 'y', 'b', 'f', 'r', 'd'}\n",
      "{'e', 'g', 'd', 'o', 't', 'h', 'y', 's', 'f', 'l', 'u'}\n",
      "{'r', 'a', 'j', 'b'}\n",
      "{'o', 'h', 'f', 'l', 'd', 'u', 'e', 'g', 'j', 't', 'y', 'b', 's', 'r', 'a'}\n",
      "{'e', 'g', 't', 'h', 'y', 'f', 'd'}\n",
      "{'j', 'o', 'a', 'b', 's', 'l', 'r', 'u'}\n"
     ]
    }
   ],
   "source": [
    "a = set(\"aabbdfgrtterhgjyd\")\n",
    "b = set(\"hhlosetuuyhfsdfg\")\n",
    "\n",
    "print(a)\n",
    "print(b)\n",
    "\n",
    "print(a - b)        ## letters in a but not in b\n",
    "print(a | b)        ## letters in a or b or both\n",
    "print(a & b)        ## letters in both a and b\n",
    "print(a ^ b)        ## letters in a or b but not both"
   ]
  },
  {
   "cell_type": "markdown",
   "id": "48162247-5c22-4c45-b0e2-1cee1cbfa06d",
   "metadata": {},
   "source": [
    "#### set comprehensions"
   ]
  },
  {
   "cell_type": "code",
   "execution_count": 23,
   "id": "675b693d-d01e-45a3-9e77-36206c265b7a",
   "metadata": {},
   "outputs": [
    {
     "name": "stdout",
     "output_type": "stream",
     "text": [
      "{'e', 'j', 'y', 'h', 'a'}\n",
      "{'D', 'i', ' ', 'v', 'd'}\n"
     ]
    }
   ],
   "source": [
    "a = {x for x in \"aabbdfgrtterhgjyd\" if x not in \"bbdfgrtt\"}\n",
    "print(a)\n",
    "\n",
    "names = {x for x in \"David Mathew\" if x not in \"Mathew\"}\n",
    "print(names)"
   ]
  },
  {
   "cell_type": "markdown",
   "id": "a28ecfa5-26ac-4ff1-8f9c-f6de8637c681",
   "metadata": {},
   "source": [
    "#### Modify set"
   ]
  },
  {
   "cell_type": "code",
   "execution_count": 38,
   "id": "06cd42aa-a68d-4d5b-8afc-c5e33a9a481c",
   "metadata": {},
   "outputs": [
    {
     "name": "stdout",
     "output_type": "stream",
     "text": [
      "{'Kavin', 'Sree', 'Padma', 'Sree Priya', 'John'}\n",
      "{'Kavin', 'Sree', 'Padma', 'Sree Priya'}\n"
     ]
    },
    {
     "data": {
      "text/plain": [
       "set()"
      ]
     },
     "execution_count": 38,
     "metadata": {},
     "output_type": "execute_result"
    }
   ],
   "source": [
    "Names = {\"Sree\",\"Padma\",\"John\",\"Kavin\",\"Padma\",\"Padma\",\"Kavin\"}\n",
    "Names.add(\"Sree Priya\")           ## add elements\n",
    "print(Names)        \n",
    "\n",
    "Names.discard(\"John\")   ## removes matching object from an existing set\n",
    "print(Names)\n",
    "\n",
    "Names.clear()    ## removes all the elements\n",
    "Names\n"
   ]
  },
  {
   "cell_type": "code",
   "execution_count": 40,
   "id": "123fdff9-36fe-43bc-b74e-f03a8d6e4e7f",
   "metadata": {},
   "outputs": [
    {
     "name": "stdout",
     "output_type": "stream",
     "text": [
      "Padma\n",
      "Kavin\n",
      "Sree\n"
     ]
    }
   ],
   "source": [
    "Names = {\"Sree\",\"Padma\",\"John\",\"Kavin\",\"Padma\",\"Padma\",\"Kavin\"}\n",
    "print(Names.pop())  ## will remove a random item\n",
    "print(Names.pop())\n",
    "print(Names.pop())"
   ]
  },
  {
   "cell_type": "markdown",
   "id": "de6cf398-724c-4eed-ac18-a18d921fe16e",
   "metadata": {},
   "source": [
    "#### Set operations"
   ]
  },
  {
   "cell_type": "code",
   "execution_count": 32,
   "id": "77a8e23d-3a55-48cf-a103-e00c2a92c71f",
   "metadata": {},
   "outputs": [
    {
     "name": "stdout",
     "output_type": "stream",
     "text": [
      "{'SQL', 'Power BI', 'R', 'Excel', 'Python', 'Java'}\n",
      "{'SQL', 'R', 'Power BI', 'Python', 'Java', 'Excel'}\n",
      "{'Python'}\n",
      "{'Excel', 'R'}\n",
      "{'Power BI', 'Java', 'SQL', 'R', 'Excel'}\n"
     ]
    }
   ],
   "source": [
    "junior = {\"R\" , \"Python\" ,\"Excel\"}\n",
    "senior = {\"SQL\",\"Java\",\"Python\",\"Power BI\"}\n",
    "\n",
    "union = junior.union(senior)\n",
    "print(union)\n",
    "\n",
    "union2 = senior.union(junior)\n",
    "print(union2)\n",
    "\n",
    "intersection = junior.intersection(senior)\n",
    "print(intersection)\n",
    "\n",
    "set_difference = junior.difference(senior)\n",
    "print(set_difference)                      ##returns elements belonging to junior but not senior\n",
    "\n",
    "Symmetric_difference = junior.symmetric_difference(senior)\n",
    "print(Symmetric_difference)                ## returns elements not common to both sets"
   ]
  },
  {
   "cell_type": "code",
   "execution_count": 36,
   "id": "a7531117-0af0-4f3d-aed3-c9655e172f52",
   "metadata": {},
   "outputs": [
    {
     "name": "stdout",
     "output_type": "stream",
     "text": [
      "{'Kavin', 'Berlin', 'Padma', 'John', 'David'}\n"
     ]
    },
    {
     "ename": "AttributeError",
     "evalue": "'list' object has no attribute 'update'",
     "output_type": "error",
     "traceback": [
      "\u001b[1;31m---------------------------------------------------------------------------\u001b[0m",
      "\u001b[1;31mAttributeError\u001b[0m                            Traceback (most recent call last)",
      "Cell \u001b[1;32mIn[36], line 7\u001b[0m\n\u001b[0;32m      4\u001b[0m student\u001b[38;5;241m.\u001b[39mupdate(students)\n\u001b[0;32m      5\u001b[0m \u001b[38;5;28mprint\u001b[39m(student)\n\u001b[1;32m----> 7\u001b[0m students\u001b[38;5;241m.\u001b[39mupdate(student)\n\u001b[0;32m      8\u001b[0m \u001b[38;5;28mprint\u001b[39m(students)\n",
      "\u001b[1;31mAttributeError\u001b[0m: 'list' object has no attribute 'update'"
     ]
    }
   ],
   "source": [
    "#### Add Any Iterable\n",
    "student = {\"Kavin\" , \"David\" , \"Padma\" }\n",
    "students = [\"John\",\"Berlin\"]\n",
    "student.update(students)\n",
    "print(student)\n",
    "\n",
    "students.update(student)\n",
    "print(students)"
   ]
  },
  {
   "cell_type": "markdown",
   "id": "8af330b7-30ca-494c-9515-f452dd86dbcb",
   "metadata": {},
   "source": [
    "#### Dictionaries"
   ]
  },
  {
   "cell_type": "code",
   "execution_count": 41,
   "id": "a0b72df6-8d57-4ae3-96ff-0aa10aa6658b",
   "metadata": {},
   "outputs": [
    {
     "data": {
      "text/plain": [
       "{'David': 344, 'Joey': 455, 'Chandler': 766}"
      ]
     },
     "execution_count": 41,
     "metadata": {},
     "output_type": "execute_result"
    }
   ],
   "source": [
    "## creating dictionaries\n",
    "dict = {\"David\":344, \"Joey\":455, \"Chandler\":766}\n",
    "dict"
   ]
  },
  {
   "cell_type": "code",
   "execution_count": 43,
   "id": "fe513e50-9f1b-4993-a6b0-06dc98331d21",
   "metadata": {},
   "outputs": [
    {
     "name": "stdout",
     "output_type": "stream",
     "text": [
      "455\n",
      "344\n"
     ]
    }
   ],
   "source": [
    "## accesing \n",
    "print(dict[\"Joey\"])\n",
    "print(dict[\"David\"])"
   ]
  },
  {
   "cell_type": "code",
   "execution_count": 44,
   "id": "426cbd7e-d8e0-458a-ba9c-0902c4ae7e6c",
   "metadata": {},
   "outputs": [
    {
     "data": {
      "text/plain": [
       "['David', 'Joey', 'Chandler']"
      ]
     },
     "execution_count": 44,
     "metadata": {},
     "output_type": "execute_result"
    }
   ],
   "source": [
    "list(dict)"
   ]
  },
  {
   "cell_type": "code",
   "execution_count": 46,
   "id": "137f7cc1-e3a4-4d44-9794-77e89516dbf4",
   "metadata": {},
   "outputs": [
    {
     "data": {
      "text/plain": [
       "['Chandler', 'David', 'Joey']"
      ]
     },
     "execution_count": 46,
     "metadata": {},
     "output_type": "execute_result"
    }
   ],
   "source": [
    "sorted(dict)"
   ]
  },
  {
   "cell_type": "code",
   "execution_count": 47,
   "id": "6655369a-08c1-4bb4-b741-db6a69373f13",
   "metadata": {},
   "outputs": [
    {
     "data": {
      "text/plain": [
       "False"
      ]
     },
     "execution_count": 47,
     "metadata": {},
     "output_type": "execute_result"
    }
   ],
   "source": [
    "\"Padma\" in dict"
   ]
  },
  {
   "cell_type": "markdown",
   "id": "daa35cf7-8b5c-414a-9524-79b82aa84de7",
   "metadata": {},
   "source": [
    "#### dict comprehensions"
   ]
  },
  {
   "cell_type": "code",
   "execution_count": 50,
   "id": "1e0eab36-355f-4de8-9cbd-f48869854542",
   "metadata": {},
   "outputs": [
    {
     "name": "stdout",
     "output_type": "stream",
     "text": [
      "{3: 9, 7: 49, 8: 64}\n",
      "{3: 27, 7: 343, 8: 512}\n"
     ]
    }
   ],
   "source": [
    "a = {x:x**2 for x in (3,7,8)}\n",
    "print(a)\n",
    "\n",
    "a = {x:x**3 for x in (3,7,8)}\n",
    "print(a)"
   ]
  },
  {
   "cell_type": "markdown",
   "id": "efe1ab26-9cd6-4a70-947c-76fc66b9ecdb",
   "metadata": {},
   "source": [
    "#### Accessing components of dictionary"
   ]
  },
  {
   "cell_type": "code",
   "execution_count": 2,
   "id": "0f7f3215-2961-4b41-95e3-57c5e56b8a3f",
   "metadata": {},
   "outputs": [
    {
     "name": "stdout",
     "output_type": "stream",
     "text": [
      "Ford\n",
      "dict_keys(['brand', 'model', 'year'])\n",
      "dict_values(['Ford', 'Mustang', 1964])\n",
      "dict_items([('brand', 'Ford'), ('model', 'Mustang'), ('year', 1964)])\n"
     ]
    }
   ],
   "source": [
    "my_dict = {\"brand\": \"Ford\", \"model\": \"Mustang\", \"year\": 1964}\n",
    "\n",
    "print(my_dict[\"brand\"])\n",
    "print(my_dict.keys())\n",
    "print(my_dict.values())\n",
    "print(my_dict.items())"
   ]
  },
  {
   "cell_type": "markdown",
   "id": "16d8adc8-83c5-4da4-926c-1a7b970ffb66",
   "metadata": {},
   "source": [
    "#### Modifying a dictionary"
   ]
  },
  {
   "cell_type": "code",
   "execution_count": 3,
   "id": "8e16b5c4-b70d-4bda-9eaf-ff26acea1120",
   "metadata": {},
   "outputs": [
    {
     "name": "stdout",
     "output_type": "stream",
     "text": [
      "{'brand': 'Ford', 'model': 'Mustang', 'year': 1964, 'colour': 'red'}\n"
     ]
    }
   ],
   "source": [
    "my_dict[\"colour\"]=\"red\"\n",
    "print(my_dict)"
   ]
  },
  {
   "cell_type": "code",
   "execution_count": 12,
   "id": "46571568-2581-4f69-b60d-8f983d66727f",
   "metadata": {},
   "outputs": [
    {
     "data": {
      "text/plain": [
       "{'brand': 'Ford', 'model': 'Mustang', 'year': 1964, 'colour': 'red'}"
      ]
     },
     "execution_count": 12,
     "metadata": {},
     "output_type": "execute_result"
    }
   ],
   "source": [
    "my_dict = {\"brand\": \"Ford\", \"model\": \"Mustang\", \"year\": 1964}\n",
    "my_dict.update({\"colour\":\"red\"})\n",
    "my_dict"
   ]
  },
  {
   "cell_type": "code",
   "execution_count": 13,
   "id": "46167e1d-eb67-4881-90f6-555de784c9af",
   "metadata": {},
   "outputs": [
    {
     "data": {
      "text/plain": [
       "{'brand': 'Ford', 'model': 'Mustang', 'year': 1964, 'colour': 'blue'}"
      ]
     },
     "execution_count": 13,
     "metadata": {},
     "output_type": "execute_result"
    }
   ],
   "source": [
    "my_dict[\"colour\"] = \"blue\"\n",
    "my_dict"
   ]
  },
  {
   "cell_type": "code",
   "execution_count": 14,
   "id": "26f62c00-7aa6-4e25-80c8-d319a886660e",
   "metadata": {},
   "outputs": [
    {
     "name": "stdout",
     "output_type": "stream",
     "text": [
      "{'brand': 'Ford', 'model': 'Mustang', 'year': 1964}\n"
     ]
    }
   ],
   "source": [
    "del my_dict[\"colour\"]\n",
    "print(my_dict)"
   ]
  },
  {
   "cell_type": "code",
   "execution_count": 16,
   "id": "33a694ea-031d-40d6-8c21-7656af008dc1",
   "metadata": {},
   "outputs": [
    {
     "data": {
      "text/plain": [
       "{}"
      ]
     },
     "execution_count": 16,
     "metadata": {},
     "output_type": "execute_result"
    }
   ],
   "source": [
    "my_dict.clear()\n",
    "my_dict"
   ]
  },
  {
   "cell_type": "markdown",
   "id": "7dd1478a-8003-476d-8c65-40a992631051",
   "metadata": {},
   "source": [
    "#### Nested Dictionaries"
   ]
  },
  {
   "cell_type": "code",
   "execution_count": 23,
   "id": "deee60fa-00ca-400c-8c32-f75109b2eeda",
   "metadata": {},
   "outputs": [
    {
     "data": {
      "text/plain": [
       "{'class1': {'name': 'Padma', 'subjects': 'mathematics', 'marks': 87},\n",
       " 'class2': {'name': 'Sree', 'subjects': 'Physiscs', 'marks': 76},\n",
       " 'class3': {'name': 'Kavin', 'subjects': 'chemistry', 'marks': 67}}"
      ]
     },
     "execution_count": 23,
     "metadata": {},
     "output_type": "execute_result"
    }
   ],
   "source": [
    "students  = {\"class1\" : {\"name\":\"Padma\" , \"subjects\":\"mathematics\" , \"marks\":87},\n",
    "            \"class2\" : {\"name\":\"Sree\" , \"subjects\":\"Physiscs\" , \"marks\":76},\n",
    "            \"class3\" : {\"name\":\"Kavin\" , \"subjects\":\"chemistry\" , \"marks\":67}}\n",
    "students"
   ]
  },
  {
   "cell_type": "code",
   "execution_count": 28,
   "id": "4eefae72-480a-49a2-9e08-bebddad47434",
   "metadata": {},
   "outputs": [
    {
     "data": {
      "text/plain": [
       "{'class1': {'name': 'Mathew', 'year': 2004},\n",
       " 'class2': {'name': 'David', 'year': 2007},\n",
       " 'class3': {'name': 'Joey', 'year': 2011}}"
      ]
     },
     "execution_count": 28,
     "metadata": {},
     "output_type": "execute_result"
    }
   ],
   "source": [
    "class1 = {\n",
    "  \"name\" : \"Mathew\",\n",
    "  \"year\" : 2004\n",
    "}\n",
    "class2 = {\n",
    "  \"name\" : \"David\",\n",
    "  \"year\" : 2007\n",
    "}\n",
    "class3 = {\n",
    "  \"name\" : \"Joey\",\n",
    "  \"year\" : 2011\n",
    "}\n",
    "\n",
    "mystudents = {\n",
    "  \"class1\" : class1,\n",
    "  \"class2\" : class2,\n",
    "  \"class3\" : class3\n",
    "}\n",
    "mystudents"
   ]
  },
  {
   "cell_type": "markdown",
   "id": "d7593b0d-bd0e-4716-8675-ef7fca7c8395",
   "metadata": {},
   "source": [
    "#### Access Items in Nested Dictionaries\n"
   ]
  },
  {
   "cell_type": "code",
   "execution_count": 29,
   "id": "97f91b22-54ec-4241-8e44-c2a5ae9409b7",
   "metadata": {},
   "outputs": [
    {
     "data": {
      "text/plain": [
       "2011"
      ]
     },
     "execution_count": 29,
     "metadata": {},
     "output_type": "execute_result"
    }
   ],
   "source": [
    "mystudents[\"class3\"][\"year\"]"
   ]
  },
  {
   "cell_type": "markdown",
   "id": "292a0ea0-e118-4d98-8d13-b953229c7afc",
   "metadata": {},
   "source": [
    "#### Coding Exercises "
   ]
  },
  {
   "cell_type": "markdown",
   "id": "621ddabf-25ce-4b8f-b4cf-818ca4c37c87",
   "metadata": {},
   "source": [
    "Exploring Python Dictionaries\n",
    "\n",
    "(a) Create and display a dictionary with key-value pairs."
   ]
  },
  {
   "cell_type": "code",
   "execution_count": 72,
   "id": "8f3f1a1e-bb41-4026-b202-4860e6154c63",
   "metadata": {},
   "outputs": [
    {
     "data": {
      "text/plain": [
       "[{'name': 'Mathew', 'class': 10, 'syllabus': 'state', 'percentage': 88},\n",
       " {'name': 'David', 'class': 9, 'syllabus': 'ICSE', 'percentage': 68},\n",
       " {'name': 'Kavin', 'class': 10, 'syllabus': 'state', 'percentage': 78}]"
      ]
     },
     "execution_count": 72,
     "metadata": {},
     "output_type": "execute_result"
    }
   ],
   "source": [
    "dict = [{\"name\":\"Mathew\" , \"class\":10 , \"syllabus\":\"state\" , \"percentage\":88},\n",
    "        {\"name\":\"David\" , \"class\":9 , \"syllabus\":\"ICSE\" , \"percentage\":68},\n",
    "        {\"name\":\"Kavin\" , \"class\":10 , \"syllabus\":\"state\" , \"percentage\":78}]\n",
    "dict"
   ]
  },
  {
   "cell_type": "markdown",
   "id": "199edf9a-c455-492b-b835-cecb7854993b",
   "metadata": {},
   "source": [
    "(b) Access and display dictionary keys, values, and key-value pairs using the `keys()`,\n",
    "`values()`, and `items()` methods."
   ]
  },
  {
   "cell_type": "code",
   "execution_count": 73,
   "id": "12b9d582-eef2-497f-909f-6fdcaebfdafd",
   "metadata": {},
   "outputs": [
    {
     "name": "stdout",
     "output_type": "stream",
     "text": [
      "dict_keys(['name', 'class', 'syllabus', 'percentage'])\n",
      "dict_values(['Mathew', 10, 'state', 88])\n",
      "dict_keys(['name', 'class', 'syllabus', 'percentage'])\n",
      "dict_values(['David', 9, 'ICSE', 68])\n",
      "dict_keys(['name', 'class', 'syllabus', 'percentage'])\n",
      "dict_values(['Kavin', 10, 'state', 78])\n"
     ]
    }
   ],
   "source": [
    "for student in dict:\n",
    "    print(student.keys())\n",
    "    print(student.values())"
   ]
  },
  {
   "cell_type": "code",
   "execution_count": 74,
   "id": "54929fe4-15fb-4fc8-b314-b74881d3eae9",
   "metadata": {},
   "outputs": [
    {
     "name": "stdout",
     "output_type": "stream",
     "text": [
      "dict_keys(['name', 'class', 'syllabus', 'percentage'])\n",
      "dict_values(['Mathew', 10, 'state', 88])\n",
      "dict_items([('name', 'Mathew'), ('class', 10), ('syllabus', 'state'), ('percentage', 88)])\n"
     ]
    }
   ],
   "source": [
    "dict = {\"name\":\"Mathew\" , \"class\":10 , \"syllabus\":\"state\" , \"percentage\":88}\n",
    "\n",
    "print(dict.keys())\n",
    "print(dict.values())\n",
    "print(dict.items())"
   ]
  },
  {
   "cell_type": "markdown",
   "id": "2d894e78-986c-48cb-8de1-c106e022e566",
   "metadata": {},
   "source": [
    "\n",
    "(c) Update existing entries and add new key-value pairs to a dictionary."
   ]
  },
  {
   "cell_type": "code",
   "execution_count": 75,
   "id": "e6286f23-de91-423c-84d7-4cc27dd4b5a6",
   "metadata": {},
   "outputs": [
    {
     "name": "stdout",
     "output_type": "stream",
     "text": [
      "{'name': 'Mathew', 'class': 10, 'syllabus': 'state', 'percentage': 88, 'state': 'kerala'}\n"
     ]
    },
    {
     "data": {
      "text/plain": [
       "{'name': 'Mathew',\n",
       " 'class': 10,\n",
       " 'syllabus': 'state',\n",
       " 'percentage': 88,\n",
       " 'state': 'karnataka'}"
      ]
     },
     "execution_count": 75,
     "metadata": {},
     "output_type": "execute_result"
    }
   ],
   "source": [
    "dict.update({\"state\" :\"kerala\"})\n",
    "print(dict)\n",
    "\n",
    "dict[\"state\"] = \"karnataka\"\n",
    "dict"
   ]
  },
  {
   "cell_type": "markdown",
   "id": "b6adb042-90a1-4ed6-90df-f37684bade94",
   "metadata": {},
   "source": [
    "(d) Remove dictionary elements using `del`, `pop()`, or `popitem()` methods."
   ]
  },
  {
   "cell_type": "code",
   "execution_count": 61,
   "id": "6b8ab980-07f8-421a-a922-b471742d75ea",
   "metadata": {},
   "outputs": [
    {
     "data": {
      "text/plain": [
       "{'name': 'Mathew', 'class': 10, 'syllabus': 'state', 'state': 'karnataka'}"
      ]
     },
     "execution_count": 61,
     "metadata": {},
     "output_type": "execute_result"
    }
   ],
   "source": [
    "del dict[\"percentage\"]\n",
    "dict"
   ]
  },
  {
   "cell_type": "code",
   "execution_count": 62,
   "id": "610de41c-1809-43b1-bb86-9f6e7bbcfe72",
   "metadata": {},
   "outputs": [
    {
     "name": "stdout",
     "output_type": "stream",
     "text": [
      "10\n",
      "karnataka\n",
      "{'name': 'Mathew', 'syllabus': 'state'}\n"
     ]
    }
   ],
   "source": [
    "print(dict.pop(\"class\"))\n",
    "print(dict.pop(\"state\"))\n",
    "print(dict)"
   ]
  },
  {
   "cell_type": "code",
   "execution_count": 63,
   "id": "a51c6f5f-ab0c-4864-98b7-d3db07763dbb",
   "metadata": {},
   "outputs": [
    {
     "name": "stdout",
     "output_type": "stream",
     "text": [
      "('syllabus', 'state')\n"
     ]
    }
   ],
   "source": [
    "print(dict.popitem())"
   ]
  },
  {
   "cell_type": "markdown",
   "id": "2e20c220-2d9f-4be1-8cd7-afb4228a9ec1",
   "metadata": {},
   "source": [
    "(e) Iterate through a dictionary to access keys, values, and items."
   ]
  },
  {
   "cell_type": "code",
   "execution_count": 65,
   "id": "a8d54c73-97e8-4cd4-9907-950844825c9a",
   "metadata": {},
   "outputs": [
    {
     "name": "stdout",
     "output_type": "stream",
     "text": [
      " Key: name, Value: Mathew\n",
      " Key: class, Value: 10\n",
      " Key: syllabus, Value: state\n",
      " Key: percentage, Value: 88\n",
      " Key: state, Value: kerala\n"
     ]
    },
    {
     "ename": "AttributeError",
     "evalue": "'list' object has no attribute 'items'",
     "output_type": "error",
     "traceback": [
      "\u001b[1;31m---------------------------------------------------------------------------\u001b[0m",
      "\u001b[1;31mAttributeError\u001b[0m                            Traceback (most recent call last)",
      "Cell \u001b[1;32mIn[65], line 11\u001b[0m\n\u001b[0;32m      4\u001b[0m     \u001b[38;5;28mprint\u001b[39m(\u001b[38;5;124mf\u001b[39m\u001b[38;5;124m\"\u001b[39m\u001b[38;5;124m Key: \u001b[39m\u001b[38;5;132;01m{\u001b[39;00mkey\u001b[38;5;132;01m}\u001b[39;00m\u001b[38;5;124m, Value: \u001b[39m\u001b[38;5;132;01m{\u001b[39;00mvalue\u001b[38;5;132;01m}\u001b[39;00m\u001b[38;5;124m\"\u001b[39m)\n\u001b[0;32m      7\u001b[0m \u001b[38;5;28mdict\u001b[39m \u001b[38;5;241m=\u001b[39m [{\u001b[38;5;124m\"\u001b[39m\u001b[38;5;124mname\u001b[39m\u001b[38;5;124m\"\u001b[39m:\u001b[38;5;124m\"\u001b[39m\u001b[38;5;124mMathew\u001b[39m\u001b[38;5;124m\"\u001b[39m , \u001b[38;5;124m\"\u001b[39m\u001b[38;5;124mclass\u001b[39m\u001b[38;5;124m\"\u001b[39m:\u001b[38;5;241m10\u001b[39m , \u001b[38;5;124m\"\u001b[39m\u001b[38;5;124msyllabus\u001b[39m\u001b[38;5;124m\"\u001b[39m:\u001b[38;5;124m\"\u001b[39m\u001b[38;5;124mstate\u001b[39m\u001b[38;5;124m\"\u001b[39m , \u001b[38;5;124m\"\u001b[39m\u001b[38;5;124mpercentage\u001b[39m\u001b[38;5;124m\"\u001b[39m:\u001b[38;5;241m88\u001b[39m},\n\u001b[0;32m      8\u001b[0m         {\u001b[38;5;124m\"\u001b[39m\u001b[38;5;124mname\u001b[39m\u001b[38;5;124m\"\u001b[39m:\u001b[38;5;124m\"\u001b[39m\u001b[38;5;124mDavid\u001b[39m\u001b[38;5;124m\"\u001b[39m , \u001b[38;5;124m\"\u001b[39m\u001b[38;5;124mclass\u001b[39m\u001b[38;5;124m\"\u001b[39m:\u001b[38;5;241m9\u001b[39m , \u001b[38;5;124m\"\u001b[39m\u001b[38;5;124msyllabus\u001b[39m\u001b[38;5;124m\"\u001b[39m:\u001b[38;5;124m\"\u001b[39m\u001b[38;5;124mICSE\u001b[39m\u001b[38;5;124m\"\u001b[39m , \u001b[38;5;124m\"\u001b[39m\u001b[38;5;124mpercentage\u001b[39m\u001b[38;5;124m\"\u001b[39m:\u001b[38;5;241m68\u001b[39m},\n\u001b[0;32m      9\u001b[0m         {\u001b[38;5;124m\"\u001b[39m\u001b[38;5;124mname\u001b[39m\u001b[38;5;124m\"\u001b[39m:\u001b[38;5;124m\"\u001b[39m\u001b[38;5;124mKavin\u001b[39m\u001b[38;5;124m\"\u001b[39m , \u001b[38;5;124m\"\u001b[39m\u001b[38;5;124mclass\u001b[39m\u001b[38;5;124m\"\u001b[39m:\u001b[38;5;241m10\u001b[39m , \u001b[38;5;124m\"\u001b[39m\u001b[38;5;124msyllabus\u001b[39m\u001b[38;5;124m\"\u001b[39m:\u001b[38;5;124m\"\u001b[39m\u001b[38;5;124mstate\u001b[39m\u001b[38;5;124m\"\u001b[39m , \u001b[38;5;124m\"\u001b[39m\u001b[38;5;124mpercentage\u001b[39m\u001b[38;5;124m\"\u001b[39m:\u001b[38;5;241m78\u001b[39m}]\n\u001b[1;32m---> 11\u001b[0m \u001b[38;5;28;01mfor\u001b[39;00m key,value \u001b[38;5;129;01min\u001b[39;00m \u001b[38;5;28mdict\u001b[39m\u001b[38;5;241m.\u001b[39mitems():\n\u001b[0;32m     12\u001b[0m     \u001b[38;5;28mprint\u001b[39m(\u001b[38;5;124mf\u001b[39m\u001b[38;5;124m\"\u001b[39m\u001b[38;5;124m Key: \u001b[39m\u001b[38;5;132;01m{\u001b[39;00mkey\u001b[38;5;132;01m}\u001b[39;00m\u001b[38;5;124m, Value: \u001b[39m\u001b[38;5;132;01m{\u001b[39;00mvalue\u001b[38;5;132;01m}\u001b[39;00m\u001b[38;5;124m\"\u001b[39m)\n",
      "\u001b[1;31mAttributeError\u001b[0m: 'list' object has no attribute 'items'"
     ]
    }
   ],
   "source": [
    "student = {'name': 'Mathew', 'class': 10, 'syllabus': 'state', 'percentage': 88, 'state': 'kerala'} \n",
    "\n",
    "for key,value in student.items():\n",
    "    print(f\" Key: {key}, Value: {value}\")\n",
    "\n",
    "\n",
    "dict = [{\"name\":\"Mathew\" , \"class\":10 , \"syllabus\":\"state\" , \"percentage\":88},\n",
    "        {\"name\":\"David\" , \"class\":9 , \"syllabus\":\"ICSE\" , \"percentage\":68},\n",
    "        {\"name\":\"Kavin\" , \"class\":10 , \"syllabus\":\"state\" , \"percentage\":78}]\n",
    "\n",
    "for key,value in dict.items():\n",
    "    print(f\" Key: {key}, Value: {value}\")\n",
    "\n",
    "    "
   ]
  },
  {
   "cell_type": "code",
   "execution_count": 68,
   "id": "4d9b36fb-573e-4e5c-aa7a-8ff38179c1a5",
   "metadata": {},
   "outputs": [
    {
     "name": "stdout",
     "output_type": "stream",
     "text": [
      " Key: name, Value: Mathew\n",
      " Key: class, Value: 10\n",
      " Key: syllabus, Value: state\n",
      " Key: percentage, Value: 88\n",
      " Key: name, Value: David\n",
      " Key: class, Value: 9\n",
      " Key: syllabus, Value: ICSE\n",
      " Key: percentage, Value: 68\n",
      " Key: name, Value: Kavin\n",
      " Key: class, Value: 10\n",
      " Key: syllabus, Value: state\n",
      " Key: percentage, Value: 78\n"
     ]
    }
   ],
   "source": [
    "dict = [{\"name\":\"Mathew\" , \"class\":10 , \"syllabus\":\"state\" , \"percentage\":88},\n",
    "        {\"name\":\"David\" , \"class\":9 , \"syllabus\":\"ICSE\" , \"percentage\":68},\n",
    "        {\"name\":\"Kavin\" , \"class\":10 , \"syllabus\":\"state\" , \"percentage\":78}]\n",
    "\n",
    "for student in dict:\n",
    "    for key,value in student.items():\n",
    "        print(f\" Key: {key}, Value: {value}\")\n",
    "    "
   ]
  },
  {
   "cell_type": "markdown",
   "id": "ee85bbd9-f035-4fa1-b675-02ba81bb7541",
   "metadata": {},
   "source": [
    "\n",
    "\n",
    "\n",
    "\n",
    "    \n",
    "\n",
    "\n",
    "\n",
    "\n",
    "(f) Demonstrate the use of dictionary methods such as `update()`, `len()`, `sorted()`, and\n",
    "`clear()`."
   ]
  },
  {
   "cell_type": "code",
   "execution_count": 4,
   "id": "629583c2-ac7d-47a7-8be8-e5d1b3521dbb",
   "metadata": {},
   "outputs": [
    {
     "name": "stdout",
     "output_type": "stream",
     "text": [
      "{'name': 'Mathew', 'class': 10, 'syllabus': 'state', 'percentage': 88, 'state': 'kerala'}\n",
      "5\n",
      "['class', 'name', 'percentage', 'state', 'syllabus']\n"
     ]
    },
    {
     "data": {
      "text/plain": [
       "{}"
      ]
     },
     "execution_count": 4,
     "metadata": {},
     "output_type": "execute_result"
    }
   ],
   "source": [
    "dict = {\"name\":\"Mathew\" , \"class\":10 , \"syllabus\":\"state\" , \"percentage\":88}\n",
    "dict.update({\"state\" :\"kerala\"})\n",
    "print(dict)\n",
    "\n",
    "print(len(dict))\n",
    "print(sorted(dict))\n",
    "\n",
    "dict.clear()\n",
    "dict"
   ]
  }
 ],
 "metadata": {
  "kernelspec": {
   "display_name": "Python 3 (ipykernel)",
   "language": "python",
   "name": "python3"
  },
  "language_info": {
   "codemirror_mode": {
    "name": "ipython",
    "version": 3
   },
   "file_extension": ".py",
   "mimetype": "text/x-python",
   "name": "python",
   "nbconvert_exporter": "python",
   "pygments_lexer": "ipython3",
   "version": "3.13.5"
  }
 },
 "nbformat": 4,
 "nbformat_minor": 5
}
